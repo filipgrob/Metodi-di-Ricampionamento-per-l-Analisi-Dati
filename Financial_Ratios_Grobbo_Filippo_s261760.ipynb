{
 "cells": [
  {
   "cell_type": "markdown",
   "id": "systematic-tobacco",
   "metadata": {},
   "source": [
    "# Financial ratios per la previsione di bancarotta  \n",
    "  \n",
    "In questa sezione vengono applicati i metodi precedentemente descritti ad un caso pratico. In particolare, vengono fatte analisi dati in seguito al bilanciamento del dataset in questione. L'obiettivo è quello di analizzare i diversi risultati ottenuti al variare della strategia di ricampionamento utilizzata e confrontarli. Il tema di questo data set sono i financial fatios per la previsione dello stato di bancarotta. Questo è un tema molto importante che viene trattato con particolare attenzione all'interno degli isituti finanziari. Il fine principale è quello di prendere decisioni appropriate per finanziare prestiti che non abbiano un impatto negativo sugli istituti stessi.  I financial ratios in letteratura sono conosciuti come fattori importanti che influenzano la bancarotta. Essi possono essere classificati in 7 categorie: solvency, profitability, cash flow ratios, capital structure ratios, turnover ratios, growth e others. Oltre a quanto già detto un altro fine di questo lavoro è quello di testare algoritmi e tecniche per capire quali features hanno un maggior peso rispetto alle altre nella predizione della bancarotta."
   ]
  },
  {
   "cell_type": "code",
   "execution_count": 1,
   "id": "solid-federation",
   "metadata": {
    "tags": []
   },
   "outputs": [],
   "source": [
    "#%matplotlib widget\n",
    "import pandas as pd\n",
    "import numpy as np\n",
    "import matplotlib\n",
    "import matplotlib.pyplot as plt\n",
    "from IPython.display import display\n",
    "from sklearn.model_selection import train_test_split\n",
    "from sklearn.decomposition import PCA\n",
    "from sklearn.preprocessing import StandardScaler\n",
    "from FisherDA import MultipleFisherDiscriminantAnalysis as MDA\n",
    "from sklearn.discriminant_analysis import LinearDiscriminantAnalysis as LDA\n",
    "from sklearn.metrics import f1_score, precision_score, recall_score, confusion_matrix, make_scorer\n",
    "from imblearn.over_sampling import RandomOverSampler\n",
    "from imblearn.under_sampling import ClusterCentroids\n",
    "from imblearn.under_sampling import RandomUnderSampler\n",
    "from sklearn.svm import LinearSVC\n",
    "from linear_r2 import generate_square, HyperplaneR2\n",
    "from sklearn.svm import SVC\n",
    "from sklearn.model_selection import GridSearchCV\n",
    "from sklearn.neural_network import MLPClassifier\n",
    "from scipy import stats\n",
    "from imblearn.over_sampling import SMOTE, ADASYN\n",
    "from imblearn.under_sampling import TomekLinks "
   ]
  },
  {
   "cell_type": "markdown",
   "id": "heated-mercury",
   "metadata": {},
   "source": [
    "## Descrizione del dataset nel dettaglio"
   ]
  },
  {
   "cell_type": "markdown",
   "id": "cardiac-james",
   "metadata": {},
   "source": [
    "Questo dataset presenta dati che sono stati raccolti dal Taiwain Economic Journal tra il 1999 e il 2009. Lo stato di bancarotta viene definito in base alla regolamentazione del mercato azionario taiwanese.  \n",
    "Il dataset presenta 6819 righe e 96 colonne così suddivise:  \n",
    "- stato attuale: colonna 1, 0=no bancarotta, 1=si bancarotta   \n",
    "- solvency: colonne 14, 32-37, 40-43, 54, 67, 84-85, 95  \n",
    "- capital structure ratios: colonne 38-39, 76-79, 91-93  \n",
    "- profitability: colonne 1-10, 19, 23, 68-70, 6, 89-90, 94  \n",
    "- turnover ratios: colonne 44-50, 71-75, 88  \n",
    "- cahs flow ratios: colonne 13, 80-83  \n",
    "- growth: colonne 24-31  \n",
    "- others: colonne 11-12, 15-18, 20-22, 51-53, 87  "
   ]
  },
  {
   "cell_type": "code",
   "execution_count": 2,
   "id": "verified-pakistan",
   "metadata": {
    "tags": []
   },
   "outputs": [],
   "source": [
    "frs = pd.read_csv('C:/Users/filip/Desktop/python-mia/datasets/data.csv',header=0)\n",
    "#display(frs)"
   ]
  },
  {
   "cell_type": "code",
   "execution_count": 3,
   "id": "confidential-threshold",
   "metadata": {},
   "outputs": [
    {
     "name": "stdout",
     "output_type": "stream",
     "text": [
      "0    6599\n",
      "1     220\n",
      "Name: Bankrupt?, dtype: int64\n"
     ]
    },
    {
     "data": {
      "image/png": "[encoded data removed]",
      "text/plain": [
       "<Figure size 288x216 with 1 Axes>"
      ]
     },
     "metadata": {
      "needs_background": "light"
     },
     "output_type": "display_data"
    }
   ],
   "source": [
    "frs['Bankrupt?'].value_counts().plot.bar(figsize=(4,3))\n",
    "print(frs['Bankrupt?'].value_counts())"
   ]
  },
  {
   "cell_type": "markdown",
   "id": "accurate-instrumentation",
   "metadata": {},
   "source": [
    "Il barplot mostra che le classi sono altamente sbilanciate e questo potrebbe generare diversi problemi nell'applicazione di metodi predittivi."
   ]
  },
  {
   "cell_type": "markdown",
   "id": "animated-opposition",
   "metadata": {},
   "source": [
    "## Random oversampling & random undersampling"
   ]
  },
  {
   "cell_type": "markdown",
   "id": "fatty-aberdeen",
   "metadata": {},
   "source": [
    "Suddivisione training (50%) e test (50%) set per PCA e LDA"
   ]
  },
  {
   "cell_type": "code",
   "execution_count": 4,
   "id": "weighted-rhythm",
   "metadata": {},
   "outputs": [],
   "source": [
    "X=frs.iloc[:,1:96]\n",
    "y=frs.iloc[:,0]\n",
    "random_state = 20210528\n",
    "test_p = 0.5\n",
    "\n",
    "indices = np.arange(X.shape[0])\n",
    "Xtrain, Xtest, ytrain, ytest  = train_test_split(X, y, test_size=test_p, random_state=random_state, shuffle=True,stratify=y)"
   ]
  },
  {
   "cell_type": "code",
   "execution_count": 5,
   "id": "naval-breakdown",
   "metadata": {},
   "outputs": [
    {
     "name": "stdout",
     "output_type": "stream",
     "text": [
      "(3409, 95)\n",
      "(3410, 95)\n"
     ]
    }
   ],
   "source": [
    "print(Xtrain.shape)\n",
    "print(Xtest.shape)"
   ]
  },
  {
   "cell_type": "markdown",
   "id": "ethical-handling",
   "metadata": {},
   "source": [
    "Il pacchetto train_test_split permette di dividere il dataset iniziale in 2 sottoinsiemi da poter utilizzare separatamente. L'opzione stratify=y permette di dividere i dati in training e test mantenendo al loro interno le proporzioni esatte rispetto al bilanciamento iniziale delle classi. Senza questa opzione si potrebbero generare dei training set pari al 50% dei dati totali ma con al loro interno solo 0 o solo 1. All'interno del training set sbilanciato si va ad effettuare il pareggio delle classi utilizzando il random oversampling, random undersampling, Smote, Adasyn e Tomek's links. Per questa prima parte verranno utilizzate solamente le prime due delle tecniche appena citate."
   ]
  },
  {
   "cell_type": "code",
   "execution_count": 6,
   "id": "requested-integral",
   "metadata": {},
   "outputs": [],
   "source": [
    "ros = RandomOverSampler(random_state=random_state)\n",
    "Xtrain_over, ytrain_over = ros.fit_resample(Xtrain, ytrain)\n",
    "\n",
    "rus = RandomUnderSampler(random_state=random_state)\n",
    "Xtrain_under, ytrain_under = rus.fit_resample(Xtrain, ytrain)"
   ]
  },
  {
   "cell_type": "code",
   "execution_count": 7,
   "id": "limiting-update",
   "metadata": {},
   "outputs": [
    {
     "data": {
      "text/html": [
       "<div>\n",
       "<style scoped>\n",
       "    .dataframe tbody tr th:only-of-type {\n",
       "        vertical-align: middle;\n",
       "    }\n",
       "\n",
       "    .dataframe tbody tr th {\n",
       "        vertical-align: top;\n",
       "    }\n",
       "\n",
       "    .dataframe thead th {\n",
       "        text-align: right;\n",
       "    }\n",
       "</style>\n",
       "<table border=\"1\" class=\"dataframe\">\n",
       "  <thead>\n",
       "    <tr style=\"text-align: right;\">\n",
       "      <th></th>\n",
       "      <th>train pca-lda</th>\n",
       "      <th>train over pca-lda</th>\n",
       "      <th>train under pca-lda</th>\n",
       "      <th>test pca-lda</th>\n",
       "    </tr>\n",
       "  </thead>\n",
       "  <tbody>\n",
       "    <tr>\n",
       "      <th>0</th>\n",
       "      <td>3299</td>\n",
       "      <td>3299</td>\n",
       "      <td>110</td>\n",
       "      <td>3300</td>\n",
       "    </tr>\n",
       "    <tr>\n",
       "      <th>1</th>\n",
       "      <td>110</td>\n",
       "      <td>3299</td>\n",
       "      <td>110</td>\n",
       "      <td>110</td>\n",
       "    </tr>\n",
       "  </tbody>\n",
       "</table>\n",
       "</div>"
      ],
      "text/plain": [
       "   train pca-lda  train over pca-lda  train under pca-lda  test pca-lda\n",
       "0           3299                3299                  110          3300\n",
       "1            110                3299                  110           110"
      ]
     },
     "metadata": {},
     "output_type": "display_data"
    }
   ],
   "source": [
    "info=pd.DataFrame({'train pca-lda':[list(ytrain).count(0),list(ytrain).count(1)],\n",
    "                  'train over pca-lda':[list(ytrain_over).count(0),list(ytrain_over).count(1)],\n",
    "                  'train under pca-lda':[list(ytrain_under).count(0),list(ytrain).count(1)],\n",
    "                  'test pca-lda':[list(ytest).count(0),list(ytest).count(1)]})\n",
    "display(info)"
   ]
  },
  {
   "cell_type": "markdown",
   "id": "painful-cache",
   "metadata": {},
   "source": [
    "Nella seguente tabella sono presenti le dimensioni dei train e test se,t che verranno utilizzati per applicare la pca e la lda, al variare della strategia di ricampionamento utilizzata."
   ]
  },
  {
   "cell_type": "markdown",
   "id": "tender-wealth",
   "metadata": {},
   "source": [
    "## Principal Component Analysis (PCA)"
   ]
  },
  {
   "cell_type": "markdown",
   "id": "level-input",
   "metadata": {},
   "source": [
    "La PCA è un metodo che viene definito di apprendimento non supervisionato. Non vi è infatti presente alcuna funzione che associa ai samples iniziali un target ma l'obiettivo principale è quello di capire come sono distribuiti i punti nello spazio. La PCA si occupa quindi di dare una rappresentazione dei dati in dimensione bassa, ad esempio in $\\mathbb{R}^2$ o $\\mathbb{R}^3$, per avere un'idea di come possano essere distribuite le osservazioni del data set.  \n",
    "A partire dal nostro data set si proiettano i dati lungo le direzioni che massimizzano la varianza e preservano la distibuzione delle distanze. Minimizzare l'errore legato alla proiezione dei dati coincide con minimizzare il seguente funzionale:  \n",
    "$$J(e_1,...,e_k,\\alpha_{11},...,\\alpha_{nk})= \\sum_{j=1}^{n}\\Vert x_j-\\sum_{i=1}^{k} \\alpha_{ji}e_i \\Vert^2$$\n",
    "    \n",
    "    \n",
    "dove $\\{e_k\\}_{k \\geq 1}$ sono gli elementi della base ortonormale del sottospazio in cui voglio proiettare e gli $\\{\\alpha_{ij}\\}_{i,j \\geq 1}$ sono le componenti rispetto alla base. Attraverso il calcolo delle derivate ci si riconduce a risolvere il problema agli autovalori:  \n",
    "$$ S e_m=\\lambda_m e_m$$\n",
    "$$ S=\\sum_{i=1}^{k} x_j^\\top x_j $$\n",
    "  \n",
    "Dove S è la Scatter Matrix ossia la matrice di varianza-covarianza campionaria moltiplicata per n-1 dove n è il numero totale di osservazioni. La soluzione del problema di minimo che massimizza la varianza è data dai primi k più grandi autovalori di S. Vengono quindi definite le PC come le direzioni ortogonali lungo le quali proiettare, ossia i primi k autovettori della matrice S."
   ]
  },
  {
   "cell_type": "code",
   "execution_count": 8,
   "id": "whole-starter",
   "metadata": {},
   "outputs": [
    {
     "data": {
      "text/plain": [
       "Text(0, 0.5, 'cumulative explained variance ratio')"
      ]
     },
     "execution_count": 8,
     "metadata": {},
     "output_type": "execute_result"
    },
    {
     "data": {
      "image/png": "[encoded data removed]",
      "text/plain": [
       "<Figure size 576x288 with 2 Axes>"
      ]
     },
     "metadata": {
      "needs_background": "light"
     },
     "output_type": "display_data"
    }
   ],
   "source": [
    "pca=PCA()\n",
    "pcas=PCA()\n",
    "scaler=StandardScaler()\n",
    "scaler.fit(Xtrain)\n",
    "Xtrain_scaled=scaler.transform(Xtrain)\n",
    "pca.fit(Xtrain)\n",
    "pcas.fit(Xtrain_scaled)\n",
    "\n",
    "fig0, axs0 = plt.subplots(1, 2, figsize=(8, 4))\n",
    "axs0[0].plot(np.insert(np.cumsum(pca.explained_variance_ratio_),0,0))\n",
    "axs0[0].set_title('pca no standard scaler')\n",
    "axs0[0].grid()\n",
    "axs0[0].set_xlabel('principal components')\n",
    "axs0[0].set_ylabel('cumulative explained variance ratio')\n",
    "axs0[1].plot(np.insert(np.cumsum(pcas.explained_variance_ratio_),0,0))\n",
    "axs0[1].set_title('pca con standard scaler')\n",
    "axs0[1].grid()\n",
    "axs0[1].set_xlabel('principal components')\n",
    "axs0[1].set_ylabel('cumulative explained variance ratio')"
   ]
  },
  {
   "cell_type": "markdown",
   "id": "developmental-teaching",
   "metadata": {},
   "source": [
    "I grafici mostrano come la PCA senza standard scaler non possa essere affidabile in termini rapppresentativi. Infatti è poco probabile che si spieghi il 90% della varianza con solo 7 features su un totale di 95. Le statistiche base dei dati evidenziano inoltre che esistono valori con range di intervalli completamente diversi e sproporzionati. Infine, non essendo note le unità di misura delle colonne, non è possibile capire quanto gli intervalli di valori siano dello stesso ordine di grandezza. Questo potrebbe implicare che le colonne con maggior variabilità vadano ad inglobare anche quelle con più bassa variabilità."
   ]
  },
  {
   "cell_type": "code",
   "execution_count": 9,
   "id": "white-diabetes",
   "metadata": {},
   "outputs": [],
   "source": [
    "#frs.describe()"
   ]
  },
  {
   "cell_type": "code",
   "execution_count": 10,
   "id": "controlling-motivation",
   "metadata": {},
   "outputs": [
    {
     "data": {
      "text/html": [
       "<div>\n",
       "<style scoped>\n",
       "    .dataframe tbody tr th:only-of-type {\n",
       "        vertical-align: middle;\n",
       "    }\n",
       "\n",
       "    .dataframe tbody tr th {\n",
       "        vertical-align: top;\n",
       "    }\n",
       "\n",
       "    .dataframe thead th {\n",
       "        text-align: right;\n",
       "    }\n",
       "</style>\n",
       "<table border=\"1\" class=\"dataframe\">\n",
       "  <thead>\n",
       "    <tr style=\"text-align: right;\">\n",
       "      <th></th>\n",
       "      <th>n° PC</th>\n",
       "      <th>var spiegata</th>\n",
       "    </tr>\n",
       "  </thead>\n",
       "  <tbody>\n",
       "    <tr>\n",
       "      <th>explvar_no_scaled=0.9</th>\n",
       "      <td>7</td>\n",
       "      <td>1.00000</td>\n",
       "    </tr>\n",
       "    <tr>\n",
       "      <th>explvar_scaled=0.9</th>\n",
       "      <td>41</td>\n",
       "      <td>0.90043</td>\n",
       "    </tr>\n",
       "  </tbody>\n",
       "</table>\n",
       "</div>"
      ],
      "text/plain": [
       "                       n° PC  var spiegata\n",
       "explvar_no_scaled=0.9      7       1.00000\n",
       "explvar_scaled=0.9        41       0.90043"
      ]
     },
     "metadata": {},
     "output_type": "display_data"
    }
   ],
   "source": [
    "pca09=PCA(0.9)\n",
    "pcas09=PCA(0.9)\n",
    "pca09.fit(Xtrain)\n",
    "pcas09.fit(Xtrain_scaled)\n",
    "df09=pd.DataFrame({'n° PC':[pca09.n_components_,pcas09.n_components_],\n",
    "                'var spiegata':[pca.explained_variance_ratio_.sum(),pcas09.explained_variance_ratio_.sum()]},\n",
    "               index=['explvar_no_scaled=0.9','explvar_scaled=0.9'])\n",
    "display(df09)"
   ]
  },
  {
   "cell_type": "code",
   "execution_count": 11,
   "id": "exciting-slave",
   "metadata": {},
   "outputs": [
    {
     "data": {
      "image/png": "[encoded data removed]",
      "text/plain": [
       "<Figure size 432x288 with 1 Axes>"
      ]
     },
     "metadata": {
      "needs_background": "light"
     },
     "output_type": "display_data"
    },
    {
     "data": {
      "image/png": "[encoded data removed]",
      "text/plain": [
       "<Figure size 432x288 with 1 Axes>"
      ]
     },
     "metadata": {
      "needs_background": "light"
     },
     "output_type": "display_data"
    }
   ],
   "source": [
    "Xtrain_scaled_transf=pcas09.transform(Xtrain_scaled)\n",
    "plt.figure()\n",
    "plt.scatter(Xtrain_scaled_transf[:,0],Xtrain_scaled_transf[:,1],c=ytrain.values, alpha=0.65)\n",
    "plt.title('score graph con standard scaler 2d')\n",
    "plt.xlabel('pc1')\n",
    "plt.ylabel('pc2')\n",
    "plt.grid()\n",
    "plt.show()\n",
    "fig=plt.figure()\n",
    "ax = fig.add_subplot(111, projection='3d')\n",
    "ax.scatter(Xtrain_scaled_transf[:, 0], Xtrain_scaled_transf[:, 1], \n",
    "           Xtrain_scaled_transf[:, 2], c=ytrain.values, alpha=0.65)\n",
    "plt.title('score graph con standard scaler 3d')\n",
    "ax.set_xlabel('pc1')\n",
    "ax.set_ylabel('pc2')\n",
    "ax.set_zlabel('pc3')\n",
    "plt.grid()\n",
    "plt.show()"
   ]
  },
  {
   "cell_type": "markdown",
   "id": "horizontal-young",
   "metadata": {},
   "source": [
    "Il forte sbilanciamento delle classi non permette una visualizzazione ottimale dei dati. Per rimediare a questo e capire come sono fatti i training set su cui si farà l'addestramento dei metodi, applichiamo la PCA al set di dati con le classi pareggiate."
   ]
  },
  {
   "cell_type": "markdown",
   "id": "inner-effects",
   "metadata": {},
   "source": [
    "## PCA random oversampling"
   ]
  },
  {
   "cell_type": "code",
   "execution_count": 12,
   "id": "conceptual-salon",
   "metadata": {},
   "outputs": [
    {
     "data": {
      "text/plain": [
       "Text(0, 0.5, 'cumulative explained variance ratio')"
      ]
     },
     "execution_count": 12,
     "metadata": {},
     "output_type": "execute_result"
    },
    {
     "data": {
      "image/png": "[encoded data removed]",
      "text/plain": [
       "<Figure size 576x288 with 2 Axes>"
      ]
     },
     "metadata": {
      "needs_background": "light"
     },
     "output_type": "display_data"
    }
   ],
   "source": [
    "pcao=PCA()\n",
    "pca_scaledo=PCA()\n",
    "\n",
    "scalero=StandardScaler()\n",
    "scalero.fit(Xtrain_over)\n",
    "Xtrain_over_scaled=scalero.transform(Xtrain_over)\n",
    "\n",
    "pcao.fit(Xtrain_over)\n",
    "pca_scaledo.fit(Xtrain_over_scaled)\n",
    "fig1, axs1 = plt.subplots(1, 2, figsize=(8, 4))\n",
    "axs1[0].plot(np.insert(np.cumsum(pcao.explained_variance_ratio_),0,0))\n",
    "axs1[0].set_title('pca no standard scaler oversampling')\n",
    "axs1[0].grid()\n",
    "axs1[0].set_xlabel('principal components')\n",
    "axs1[0].set_ylabel('cumulative explained variance ratio')\n",
    "axs1[1].plot(np.insert(np.cumsum(pca_scaledo.explained_variance_ratio_),0,0))\n",
    "axs1[1].set_title('pca con standard scaler oversampling')\n",
    "axs1[1].grid()\n",
    "axs1[1].set_xlabel('principal components')\n",
    "axs1[1].set_ylabel('cumulative explained variance ratio')"
   ]
  },
  {
   "cell_type": "code",
   "execution_count": 13,
   "id": "essential-tiffany",
   "metadata": {},
   "outputs": [
    {
     "data": {
      "text/html": [
       "<div>\n",
       "<style scoped>\n",
       "    .dataframe tbody tr th:only-of-type {\n",
       "        vertical-align: middle;\n",
       "    }\n",
       "\n",
       "    .dataframe tbody tr th {\n",
       "        vertical-align: top;\n",
       "    }\n",
       "\n",
       "    .dataframe thead th {\n",
       "        text-align: right;\n",
       "    }\n",
       "</style>\n",
       "<table border=\"1\" class=\"dataframe\">\n",
       "  <thead>\n",
       "    <tr style=\"text-align: right;\">\n",
       "      <th></th>\n",
       "      <th>n° PC</th>\n",
       "      <th>var spiegata</th>\n",
       "    </tr>\n",
       "  </thead>\n",
       "  <tbody>\n",
       "    <tr>\n",
       "      <th>explvar_scaled_over=0.9</th>\n",
       "      <td>40</td>\n",
       "      <td>0.904692</td>\n",
       "    </tr>\n",
       "    <tr>\n",
       "      <th>explvar_no_scaled_over=0.9</th>\n",
       "      <td>8</td>\n",
       "      <td>0.971304</td>\n",
       "    </tr>\n",
       "  </tbody>\n",
       "</table>\n",
       "</div>"
      ],
      "text/plain": [
       "                            n° PC  var spiegata\n",
       "explvar_scaled_over=0.9        40      0.904692\n",
       "explvar_no_scaled_over=0.9      8      0.971304"
      ]
     },
     "execution_count": 13,
     "metadata": {},
     "output_type": "execute_result"
    }
   ],
   "source": [
    "explvar1=0.9\n",
    "pca_var1_over=PCA(explvar1)\n",
    "pca_var1_over.fit(Xtrain_over)\n",
    "pca_var1_scaled_over=PCA(explvar1)\n",
    "pca_var1_scaled_over.fit(Xtrain_over_scaled)\n",
    "dfo=pd.DataFrame({'n° PC':[pca_var1_scaled_over.n_components_,pca_var1_over.n_components_],\n",
    "                'var spiegata':[pca_var1_scaled_over.explained_variance_ratio_.sum(),pca_var1_over.explained_variance_ratio_.sum()]},\n",
    "               index=['explvar_scaled_over=0.9','explvar_no_scaled_over=0.9'])\n",
    "dfo"
   ]
  },
  {
   "cell_type": "code",
   "execution_count": 14,
   "id": "armed-mechanics",
   "metadata": {
    "tags": []
   },
   "outputs": [
    {
     "data": {
      "image/png": "[encoded data removed]",
      "text/plain": [
       "<Figure size 432x288 with 1 Axes>"
      ]
     },
     "metadata": {
      "needs_background": "light"
     },
     "output_type": "display_data"
    },
    {
     "data": {
      "image/png": "[encoded data removed]",
      "text/plain": [
       "<Figure size 432x288 with 1 Axes>"
      ]
     },
     "metadata": {
      "needs_background": "light"
     },
     "output_type": "display_data"
    }
   ],
   "source": [
    "Xtrain_over_scaled_transf=pca_var1_scaled_over.transform(Xtrain_over_scaled)\n",
    "plt.figure()\n",
    "plt.scatter(Xtrain_over_scaled_transf[:,0],Xtrain_over_scaled_transf[:,1],c=ytrain_over.values, alpha=0.50)\n",
    "plt.title('score graph con standard scaler oversampling 2d')\n",
    "plt.xlabel('pc1')\n",
    "plt.ylabel('pc2')\n",
    "plt.grid()\n",
    "plt.show()\n",
    "\n",
    "fig=plt.figure()\n",
    "ax = fig.add_subplot(111, projection='3d')\n",
    "ax.scatter(Xtrain_over_scaled_transf[:, 0], Xtrain_over_scaled_transf[:, 1], \n",
    "           Xtrain_over_scaled_transf[:, 2], c=ytrain_over.values, alpha=0.50)\n",
    "plt.title('score graph con standard scaler oversampling 3d')\n",
    "ax.set_xlabel('pc1')\n",
    "ax.set_ylabel('pc2')\n",
    "ax.set_zlabel('pc3')\n",
    "plt.grid()\n",
    "plt.show()"
   ]
  },
  {
   "cell_type": "markdown",
   "id": "surface-geneva",
   "metadata": {},
   "source": [
    "## PCA random undersampling"
   ]
  },
  {
   "cell_type": "code",
   "execution_count": 15,
   "id": "renewable-separation",
   "metadata": {},
   "outputs": [
    {
     "data": {
      "text/plain": [
       "Text(0, 0.5, 'cumulative explained variance ratio')"
      ]
     },
     "execution_count": 15,
     "metadata": {},
     "output_type": "execute_result"
    },
    {
     "data": {
      "image/png": "[encoded data removed]",
      "text/plain": [
       "<Figure size 576x288 with 2 Axes>"
      ]
     },
     "metadata": {
      "needs_background": "light"
     },
     "output_type": "display_data"
    }
   ],
   "source": [
    "pcau=PCA()\n",
    "pca_scaledu=PCA()\n",
    "pcau.fit(Xtrain_under)\n",
    "\n",
    "scaleru=StandardScaler()\n",
    "scaleru.fit(Xtrain_under)\n",
    "Xtrain_under_scaled=scaleru.transform(Xtrain_under)\n",
    "\n",
    "pca_scaledu.fit(Xtrain_under_scaled)\n",
    "fig1, axs1 = plt.subplots(1, 2, figsize=(8, 4))\n",
    "axs1[0].plot(np.insert(np.cumsum(pcau.explained_variance_ratio_),0,0))\n",
    "axs1[0].set_title('pca no standard scaler undersampling')\n",
    "axs1[0].grid()\n",
    "axs1[0].set_xlabel('principal components')\n",
    "axs1[0].set_ylabel('cumulative explained variance ratio')\n",
    "axs1[1].plot(np.insert(np.cumsum(pca_scaledu.explained_variance_ratio_),0,0))\n",
    "axs1[1].set_title('pca con standard scaler undersampling')\n",
    "axs1[1].grid()\n",
    "axs1[1].set_xlabel('principal components')\n",
    "axs1[1].set_ylabel('cumulative explained variance ratio')"
   ]
  },
  {
   "cell_type": "code",
   "execution_count": 16,
   "id": "fourth-penguin",
   "metadata": {},
   "outputs": [
    {
     "data": {
      "text/html": [
       "<div>\n",
       "<style scoped>\n",
       "    .dataframe tbody tr th:only-of-type {\n",
       "        vertical-align: middle;\n",
       "    }\n",
       "\n",
       "    .dataframe tbody tr th {\n",
       "        vertical-align: top;\n",
       "    }\n",
       "\n",
       "    .dataframe thead th {\n",
       "        text-align: right;\n",
       "    }\n",
       "</style>\n",
       "<table border=\"1\" class=\"dataframe\">\n",
       "  <thead>\n",
       "    <tr style=\"text-align: right;\">\n",
       "      <th></th>\n",
       "      <th>n° PC</th>\n",
       "      <th>var spiegata</th>\n",
       "    </tr>\n",
       "  </thead>\n",
       "  <tbody>\n",
       "    <tr>\n",
       "      <th>explvar_scaled_under=0.9</th>\n",
       "      <td>31</td>\n",
       "      <td>0.900813</td>\n",
       "    </tr>\n",
       "    <tr>\n",
       "      <th>explvar_no_scaled_under=0.9</th>\n",
       "      <td>7</td>\n",
       "      <td>0.902652</td>\n",
       "    </tr>\n",
       "  </tbody>\n",
       "</table>\n",
       "</div>"
      ],
      "text/plain": [
       "                             n° PC  var spiegata\n",
       "explvar_scaled_under=0.9        31      0.900813\n",
       "explvar_no_scaled_under=0.9      7      0.902652"
      ]
     },
     "execution_count": 16,
     "metadata": {},
     "output_type": "execute_result"
    }
   ],
   "source": [
    "pca_var1_under=PCA(explvar1)\n",
    "pca_var1_under.fit(Xtrain_under)\n",
    "pca_var1_scaled_under=PCA(explvar1)\n",
    "pca_var1_scaled_under.fit(Xtrain_under_scaled)\n",
    "dfu=pd.DataFrame({'n° PC':[pca_var1_scaled_under.n_components_,pca_var1_under.n_components_],\n",
    "                'var spiegata':[pca_var1_scaled_under.explained_variance_ratio_.sum(),pca_var1_under.explained_variance_ratio_.sum()]},\n",
    "               index=['explvar_scaled_under=0.9','explvar_no_scaled_under=0.9'])\n",
    "dfu"
   ]
  },
  {
   "cell_type": "code",
   "execution_count": 17,
   "id": "convinced-fishing",
   "metadata": {
    "tags": []
   },
   "outputs": [
    {
     "data": {
      "image/png": "[encoded data removed]",
      "text/plain": [
       "<Figure size 432x288 with 1 Axes>"
      ]
     },
     "metadata": {
      "needs_background": "light"
     },
     "output_type": "display_data"
    },
    {
     "data": {
      "image/png": "[encoded data removed]",
      "text/plain": [
       "<Figure size 432x288 with 1 Axes>"
      ]
     },
     "metadata": {
      "needs_background": "light"
     },
     "output_type": "display_data"
    }
   ],
   "source": [
    "pca_var1_under=PCA(0.9)\n",
    "scaler=StandardScaler()\n",
    "scaler.fit(Xtrain_under)\n",
    "Xtrain_under_scaled=scaler.transform(Xtrain_under)\n",
    "pca_var1_under.fit(Xtrain_under_scaled)\n",
    "Xtrain_under_scaled_transf=pca_var1_under.transform(Xtrain_under_scaled)\n",
    "plt.figure()\n",
    "plt.scatter(Xtrain_under_scaled_transf[:,0],Xtrain_under_scaled_transf[:,1],c=ytrain_under.values, alpha=0.80)\n",
    "plt.title('score graph con standard scaler undersampling 2d')\n",
    "plt.xlabel('pc1')\n",
    "plt.ylabel('pc2')\n",
    "plt.grid()\n",
    "plt.show()\n",
    "\n",
    "fig=plt.figure()\n",
    "ax = fig.add_subplot(111, projection='3d')\n",
    "ax.scatter(Xtrain_under_scaled_transf[:, 0], Xtrain_under_scaled_transf[:, 1], \n",
    "           Xtrain_under_scaled_transf[:, 2], c=ytrain_under.values, alpha=0.50)\n",
    "plt.title('score graph con standard scaler undersampling 3d')\n",
    "ax.set_xlabel('pc1')\n",
    "ax.set_ylabel('pc2')\n",
    "ax.set_zlabel('pc3')\n",
    "plt.grid()\n",
    "plt.show()"
   ]
  },
  {
   "cell_type": "markdown",
   "id": "provincial-marble",
   "metadata": {
    "tags": []
   },
   "source": [
    "Sia col random oversampling che col random undersampling si ottengono migliori visualizzazioni. Sebbene la distribuzione del set di dati sia stata alterata, la PCA evidenzia che nel caso del random undersampling le proiezioni lungo le prime tre PC permettono una migliore separazione dei dati rispetto al random oversampling."
   ]
  },
  {
   "cell_type": "markdown",
   "id": "floral-spice",
   "metadata": {},
   "source": [
    "## Linear Discriminant Analysis (LDA) random oversampling"
   ]
  },
  {
   "cell_type": "markdown",
   "id": "thick-pleasure",
   "metadata": {},
   "source": [
    "La LDA è un metodo di apprendimento supervisionato con l'obiettivo di stimare la probabilità di appartenenza ad una certa classe. Il principio su cui si basa la LDA è il teorema di Bayes che può essere riscritto nel seguente modo:  \n",
    "$$P(Y=k|X=x)=\\frac{P(X=x|Y=k) P(Y=K)}{P(X=x)}=\\frac{\\Pi_k f_k(x)}{\\sum_{l=1}^{k} \\Pi_l f_l(x)}$$  \n",
    "dove $\\Pi_k=$ densità marginale della classe k, $f_k(x)=$densità di x nella classe k. La classificazione dei punti viene effettuata in base alla densità della classe k più alta che i punti sottendono. Sebbene la LDA possa essere fatta a prescindere dalla distribuzione che seguono i punti, sotto le ipotesi che i dati abbiano distribuzione normale omoschedastica ($\\sigma_k=\\sigma,\\, \\forall k \\in Y$)  si ha che $P_k(x)$ può essere approssimato con $\\delta_k(x)$ detto discriminant score, infatti vale:\n",
    "$$P(Y=k|X=x)=\\frac{e^{\\delta_k(x)}}{\\sum_{l=1}^{k} e^{\\delta_l(x)}}$$\n",
    "$$\\delta_k(x)=x \\frac{\\mu_k}{\\sigma^2} - \\frac{\\mu_k^2}{2\\sigma^2} + \\log(\\Pi_k)=a_kx+b_k$$\n",
    "dove $\\mu_k$ è la media riferita alla distribuzione normale della classe k. Infine, siccome La LDA classifica i punti in base al centroide più vicino e lo span dei centroidi è uno spazio vettoriale di dimensione pari al numero di classi meno uno, è possibile visualizzare le classi predette ad ogni osservazione in uno spazio di dimensione al massimo del numero di classi meno uno. Questo permette di dare un contributo grafico alla visualizzazione delle performance della LDA."
   ]
  },
  {
   "cell_type": "code",
   "execution_count": 18,
   "id": "durable-pendant",
   "metadata": {},
   "outputs": [],
   "source": [
    "# test normalità dati\n",
    "k2,p=stats.normaltest(X)\n",
    "#p"
   ]
  },
  {
   "cell_type": "markdown",
   "id": "ranging-hazard",
   "metadata": {},
   "source": [
    "Quanto appena fatto è il test sulla normalità dei dati. Il pacchetto stats di scipy restituisce due valori associati al data set in questione. Il primo è k2 e contiene statistiche eseguite sulle osservazioni a disposizione. Il secondo più importante è un array contenente tanti pvalue quanti sono gli attributi del data set. Per ogni attributo viene eseguito un test d'ipotesi dove l'ipotesi nulla è che i dati siano distribuiti normalmente. Osservando p otteniamo tutti valori minori di $\\alpha$=0.05 e di conseguenza rifiutiamo l'ipotesi nulla. Segue che i dati non sono distribuiti normalmente e non possono essere fatte le approssimazioni precedentemente descritte. Decidiamo comunque di applicare la LDA come algoritmo predittivo. "
   ]
  },
  {
   "cell_type": "code",
   "execution_count": 19,
   "id": "aggregate-smith",
   "metadata": {
    "tags": []
   },
   "outputs": [
    {
     "data": {
      "text/html": [
       "<div>\n",
       "<style scoped>\n",
       "    .dataframe tbody tr th:only-of-type {\n",
       "        vertical-align: middle;\n",
       "    }\n",
       "\n",
       "    .dataframe tbody tr th {\n",
       "        vertical-align: top;\n",
       "    }\n",
       "\n",
       "    .dataframe thead th {\n",
       "        text-align: right;\n",
       "    }\n",
       "</style>\n",
       "<table border=\"1\" class=\"dataframe\">\n",
       "  <thead>\n",
       "    <tr style=\"text-align: right;\">\n",
       "      <th></th>\n",
       "      <th>acc lda no pca over</th>\n",
       "      <th>acc lda pca over</th>\n",
       "    </tr>\n",
       "  </thead>\n",
       "  <tbody>\n",
       "    <tr>\n",
       "      <th>train over</th>\n",
       "      <td>0.898909</td>\n",
       "      <td>0.873143</td>\n",
       "    </tr>\n",
       "    <tr>\n",
       "      <th>test</th>\n",
       "      <td>0.870088</td>\n",
       "      <td>0.548387</td>\n",
       "    </tr>\n",
       "  </tbody>\n",
       "</table>\n",
       "</div>"
      ],
      "text/plain": [
       "            acc lda no pca over  acc lda pca over\n",
       "train over             0.898909          0.873143\n",
       "test                   0.870088          0.548387"
      ]
     },
     "metadata": {},
     "output_type": "display_data"
    },
    {
     "data": {
      "image/png": "[encoded data removed]",
      "text/plain": [
       "<Figure size 648x288 with 2 Axes>"
      ]
     },
     "metadata": {
      "needs_background": "light"
     },
     "output_type": "display_data"
    },
    {
     "data": {
      "image/png": "[encoded data removed]",
      "text/plain": [
       "<Figure size 648x288 with 2 Axes>"
      ]
     },
     "metadata": {
      "needs_background": "light"
     },
     "output_type": "display_data"
    }
   ],
   "source": [
    "lda_over=LDA()\n",
    "lda_pca_over=LDA()\n",
    "lda_over.fit(Xtrain_over,ytrain_over)\n",
    "lda_pca_over.fit(Xtrain_over_scaled_transf,ytrain_over)\n",
    "\n",
    "scaler_over=StandardScaler()\n",
    "scaler_over.fit(Xtest)\n",
    "Xtest_scaled=scaler_over.transform(Xtest)\n",
    "\n",
    "zldatr_over=lda_over.transform(Xtrain_over)\n",
    "zlda_pcatr_over=lda_pca_over.transform(Xtrain_over_scaled_transf)\n",
    "zldate_over=lda_over.transform(Xtest)\n",
    "zlda_pcate_over=lda_pca_over.transform(pca_var1_scaled_over.transform(Xtest_scaled))\n",
    "\n",
    "df_lda_over= pd.DataFrame({'acc lda no pca over': [lda_over.score(Xtrain_over, ytrain_over), lda_over.score(Xtest, ytest)],\n",
    "                       'acc lda pca over': [lda_pca_over.score(Xtrain_over_scaled_transf, ytrain_over), \n",
    "                                            lda_pca_over.score(pca_var1_scaled_over.transform(Xtest_scaled), ytest)]}, \n",
    "                      index=['train over', 'test'])\n",
    "display(df_lda_over)\n",
    "\n",
    "fig1, axs1 = plt.subplots(1, 2, figsize=(9, 4))\n",
    "axs1[0].scatter(zldatr_over.flatten(),zldatr_over.flatten(),c=ytrain_over,alpha=0.15)\n",
    "axs1[1].scatter(zlda_pcatr_over.flatten(),zlda_pcatr_over.flatten(),c=ytrain_over,alpha=0.15)\n",
    "axs1[0].set_title('lda no pca train over')\n",
    "axs1[1].set_title('lda pca train over')\n",
    "axs1[0].grid()\n",
    "axs1[1].grid()\n",
    "fig2, axs2 = plt.subplots(1, 2, figsize=(9, 4))\n",
    "axs2[0].scatter(zldate_over.flatten(),ytest,c=ytest,alpha=0.15)\n",
    "axs2[1].scatter(zlda_pcate_over.flatten(),ytest,c=ytest,alpha=0.15)\n",
    "axs2[0].set_title('lda no pca test over')\n",
    "axs2[1].set_title('lda pca test over')\n",
    "axs2[0].grid()\n",
    "axs2[1].grid()"
   ]
  },
  {
   "cell_type": "code",
   "execution_count": 20,
   "id": "prepared-asbestos",
   "metadata": {
    "tags": []
   },
   "outputs": [
    {
     "data": {
      "text/html": [
       "<div>\n",
       "<style scoped>\n",
       "    .dataframe tbody tr th:only-of-type {\n",
       "        vertical-align: middle;\n",
       "    }\n",
       "\n",
       "    .dataframe tbody tr th {\n",
       "        vertical-align: top;\n",
       "    }\n",
       "\n",
       "    .dataframe thead th {\n",
       "        text-align: right;\n",
       "    }\n",
       "</style>\n",
       "<table border=\"1\" class=\"dataframe\">\n",
       "  <thead>\n",
       "    <tr style=\"text-align: right;\">\n",
       "      <th></th>\n",
       "      <th>actual class</th>\n",
       "      <th>pred class no pca over</th>\n",
       "      <th>pred class pca over</th>\n",
       "    </tr>\n",
       "  </thead>\n",
       "  <tbody>\n",
       "    <tr>\n",
       "      <th>0</th>\n",
       "      <td>3300</td>\n",
       "      <td>2909</td>\n",
       "      <td>1768</td>\n",
       "    </tr>\n",
       "    <tr>\n",
       "      <th>1</th>\n",
       "      <td>110</td>\n",
       "      <td>501</td>\n",
       "      <td>1642</td>\n",
       "    </tr>\n",
       "  </tbody>\n",
       "</table>\n",
       "</div>"
      ],
      "text/plain": [
       "   actual class  pred class no pca over  pred class pca over\n",
       "0          3300                    2909                 1768\n",
       "1           110                     501                 1642"
      ]
     },
     "metadata": {},
     "output_type": "display_data"
    }
   ],
   "source": [
    "y_pred_over= lda_over.predict(Xtest)\n",
    "y_pred_proba_over=lda_over.predict_proba(Xtest)\n",
    "y_pred_pca_over= lda_pca_over.predict(pca_var1_scaled_over.transform(Xtest_scaled))\n",
    "y_pred_proba_pca_over=lda_pca_over.predict_proba(pca_var1_scaled_over.transform(Xtest_scaled))\n",
    "y_pred_df_over= pd.DataFrame({'actual class test':ytest,\n",
    "                          'pred class no pca': y_pred_over, \n",
    "                          'p(class 0) - % no pca': np.round(y_pred_proba_over[:, 0] * 100, decimals=2), \n",
    "                          'p(class 1) - % no pca': np.round(y_pred_proba_over[:, 1] * 100, decimals=2),\n",
    "                          'pred class si pca': y_pred_pca_over, \n",
    "                          'p(class 0) - % (si pca)': np.round(y_pred_proba_pca_over[:, 0] * 100, decimals=2), \n",
    "                          'p(class 1) - % (si pca)': np.round(y_pred_proba_pca_over[:, 1] * 100, decimals=2)})\n",
    "infoldao=pd.DataFrame({'actual class':[list(y_pred_df_over[\"actual class test\"]).count(0),list(y_pred_df_over[\"actual class test\"]).count(1)],\n",
    "                     'pred class no pca over':[list(y_pred_df_over[\"pred class no pca\"]).count(0),list(y_pred_df_over[\"pred class no pca\"]).count(1)],\n",
    "                     'pred class pca over':[list(y_pred_df_over[\"pred class si pca\"]).count(0),list(y_pred_df_over[\"pred class si pca\"]).count(1)]})\n",
    "display(infoldao)"
   ]
  },
  {
   "cell_type": "markdown",
   "id": "compatible-prisoner",
   "metadata": {},
   "source": [
    "Nella tabella osserviamo che 391 osservazioni sono state predette non correttamente senza PCA, mentre con la PCA il numero sale a 1532. Le predizioni sbagliate sono riferite a casi di non bancarotta che in realtà lo sono. Tuttavia, da questa tabella si può osservare solo il numero finale di casi sbagliati quindi non si può affermare a priori che tra i 110 \"1\" non ci sia qualche \"0\" che è stato predetto come \"1\". Per capire questo si utilizza la confusion matrix e l'f1 score. Ciò che si può affermare con certezza è che la LDA nel caso del random oversampling tende a predirre casi di non bancarotta come bancarotta visto che predice più \"1\" del dovuto."
   ]
  },
  {
   "cell_type": "code",
   "execution_count": 21,
   "id": "intermediate-reflection",
   "metadata": {},
   "outputs": [
    {
     "name": "stdout",
     "output_type": "stream",
     "text": [
      "\n",
      "Performance LDA senza PCA random oversampling\n",
      "\n"
     ]
    },
    {
     "data": {
      "text/html": [
       "<div>\n",
       "<style scoped>\n",
       "    .dataframe tbody tr th:only-of-type {\n",
       "        vertical-align: middle;\n",
       "    }\n",
       "\n",
       "    .dataframe tbody tr th {\n",
       "        vertical-align: top;\n",
       "    }\n",
       "\n",
       "    .dataframe thead th {\n",
       "        text-align: right;\n",
       "    }\n",
       "</style>\n",
       "<table border=\"1\" class=\"dataframe\">\n",
       "  <thead>\n",
       "    <tr style=\"text-align: right;\">\n",
       "      <th></th>\n",
       "      <th>acc</th>\n",
       "      <th>prec</th>\n",
       "      <th>rec</th>\n",
       "      <th>f1</th>\n",
       "    </tr>\n",
       "  </thead>\n",
       "  <tbody>\n",
       "    <tr>\n",
       "      <th>train lda no pca over</th>\n",
       "      <td>0.898909</td>\n",
       "      <td>0.899909</td>\n",
       "      <td>0.898909</td>\n",
       "      <td>0.898846</td>\n",
       "    </tr>\n",
       "    <tr>\n",
       "      <th>test lda no pca over</th>\n",
       "      <td>0.870088</td>\n",
       "      <td>0.964501</td>\n",
       "      <td>0.870088</td>\n",
       "      <td>0.907565</td>\n",
       "    </tr>\n",
       "  </tbody>\n",
       "</table>\n",
       "</div>"
      ],
      "text/plain": [
       "                            acc      prec       rec        f1\n",
       "train lda no pca over  0.898909  0.899909  0.898909  0.898846\n",
       "test lda no pca over   0.870088  0.964501  0.870088  0.907565"
      ]
     },
     "metadata": {},
     "output_type": "display_data"
    },
    {
     "name": "stdout",
     "output_type": "stream",
     "text": [
      "\n",
      "Confusion matrix LDA senza PCA random oversampling\n",
      "\n"
     ]
    },
    {
     "data": {
      "text/html": [
       "<div>\n",
       "<style scoped>\n",
       "    .dataframe tbody tr th:only-of-type {\n",
       "        vertical-align: middle;\n",
       "    }\n",
       "\n",
       "    .dataframe tbody tr th {\n",
       "        vertical-align: top;\n",
       "    }\n",
       "\n",
       "    .dataframe thead th {\n",
       "        text-align: right;\n",
       "    }\n",
       "</style>\n",
       "<table border=\"1\" class=\"dataframe\">\n",
       "  <thead>\n",
       "    <tr style=\"text-align: right;\">\n",
       "      <th></th>\n",
       "      <th>no bancarotta</th>\n",
       "      <th>bancarotta</th>\n",
       "    </tr>\n",
       "  </thead>\n",
       "  <tbody>\n",
       "    <tr>\n",
       "      <th>no bancarotta</th>\n",
       "      <td>2883</td>\n",
       "      <td>417</td>\n",
       "    </tr>\n",
       "    <tr>\n",
       "      <th>bancarotta</th>\n",
       "      <td>26</td>\n",
       "      <td>84</td>\n",
       "    </tr>\n",
       "  </tbody>\n",
       "</table>\n",
       "</div>"
      ],
      "text/plain": [
       "               no bancarotta   bancarotta\n",
       "no bancarotta            2883         417\n",
       "bancarotta                 26          84"
      ]
     },
     "metadata": {},
     "output_type": "display_data"
    },
    {
     "name": "stdout",
     "output_type": "stream",
     "text": [
      "\n",
      "Performance LDA con PCA random oversampling\n",
      "\n"
     ]
    },
    {
     "data": {
      "text/html": [
       "<div>\n",
       "<style scoped>\n",
       "    .dataframe tbody tr th:only-of-type {\n",
       "        vertical-align: middle;\n",
       "    }\n",
       "\n",
       "    .dataframe tbody tr th {\n",
       "        vertical-align: top;\n",
       "    }\n",
       "\n",
       "    .dataframe thead th {\n",
       "        text-align: right;\n",
       "    }\n",
       "</style>\n",
       "<table border=\"1\" class=\"dataframe\">\n",
       "  <thead>\n",
       "    <tr style=\"text-align: right;\">\n",
       "      <th></th>\n",
       "      <th>acc</th>\n",
       "      <th>prec</th>\n",
       "      <th>rec</th>\n",
       "      <th>f1</th>\n",
       "    </tr>\n",
       "  </thead>\n",
       "  <tbody>\n",
       "    <tr>\n",
       "      <th>train lda pca over</th>\n",
       "      <td>0.873143</td>\n",
       "      <td>0.873733</td>\n",
       "      <td>0.873143</td>\n",
       "      <td>0.873093</td>\n",
       "    </tr>\n",
       "    <tr>\n",
       "      <th>test lda pca over</th>\n",
       "      <td>0.548387</td>\n",
       "      <td>0.967635</td>\n",
       "      <td>0.548387</td>\n",
       "      <td>0.677580</td>\n",
       "    </tr>\n",
       "  </tbody>\n",
       "</table>\n",
       "</div>"
      ],
      "text/plain": [
       "                         acc      prec       rec        f1\n",
       "train lda pca over  0.873143  0.873733  0.873143  0.873093\n",
       "test lda pca over   0.548387  0.967635  0.548387  0.677580"
      ]
     },
     "metadata": {},
     "output_type": "display_data"
    },
    {
     "name": "stdout",
     "output_type": "stream",
     "text": [
      "\n",
      "Confusion matrix LDA con PCA random oversampling\n",
      "\n"
     ]
    },
    {
     "data": {
      "text/html": [
       "<div>\n",
       "<style scoped>\n",
       "    .dataframe tbody tr th:only-of-type {\n",
       "        vertical-align: middle;\n",
       "    }\n",
       "\n",
       "    .dataframe tbody tr th {\n",
       "        vertical-align: top;\n",
       "    }\n",
       "\n",
       "    .dataframe thead th {\n",
       "        text-align: right;\n",
       "    }\n",
       "</style>\n",
       "<table border=\"1\" class=\"dataframe\">\n",
       "  <thead>\n",
       "    <tr style=\"text-align: right;\">\n",
       "      <th></th>\n",
       "      <th>no bancarotta</th>\n",
       "      <th>bancarotta</th>\n",
       "    </tr>\n",
       "  </thead>\n",
       "  <tbody>\n",
       "    <tr>\n",
       "      <th>no bancarotta</th>\n",
       "      <td>1764</td>\n",
       "      <td>1536</td>\n",
       "    </tr>\n",
       "    <tr>\n",
       "      <th>bancarotta</th>\n",
       "      <td>4</td>\n",
       "      <td>106</td>\n",
       "    </tr>\n",
       "  </tbody>\n",
       "</table>\n",
       "</div>"
      ],
      "text/plain": [
       "               no bancarotta  bancarotta\n",
       "no bancarotta           1764        1536\n",
       "bancarotta                 4         106"
      ]
     },
     "metadata": {},
     "output_type": "display_data"
    }
   ],
   "source": [
    "acc_traino = lda_over.score(Xtrain_over, ytrain_over)\n",
    "prec_traino = precision_score(ytrain_over,lda_over.predict(Xtrain_over), average='weighted')\n",
    "rec_traino = recall_score(ytrain_over,lda_over.predict(Xtrain_over), average='weighted')\n",
    "f1_traino = f1_score(ytrain_over,lda_over.predict(Xtrain_over), average='weighted')\n",
    "\n",
    "acc_train_pcao = lda_pca_over.score(pca_var1_scaled_over.transform(Xtrain_over_scaled), ytrain_over)\n",
    "prec_train_pcao = precision_score(ytrain_over,lda_pca_over.predict(pca_var1_scaled_over.transform(Xtrain_over_scaled)), average='weighted')\n",
    "rec_train_pcao = recall_score(ytrain_over,lda_pca_over.predict(pca_var1_scaled_over.transform(Xtrain_over_scaled)), average='weighted')\n",
    "f1_train_pcao = f1_score(ytrain_over,lda_pca_over.predict(pca_var1_scaled_over.transform(Xtrain_over_scaled)), average='weighted')\n",
    "\n",
    "acc_testo = lda_over.score(Xtest, ytest)\n",
    "prec_testo = precision_score(ytest,y_pred_over, average='weighted')\n",
    "rec_testo = recall_score(ytest,y_pred_over, average='weighted')\n",
    "f1_testo = f1_score(ytest,y_pred_over, average='weighted')\n",
    "\n",
    "acc_test_pcao = lda_pca_over.score(pca_var1_scaled_over.transform(Xtest_scaled), ytest)\n",
    "prec_test_pcao = precision_score(ytest,lda_pca_over.predict(pca_var1_scaled_over.transform(Xtest_scaled)), average='weighted')\n",
    "rec_test_pcao = recall_score(ytest,lda_pca_over.predict(pca_var1_scaled_over.transform(Xtest_scaled)), average='weighted')\n",
    "f1_test_pcao = f1_score(ytest,lda_pca_over.predict(pca_var1_scaled_over.transform(Xtest_scaled)), average='weighted')\n",
    "\n",
    "df_perfo = pd.DataFrame({'acc': [acc_traino, acc_testo], \n",
    "                        'prec': [prec_traino, prec_testo], \n",
    "                        'rec': [rec_traino, rec_testo],\n",
    "                        'f1': [f1_traino, f1_testo]\n",
    "                       },\n",
    "                      index=['train lda no pca over', 'test lda no pca over'])\n",
    "df_perfop = pd.DataFrame({'acc': [acc_train_pcao, acc_test_pcao], \n",
    "                        'prec': [prec_train_pcao, prec_test_pcao], \n",
    "                        'rec': [rec_train_pcao, rec_test_pcao],\n",
    "                        'f1': [f1_train_pcao, f1_test_pcao]\n",
    "                       },\n",
    "                      index=['train lda pca over','test lda pca over'])\n",
    "\n",
    "cmato = confusion_matrix(ytest,y_pred_over)\n",
    "df_cmato = pd.DataFrame(cmato, columns=['no bancarotta ','bancarotta'], \n",
    "                        index=['no bancarotta','bancarotta'])\n",
    "cmatop = confusion_matrix(ytest,y_pred_pca_over)\n",
    "df_cmatop = pd.DataFrame(cmatop, columns=['no bancarotta','bancarotta'], \n",
    "                        index=['no bancarotta','bancarotta'])\n",
    "\n",
    "print('')\n",
    "print('Performance LDA senza PCA random oversampling')\n",
    "print('')\n",
    "display(df_perfo)\n",
    "print('')\n",
    "print('Confusion matrix LDA senza PCA random oversampling')\n",
    "print('')\n",
    "display(df_cmato)\n",
    "print('')\n",
    "print('Performance LDA con PCA random oversampling')\n",
    "print('')\n",
    "display(df_perfop)\n",
    "print('')\n",
    "print('Confusion matrix LDA con PCA random oversampling')\n",
    "print('')\n",
    "display(df_cmatop)"
   ]
  },
  {
   "cell_type": "markdown",
   "id": "aging-utilization",
   "metadata": {},
   "source": [
    "I risultati non sono apprezzabili bene dal punto di vista grafico visto che il dataset presenta due classi che si potrebbero plottare solamente lungo una retta. Tuttavia, dal punto di vista numerico, la LDA senza PCA lavora meglio rispetto alla LDA con PCA nel caso del random oversampling. Infatti il misclassification rate della LDA random oversampling senza PCA è pari al 13% mentre con la PCA sale al 45%. Questo indicatore viene calcolato a partire dalla confusion matrix come la percentuale di classificazioni errate, a prescindere dalla classe di appartenenza, rispetto a tutto il data set. Invece, le altre statistiche presenti nelle tabelle vengono calcolate nel seguente modo: \n",
    "\n",
    "- Accuratezza, il numero totale di predizioni corrette: $\\begin{equation}\n",
    "\\mathrm{acc}(\\mathcal{P}) = \\displaystyle \\frac{\\text{# predizioni corrette su }\\mathcal{P}}{|\\mathcal{P}|}\\,\n",
    "\\end{equation}$\n",
    "\n",
    "- Matrice di confusione: $\\begin{equation} A = \\begin{bmatrix} a_{11} & a_{12}\\\\ a_{21} & a_{22} \\end{bmatrix}=\\begin{bmatrix} TP & FN\\\\ FP & TN \\end{bmatrix} \\end{equation}$ dove TP=veri positivi, FN=falsi neagativi, FP=falsi positivi, TN=veri negativi.\n",
    "\n",
    "- Precision, la precisione del modello nel classificare i campioni che appartengono alla classe $C_i$: $\\begin{equation}\n",
    "\\mathrm{prec}(C_i;\\mathcal{P}) = \\displaystyle \\frac{\\text{veri }C_i}{\\text{veri }C_i + \\text{falsi }C_i} = \\displaystyle \\frac{\\text{veri }C_i}{\\text{# di elem. in $\\mathcal{P}$ pred. $C_i$}}\\, = \\displaystyle \\frac{a_{ii}}{\\sum_{k=1}^c a_{ki}} = \\displaystyle \\frac{a_{ii}}{\\text{somma elem. in col. $i$-esima}}\\,\n",
    "\\end{equation}$  \n",
    "\n",
    "- Recall, abilità dell'algoritmo nel trovare tutti i campioni della classe $C_i$: $\\begin{equation}\n",
    "\\mathrm{rec}(C_i;\\mathcal{P}) = \\displaystyle \\frac{\\text{veri }C_i}{\\text{# di } C_i \\text{ in }\\mathcal{P}}\\, = \\displaystyle\\frac{a_{ii}}{\\sum_{k=1}^c a_{ik}} = \\displaystyle \\frac{a_{ii}}{\\text{somma elem. in riga $i$-esima}}\\,\n",
    "\\end{equation}$  \n",
    "\n",
    "- F1 score, media armonica di precision e recall: $\\begin{equation}\n",
    "F_1(C_i;\\mathcal{P}) = 2 \\ \\displaystyle \\frac{\\mathrm{prec}(C_i;\\mathcal{P}) \\cdot \\mathrm{rec}(C_i;\\mathcal{P})}{\\mathrm{prec}(C_i;\\mathcal{P}) + \\mathrm{rec}(C_i;\\mathcal{P})}\n",
    "\\end{equation}$ "
   ]
  },
  {
   "cell_type": "markdown",
   "id": "suffering-suggestion",
   "metadata": {},
   "source": [
    "## LDA random undersampling"
   ]
  },
  {
   "cell_type": "code",
   "execution_count": 22,
   "id": "positive-peninsula",
   "metadata": {},
   "outputs": [
    {
     "data": {
      "text/html": [
       "<div>\n",
       "<style scoped>\n",
       "    .dataframe tbody tr th:only-of-type {\n",
       "        vertical-align: middle;\n",
       "    }\n",
       "\n",
       "    .dataframe tbody tr th {\n",
       "        vertical-align: top;\n",
       "    }\n",
       "\n",
       "    .dataframe thead th {\n",
       "        text-align: right;\n",
       "    }\n",
       "</style>\n",
       "<table border=\"1\" class=\"dataframe\">\n",
       "  <thead>\n",
       "    <tr style=\"text-align: right;\">\n",
       "      <th></th>\n",
       "      <th>acc no pca under lda</th>\n",
       "      <th>acc pca under lda</th>\n",
       "    </tr>\n",
       "  </thead>\n",
       "  <tbody>\n",
       "    <tr>\n",
       "      <th>train under</th>\n",
       "      <td>0.918182</td>\n",
       "      <td>0.840909</td>\n",
       "    </tr>\n",
       "    <tr>\n",
       "      <th>test</th>\n",
       "      <td>0.797361</td>\n",
       "      <td>0.549560</td>\n",
       "    </tr>\n",
       "  </tbody>\n",
       "</table>\n",
       "</div>"
      ],
      "text/plain": [
       "             acc no pca under lda  acc pca under lda\n",
       "train under              0.918182           0.840909\n",
       "test                     0.797361           0.549560"
      ]
     },
     "metadata": {},
     "output_type": "display_data"
    },
    {
     "data": {
      "image/png": "[encoded data removed]",
      "text/plain": [
       "<Figure size 648x288 with 2 Axes>"
      ]
     },
     "metadata": {
      "needs_background": "light"
     },
     "output_type": "display_data"
    },
    {
     "data": {
      "image/png": "[encoded data removed]",
      "text/plain": [
       "<Figure size 648x288 with 2 Axes>"
      ]
     },
     "metadata": {
      "needs_background": "light"
     },
     "output_type": "display_data"
    }
   ],
   "source": [
    "ldau=LDA()\n",
    "lda_pcau=LDA()\n",
    "ldau.fit(Xtrain_under,ytrain_under)\n",
    "lda_pcau.fit(Xtrain_under_scaled_transf,ytrain_under)\n",
    "scaler=StandardScaler()\n",
    "scaler.fit(Xtest)\n",
    "Xtest_scaled=scaler.transform(Xtest)\n",
    "\n",
    "zldatru=ldau.transform(Xtrain_under)\n",
    "zlda_pcatru=lda_pcau.transform(Xtrain_under_scaled_transf)\n",
    "zldateu=ldau.transform(Xtest)\n",
    "zlda_pcateu=lda_pcau.transform(pca_var1_under.transform(Xtest_scaled))\n",
    "\n",
    "df_ldau = pd.DataFrame({'acc no pca under lda': [ldau.score(Xtrain_under, ytrain_under), ldau.score(Xtest, ytest)],\n",
    "                       'acc pca under lda': [lda_pcau.score(Xtrain_under_scaled_transf, ytrain_under), \n",
    "                                             lda_pcau.score(pca_var1_under.transform(Xtest_scaled), ytest)]}, \n",
    "                      index=['train under', 'test'])\n",
    "display(df_ldau)\n",
    "\n",
    "fig1, axs1 = plt.subplots(1, 2, figsize=(9, 4))\n",
    "axs1[0].scatter(zldatru.flatten(),zldatru.flatten(),c=ytrain_under,alpha=0.15)\n",
    "axs1[1].scatter(zlda_pcatru.flatten(),zlda_pcatru.flatten(),c=ytrain_under,alpha=0.15)\n",
    "axs1[0].set_title('lda no pca train under')\n",
    "axs1[1].set_title('lda pca train under')\n",
    "axs1[0].grid()\n",
    "axs1[1].grid()\n",
    "fig2, axs2 = plt.subplots(1, 2, figsize=(9, 4))\n",
    "axs2[0].scatter(zldateu.flatten(),ytest,c=ytest,alpha=0.15)\n",
    "axs2[1].scatter(zlda_pcateu.flatten(),ytest,c=ytest,alpha=0.15)\n",
    "axs2[0].set_title('lda no pca test under')\n",
    "axs2[1].set_title('lda pca test under')\n",
    "axs2[0].grid()\n",
    "axs2[1].grid()"
   ]
  },
  {
   "cell_type": "code",
   "execution_count": 23,
   "id": "miniature-knitting",
   "metadata": {},
   "outputs": [
    {
     "data": {
      "text/html": [
       "<div>\n",
       "<style scoped>\n",
       "    .dataframe tbody tr th:only-of-type {\n",
       "        vertical-align: middle;\n",
       "    }\n",
       "\n",
       "    .dataframe tbody tr th {\n",
       "        vertical-align: top;\n",
       "    }\n",
       "\n",
       "    .dataframe thead th {\n",
       "        text-align: right;\n",
       "    }\n",
       "</style>\n",
       "<table border=\"1\" class=\"dataframe\">\n",
       "  <thead>\n",
       "    <tr style=\"text-align: right;\">\n",
       "      <th></th>\n",
       "      <th>actual class</th>\n",
       "      <th>pred class lda no pca under</th>\n",
       "      <th>pred class lda pca under</th>\n",
       "    </tr>\n",
       "  </thead>\n",
       "  <tbody>\n",
       "    <tr>\n",
       "      <th>0</th>\n",
       "      <td>3300</td>\n",
       "      <td>2671</td>\n",
       "      <td>1778</td>\n",
       "    </tr>\n",
       "    <tr>\n",
       "      <th>1</th>\n",
       "      <td>110</td>\n",
       "      <td>739</td>\n",
       "      <td>1632</td>\n",
       "    </tr>\n",
       "  </tbody>\n",
       "</table>\n",
       "</div>"
      ],
      "text/plain": [
       "   actual class  pred class lda no pca under  pred class lda pca under\n",
       "0          3300                         2671                      1778\n",
       "1           110                          739                      1632"
      ]
     },
     "metadata": {},
     "output_type": "display_data"
    }
   ],
   "source": [
    "y_predu = ldau.predict(Xtest)\n",
    "y_pred_probau =ldau.predict_proba(Xtest)\n",
    "y_pred_pcau = lda_pcau.predict(pca_var1_under.transform(Xtest_scaled))\n",
    "y_pred_proba_pcau =lda_pcau.predict_proba(pca_var1_under.transform(Xtest_scaled))\n",
    "y_pred_dfu = pd.DataFrame({'actual class test':ytest,\n",
    "                          'pred class no pca': y_predu, \n",
    "                          'p(class 0) - % no pca': np.round(y_pred_probau[:, 0] * 100, decimals=2), \n",
    "                          'p(class 1) - % no pca': np.round(y_pred_probau[:, 1] * 100, decimals=2),\n",
    "                          'pred class si pca': y_pred_pcau, \n",
    "                          'p(class 0) - % si pca': np.round(y_pred_proba_pcau[:, 0] * 100, decimals=2), \n",
    "                          'p(class 1) - % si pca': np.round(y_pred_proba_pcau[:, 1] * 100, decimals=2)})\n",
    "infoldau=pd.DataFrame({'actual class':[list(y_pred_dfu[\"actual class test\"]).count(0),list(y_pred_dfu[\"actual class test\"]).count(1)],\n",
    "                     'pred class lda no pca under':[list(y_pred_dfu[\"pred class no pca\"]).count(0),list(y_pred_dfu[\"pred class no pca\"]).count(1)],\n",
    "                     'pred class lda pca under':[list(y_pred_dfu[\"pred class si pca\"]).count(0),list(y_pred_dfu[\"pred class si pca\"]).count(1)]})\n",
    "display(infoldau)"
   ]
  },
  {
   "cell_type": "code",
   "execution_count": 24,
   "id": "transsexual-james",
   "metadata": {
    "tags": []
   },
   "outputs": [
    {
     "name": "stdout",
     "output_type": "stream",
     "text": [
      "\n",
      "Performance LDA senza PCA random undersampling\n",
      "\n"
     ]
    },
    {
     "data": {
      "text/html": [
       "<div>\n",
       "<style scoped>\n",
       "    .dataframe tbody tr th:only-of-type {\n",
       "        vertical-align: middle;\n",
       "    }\n",
       "\n",
       "    .dataframe tbody tr th {\n",
       "        vertical-align: top;\n",
       "    }\n",
       "\n",
       "    .dataframe thead th {\n",
       "        text-align: right;\n",
       "    }\n",
       "</style>\n",
       "<table border=\"1\" class=\"dataframe\">\n",
       "  <thead>\n",
       "    <tr style=\"text-align: right;\">\n",
       "      <th></th>\n",
       "      <th>acc</th>\n",
       "      <th>prec</th>\n",
       "      <th>rec</th>\n",
       "      <th>f1</th>\n",
       "    </tr>\n",
       "  </thead>\n",
       "  <tbody>\n",
       "    <tr>\n",
       "      <th>training lda no pca under</th>\n",
       "      <td>0.918182</td>\n",
       "      <td>0.918320</td>\n",
       "      <td>0.918182</td>\n",
       "      <td>0.918175</td>\n",
       "    </tr>\n",
       "    <tr>\n",
       "      <th>test lda no pca under</th>\n",
       "      <td>0.797361</td>\n",
       "      <td>0.959959</td>\n",
       "      <td>0.797361</td>\n",
       "      <td>0.861752</td>\n",
       "    </tr>\n",
       "  </tbody>\n",
       "</table>\n",
       "</div>"
      ],
      "text/plain": [
       "                                acc      prec       rec        f1\n",
       "training lda no pca under  0.918182  0.918320  0.918182  0.918175\n",
       "test lda no pca under      0.797361  0.959959  0.797361  0.861752"
      ]
     },
     "metadata": {},
     "output_type": "display_data"
    },
    {
     "name": "stdout",
     "output_type": "stream",
     "text": [
      "\n",
      "Confusion matrix LDA senza PCA random undersampling\n",
      "\n"
     ]
    },
    {
     "data": {
      "text/html": [
       "<div>\n",
       "<style scoped>\n",
       "    .dataframe tbody tr th:only-of-type {\n",
       "        vertical-align: middle;\n",
       "    }\n",
       "\n",
       "    .dataframe tbody tr th {\n",
       "        vertical-align: top;\n",
       "    }\n",
       "\n",
       "    .dataframe thead th {\n",
       "        text-align: right;\n",
       "    }\n",
       "</style>\n",
       "<table border=\"1\" class=\"dataframe\">\n",
       "  <thead>\n",
       "    <tr style=\"text-align: right;\">\n",
       "      <th></th>\n",
       "      <th>no bancarotta</th>\n",
       "      <th>bancarotta</th>\n",
       "    </tr>\n",
       "  </thead>\n",
       "  <tbody>\n",
       "    <tr>\n",
       "      <th>no bancarotta</th>\n",
       "      <td>2640</td>\n",
       "      <td>660</td>\n",
       "    </tr>\n",
       "    <tr>\n",
       "      <th>bancarotta</th>\n",
       "      <td>31</td>\n",
       "      <td>79</td>\n",
       "    </tr>\n",
       "  </tbody>\n",
       "</table>\n",
       "</div>"
      ],
      "text/plain": [
       "               no bancarotta  bancarotta\n",
       "no bancarotta           2640         660\n",
       "bancarotta                31          79"
      ]
     },
     "metadata": {},
     "output_type": "display_data"
    },
    {
     "name": "stdout",
     "output_type": "stream",
     "text": [
      "\n",
      "Performance LDA con PCA random undersampling\n",
      "\n"
     ]
    },
    {
     "data": {
      "text/html": [
       "<div>\n",
       "<style scoped>\n",
       "    .dataframe tbody tr th:only-of-type {\n",
       "        vertical-align: middle;\n",
       "    }\n",
       "\n",
       "    .dataframe tbody tr th {\n",
       "        vertical-align: top;\n",
       "    }\n",
       "\n",
       "    .dataframe thead th {\n",
       "        text-align: right;\n",
       "    }\n",
       "</style>\n",
       "<table border=\"1\" class=\"dataframe\">\n",
       "  <thead>\n",
       "    <tr style=\"text-align: right;\">\n",
       "      <th></th>\n",
       "      <th>acc</th>\n",
       "      <th>prec</th>\n",
       "      <th>rec</th>\n",
       "      <th>f1</th>\n",
       "    </tr>\n",
       "  </thead>\n",
       "  <tbody>\n",
       "    <tr>\n",
       "      <th>training lda pca under</th>\n",
       "      <td>0.840909</td>\n",
       "      <td>0.840937</td>\n",
       "      <td>0.840909</td>\n",
       "      <td>0.840906</td>\n",
       "    </tr>\n",
       "    <tr>\n",
       "      <th>test lda pca under</th>\n",
       "      <td>0.549560</td>\n",
       "      <td>0.965968</td>\n",
       "      <td>0.549560</td>\n",
       "      <td>0.678833</td>\n",
       "    </tr>\n",
       "  </tbody>\n",
       "</table>\n",
       "</div>"
      ],
      "text/plain": [
       "                             acc      prec       rec        f1\n",
       "training lda pca under  0.840909  0.840937  0.840909  0.840906\n",
       "test lda pca under      0.549560  0.965968  0.549560  0.678833"
      ]
     },
     "metadata": {},
     "output_type": "display_data"
    },
    {
     "name": "stdout",
     "output_type": "stream",
     "text": [
      "\n",
      "Confusion matrix LDA con PCA random undersampling\n",
      "\n"
     ]
    },
    {
     "data": {
      "text/html": [
       "<div>\n",
       "<style scoped>\n",
       "    .dataframe tbody tr th:only-of-type {\n",
       "        vertical-align: middle;\n",
       "    }\n",
       "\n",
       "    .dataframe tbody tr th {\n",
       "        vertical-align: top;\n",
       "    }\n",
       "\n",
       "    .dataframe thead th {\n",
       "        text-align: right;\n",
       "    }\n",
       "</style>\n",
       "<table border=\"1\" class=\"dataframe\">\n",
       "  <thead>\n",
       "    <tr style=\"text-align: right;\">\n",
       "      <th></th>\n",
       "      <th>no bancarotta</th>\n",
       "      <th>bancarotta</th>\n",
       "    </tr>\n",
       "  </thead>\n",
       "  <tbody>\n",
       "    <tr>\n",
       "      <th>no bancarotta</th>\n",
       "      <td>1771</td>\n",
       "      <td>1529</td>\n",
       "    </tr>\n",
       "    <tr>\n",
       "      <th>bancarotta</th>\n",
       "      <td>7</td>\n",
       "      <td>103</td>\n",
       "    </tr>\n",
       "  </tbody>\n",
       "</table>\n",
       "</div>"
      ],
      "text/plain": [
       "               no bancarotta  bancarotta\n",
       "no bancarotta           1771        1529\n",
       "bancarotta                 7         103"
      ]
     },
     "metadata": {},
     "output_type": "display_data"
    }
   ],
   "source": [
    "acc_trainu = ldau.score(Xtrain_under, ytrain_under)\n",
    "prec_trainu = precision_score(ytrain_under,ldau.predict(Xtrain_under), average='weighted')\n",
    "rec_trainu = recall_score(ytrain_under,ldau.predict(Xtrain_under), average='weighted')\n",
    "f1_trainu = f1_score(ytrain_under,ldau.predict(Xtrain_under), average='weighted')\n",
    "\n",
    "acc_train_pcau = lda_pcau.score(pca_var1_under.transform(Xtrain_under_scaled), ytrain_under)\n",
    "prec_train_pcau = precision_score(ytrain_under,lda_pcau.predict(pca_var1_under.transform(Xtrain_under_scaled)), average='weighted')\n",
    "rec_train_pcau = recall_score(ytrain_under,lda_pcau.predict(pca_var1_under.transform(Xtrain_under_scaled)), average='weighted')\n",
    "f1_train_pcau = f1_score(ytrain_under,lda_pcau.predict(pca_var1_under.transform(Xtrain_under_scaled)), average='weighted')\n",
    "\n",
    "acc_testu= ldau.score(Xtest, ytest)\n",
    "prec_testu = precision_score(ytest,y_predu, average='weighted')\n",
    "rec_testu = recall_score(ytest,y_predu, average='weighted')\n",
    "f1_testu = f1_score(ytest,y_predu, average='weighted')\n",
    "\n",
    "acc_test_pcau = lda_pcau.score(pca_var1_under.transform(Xtest_scaled), ytest)\n",
    "prec_test_pcau = precision_score(ytest,lda_pcau.predict(pca_var1_under.transform(Xtest_scaled)), average='weighted')\n",
    "rec_test_pcau = recall_score(ytest,lda_pcau.predict(pca_var1_under.transform(Xtest_scaled)), average='weighted')\n",
    "f1_test_pcau = f1_score(ytest,lda_pcau.predict(pca_var1_under.transform(Xtest_scaled)), average='weighted')\n",
    "\n",
    "df_perfu = pd.DataFrame({'acc': [acc_trainu, acc_testu], \n",
    "                        'prec': [prec_trainu, prec_testu], \n",
    "                        'rec': [rec_trainu, rec_testu],\n",
    "                        'f1': [f1_trainu, f1_testu]\n",
    "                       },\n",
    "                      index=['training lda no pca under', 'test lda no pca under'])\n",
    "df_perfup = pd.DataFrame({'acc': [acc_train_pcau, acc_test_pcau], \n",
    "                        'prec': [prec_train_pcau, prec_test_pcau], \n",
    "                        'rec': [rec_train_pcau, rec_test_pcau],\n",
    "                        'f1': [f1_train_pcau, f1_test_pcau]\n",
    "                       },\n",
    "                      index=['training lda pca under','test lda pca under'])\n",
    "\n",
    "cmatu = confusion_matrix(ytest,y_predu)\n",
    "df_cmatu = pd.DataFrame(cmatu, columns=['no bancarotta','bancarotta'], \n",
    "                        index=['no bancarotta','bancarotta'])\n",
    "cmatup = confusion_matrix(ytest,y_pred_pcau)\n",
    "df_cmatup = pd.DataFrame(cmatup, columns=['no bancarotta','bancarotta'], \n",
    "                        index=['no bancarotta','bancarotta'])\n",
    "\n",
    "print('')\n",
    "print('Performance LDA senza PCA random undersampling')\n",
    "print('')\n",
    "display(df_perfu)\n",
    "print('')\n",
    "print('Confusion matrix LDA senza PCA random undersampling')\n",
    "print('')\n",
    "display(df_cmatu)\n",
    "print('')\n",
    "print('Performance LDA con PCA random undersampling')\n",
    "print('')\n",
    "display(df_perfup)\n",
    "print('')\n",
    "print('Confusion matrix LDA con PCA random undersampling')\n",
    "print('')\n",
    "display(df_cmatup)"
   ]
  },
  {
   "cell_type": "markdown",
   "id": "interim-committee",
   "metadata": {},
   "source": [
    "Analogamente al caso precedente i risultati non sono apprezzabili dal punto di vista grafico. Tuttavia nel grafico del training set la separazione tra le classi è molto più evidente rispetto al grafico del test set. Questo è dovuto ai dati riguardanti l'accuratezza, la precision, la recall e l'f1 score sono molto buoni nel training set mentre peggiorano per il test set. Ricalcolando il misclassification rate rispetto alla LDA random undersampling senza PCA e con PCA otteniamo rispettivamente 27% e 48%.    \n",
    "In generale si può quindi concludere che la LDA con PCA e il random undersampling lavorano peggio rispetto alla LDA senza PCA e il random oversampling."
   ]
  },
  {
   "cell_type": "markdown",
   "id": "appreciated-garbage",
   "metadata": {
    "tags": []
   },
   "source": [
    "## Support Vector Machine (SVM) non lineari random oversampling"
   ]
  },
  {
   "cell_type": "markdown",
   "id": "otherwise-reputation",
   "metadata": {
    "tags": []
   },
   "source": [
    "A differenza della PCA che mantiene la struttura metrico-statistica dei dati, nelle SVM si cerca l'iperpiano che massimizza la separazione tra punti. Questi ultimi quindi sono fissati, immobili, non vengono proiettati lungo particolari direzioni ma si cerca un separatore lineare che distacchi le classi nel miglior modo posibile. Sotto le ipotesi di lineare separabilità (ovvero esistono $w \\in R^n$, $b \\in R$ tali che $y_i(<w,x_i>+b)\\geq0 \\ \\forall i=1,2...,m$, dove $\\{(x_i,y_i)| x_i \\in R^n, y_i \\in R, i=1,2...,m\\}$ è il data set di riferimento), l'obiettivo delle SVM è massimizzare il margine $margin=\\{min \\ d(\\Pi_{w,b},x)|x \\in dataset\\}$. $\\Pi_{w,b}$ rappresenta l'iperpiano separatore identificato dalla coppia (w,b). In generale possiamo distinguere due tipi di SVM lineari: le prime sono le SVM hard a cui corrisponde il problema di minimo:  \n",
    "\\begin{equation}\n",
    "\\begin{cases}\n",
    "\\min_{\\boldsymbol{w}} \\frac{1}{2}\\boldsymbol{w}^\\top\\boldsymbol{w}\\\\\n",
    "y_i (\\boldsymbol{w}^\\top\\boldsymbol{x}_i + b) \\geq 1 \\,,\\quad \\forall \\ i=1,\\ldots ,T\n",
    "\\end{cases}\n",
    "\\end{equation}  \n",
    "  \n",
    "  \n",
    "Il secondo tipo sono le soft SVM che vengono utilizzate quando i dati non sono perfettamente separabili. In questo caso vengono introdotte delle slack variable $\\xi_i = \\delta_i||w||$ e dei parametri di costo $C\\in\\mathbb{R}^+$ che permettono di poter violare il margine di una certa quantità $\\delta_i$. Parametri di costo elevati implicano piccole violazioni mentre parametri di costo bassi permettono rilassamenti maggiori visto che il problema associato riguarda sempre la minimizzazione di un funzionale. Il problema di minimo viene quindi espresso nel seguente modo: \n",
    "  \n",
    "\\begin{equation}\n",
    "\\begin{cases}\n",
    "\\min_{\\boldsymbol{w}} \\frac{1}{2}\\boldsymbol{w}^\\top\\boldsymbol{w} + C \\sum_{i=1}^T \\xi_i\\\\\n",
    "y_i (\\boldsymbol{w}^\\top\\boldsymbol{x}_i + b) \\geq 1 - \\xi_i \\,,\\quad & \\forall \\ i=1,\\ldots ,T\\\\\n",
    "\\xi_i\\geq 0\\,,\\quad & \\forall \\ i=1,\\ldots ,T\\\\\n",
    "\\end{cases}\\,,\n",
    "\\end{equation}\n",
    "  \n",
    "Nel caso di dati non linearmente separabili si utilizzano le SVM non lineari. I dati vengono proiettati in dimensione più alta grazie ad una mappa $\\phi :\\mathbb{R}^n\\rightarrow \\mathbb{R}^m\\, \\text{con }m>n\\,$ così da poterli separare con una SVM lineare. Le criticità legate a questo tipo di SVM sono il costo computazionale e il problema della dimensionalità. Per definire il problema di minimo delle SVM non lineari partiamo dal problema duale associato ad una SVM lineare:  \n",
    "  \n",
    "\\begin{equation}\n",
    "\\begin{cases}\n",
    "\\min_{\\boldsymbol{\\alpha}} \\frac{1}{2}\\boldsymbol{\\alpha}^\\top Q \\boldsymbol{\\alpha} - \\sum_{i=1}^T \\alpha_i\\\\\n",
    "\\sum_{i=1}^T \\alpha_i y_i = 0\\\\\n",
    "\\alpha_i \\geq 0\\,,\\quad \\forall \\ i=1,\\ldots ,T\n",
    "\\end{cases}\\,,\n",
    "\\end{equation}  \n",
    "dove $\\alpha\\in\\mathbb{R}^T$ e la matrice $Q\\in\\mathbb{R}^{T\\times T}$ è tale che\n",
    "$\\begin{equation}\n",
    "Q = \\left(q_{i,j}\\right)_{i,j=1,\\ldots ,T} =  \\left( y_iy_j x_i^\\top x_j \\right)_{i,j=1,\\ldots ,T}\\,.\n",
    "\\end{equation}$  \n",
    "Apllicando la trasformazione $\\phi$ ricaviamo il problema duale associato alla SVM non lineare:  \n",
    "  \n",
    "  \n",
    "\\begin{equation}\n",
    "\\begin{cases}\n",
    "\\min_{\\boldsymbol{\\alpha}} \\frac{1}{2}\\boldsymbol{\\alpha}^\\top Q' \\boldsymbol{\\alpha} - \\sum_{i=1}^T \\alpha_i\\\\\n",
    "\\sum_{i=1}^T \\alpha_i y_i = 0\\\\\n",
    "\\alpha_i \\geq 0\\,,\\quad \\forall \\ i=1,\\ldots ,T\n",
    "\\end{cases}\\,,\n",
    "\\end{equation}  \n",
    "dove $\\alpha\\in\\mathbb{R}^T$ e la matrice $Q'\\in\\mathbb{R}^{T\\times T}$ è tale che\n",
    "$\\begin{equation}\n",
    "Q' = \\left(q_{i,j}\\right)_{i,j=1,\\ldots ,T} =  \\left( y_iy_j\\phi(x)_i^\\top\\phi(x)_j \\right)_{i,j=1,\\ldots ,T}\\,.\n",
    "\\end{equation}$  \n",
    "Le difficoltà di quest'ultimo problema di minimo stanno nel calcolo del prodotto scalare $\\langle \\phi_i , \\phi\\rangle = \\phi(x)_i^\\top\\phi(x)$. Vengono definiti quindi i Kernel $k$ che sono funzioni $k:\\mathcal{X}\\times \\mathcal{X}\\rightarrow\\mathbb{R}$ per cui esiste un'unica mappa $\\phi:\\mathcal{X}\\rightarrow\\mathcal{H}\\subseteq\\mathbb{R}^m\\,,$ con $m>n$ ed $\\mathcal{H}$ spazio di Hilbert, tale che $\\langle\\phi_i,\\phi_j\\rangle_{\\mathcal{H}} = k(x_i,x_j)$. Il teorema di Moore assicura l'esistenza e l'unicità di questi Kernel. Nel seguito vengono elencati i principali Kernel utilizzzati nelle applicazioni:    \n",
    "- Kernel Lineare: è il kernel corrispondente al caso in cui $\\phi$ sia l'identità (cioè è il kernel delle SVM lineari).\n",
    "$\\begin{equation}\n",
    "\\langle \\phi_i, \\phi_j\\rangle_{\\mathcal{H}} = \\langle x_i, x_j\\rangle_{\\mathcal{X}}\\,,\n",
    "\\end{equation}$  \n",
    "- Kernel Polinomiale: è un kernel caratterizzato da un'espressione di tipo polinomiale.\n",
    "$\\begin{equation}\n",
    "\\langle \\phi_i, \\phi_j\\rangle_{\\mathcal{H}} = \\left(\\gamma \\, \\langle x_i, x_j\\rangle_{\\mathcal{X}} + c_0 \\right)^d\\,;\n",
    "\\end{equation}$  \n",
    "- Radial Basis Function (RBF) Kernel: è un kernel caratterizzato da un'espressione di tipo esponenziale.\n",
    "$\\begin{equation}\n",
    "\\langle \\phi_i, \\phi_j\\rangle_{\\mathcal{H}} = e^{-\\gamma \\, \\langle x_i, x_j\\rangle_{\\mathcal{X}}^2}\\,;\n",
    "\\end{equation}$  \n",
    "- Kernel \"Sigmoidale\": è un kernel caratterizzato da un'espressione di tipo sigmoidale\n",
    "$\\begin{equation}\n",
    "\\langle \\phi_i, \\phi_j\\rangle_{\\mathcal{H}} = \\mathrm{tanh}\\left(\\gamma \\, \\langle x_i, x_j\\rangle_{\\mathcal{X}} + c_0 \\right)\\,;\n",
    "\\end{equation}$"
   ]
  },
  {
   "cell_type": "code",
   "execution_count": 25,
   "id": "clean-inspiration",
   "metadata": {
    "tags": []
   },
   "outputs": [],
   "source": [
    "test_svm = 0.5\n",
    "val_svm = 0.4\n",
    "indices = np.arange(X.shape[0])\n",
    "ind_train_svm, ind_test_svm = train_test_split(indices, test_size=test_svm, random_state=random_state, shuffle=True)\n",
    "ind_train_svm, ind_val_svm = train_test_split(ind_train_svm, test_size=val_svm, random_state=random_state, shuffle=True)\n",
    "\n",
    "Xtrain_svm=X.iloc[ind_train_svm,:]\n",
    "ytrain_svm= y.iloc[ind_train_svm]\n",
    "Xval_svm=X.iloc[ind_val_svm,:]\n",
    "yval_svm= y.iloc[ind_val_svm]\n",
    "Xtest_svm=X.iloc[ind_test_svm,:]\n",
    "ytest_svm= y.iloc[ind_test_svm]\n",
    "\n",
    "ros = RandomOverSampler(random_state=random_state)\n",
    "Xtrain_over_svm, ytrain_over_svm = ros.fit_resample(Xtrain_svm, ytrain_svm)\n",
    "Xval_over_svm, yval_over_svm = ros.fit_resample(Xval_svm, yval_svm)\n",
    "cc = ClusterCentroids(random_state=random_state)\n",
    "Xtrain_under_svm, ytrain_under_svm = cc.fit_resample(Xtrain_svm, ytrain_svm)\n",
    "Xval_under_svm, yval_under_svm = cc.fit_resample(Xval_svm, yval_svm)"
   ]
  },
  {
   "cell_type": "code",
   "execution_count": 26,
   "id": "composed-raise",
   "metadata": {
    "tags": []
   },
   "outputs": [
    {
     "data": {
      "text/html": [
       "<div>\n",
       "<style scoped>\n",
       "    .dataframe tbody tr th:only-of-type {\n",
       "        vertical-align: middle;\n",
       "    }\n",
       "\n",
       "    .dataframe tbody tr th {\n",
       "        vertical-align: top;\n",
       "    }\n",
       "\n",
       "    .dataframe thead th {\n",
       "        text-align: right;\n",
       "    }\n",
       "</style>\n",
       "<table border=\"1\" class=\"dataframe\">\n",
       "  <thead>\n",
       "    <tr style=\"text-align: right;\">\n",
       "      <th></th>\n",
       "      <th>train svm</th>\n",
       "      <th>test svm</th>\n",
       "    </tr>\n",
       "  </thead>\n",
       "  <tbody>\n",
       "    <tr>\n",
       "      <th>0</th>\n",
       "      <td>1989</td>\n",
       "      <td>3294</td>\n",
       "    </tr>\n",
       "    <tr>\n",
       "      <th>1</th>\n",
       "      <td>56</td>\n",
       "      <td>116</td>\n",
       "    </tr>\n",
       "  </tbody>\n",
       "</table>\n",
       "</div>"
      ],
      "text/plain": [
       "   train svm  test svm\n",
       "0       1989      3294\n",
       "1         56       116"
      ]
     },
     "metadata": {},
     "output_type": "display_data"
    },
    {
     "data": {
      "text/html": [
       "<div>\n",
       "<style scoped>\n",
       "    .dataframe tbody tr th:only-of-type {\n",
       "        vertical-align: middle;\n",
       "    }\n",
       "\n",
       "    .dataframe tbody tr th {\n",
       "        vertical-align: top;\n",
       "    }\n",
       "\n",
       "    .dataframe thead th {\n",
       "        text-align: right;\n",
       "    }\n",
       "</style>\n",
       "<table border=\"1\" class=\"dataframe\">\n",
       "  <thead>\n",
       "    <tr style=\"text-align: right;\">\n",
       "      <th></th>\n",
       "      <th>train over svm</th>\n",
       "      <th>train under svm</th>\n",
       "      <th>val over svm</th>\n",
       "      <th>val under svm</th>\n",
       "      <th>test svm</th>\n",
       "    </tr>\n",
       "  </thead>\n",
       "  <tbody>\n",
       "    <tr>\n",
       "      <th>0</th>\n",
       "      <td>1989</td>\n",
       "      <td>56</td>\n",
       "      <td>1316</td>\n",
       "      <td>48</td>\n",
       "      <td>3294</td>\n",
       "    </tr>\n",
       "    <tr>\n",
       "      <th>1</th>\n",
       "      <td>1989</td>\n",
       "      <td>56</td>\n",
       "      <td>1316</td>\n",
       "      <td>48</td>\n",
       "      <td>116</td>\n",
       "    </tr>\n",
       "  </tbody>\n",
       "</table>\n",
       "</div>"
      ],
      "text/plain": [
       "   train over svm  train under svm  val over svm  val under svm  test svm\n",
       "0            1989               56          1316             48      3294\n",
       "1            1989               56          1316             48       116"
      ]
     },
     "metadata": {},
     "output_type": "display_data"
    }
   ],
   "source": [
    "info_svm1=pd.DataFrame({'train svm':[list(ytrain_svm).count(0),list(ytrain_svm).count(1)],\n",
    "                  'test svm':[list(ytest_svm).count(0),list(ytest_svm).count(1)]})\n",
    "info_svm2=pd.DataFrame({'train over svm':[list(ytrain_over_svm).count(0),list(ytrain_over_svm).count(1)],\n",
    "                  'train under svm':[list(ytrain_under_svm).count(0),list(ytrain_svm).count(1)],\n",
    "                  'val over svm':[list(yval_over_svm).count(0),list(yval_over_svm).count(1)],\n",
    "                  'val under svm':[list(yval_under_svm).count(0),list(yval_svm).count(1)],\n",
    "                  'test svm':[list(ytest_svm).count(0),list(ytest_svm).count(1)]})\n",
    "display(info_svm1)\n",
    "display(info_svm2)"
   ]
  },
  {
   "cell_type": "markdown",
   "id": "scientific-charleston",
   "metadata": {
    "tags": []
   },
   "source": [
    "Prima di applicare le SVM scegliamo di ridividere il data set secondo le seguenti proporzioni: training set 30%, validation set 20% e test set 50%. Le percentuali sono da intendere come frazione dell'intero data set. Nella ricerca a griglia degli iper-parametri ottimali per un generico problema risulta utile dividere il dataset non in due, ma in tre sottoinsiemi: training set, validation set e test set. Il validation set serve da pre-test set. Viene utilizzato ad esempio per la ricerca dei migliori iper-parametri, generalmente misurando le performance di modelli addestrati sul training set per avere una sottostima delle possibili performance finali sul test set. Normalmente il validation set è il sottoinsieme di dimensione più piccola, per questo motivo le performance sono una sottostima di quelle che si dovrebbero avere nel test set.  \n",
    "Per cercare la miglior combinazione di iperparametri per un modello, si effettua una ricerca a griglia. Dato un intervallo discreto di valori $I_h$ per ogni iperparametro $p_h$, $h=1,\\ldots , H$, si considera la griglia di punti generata dal prodotto cartesiano degli intervalli, cioè $G = I_1 \\times \\cdots \\times I_H\\,.$ Ogni punto di $G$ rappresenta una possibile combinazione degli iper-parametri del modello. In totale si considerano quindi i $K=|G|$ modelli caratterizzati dalle $K$ combinazioni di iper-parametri differenti e si cerca quello con le migliori performance sul validation set."
   ]
  },
  {
   "cell_type": "code",
   "execution_count": 27,
   "id": "sealed-medication",
   "metadata": {
    "tags": []
   },
   "outputs": [
    {
     "data": {
      "text/plain": [
       "GridSearchCV(cv=<zip object at 0x000001D86DA47900>,\n",
       "             estimator=SVC(class_weight='balanced'),\n",
       "             param_grid={'C': [1, 2, 3, 4, 5],\n",
       "                         'kernel': ['rbf', 'poly', 'sigmoid']},\n",
       "             return_train_score=True, scoring='f1_weighted')"
      ]
     },
     "execution_count": 27,
     "metadata": {},
     "output_type": "execute_result"
    }
   ],
   "source": [
    "C_list = [i for i in range(1,6)]\n",
    "kernel_list =['rbf','poly','sigmoid']\n",
    "gamma_list = ['scale','auto']\n",
    "hparameters = {'C': C_list, 'kernel': kernel_list}\n",
    "svm = SVC(class_weight='balanced')\n",
    "svm_gs = GridSearchCV(estimator=svm,\n",
    "                      param_grid=hparameters, \n",
    "                      scoring='f1_weighted',\n",
    "                      return_train_score=True,\n",
    "                      cv=zip([ind_train_svm], [ind_val_svm]))\n",
    "svm_gs.fit(X, y)"
   ]
  },
  {
   "cell_type": "markdown",
   "id": "narrow-walter",
   "metadata": {
    "tags": []
   },
   "source": [
    "D'ora in avanti tutte le analisi verranno fatte sulla miglior SVM trovata dalla GridSearchCV.  "
   ]
  },
  {
   "cell_type": "code",
   "execution_count": 28,
   "id": "bizarre-personality",
   "metadata": {
    "tags": []
   },
   "outputs": [
    {
     "name": "stdout",
     "output_type": "stream",
     "text": [
      "\n",
      "Performance SVM senza PCA random oversampling\n",
      "\n"
     ]
    },
    {
     "data": {
      "text/html": [
       "<div>\n",
       "<style scoped>\n",
       "    .dataframe tbody tr th:only-of-type {\n",
       "        vertical-align: middle;\n",
       "    }\n",
       "\n",
       "    .dataframe tbody tr th {\n",
       "        vertical-align: top;\n",
       "    }\n",
       "\n",
       "    .dataframe thead th {\n",
       "        text-align: right;\n",
       "    }\n",
       "</style>\n",
       "<table border=\"1\" class=\"dataframe\">\n",
       "  <thead>\n",
       "    <tr style=\"text-align: right;\">\n",
       "      <th></th>\n",
       "      <th>acc</th>\n",
       "      <th>prec</th>\n",
       "      <th>rec</th>\n",
       "      <th>f1</th>\n",
       "    </tr>\n",
       "  </thead>\n",
       "  <tbody>\n",
       "    <tr>\n",
       "      <th>train svm no pca over</th>\n",
       "      <td>0.908245</td>\n",
       "      <td>0.910938</td>\n",
       "      <td>0.908245</td>\n",
       "      <td>0.908095</td>\n",
       "    </tr>\n",
       "    <tr>\n",
       "      <th>val svm no pca over</th>\n",
       "      <td>0.516717</td>\n",
       "      <td>0.530018</td>\n",
       "      <td>0.516717</td>\n",
       "      <td>0.456513</td>\n",
       "    </tr>\n",
       "    <tr>\n",
       "      <th>test svm no pca over</th>\n",
       "      <td>0.824340</td>\n",
       "      <td>0.942613</td>\n",
       "      <td>0.824340</td>\n",
       "      <td>0.875767</td>\n",
       "    </tr>\n",
       "  </tbody>\n",
       "</table>\n",
       "</div>"
      ],
      "text/plain": [
       "                            acc      prec       rec        f1\n",
       "train svm no pca over  0.908245  0.910938  0.908245  0.908095\n",
       "val svm no pca over    0.516717  0.530018  0.516717  0.456513\n",
       "test svm no pca over   0.824340  0.942613  0.824340  0.875767"
      ]
     },
     "metadata": {},
     "output_type": "display_data"
    },
    {
     "name": "stdout",
     "output_type": "stream",
     "text": [
      "\n",
      "Confusion matrix SVM senza PCA random oversampling\n",
      "\n"
     ]
    },
    {
     "data": {
      "text/html": [
       "<div>\n",
       "<style scoped>\n",
       "    .dataframe tbody tr th:only-of-type {\n",
       "        vertical-align: middle;\n",
       "    }\n",
       "\n",
       "    .dataframe tbody tr th {\n",
       "        vertical-align: top;\n",
       "    }\n",
       "\n",
       "    .dataframe thead th {\n",
       "        text-align: right;\n",
       "    }\n",
       "</style>\n",
       "<table border=\"1\" class=\"dataframe\">\n",
       "  <thead>\n",
       "    <tr style=\"text-align: right;\">\n",
       "      <th></th>\n",
       "      <th>no bancarotta</th>\n",
       "      <th>bancarotta</th>\n",
       "    </tr>\n",
       "  </thead>\n",
       "  <tbody>\n",
       "    <tr>\n",
       "      <th>no bancarotta</th>\n",
       "      <td>2771</td>\n",
       "      <td>523</td>\n",
       "    </tr>\n",
       "    <tr>\n",
       "      <th>bancarotta</th>\n",
       "      <td>76</td>\n",
       "      <td>40</td>\n",
       "    </tr>\n",
       "  </tbody>\n",
       "</table>\n",
       "</div>"
      ],
      "text/plain": [
       "               no bancarotta  bancarotta\n",
       "no bancarotta           2771         523\n",
       "bancarotta                76          40"
      ]
     },
     "metadata": {},
     "output_type": "display_data"
    }
   ],
   "source": [
    "svm_gs.best_estimator_.fit(Xtrain_over_svm, ytrain_over_svm) \n",
    "\n",
    "y_pred_traino = svm_gs.best_estimator_.predict(Xtrain_over_svm)\n",
    "y_true_traino = ytrain_over_svm\n",
    "y_pred_testo = svm_gs.best_estimator_.predict(Xtest_svm)\n",
    "y_true_testo = ytest_svm\n",
    "y_pred_valo = svm_gs.best_estimator_.predict(Xval_over_svm)\n",
    "y_true_valo = yval_over_svm\n",
    "\n",
    "acc_traino = svm_gs.best_estimator_.score(Xtrain_over_svm, y_true_traino)\n",
    "prec_traino = precision_score(y_true_traino,y_pred_traino, average='weighted')\n",
    "rec_traino = recall_score(y_true_traino,y_pred_traino, average='weighted')\n",
    "f1_traino = f1_score(y_true_traino,y_pred_traino, average='weighted')\n",
    "acc_valo = svm_gs.best_estimator_.score(Xval_over_svm, y_true_valo)\n",
    "prec_valo = precision_score(y_true_valo,y_pred_valo, average='weighted')\n",
    "rec_valo = recall_score(y_true_valo,y_pred_valo, average='weighted')\n",
    "f1_valo = f1_score(y_true_valo,y_pred_valo, average='weighted')\n",
    "acc_testo = svm_gs.best_estimator_.score(Xtest_svm,y_true_testo)\n",
    "prec_testo = precision_score(y_true_testo,y_pred_testo, average='weighted')\n",
    "rec_testo = recall_score(y_true_testo,y_pred_testo, average='weighted')\n",
    "f1_testo = f1_score(y_true_testo,y_pred_testo, average='weighted')\n",
    "\n",
    "df_perf_svmo = pd.DataFrame({'acc': [acc_traino, acc_valo, acc_testo], \n",
    "                        'prec': [prec_traino, prec_valo, prec_testo], \n",
    "                        'rec': [rec_traino, rec_valo, rec_testo],\n",
    "                        'f1': [f1_traino, f1_valo, f1_testo]\n",
    "                       },\n",
    "                      index=['train svm no pca over', 'val svm no pca over', 'test svm no pca over'])\n",
    "cmat_svmo = confusion_matrix(y_true_testo,y_pred_testo)\n",
    "df_cmat_svmo = pd.DataFrame(cmat_svmo, columns=['no bancarotta','bancarotta'], \n",
    "                            index=['no bancarotta','bancarotta'])\n",
    "\n",
    "print('')\n",
    "print('Performance SVM senza PCA random oversampling')\n",
    "print('')\n",
    "display(df_perf_svmo)\n",
    "print('')\n",
    "print('Confusion matrix SVM senza PCA random oversampling')\n",
    "print('')\n",
    "display(df_cmat_svmo)"
   ]
  },
  {
   "cell_type": "code",
   "execution_count": 29,
   "id": "limiting-entrepreneur",
   "metadata": {
    "tags": []
   },
   "outputs": [
    {
     "name": "stdout",
     "output_type": "stream",
     "text": [
      "\n",
      "Performance SVM con PCA radom oversampling\n",
      "\n"
     ]
    },
    {
     "data": {
      "text/html": [
       "<div>\n",
       "<style scoped>\n",
       "    .dataframe tbody tr th:only-of-type {\n",
       "        vertical-align: middle;\n",
       "    }\n",
       "\n",
       "    .dataframe tbody tr th {\n",
       "        vertical-align: top;\n",
       "    }\n",
       "\n",
       "    .dataframe thead th {\n",
       "        text-align: right;\n",
       "    }\n",
       "</style>\n",
       "<table border=\"1\" class=\"dataframe\">\n",
       "  <thead>\n",
       "    <tr style=\"text-align: right;\">\n",
       "      <th></th>\n",
       "      <th>acc</th>\n",
       "      <th>prec</th>\n",
       "      <th>rec</th>\n",
       "      <th>f1</th>\n",
       "    </tr>\n",
       "  </thead>\n",
       "  <tbody>\n",
       "    <tr>\n",
       "      <th>train svm over pca</th>\n",
       "      <td>0.976370</td>\n",
       "      <td>0.977436</td>\n",
       "      <td>0.976370</td>\n",
       "      <td>0.976357</td>\n",
       "    </tr>\n",
       "    <tr>\n",
       "      <th>val svm over pca</th>\n",
       "      <td>0.716185</td>\n",
       "      <td>0.769425</td>\n",
       "      <td>0.716185</td>\n",
       "      <td>0.701436</td>\n",
       "    </tr>\n",
       "    <tr>\n",
       "      <th>test svm over pca</th>\n",
       "      <td>0.754252</td>\n",
       "      <td>0.954507</td>\n",
       "      <td>0.754252</td>\n",
       "      <td>0.832376</td>\n",
       "    </tr>\n",
       "  </tbody>\n",
       "</table>\n",
       "</div>"
      ],
      "text/plain": [
       "                         acc      prec       rec        f1\n",
       "train svm over pca  0.976370  0.977436  0.976370  0.976357\n",
       "val svm over pca    0.716185  0.769425  0.716185  0.701436\n",
       "test svm over pca   0.754252  0.954507  0.754252  0.832376"
      ]
     },
     "metadata": {},
     "output_type": "display_data"
    },
    {
     "name": "stdout",
     "output_type": "stream",
     "text": [
      "\n",
      "Confusion matrix SVM con PCA random oversampling\n",
      "\n"
     ]
    },
    {
     "data": {
      "text/html": [
       "<div>\n",
       "<style scoped>\n",
       "    .dataframe tbody tr th:only-of-type {\n",
       "        vertical-align: middle;\n",
       "    }\n",
       "\n",
       "    .dataframe tbody tr th {\n",
       "        vertical-align: top;\n",
       "    }\n",
       "\n",
       "    .dataframe thead th {\n",
       "        text-align: right;\n",
       "    }\n",
       "</style>\n",
       "<table border=\"1\" class=\"dataframe\">\n",
       "  <thead>\n",
       "    <tr style=\"text-align: right;\">\n",
       "      <th></th>\n",
       "      <th>no bancarotta</th>\n",
       "      <th>bancarotta</th>\n",
       "    </tr>\n",
       "  </thead>\n",
       "  <tbody>\n",
       "    <tr>\n",
       "      <th>no bancarotta</th>\n",
       "      <td>2494</td>\n",
       "      <td>800</td>\n",
       "    </tr>\n",
       "    <tr>\n",
       "      <th>bancarotta</th>\n",
       "      <td>38</td>\n",
       "      <td>78</td>\n",
       "    </tr>\n",
       "  </tbody>\n",
       "</table>\n",
       "</div>"
      ],
      "text/plain": [
       "               no bancarotta  bancarotta\n",
       "no bancarotta           2494         800\n",
       "bancarotta                38          78"
      ]
     },
     "metadata": {},
     "output_type": "display_data"
    }
   ],
   "source": [
    "scaler_svm_over=StandardScaler()\n",
    "scaler_svm_over.fit(Xtrain_over_svm)\n",
    "Xtrain_over_svm_scaled=scaler_svm_over.transform(Xtrain_over_svm)\n",
    "scaler_svm_val=StandardScaler()\n",
    "scaler_svm_val.fit(Xval_over_svm)\n",
    "Xval_over_svm_scaled=scaler_svm_val.transform(Xval_over_svm)\n",
    "scaler_svm_test=StandardScaler()\n",
    "scaler_svm_test.fit(Xtest_svm)\n",
    "Xtest_svm_scaled=scaler_svm_test.transform(Xtest_svm)\n",
    "\n",
    "pca_svm_over=PCA(0.9)\n",
    "pca_svm_over.fit(Xtrain_over_svm_scaled)\n",
    "svm_gs.best_estimator_.fit(pca_svm_over.transform(Xtrain_over_svm_scaled), ytrain_over_svm) \n",
    "\n",
    "y_pred_trainop = svm_gs.best_estimator_.predict(pca_svm_over.transform(Xtrain_over_svm_scaled))\n",
    "y_true_trainop = ytrain_over_svm\n",
    "y_pred_testop = svm_gs.best_estimator_.predict(pca_svm_over.transform(Xtest_svm_scaled))\n",
    "y_true_testop = ytest_svm\n",
    "y_pred_valop = svm_gs.best_estimator_.predict(pca_svm_over.transform(Xval_over_svm_scaled))\n",
    "y_true_valop = yval_over_svm\n",
    "\n",
    "acc_trainop = svm_gs.best_estimator_.score(pca_svm_over.transform(Xtrain_over_svm_scaled), y_true_trainop)\n",
    "prec_trainop = precision_score(y_true_trainop,y_pred_trainop, average='weighted')\n",
    "rec_trainop = recall_score(y_true_trainop,y_pred_trainop, average='weighted')\n",
    "f1_trainop = f1_score(y_true_trainop,y_pred_trainop, average='weighted')\n",
    "acc_valop = svm_gs.best_estimator_.score(pca_svm_over.transform(Xval_over_svm_scaled), y_true_valop)\n",
    "prec_valop = precision_score(y_true_valop,y_pred_valop, average='weighted')\n",
    "rec_valop = recall_score(y_true_valop,y_pred_valop, average='weighted')\n",
    "f1_valop = f1_score(y_true_valop,y_pred_valop, average='weighted')\n",
    "acc_testop = svm_gs.best_estimator_.score(pca_svm_over.transform(Xtest_svm_scaled),y_true_testop)\n",
    "prec_testop = precision_score(y_true_testop,y_pred_testop, average='weighted')\n",
    "rec_testop = recall_score(y_true_testop,y_pred_testop, average='weighted')\n",
    "f1_testop = f1_score(y_true_testop,y_pred_testop, average='weighted')\n",
    "\n",
    "df_perf_svmop = pd.DataFrame({'acc': [acc_trainop, acc_valop, acc_testop], \n",
    "                        'prec': [prec_trainop, prec_valop, prec_testop], \n",
    "                        'rec': [rec_trainop, rec_valop, rec_testop],\n",
    "                        'f1': [f1_trainop, f1_valop, f1_testop]\n",
    "                       },\n",
    "                      index=['train svm over pca', 'val svm over pca', 'test svm over pca'])\n",
    "cmat_svmop = confusion_matrix(y_true_testop,y_pred_testop)\n",
    "df_cmat_svmop = pd.DataFrame(cmat_svmop, columns=['no bancarotta','bancarotta'], \n",
    "                             index=['no bancarotta','bancarotta'])\n",
    "\n",
    "print('')\n",
    "print('Performance SVM con PCA radom oversampling')\n",
    "print('')\n",
    "display(df_perf_svmop)\n",
    "print('')\n",
    "print('Confusion matrix SVM con PCA random oversampling')\n",
    "print('')\n",
    "display(df_cmat_svmop)"
   ]
  },
  {
   "cell_type": "markdown",
   "id": "touched-efficiency",
   "metadata": {
    "tags": []
   },
   "source": [
    "I risultati ottenuti evidenziano che non esite una SVM (con o senza pca) nettamente migliore dell'altra. La scelta del modello migliore si baserà anche su quanta accuratezza si vuole avere nel predirre la classe bancarotta come tale. I misclassification rate dell'SVM random oversampling senza e con PCA sono rispettivamente 17% e 24%."
   ]
  },
  {
   "cell_type": "markdown",
   "id": "engaging-abraham",
   "metadata": {
    "tags": []
   },
   "source": [
    "## SVM random undersampling"
   ]
  },
  {
   "cell_type": "code",
   "execution_count": 30,
   "id": "pressed-jacob",
   "metadata": {
    "tags": []
   },
   "outputs": [
    {
     "name": "stdout",
     "output_type": "stream",
     "text": [
      "\n",
      "Performance SVM senza PCA random undersampling\n",
      "\n"
     ]
    },
    {
     "data": {
      "text/html": [
       "<div>\n",
       "<style scoped>\n",
       "    .dataframe tbody tr th:only-of-type {\n",
       "        vertical-align: middle;\n",
       "    }\n",
       "\n",
       "    .dataframe tbody tr th {\n",
       "        vertical-align: top;\n",
       "    }\n",
       "\n",
       "    .dataframe thead th {\n",
       "        text-align: right;\n",
       "    }\n",
       "</style>\n",
       "<table border=\"1\" class=\"dataframe\">\n",
       "  <thead>\n",
       "    <tr style=\"text-align: right;\">\n",
       "      <th></th>\n",
       "      <th>acc</th>\n",
       "      <th>prec</th>\n",
       "      <th>rec</th>\n",
       "      <th>f1</th>\n",
       "    </tr>\n",
       "  </thead>\n",
       "  <tbody>\n",
       "    <tr>\n",
       "      <th>train svm no pca under</th>\n",
       "      <td>0.785714</td>\n",
       "      <td>0.789032</td>\n",
       "      <td>0.785714</td>\n",
       "      <td>0.785098</td>\n",
       "    </tr>\n",
       "    <tr>\n",
       "      <th>val svm no pca under</th>\n",
       "      <td>0.562500</td>\n",
       "      <td>0.565336</td>\n",
       "      <td>0.562500</td>\n",
       "      <td>0.557701</td>\n",
       "    </tr>\n",
       "    <tr>\n",
       "      <th>test svm no pca under</th>\n",
       "      <td>0.537830</td>\n",
       "      <td>0.935150</td>\n",
       "      <td>0.537830</td>\n",
       "      <td>0.671671</td>\n",
       "    </tr>\n",
       "  </tbody>\n",
       "</table>\n",
       "</div>"
      ],
      "text/plain": [
       "                             acc      prec       rec        f1\n",
       "train svm no pca under  0.785714  0.789032  0.785714  0.785098\n",
       "val svm no pca under    0.562500  0.565336  0.562500  0.557701\n",
       "test svm no pca under   0.537830  0.935150  0.537830  0.671671"
      ]
     },
     "metadata": {},
     "output_type": "display_data"
    },
    {
     "name": "stdout",
     "output_type": "stream",
     "text": [
      "\n",
      "Confusion matrix SVM senza PCA random undersampling\n",
      "\n"
     ]
    },
    {
     "data": {
      "text/html": [
       "<div>\n",
       "<style scoped>\n",
       "    .dataframe tbody tr th:only-of-type {\n",
       "        vertical-align: middle;\n",
       "    }\n",
       "\n",
       "    .dataframe tbody tr th {\n",
       "        vertical-align: top;\n",
       "    }\n",
       "\n",
       "    .dataframe thead th {\n",
       "        text-align: right;\n",
       "    }\n",
       "</style>\n",
       "<table border=\"1\" class=\"dataframe\">\n",
       "  <thead>\n",
       "    <tr style=\"text-align: right;\">\n",
       "      <th></th>\n",
       "      <th>no bancarotta</th>\n",
       "      <th>bancarotta</th>\n",
       "    </tr>\n",
       "  </thead>\n",
       "  <tbody>\n",
       "    <tr>\n",
       "      <th>no bancarotta</th>\n",
       "      <td>1779</td>\n",
       "      <td>1515</td>\n",
       "    </tr>\n",
       "    <tr>\n",
       "      <th>bancarotta</th>\n",
       "      <td>61</td>\n",
       "      <td>55</td>\n",
       "    </tr>\n",
       "  </tbody>\n",
       "</table>\n",
       "</div>"
      ],
      "text/plain": [
       "               no bancarotta  bancarotta\n",
       "no bancarotta           1779        1515\n",
       "bancarotta                61          55"
      ]
     },
     "metadata": {},
     "output_type": "display_data"
    }
   ],
   "source": [
    "svm_gs.best_estimator_.fit(Xtrain_under_svm, ytrain_under_svm) \n",
    "\n",
    "y_pred_trainu = svm_gs.best_estimator_.predict(Xtrain_under_svm)\n",
    "y_true_trainu = ytrain_under_svm\n",
    "y_pred_testu = svm_gs.best_estimator_.predict(Xtest_svm)\n",
    "y_true_testu = ytest_svm\n",
    "y_pred_valu = svm_gs.best_estimator_.predict(Xval_under_svm)\n",
    "y_true_valu = yval_under_svm\n",
    "\n",
    "acc_trainu = svm_gs.best_estimator_.score(Xtrain_under_svm, y_true_trainu)\n",
    "prec_trainu = precision_score(y_true_trainu,y_pred_trainu, average='weighted')\n",
    "rec_trainu = recall_score(y_true_trainu,y_pred_trainu, average='weighted')\n",
    "f1_trainu = f1_score(y_true_trainu,y_pred_trainu, average='weighted')\n",
    "acc_valu = svm_gs.best_estimator_.score(Xval_under_svm, y_true_valu)\n",
    "prec_valu = precision_score(y_true_valu,y_pred_valu, average='weighted')\n",
    "rec_valu = recall_score(y_true_valu,y_pred_valu, average='weighted')\n",
    "f1_valu = f1_score(y_true_valu,y_pred_valu, average='weighted')\n",
    "acc_testu = svm_gs.best_estimator_.score(Xtest_svm,y_true_testu)\n",
    "prec_testu = precision_score(y_true_testu,y_pred_testu, average='weighted')\n",
    "rec_testu = recall_score(y_true_testu,y_pred_testu, average='weighted')\n",
    "f1_testu = f1_score(y_true_testu,y_pred_testu, average='weighted')\n",
    "\n",
    "df_perf_svmu = pd.DataFrame({'acc': [acc_trainu, acc_valu, acc_testu], \n",
    "                        'prec': [prec_trainu, prec_valu, prec_testu], \n",
    "                        'rec': [rec_trainu, rec_valu, rec_testu],\n",
    "                        'f1': [f1_trainu, f1_valu, f1_testu]\n",
    "                       },\n",
    "                      index=['train svm no pca under', 'val svm no pca under', 'test svm no pca under'])\n",
    "cmat_svmu = confusion_matrix(y_true_testu,y_pred_testu)\n",
    "df_cmat_svmu = pd.DataFrame(cmat_svmu, columns=['no bancarotta','bancarotta'], \n",
    "                            index=['no bancarotta','bancarotta'])\n",
    "\n",
    "print('')\n",
    "print('Performance SVM senza PCA random undersampling')\n",
    "print('')\n",
    "display(df_perf_svmu)\n",
    "print('')\n",
    "print('Confusion matrix SVM senza PCA random undersampling')\n",
    "print('')\n",
    "display(df_cmat_svmu)"
   ]
  },
  {
   "cell_type": "code",
   "execution_count": 31,
   "id": "successful-prescription",
   "metadata": {
    "tags": []
   },
   "outputs": [
    {
     "name": "stdout",
     "output_type": "stream",
     "text": [
      "\n",
      "Performance SVM con PCA random undersampling\n",
      "\n"
     ]
    },
    {
     "data": {
      "text/html": [
       "<div>\n",
       "<style scoped>\n",
       "    .dataframe tbody tr th:only-of-type {\n",
       "        vertical-align: middle;\n",
       "    }\n",
       "\n",
       "    .dataframe tbody tr th {\n",
       "        vertical-align: top;\n",
       "    }\n",
       "\n",
       "    .dataframe thead th {\n",
       "        text-align: right;\n",
       "    }\n",
       "</style>\n",
       "<table border=\"1\" class=\"dataframe\">\n",
       "  <thead>\n",
       "    <tr style=\"text-align: right;\">\n",
       "      <th></th>\n",
       "      <th>acc</th>\n",
       "      <th>prec</th>\n",
       "      <th>rec</th>\n",
       "      <th>f1</th>\n",
       "    </tr>\n",
       "  </thead>\n",
       "  <tbody>\n",
       "    <tr>\n",
       "      <th>train svm under pca</th>\n",
       "      <td>0.991071</td>\n",
       "      <td>0.991228</td>\n",
       "      <td>0.991071</td>\n",
       "      <td>0.991071</td>\n",
       "    </tr>\n",
       "    <tr>\n",
       "      <th>val svm under pca</th>\n",
       "      <td>0.947917</td>\n",
       "      <td>0.952830</td>\n",
       "      <td>0.947917</td>\n",
       "      <td>0.947775</td>\n",
       "    </tr>\n",
       "    <tr>\n",
       "      <th>test svm under pca</th>\n",
       "      <td>0.416129</td>\n",
       "      <td>0.966348</td>\n",
       "      <td>0.416129</td>\n",
       "      <td>0.551466</td>\n",
       "    </tr>\n",
       "  </tbody>\n",
       "</table>\n",
       "</div>"
      ],
      "text/plain": [
       "                          acc      prec       rec        f1\n",
       "train svm under pca  0.991071  0.991228  0.991071  0.991071\n",
       "val svm under pca    0.947917  0.952830  0.947917  0.947775\n",
       "test svm under pca   0.416129  0.966348  0.416129  0.551466"
      ]
     },
     "metadata": {},
     "output_type": "display_data"
    },
    {
     "name": "stdout",
     "output_type": "stream",
     "text": [
      "\n",
      "Confusion matrix SVM con PCA random undersampling\n",
      "\n"
     ]
    },
    {
     "data": {
      "text/html": [
       "<div>\n",
       "<style scoped>\n",
       "    .dataframe tbody tr th:only-of-type {\n",
       "        vertical-align: middle;\n",
       "    }\n",
       "\n",
       "    .dataframe tbody tr th {\n",
       "        vertical-align: top;\n",
       "    }\n",
       "\n",
       "    .dataframe thead th {\n",
       "        text-align: right;\n",
       "    }\n",
       "</style>\n",
       "<table border=\"1\" class=\"dataframe\">\n",
       "  <thead>\n",
       "    <tr style=\"text-align: right;\">\n",
       "      <th></th>\n",
       "      <th>no bancarotta</th>\n",
       "      <th>bancarotta</th>\n",
       "    </tr>\n",
       "  </thead>\n",
       "  <tbody>\n",
       "    <tr>\n",
       "      <th>no bancarotta</th>\n",
       "      <td>1305</td>\n",
       "      <td>1989</td>\n",
       "    </tr>\n",
       "    <tr>\n",
       "      <th>bancarotta</th>\n",
       "      <td>2</td>\n",
       "      <td>114</td>\n",
       "    </tr>\n",
       "  </tbody>\n",
       "</table>\n",
       "</div>"
      ],
      "text/plain": [
       "               no bancarotta  bancarotta\n",
       "no bancarotta           1305        1989\n",
       "bancarotta                 2         114"
      ]
     },
     "metadata": {},
     "output_type": "display_data"
    }
   ],
   "source": [
    "scaler_svm_under=StandardScaler()\n",
    "scaler_svm_under.fit(Xtrain_under_svm)\n",
    "Xtrain_under_svm_scaled=scaler_svm_under.transform(Xtrain_under_svm)\n",
    "scaler_svm_val_under=StandardScaler()\n",
    "scaler_svm_val_under.fit(Xval_under_svm)\n",
    "Xval_under_svm_scaled=scaler_svm_val.transform(Xval_under_svm)\n",
    "scaler_svm_test_under=StandardScaler()\n",
    "\n",
    "pca_svm_under=PCA(0.9)\n",
    "pca_svm_under.fit(Xtrain_under_svm_scaled)\n",
    "svm_gs.best_estimator_.fit(pca_svm_under.transform(Xtrain_under_svm_scaled), ytrain_under_svm) \n",
    "\n",
    "y_pred_trainup = svm_gs.best_estimator_.predict(pca_svm_under.transform(Xtrain_under_svm_scaled))\n",
    "y_true_trainup = ytrain_under_svm\n",
    "y_pred_testup = svm_gs.best_estimator_.predict(pca_svm_under.transform(Xtest_svm_scaled))\n",
    "y_true_testup = ytest_svm\n",
    "y_pred_valup = svm_gs.best_estimator_.predict(pca_svm_under.transform(Xval_under_svm_scaled))\n",
    "y_true_valup = yval_under_svm\n",
    "\n",
    "acc_trainup = svm_gs.best_estimator_.score(pca_svm_under.transform(Xtrain_under_svm_scaled), y_true_trainup)\n",
    "prec_trainup = precision_score(y_true_trainup,y_pred_trainup, average='weighted')\n",
    "rec_trainup = recall_score(y_true_trainup,y_pred_trainup, average='weighted')\n",
    "f1_trainup = f1_score(y_true_trainup,y_pred_trainup, average='weighted')\n",
    "acc_valup = svm_gs.best_estimator_.score(pca_svm_under.transform(Xval_under_svm_scaled), y_true_valup)\n",
    "prec_valup = precision_score(y_true_valup,y_pred_valup, average='weighted')\n",
    "rec_valup = recall_score(y_true_valup,y_pred_valup, average='weighted')\n",
    "f1_valup = f1_score(y_true_valup,y_pred_valup, average='weighted')\n",
    "acc_testup = svm_gs.best_estimator_.score(pca_svm_under.transform(Xtest_svm_scaled),y_true_testup)\n",
    "prec_testup = precision_score(y_true_testup,y_pred_testup, average='weighted')\n",
    "rec_testup = recall_score(y_true_testup,y_pred_testup, average='weighted')\n",
    "f1_testup = f1_score(y_true_testup,y_pred_testup, average='weighted')\n",
    "\n",
    "df_perf_svmup = pd.DataFrame({'acc': [acc_trainup, acc_valup, acc_testup], \n",
    "                        'prec': [prec_trainup, prec_valup, prec_testup], \n",
    "                        'rec': [rec_trainup, rec_valup, rec_testup],\n",
    "                        'f1': [f1_trainup, f1_valup, f1_testup]\n",
    "                       },\n",
    "                      index=['train svm under pca', 'val svm under pca', 'test svm under pca'])\n",
    "cmat_svmup = confusion_matrix(y_true_testup,y_pred_testup)\n",
    "df_cmat_svmup = pd.DataFrame(cmat_svmup, columns=['no bancarotta','bancarotta'], \n",
    "                             index=['no bancarotta','bancarotta'])\n",
    "\n",
    "print('')\n",
    "print('Performance SVM con PCA random undersampling')\n",
    "print('')\n",
    "display(df_perf_svmup)\n",
    "print('')\n",
    "print('Confusion matrix SVM con PCA random undersampling')\n",
    "print('')\n",
    "display(df_cmat_svmup)"
   ]
  },
  {
   "cell_type": "markdown",
   "id": "unique-going",
   "metadata": {
    "tags": []
   },
   "source": [
    "Le SVM nel caso del random undersampling non presentano ottimi risultati. Questo era intuibile da come sono stati bilanciati i dati inizialmente. Infatti, i dati di training nel caso del random undersampling sono molto piccoli (#{1}=56, #{0}=56) e questo non permette alle SVM di addestrarsi correttamente nel riconoscimento delle classi. Non a caso i misclassification rate delle SVM random undersampling con e senza PCA risultano essere rispettivamente 58% e 46%, ossia circa metà delle predizioni sono errate."
   ]
  },
  {
   "cell_type": "markdown",
   "id": "initial-oriental",
   "metadata": {
    "tags": []
   },
   "source": [
    "## Multi-Layer Perceptron (MLP) random oversampling"
   ]
  },
  {
   "cell_type": "markdown",
   "id": "nasty-sound",
   "metadata": {
    "tags": []
   },
   "source": [
    "Gli MLP sono grafi multipartiti diretti. La loro struttura è composta da una serie di strati completamente connessi detti FC layers.  \n",
    "Un FC layer è un'applicazione $\\mathcal{L}:\\mathbb{R}^n\\rightarrow\\mathbb{R}^m$ tale che\n",
    "$\\begin{equation}\n",
    "\\mathcal{L}(x) := \\sigma\\left(W x + b\\right)\\,,\n",
    "\\end{equation} \\ $ dove: $\\ W\\in\\mathbb{R}^{m\\times n}$ è la matrice dei pesi, $\\ b\\in\\mathbb{R}^m$ è il vettore dei bias e $\\ \\sigma:\\mathbb{R}^m\\rightarrow\\mathbb{R}^m$ è una funzione vettoriale che applica elemento per elemento la funzione di attivazione $\\sigma:\\mathbb{R}\\rightarrow\\mathbb{R} \\ $ ($\\ \\sigma$ non necessariamente lineare). Un generico MLP quindi può essere rappresentato dalla funzione $F:\\mathbb{R}^n\\rightarrow \\mathbb{R}^m$ dove:  \n",
    "  \n",
    "  \n",
    "\\begin{equation}\n",
    "F(x) : \\mathbb{R}^n \\xrightarrow[]{\\mathcal{L}^{(1)}} \\mathbb{R}^{n_1} \\xrightarrow[]{\\mathcal{L}^{(2)}} \\cdots \\xrightarrow[]{\\mathcal{L}^{(H)}} \\mathbb{R}^{n_H}\\xrightarrow[]{\\mathcal{L}^{(H+1)}}\\mathbb{R}^m\n",
    "\\end{equation}  \n",
    "\n",
    "$$\\begin{equation}\n",
    "F(x) = \\sigma^{(H+1)}\\left( W^{(H+1)}\\sigma^{(H)}\\left(\\cdots \\left( W^{(2)}\\sigma^{(1)}\\left(W^{(1)}x + b^{(1)}\\right)+b^2\\right) \\cdots\\right)  + b^{(H+1)}\\right)\\,,\\quad \\forall \\ x\\in\\mathbb{R}^n\\,.\n",
    "\\end{equation}$$  \n",
    "$F(x)$ è una funzione parametrica con parametri $W^{(h)}$ e $b^{(h)}$. L'addestramento della MLP con una funzione parametrica $\\hat{F}_w$ ha come fine quello di far apprendere $F$  e quindi risolvere il problema $\\min_{w} \\mathrm{Loss}(w)$.  \n",
    "Esistono 3 approcci diversi a questo problema:  \n",
    "- approccio niente stocasticità: $\\begin{equation}\\mathrm{Loss}_{\\,\\mathcal{T}}(w):=\\sum_{i=1}^T |y_i - \\hat{F}(x_i)| \\ \\,,\n",
    "\\end{equation}$ dove $y_i=F(x)$. Viene quindi fissata una loss e dei pesi all'MLP, successivamente finchè non si raggiunge un criterio di arresto i pesi vengono aggiornati con un generico metodo di discesa del gradiente.\n",
    "- approccio stocasticità pura: $ \\begin{equation}\\mathrm{Loss}_{(x,y)}(w):= |y - \\hat{F}(x)| \\, \\end{equation}$. In questo caso la loss è parametrica per ogni coppia di valori nel training set. Dopo aver assegnato i pesi iniziali finchè non si raggiunge un criterio di arresto si mescolano le coppie e si aggiornano i pesi per ogni coppia con un generico metodo di discesa del gradiente.\n",
    "- metodo minibatch: $ \\begin{equation} \\mathrm{Loss}_{\\,\\mathcal{B}}(w):= \\sum_{(x, y)\\in\\mathcal{B}}|y - \\hat{F}(x)| \\, \\end{equation}$. Quest'ultimo è l'approccio più utilizzato perchè si definisce ancora una loss parametrica ma per un sottoinsieme $B$ estratto di punti e non per ogni coppia di punti del training set. Anche in questo caso dopo aver assegnato i pesi si fissa un numero $K\\in\\mathbb{N}$ di minibatch in cui dividere il training set e si procede analogamente agli altri metodi per ciascun minibatch.  \n",
    "\n",
    "Un generico metodo di discesa del gradiente viene definito nel seguente modo:\n",
    "$\\begin{equation}\n",
    "x_{k+1} = x_{k} - \\alpha_{k}\\nabla f(x_k)\\,, \\quad \\forall \\ k\\geq 0\\,,\n",
    "\\end{equation}$ dove $\\alpha_k\\in\\mathbb{R}^+$ è un fattore di moltiplicazione del passo di discesa e $-\\nabla f(x_k)$ è la direzione di più ripida discesa per $f$ nel punto $x_k$. Sotto opportune ipotesi per $f$ e nella scelta degli $\\{\\alpha_k\\}_{k\\in\\mathbb{N}}$ si ha che il metodo del gradiente converge al punto di minimo assoluto di $f$.   \n",
    "Nel caso dell'MLP vengono quindi definiti due parametri: l'epoca di addestramento e il learning rate $\\alpha$. Il primo fa riferimento al numero di volte che vengono riaggiornati i pesi con un generico metodo di discesa del gradiente. $\\alpha$ viene definito invece come il tasso di apprendimento, può variare da epoca a epoca e rappresenta il coefficiente per cui moltiplicare la direzione di massima discesa.   \n",
    "Infine, i principali criteri di arresto per una rete neurale possono essere fissare un numero massimo $e_{\\max}\\in\\mathbb{N}$ di epoche da eseguire oppure fissare una numero massimo $p\\in\\mathbb{N}$ di epoche di tolleranza rispetto al quale posso accettare che la loss sul validation set cresca invece di diminuire."
   ]
  },
  {
   "cell_type": "code",
   "execution_count": 32,
   "id": "judicial-sandwich",
   "metadata": {
    "tags": []
   },
   "outputs": [
    {
     "data": {
      "text/html": [
       "<div>\n",
       "<style scoped>\n",
       "    .dataframe tbody tr th:only-of-type {\n",
       "        vertical-align: middle;\n",
       "    }\n",
       "\n",
       "    .dataframe tbody tr th {\n",
       "        vertical-align: top;\n",
       "    }\n",
       "\n",
       "    .dataframe thead th {\n",
       "        text-align: right;\n",
       "    }\n",
       "</style>\n",
       "<table border=\"1\" class=\"dataframe\">\n",
       "  <thead>\n",
       "    <tr style=\"text-align: right;\">\n",
       "      <th></th>\n",
       "      <th>trainval mlp</th>\n",
       "      <th>trainval over mlp</th>\n",
       "      <th>trainval under mlp</th>\n",
       "      <th>test mlp</th>\n",
       "    </tr>\n",
       "  </thead>\n",
       "  <tbody>\n",
       "    <tr>\n",
       "      <th>0</th>\n",
       "      <td>3305</td>\n",
       "      <td>3305</td>\n",
       "      <td>104</td>\n",
       "      <td>3294</td>\n",
       "    </tr>\n",
       "    <tr>\n",
       "      <th>1</th>\n",
       "      <td>104</td>\n",
       "      <td>3305</td>\n",
       "      <td>104</td>\n",
       "      <td>116</td>\n",
       "    </tr>\n",
       "  </tbody>\n",
       "</table>\n",
       "</div>"
      ],
      "text/plain": [
       "   trainval mlp  trainval over mlp  trainval under mlp  test mlp\n",
       "0          3305               3305                 104      3294\n",
       "1           104               3305                 104       116"
      ]
     },
     "metadata": {},
     "output_type": "display_data"
    }
   ],
   "source": [
    "test_mlp = 0.5\n",
    "val_mlp = 0.4\n",
    "\n",
    "indices = np.arange(X.shape[0])\n",
    "ind_trainval_mlp, ind_test_mlp = train_test_split(indices, test_size=test_mlp, random_state=random_state, shuffle=True)\n",
    "\n",
    "Xtrainval_mlp=X.iloc[ind_trainval_mlp,:]\n",
    "ytrainval_mlp=y.iloc[ind_trainval_mlp]\n",
    "Xtest_mlp=X.iloc[ind_test_mlp,:]\n",
    "ytest_mlp= y.iloc[ind_test_mlp]\n",
    "\n",
    "ros = RandomOverSampler(random_state=random_state)\n",
    "Xtrainval_over_mlp, ytrainval_over_mlp = ros.fit_resample(Xtrainval_mlp, ytrainval_mlp)\n",
    "cc = ClusterCentroids(random_state=random_state)\n",
    "Xtrainval_under_mlp, ytrainval_under_mlp = cc.fit_resample(Xtrainval_mlp, ytrainval_mlp)\n",
    "\n",
    "info_mlp=pd.DataFrame({'trainval mlp':[list(ytrainval_mlp).count(0),list(ytrainval_mlp).count(1)],\n",
    "                  'trainval over mlp':[list(ytrainval_over_mlp).count(0),list(ytrainval_over_mlp).count(1)],\n",
    "                  'trainval under mlp':[list(ytrainval_under_mlp).count(0),list(ytrainval_under_mlp).count(1)],\n",
    "                  'test mlp':[list(ytest_mlp).count(0),list(ytest_mlp).count(1)]})\n",
    "display(info_mlp)"
   ]
  },
  {
   "cell_type": "markdown",
   "id": "other-topic",
   "metadata": {
    "tags": []
   },
   "source": [
    "Anche in questo caso vengono risuddivisi i diversi set di dati nello stesso modo, ossia training 30%, validation 20% e test 50%. Tuttavia, attraverso il nome trainval viene definito l'insieme dei dati che comprende sia il training che il validation set. Questa operazione è stata fatta dato che il validation set viene creato internamente dalla classe MLPClassifier. Successivamente, eseguiamo una ricerca a griglia dei migliori iperparametri riguardanti l'MLP. Le analisi che seguiranno verranno fatte sul miglior MLP trovato, analogamente a quanto fatto per le SVM."
   ]
  },
  {
   "cell_type": "code",
   "execution_count": 33,
   "id": "noted-nicaragua",
   "metadata": {
    "tags": []
   },
   "outputs": [
    {
     "data": {
      "text/plain": [
       "GridSearchCV(estimator=MLPClassifier(batch_size=4, early_stopping=True,\n",
       "                                     hidden_layer_sizes=[64],\n",
       "                                     n_iter_no_change=75, random_state=20210528,\n",
       "                                     validation_fraction=0.4),\n",
       "             param_grid={'activation': ['relu', 'logistic'],\n",
       "                         'max_iter': [500, 750, 1000]},\n",
       "             return_train_score=True, scoring='f1_weighted')"
      ]
     },
     "execution_count": 33,
     "metadata": {},
     "output_type": "execute_result"
    }
   ],
   "source": [
    "hidden_layer_sizes = [64]\n",
    "activation_list=['relu','logistic']\n",
    "patience=75\n",
    "max_epochs_list = [500,750,1000]\n",
    "verbose = False\n",
    "batch_sz = 4\n",
    "hparameters = {'max_iter': max_epochs_list,\n",
    "               'activation':activation_list}\n",
    "mlp = MLPClassifier(hidden_layer_sizes=hidden_layer_sizes,\n",
    "                    verbose=verbose,n_iter_no_change=patience,\n",
    "                    random_state=random_state, batch_size=batch_sz,\n",
    "                    validation_fraction=val_mlp,solver='adam',\n",
    "                    early_stopping=True)\n",
    "mlp_gs = GridSearchCV(estimator=mlp,\n",
    "                      param_grid=hparameters, \n",
    "                      scoring='f1_weighted',\n",
    "                      return_train_score=True)\n",
    "mlp_gs.fit(X, y)"
   ]
  },
  {
   "cell_type": "code",
   "execution_count": 34,
   "id": "deluxe-default",
   "metadata": {
    "tags": []
   },
   "outputs": [
    {
     "name": "stdout",
     "output_type": "stream",
     "text": [
      "\n",
      "Performance MLP senza PCA random oversampling\n",
      "\n"
     ]
    },
    {
     "data": {
      "text/html": [
       "<div>\n",
       "<style scoped>\n",
       "    .dataframe tbody tr th:only-of-type {\n",
       "        vertical-align: middle;\n",
       "    }\n",
       "\n",
       "    .dataframe tbody tr th {\n",
       "        vertical-align: top;\n",
       "    }\n",
       "\n",
       "    .dataframe thead th {\n",
       "        text-align: right;\n",
       "    }\n",
       "</style>\n",
       "<table border=\"1\" class=\"dataframe\">\n",
       "  <thead>\n",
       "    <tr style=\"text-align: right;\">\n",
       "      <th></th>\n",
       "      <th>acc</th>\n",
       "      <th>prec</th>\n",
       "      <th>rec</th>\n",
       "      <th>f1</th>\n",
       "    </tr>\n",
       "  </thead>\n",
       "  <tbody>\n",
       "    <tr>\n",
       "      <th>trainval mlp no pca over</th>\n",
       "      <td>0.893797</td>\n",
       "      <td>0.894103</td>\n",
       "      <td>0.893797</td>\n",
       "      <td>0.893777</td>\n",
       "    </tr>\n",
       "    <tr>\n",
       "      <th>test mlp no pca over</th>\n",
       "      <td>0.840762</td>\n",
       "      <td>0.937422</td>\n",
       "      <td>0.840762</td>\n",
       "      <td>0.884538</td>\n",
       "    </tr>\n",
       "  </tbody>\n",
       "</table>\n",
       "</div>"
      ],
      "text/plain": [
       "                               acc      prec       rec        f1\n",
       "trainval mlp no pca over  0.893797  0.894103  0.893797  0.893777\n",
       "test mlp no pca over      0.840762  0.937422  0.840762  0.884538"
      ]
     },
     "metadata": {},
     "output_type": "display_data"
    },
    {
     "name": "stdout",
     "output_type": "stream",
     "text": [
      "\n",
      "Confusion matrix MLP senza PCA random oversampling\n",
      "\n"
     ]
    },
    {
     "data": {
      "text/html": [
       "<div>\n",
       "<style scoped>\n",
       "    .dataframe tbody tr th:only-of-type {\n",
       "        vertical-align: middle;\n",
       "    }\n",
       "\n",
       "    .dataframe tbody tr th {\n",
       "        vertical-align: top;\n",
       "    }\n",
       "\n",
       "    .dataframe thead th {\n",
       "        text-align: right;\n",
       "    }\n",
       "</style>\n",
       "<table border=\"1\" class=\"dataframe\">\n",
       "  <thead>\n",
       "    <tr style=\"text-align: right;\">\n",
       "      <th></th>\n",
       "      <th>no bancarotta</th>\n",
       "      <th>bancarotta</th>\n",
       "    </tr>\n",
       "  </thead>\n",
       "  <tbody>\n",
       "    <tr>\n",
       "      <th>no bancarotta</th>\n",
       "      <td>2843</td>\n",
       "      <td>451</td>\n",
       "    </tr>\n",
       "    <tr>\n",
       "      <th>bancarotta</th>\n",
       "      <td>92</td>\n",
       "      <td>24</td>\n",
       "    </tr>\n",
       "  </tbody>\n",
       "</table>\n",
       "</div>"
      ],
      "text/plain": [
       "               no bancarotta  bancarotta\n",
       "no bancarotta           2843         451\n",
       "bancarotta                92          24"
      ]
     },
     "metadata": {},
     "output_type": "display_data"
    }
   ],
   "source": [
    "mlp_gs.best_estimator_.fit(Xtrainval_over_mlp,ytrainval_over_mlp)\n",
    "y_pred_trainval_over_mlp = mlp_gs.best_estimator_.predict(Xtrainval_over_mlp)\n",
    "y_pred_test_over_mlp = mlp_gs.best_estimator_.predict(Xtest_mlp)\n",
    "\n",
    "acc_trainval_over_mlp = mlp_gs.best_estimator_.score(Xtrainval_over_mlp, ytrainval_over_mlp)\n",
    "prec_trainval_over_mlp = precision_score(ytrainval_over_mlp, y_pred_trainval_over_mlp, average='weighted',zero_division=0)\n",
    "rec_trainval_over_mlp = recall_score(ytrainval_over_mlp, y_pred_trainval_over_mlp, average='weighted')\n",
    "f1_trainval_over_mlp = f1_score(ytrainval_over_mlp, y_pred_trainval_over_mlp, average='weighted')\n",
    "\n",
    "acc_test_over_mlp = mlp_gs.best_estimator_.score(Xtest_mlp, ytest_mlp)\n",
    "prec_test_over_mlp = precision_score(ytest_mlp, y_pred_test_over_mlp, average='weighted',zero_division=1)\n",
    "rec_test_over_mlp = recall_score(ytest_mlp, y_pred_test_over_mlp, average='weighted')\n",
    "f1_test_over_mlp = f1_score(ytest_mlp, y_pred_test_over_mlp, average='weighted')\n",
    "\n",
    "df_perf_over_mlp = pd.DataFrame({'acc': [acc_trainval_over_mlp, acc_test_over_mlp], \n",
    "                        'prec': [prec_trainval_over_mlp, prec_test_over_mlp], \n",
    "                        'rec': [rec_trainval_over_mlp, rec_test_over_mlp],\n",
    "                        'f1': [f1_trainval_over_mlp, f1_test_over_mlp]\n",
    "                       },\n",
    "                      index=['trainval mlp no pca over', 'test mlp no pca over'])\n",
    "\n",
    "cmat_over_mlp = confusion_matrix(ytest_mlp, y_pred_test_over_mlp, labels=mlp_gs.best_estimator_.classes_)\n",
    "\n",
    "df_cmat_over_mlp = pd.DataFrame(cmat_over_mlp, columns=['no bancarotta','bancarotta'],\n",
    "                                index=['no bancarotta','bancarotta'])\n",
    "\n",
    "print('')\n",
    "print('Performance MLP senza PCA random oversampling')\n",
    "print('')\n",
    "display(df_perf_over_mlp)\n",
    "print('')\n",
    "print('Confusion matrix MLP senza PCA random oversampling')\n",
    "print('')\n",
    "display(df_cmat_over_mlp)"
   ]
  },
  {
   "cell_type": "code",
   "execution_count": 35,
   "id": "brief-forum",
   "metadata": {
    "tags": []
   },
   "outputs": [
    {
     "name": "stdout",
     "output_type": "stream",
     "text": [
      "\n",
      "Performance MLP con PCA random oversampling\n",
      "\n"
     ]
    },
    {
     "data": {
      "text/html": [
       "<div>\n",
       "<style scoped>\n",
       "    .dataframe tbody tr th:only-of-type {\n",
       "        vertical-align: middle;\n",
       "    }\n",
       "\n",
       "    .dataframe tbody tr th {\n",
       "        vertical-align: top;\n",
       "    }\n",
       "\n",
       "    .dataframe thead th {\n",
       "        text-align: right;\n",
       "    }\n",
       "</style>\n",
       "<table border=\"1\" class=\"dataframe\">\n",
       "  <thead>\n",
       "    <tr style=\"text-align: right;\">\n",
       "      <th></th>\n",
       "      <th>acc</th>\n",
       "      <th>prec</th>\n",
       "      <th>rec</th>\n",
       "      <th>f1</th>\n",
       "    </tr>\n",
       "  </thead>\n",
       "  <tbody>\n",
       "    <tr>\n",
       "      <th>train mlp over pca</th>\n",
       "      <td>0.995159</td>\n",
       "      <td>0.995205</td>\n",
       "      <td>0.995159</td>\n",
       "      <td>0.995159</td>\n",
       "    </tr>\n",
       "    <tr>\n",
       "      <th>test mlp over pca</th>\n",
       "      <td>0.842815</td>\n",
       "      <td>0.958386</td>\n",
       "      <td>0.842815</td>\n",
       "      <td>0.889255</td>\n",
       "    </tr>\n",
       "  </tbody>\n",
       "</table>\n",
       "</div>"
      ],
      "text/plain": [
       "                         acc      prec       rec        f1\n",
       "train mlp over pca  0.995159  0.995205  0.995159  0.995159\n",
       "test mlp over pca   0.842815  0.958386  0.842815  0.889255"
      ]
     },
     "metadata": {},
     "output_type": "display_data"
    },
    {
     "name": "stdout",
     "output_type": "stream",
     "text": [
      "\n",
      "Confusion matrix MLP con PCA random oversampling\n",
      "\n"
     ]
    },
    {
     "data": {
      "text/html": [
       "<div>\n",
       "<style scoped>\n",
       "    .dataframe tbody tr th:only-of-type {\n",
       "        vertical-align: middle;\n",
       "    }\n",
       "\n",
       "    .dataframe tbody tr th {\n",
       "        vertical-align: top;\n",
       "    }\n",
       "\n",
       "    .dataframe thead th {\n",
       "        text-align: right;\n",
       "    }\n",
       "</style>\n",
       "<table border=\"1\" class=\"dataframe\">\n",
       "  <thead>\n",
       "    <tr style=\"text-align: right;\">\n",
       "      <th></th>\n",
       "      <th>no bancarotta</th>\n",
       "      <th>bancarotta</th>\n",
       "    </tr>\n",
       "  </thead>\n",
       "  <tbody>\n",
       "    <tr>\n",
       "      <th>no bancarotta</th>\n",
       "      <td>2794</td>\n",
       "      <td>500</td>\n",
       "    </tr>\n",
       "    <tr>\n",
       "      <th>bancarotta</th>\n",
       "      <td>36</td>\n",
       "      <td>80</td>\n",
       "    </tr>\n",
       "  </tbody>\n",
       "</table>\n",
       "</div>"
      ],
      "text/plain": [
       "               no bancarotta  bancarotta\n",
       "no bancarotta           2794         500\n",
       "bancarotta                36          80"
      ]
     },
     "metadata": {},
     "output_type": "display_data"
    }
   ],
   "source": [
    "scaler_mlp_over=StandardScaler()\n",
    "scaler_mlp_over.fit(Xtrainval_over_mlp)\n",
    "Xtrainval_over_mlp_scaled=scaler_mlp_over.transform(Xtrainval_over_mlp)\n",
    "scaler_mlp_test=StandardScaler()\n",
    "scaler_mlp_test.fit(Xtest_mlp)\n",
    "Xtest_mlp_scaled=scaler_mlp_test.transform(Xtest_mlp)\n",
    "\n",
    "pca_mlp_over=PCA(0.9)\n",
    "pca_mlp_over.fit(Xtrainval_over_mlp_scaled)\n",
    "Xtrainval_over_mlp_scaled_transf=pca_mlp_over.transform(Xtrainval_over_mlp_scaled)\n",
    "Xtest_mlp_scaled_transf=pca_mlp_over.transform(Xtest_mlp_scaled)\n",
    "mlp_gs.best_estimator_.fit(Xtrainval_over_mlp_scaled_transf, ytrainval_over_mlp) \n",
    "\n",
    "y_pred_trainvalop = mlp_gs.best_estimator_.predict(Xtrainval_over_mlp_scaled_transf)\n",
    "y_true_trainvalop = ytrainval_over_mlp\n",
    "y_pred_testop = mlp_gs.best_estimator_.predict(Xtest_mlp_scaled_transf)\n",
    "y_true_testop = ytest_mlp\n",
    "\n",
    "acc_trainvalop = mlp_gs.best_estimator_.score(Xtrainval_over_mlp_scaled_transf, y_true_trainvalop)\n",
    "prec_trainvalop = precision_score(y_true_trainvalop,y_pred_trainvalop, average='weighted')\n",
    "rec_trainvalop = recall_score(y_true_trainvalop,y_pred_trainvalop, average='weighted')\n",
    "f1_trainvalop = f1_score(y_true_trainvalop,y_pred_trainvalop, average='weighted')\n",
    "acc_testop = mlp_gs.best_estimator_.score(Xtest_mlp_scaled_transf,y_true_testop)\n",
    "prec_testop = precision_score(y_true_testop,y_pred_testop, average='weighted')\n",
    "rec_testop = recall_score(y_true_testop,y_pred_testop, average='weighted')\n",
    "f1_testop = f1_score(y_true_testop,y_pred_testop, average='weighted')\n",
    "\n",
    "df_perf_mlpop = pd.DataFrame({'acc': [acc_trainvalop, acc_testop], \n",
    "                        'prec': [prec_trainvalop, prec_testop], \n",
    "                        'rec': [rec_trainvalop, rec_testop],\n",
    "                        'f1': [f1_trainvalop, f1_testop]\n",
    "                       },\n",
    "                      index=['train mlp over pca', 'test mlp over pca'])\n",
    "cmat_mlpop = confusion_matrix(y_true_testop,y_pred_testop)\n",
    "df_cmat_mlpop = pd.DataFrame(cmat_mlpop, columns=['no bancarotta','bancarotta'], \n",
    "                             index=['no bancarotta','bancarotta'])\n",
    "\n",
    "print('')\n",
    "print('Performance MLP con PCA random oversampling')\n",
    "print('')\n",
    "display(df_perf_mlpop)\n",
    "print('')\n",
    "print('Confusion matrix MLP con PCA random oversampling')\n",
    "print('')\n",
    "display(df_cmat_mlpop)"
   ]
  },
  {
   "cell_type": "markdown",
   "id": "favorite-things",
   "metadata": {
    "tags": []
   },
   "source": [
    "Anche in questo caso valgono osservazioni simili a quelle già fatte nel caso della SVM random oversampling con o senza PCA per quanto riguarda la scelta del metodo migliore. Tuttavia gli score con PCA risultano leggermente migliori rispetto a quelli senza PCA in questo caso, al contrario di quanto accadeva nelle SVM. Infine, i misclassification rate per l'MLP random oversampling senza e con PCA risultano essere entrambi circa del 16%."
   ]
  },
  {
   "cell_type": "markdown",
   "id": "hollywood-farmer",
   "metadata": {
    "tags": []
   },
   "source": [
    "## MLP random undersampling"
   ]
  },
  {
   "cell_type": "code",
   "execution_count": 36,
   "id": "cathedral-choice",
   "metadata": {
    "tags": []
   },
   "outputs": [
    {
     "name": "stdout",
     "output_type": "stream",
     "text": [
      "\n",
      "Performance MLP senza PCA random undersampling\n",
      "\n"
     ]
    },
    {
     "data": {
      "text/html": [
       "<div>\n",
       "<style scoped>\n",
       "    .dataframe tbody tr th:only-of-type {\n",
       "        vertical-align: middle;\n",
       "    }\n",
       "\n",
       "    .dataframe tbody tr th {\n",
       "        vertical-align: top;\n",
       "    }\n",
       "\n",
       "    .dataframe thead th {\n",
       "        text-align: right;\n",
       "    }\n",
       "</style>\n",
       "<table border=\"1\" class=\"dataframe\">\n",
       "  <thead>\n",
       "    <tr style=\"text-align: right;\">\n",
       "      <th></th>\n",
       "      <th>acc</th>\n",
       "      <th>prec</th>\n",
       "      <th>rec</th>\n",
       "      <th>f1</th>\n",
       "    </tr>\n",
       "  </thead>\n",
       "  <tbody>\n",
       "    <tr>\n",
       "      <th>trainval mlp no pca under</th>\n",
       "      <td>0.807692</td>\n",
       "      <td>0.811844</td>\n",
       "      <td>0.807692</td>\n",
       "      <td>0.807050</td>\n",
       "    </tr>\n",
       "    <tr>\n",
       "      <th>test mlp no pca under</th>\n",
       "      <td>0.508504</td>\n",
       "      <td>0.938102</td>\n",
       "      <td>0.508504</td>\n",
       "      <td>0.645632</td>\n",
       "    </tr>\n",
       "  </tbody>\n",
       "</table>\n",
       "</div>"
      ],
      "text/plain": [
       "                                acc      prec       rec        f1\n",
       "trainval mlp no pca under  0.807692  0.811844  0.807692  0.807050\n",
       "test mlp no pca under      0.508504  0.938102  0.508504  0.645632"
      ]
     },
     "metadata": {},
     "output_type": "display_data"
    },
    {
     "name": "stdout",
     "output_type": "stream",
     "text": [
      "\n",
      "Confusion matrix MLP senza PCA random undersampling\n",
      "\n"
     ]
    },
    {
     "data": {
      "text/html": [
       "<div>\n",
       "<style scoped>\n",
       "    .dataframe tbody tr th:only-of-type {\n",
       "        vertical-align: middle;\n",
       "    }\n",
       "\n",
       "    .dataframe tbody tr th {\n",
       "        vertical-align: top;\n",
       "    }\n",
       "\n",
       "    .dataframe thead th {\n",
       "        text-align: right;\n",
       "    }\n",
       "</style>\n",
       "<table border=\"1\" class=\"dataframe\">\n",
       "  <thead>\n",
       "    <tr style=\"text-align: right;\">\n",
       "      <th></th>\n",
       "      <th>no bancarotta</th>\n",
       "      <th>bancarotta</th>\n",
       "    </tr>\n",
       "  </thead>\n",
       "  <tbody>\n",
       "    <tr>\n",
       "      <th>no bancarotta</th>\n",
       "      <td>1670</td>\n",
       "      <td>1624</td>\n",
       "    </tr>\n",
       "    <tr>\n",
       "      <th>bancarotta</th>\n",
       "      <td>52</td>\n",
       "      <td>64</td>\n",
       "    </tr>\n",
       "  </tbody>\n",
       "</table>\n",
       "</div>"
      ],
      "text/plain": [
       "               no bancarotta  bancarotta\n",
       "no bancarotta           1670        1624\n",
       "bancarotta                52          64"
      ]
     },
     "metadata": {},
     "output_type": "display_data"
    }
   ],
   "source": [
    "mlp_gs.best_estimator_.fit(Xtrainval_under_mlp,ytrainval_under_mlp)\n",
    "y_pred_trainval_under_mlp = mlp_gs.best_estimator_.predict(Xtrainval_under_mlp)\n",
    "y_pred_test_under_mlp = mlp_gs.best_estimator_.predict(Xtest_mlp)\n",
    "\n",
    "acc_trainval_under_mlp = mlp_gs.best_estimator_.score(Xtrainval_under_mlp, ytrainval_under_mlp)\n",
    "prec_trainval_under_mlp = precision_score(ytrainval_under_mlp, y_pred_trainval_under_mlp, average='weighted',zero_division=0)\n",
    "rec_trainval_under_mlp = recall_score(ytrainval_under_mlp, y_pred_trainval_under_mlp, average='weighted')\n",
    "f1_trainval_under_mlp = f1_score(ytrainval_under_mlp, y_pred_trainval_under_mlp, average='weighted')\n",
    "\n",
    "acc_test_under_mlp = mlp_gs.best_estimator_.score(Xtest_mlp, ytest_mlp)\n",
    "prec_test_under_mlp = precision_score(ytest_mlp, y_pred_test_under_mlp, average='weighted',zero_division=1)\n",
    "rec_test_under_mlp = recall_score(ytest_mlp, y_pred_test_under_mlp, average='weighted')\n",
    "f1_test_under_mlp = f1_score(ytest_mlp, y_pred_test_under_mlp, average='weighted')\n",
    "\n",
    "df_perf_under_mlp = pd.DataFrame({'acc': [acc_trainval_under_mlp, acc_test_under_mlp], \n",
    "                        'prec': [prec_trainval_under_mlp, prec_test_under_mlp], \n",
    "                        'rec': [rec_trainval_under_mlp, rec_test_under_mlp],\n",
    "                        'f1': [f1_trainval_under_mlp, f1_test_under_mlp]\n",
    "                       },\n",
    "                      index=['trainval mlp no pca under', 'test mlp no pca under'])\n",
    "\n",
    "cmat_under_mlp = confusion_matrix(ytest_mlp, y_pred_test_under_mlp, labels=mlp_gs.best_estimator_.classes_)\n",
    "\n",
    "df_cmat_under_mlp = pd.DataFrame(cmat_under_mlp, columns=['no bancarotta','bancarotta'], \n",
    "                                 index=['no bancarotta','bancarotta'])\n",
    "\n",
    "print('')\n",
    "print('Performance MLP senza PCA random undersampling')\n",
    "print('')\n",
    "display(df_perf_under_mlp)\n",
    "print('')\n",
    "print('Confusion matrix MLP senza PCA random undersampling')\n",
    "print('')\n",
    "display(df_cmat_under_mlp)"
   ]
  },
  {
   "cell_type": "code",
   "execution_count": 37,
   "id": "adjusted-honolulu",
   "metadata": {
    "tags": []
   },
   "outputs": [
    {
     "name": "stdout",
     "output_type": "stream",
     "text": [
      "\n",
      "Performance MLP con PCA random undersampling\n",
      "\n"
     ]
    },
    {
     "data": {
      "text/html": [
       "<div>\n",
       "<style scoped>\n",
       "    .dataframe tbody tr th:only-of-type {\n",
       "        vertical-align: middle;\n",
       "    }\n",
       "\n",
       "    .dataframe tbody tr th {\n",
       "        vertical-align: top;\n",
       "    }\n",
       "\n",
       "    .dataframe thead th {\n",
       "        text-align: right;\n",
       "    }\n",
       "</style>\n",
       "<table border=\"1\" class=\"dataframe\">\n",
       "  <thead>\n",
       "    <tr style=\"text-align: right;\">\n",
       "      <th></th>\n",
       "      <th>acc</th>\n",
       "      <th>prec</th>\n",
       "      <th>rec</th>\n",
       "      <th>f1</th>\n",
       "    </tr>\n",
       "  </thead>\n",
       "  <tbody>\n",
       "    <tr>\n",
       "      <th>train mlp under pca</th>\n",
       "      <td>0.985577</td>\n",
       "      <td>0.985622</td>\n",
       "      <td>0.985577</td>\n",
       "      <td>0.985577</td>\n",
       "    </tr>\n",
       "    <tr>\n",
       "      <th>test mlp under pca</th>\n",
       "      <td>0.432551</td>\n",
       "      <td>0.967182</td>\n",
       "      <td>0.432551</td>\n",
       "      <td>0.568055</td>\n",
       "    </tr>\n",
       "  </tbody>\n",
       "</table>\n",
       "</div>"
      ],
      "text/plain": [
       "                          acc      prec       rec        f1\n",
       "train mlp under pca  0.985577  0.985622  0.985577  0.985577\n",
       "test mlp under pca   0.432551  0.967182  0.432551  0.568055"
      ]
     },
     "metadata": {},
     "output_type": "display_data"
    },
    {
     "name": "stdout",
     "output_type": "stream",
     "text": [
      "\n",
      "Confusion matrix MLP con PCA random undersampling\n",
      "\n"
     ]
    },
    {
     "data": {
      "text/html": [
       "<div>\n",
       "<style scoped>\n",
       "    .dataframe tbody tr th:only-of-type {\n",
       "        vertical-align: middle;\n",
       "    }\n",
       "\n",
       "    .dataframe tbody tr th {\n",
       "        vertical-align: top;\n",
       "    }\n",
       "\n",
       "    .dataframe thead th {\n",
       "        text-align: right;\n",
       "    }\n",
       "</style>\n",
       "<table border=\"1\" class=\"dataframe\">\n",
       "  <thead>\n",
       "    <tr style=\"text-align: right;\">\n",
       "      <th></th>\n",
       "      <th>no bancarotta</th>\n",
       "      <th>bancarotta</th>\n",
       "    </tr>\n",
       "  </thead>\n",
       "  <tbody>\n",
       "    <tr>\n",
       "      <th>no bancarotta</th>\n",
       "      <td>1360</td>\n",
       "      <td>1934</td>\n",
       "    </tr>\n",
       "    <tr>\n",
       "      <th>bancarotta</th>\n",
       "      <td>1</td>\n",
       "      <td>115</td>\n",
       "    </tr>\n",
       "  </tbody>\n",
       "</table>\n",
       "</div>"
      ],
      "text/plain": [
       "               no bancarotta  bancarotta\n",
       "no bancarotta           1360        1934\n",
       "bancarotta                 1         115"
      ]
     },
     "metadata": {},
     "output_type": "display_data"
    }
   ],
   "source": [
    "scaler_mlp_under=StandardScaler()\n",
    "scaler_mlp_under.fit(Xtrainval_under_mlp)\n",
    "Xtrainval_under_mlp_scaled=scaler_mlp_under.transform(Xtrainval_under_mlp)\n",
    "scaler_mlp_test=StandardScaler()\n",
    "scaler_mlp_test.fit(Xtest_mlp)\n",
    "Xtest_mlp_scaled=scaler_mlp_test.transform(Xtest_mlp)\n",
    "\n",
    "pca_mlp_under=PCA(0.9)\n",
    "pca_mlp_under.fit(Xtrainval_under_mlp_scaled)\n",
    "mlp_gs.best_estimator_.fit(pca_mlp_under.transform(Xtrainval_under_mlp_scaled), ytrainval_under_mlp)\n",
    "\n",
    "y_pred_trainvalup = mlp_gs.best_estimator_.predict(pca_mlp_under.transform(Xtrainval_under_mlp_scaled))\n",
    "y_true_trainvalup = ytrainval_under_mlp\n",
    "y_pred_testup = mlp_gs.best_estimator_.predict(pca_mlp_under.transform(Xtest_mlp_scaled))\n",
    "y_true_testup = ytest_mlp\n",
    "\n",
    "acc_trainvalup = mlp_gs.best_estimator_.score(pca_mlp_under.transform(Xtrainval_under_mlp_scaled), y_true_trainvalup)\n",
    "prec_trainvalup = precision_score(y_true_trainvalup,y_pred_trainvalup, average='weighted')\n",
    "rec_trainvalup = recall_score(y_true_trainvalup,y_pred_trainvalup, average='weighted')\n",
    "f1_trainvalup = f1_score(y_true_trainvalup,y_pred_trainvalup, average='weighted')\n",
    "acc_testup = mlp_gs.best_estimator_.score(pca_mlp_under.transform(Xtest_mlp_scaled),y_true_testup)\n",
    "prec_testup = precision_score(y_true_testup,y_pred_testup, average='weighted')\n",
    "rec_testup = recall_score(y_true_testup,y_pred_testup, average='weighted')\n",
    "f1_testup = f1_score(y_true_testup,y_pred_testup, average='weighted')\n",
    "\n",
    "df_perf_mlpup = pd.DataFrame({'acc': [acc_trainvalup, acc_testup], \n",
    "                        'prec': [prec_trainvalup, prec_testup], \n",
    "                        'rec': [rec_trainvalup, rec_testup],\n",
    "                        'f1': [f1_trainvalup, f1_testup]\n",
    "                       },\n",
    "                      index=['train mlp under pca', 'test mlp under pca'])\n",
    "cmat_mlpup = confusion_matrix(y_true_testup,y_pred_testup)\n",
    "df_cmat_mlpup = pd.DataFrame(cmat_mlpup, columns=['no bancarotta','bancarotta'], \n",
    "                             index=['no bancarotta','bancarotta'])\n",
    "\n",
    "print('')\n",
    "print('Performance MLP con PCA random undersampling')\n",
    "print('')\n",
    "display(df_perf_mlpup)\n",
    "print('')\n",
    "print('Confusion matrix MLP con PCA random undersampling')\n",
    "print('')\n",
    "display(df_cmat_mlpup)"
   ]
  },
  {
   "cell_type": "markdown",
   "id": "former-housing",
   "metadata": {
    "tags": []
   },
   "source": [
    "Sebbene il numero dei dati di training più validation nel caso dell' MLP random undersampling sia il doppio di quelli del training dell'SVM random undersampling le conclusioni sono sempre le stesse visto che si parla in entrambi i casi di numeri piccoli (SVM random undersampling: #{1}=56, #{0}=56. MLP random undersampling: #{1}=104, #{0}=104). Infine, i misclassification rate dell'MLP random oversampling senza e con PCA risultano essere rispettivamente 49% e 57%."
   ]
  },
  {
   "cell_type": "markdown",
   "id": "supreme-guide",
   "metadata": {
    "tags": []
   },
   "source": [
    "## Confronto dei metodi utilizzati random oversapling & random undersampling"
   ]
  },
  {
   "cell_type": "markdown",
   "id": "amazing-knowing",
   "metadata": {
    "tags": []
   },
   "source": [
    "In generale si può osservare che i modelli più corretti hanno ottimi score grazie al maggior numero di predizioni corrette dei casi di non bancarotta rispetto a quelli di bancarotta. Questo è dovuto all'iniziale squilibrio delle classi presenti nel dataset."
   ]
  },
  {
   "cell_type": "code",
   "execution_count": 38,
   "id": "placed-lancaster",
   "metadata": {
    "tags": []
   },
   "outputs": [
    {
     "name": "stdout",
     "output_type": "stream",
     "text": [
      "\n",
      "LDA OVER\n"
     ]
    },
    {
     "data": {
      "text/html": [
       "<div>\n",
       "<style scoped>\n",
       "    .dataframe tbody tr th:only-of-type {\n",
       "        vertical-align: middle;\n",
       "    }\n",
       "\n",
       "    .dataframe tbody tr th {\n",
       "        vertical-align: top;\n",
       "    }\n",
       "\n",
       "    .dataframe thead th {\n",
       "        text-align: right;\n",
       "    }\n",
       "</style>\n",
       "<table border=\"1\" class=\"dataframe\">\n",
       "  <thead>\n",
       "    <tr style=\"text-align: right;\">\n",
       "      <th></th>\n",
       "      <th>acc</th>\n",
       "      <th>prec</th>\n",
       "      <th>rec</th>\n",
       "      <th>f1</th>\n",
       "    </tr>\n",
       "  </thead>\n",
       "  <tbody>\n",
       "    <tr>\n",
       "      <th>train lda no pca over</th>\n",
       "      <td>0.898909</td>\n",
       "      <td>0.899909</td>\n",
       "      <td>0.898909</td>\n",
       "      <td>0.898846</td>\n",
       "    </tr>\n",
       "    <tr>\n",
       "      <th>test lda no pca over</th>\n",
       "      <td>0.870088</td>\n",
       "      <td>0.964501</td>\n",
       "      <td>0.870088</td>\n",
       "      <td>0.907565</td>\n",
       "    </tr>\n",
       "  </tbody>\n",
       "</table>\n",
       "</div>"
      ],
      "text/plain": [
       "                            acc      prec       rec        f1\n",
       "train lda no pca over  0.898909  0.899909  0.898909  0.898846\n",
       "test lda no pca over   0.870088  0.964501  0.870088  0.907565"
      ]
     },
     "metadata": {},
     "output_type": "display_data"
    },
    {
     "data": {
      "text/html": [
       "<div>\n",
       "<style scoped>\n",
       "    .dataframe tbody tr th:only-of-type {\n",
       "        vertical-align: middle;\n",
       "    }\n",
       "\n",
       "    .dataframe tbody tr th {\n",
       "        vertical-align: top;\n",
       "    }\n",
       "\n",
       "    .dataframe thead th {\n",
       "        text-align: right;\n",
       "    }\n",
       "</style>\n",
       "<table border=\"1\" class=\"dataframe\">\n",
       "  <thead>\n",
       "    <tr style=\"text-align: right;\">\n",
       "      <th></th>\n",
       "      <th>no bancarotta</th>\n",
       "      <th>bancarotta</th>\n",
       "    </tr>\n",
       "  </thead>\n",
       "  <tbody>\n",
       "    <tr>\n",
       "      <th>no bancarotta</th>\n",
       "      <td>2883</td>\n",
       "      <td>417</td>\n",
       "    </tr>\n",
       "    <tr>\n",
       "      <th>bancarotta</th>\n",
       "      <td>26</td>\n",
       "      <td>84</td>\n",
       "    </tr>\n",
       "  </tbody>\n",
       "</table>\n",
       "</div>"
      ],
      "text/plain": [
       "               no bancarotta   bancarotta\n",
       "no bancarotta            2883         417\n",
       "bancarotta                 26          84"
      ]
     },
     "metadata": {},
     "output_type": "display_data"
    },
    {
     "data": {
      "text/html": [
       "<div>\n",
       "<style scoped>\n",
       "    .dataframe tbody tr th:only-of-type {\n",
       "        vertical-align: middle;\n",
       "    }\n",
       "\n",
       "    .dataframe tbody tr th {\n",
       "        vertical-align: top;\n",
       "    }\n",
       "\n",
       "    .dataframe thead th {\n",
       "        text-align: right;\n",
       "    }\n",
       "</style>\n",
       "<table border=\"1\" class=\"dataframe\">\n",
       "  <thead>\n",
       "    <tr style=\"text-align: right;\">\n",
       "      <th></th>\n",
       "      <th>acc</th>\n",
       "      <th>prec</th>\n",
       "      <th>rec</th>\n",
       "      <th>f1</th>\n",
       "    </tr>\n",
       "  </thead>\n",
       "  <tbody>\n",
       "    <tr>\n",
       "      <th>train lda pca over</th>\n",
       "      <td>0.873143</td>\n",
       "      <td>0.873733</td>\n",
       "      <td>0.873143</td>\n",
       "      <td>0.873093</td>\n",
       "    </tr>\n",
       "    <tr>\n",
       "      <th>test lda pca over</th>\n",
       "      <td>0.548387</td>\n",
       "      <td>0.967635</td>\n",
       "      <td>0.548387</td>\n",
       "      <td>0.677580</td>\n",
       "    </tr>\n",
       "  </tbody>\n",
       "</table>\n",
       "</div>"
      ],
      "text/plain": [
       "                         acc      prec       rec        f1\n",
       "train lda pca over  0.873143  0.873733  0.873143  0.873093\n",
       "test lda pca over   0.548387  0.967635  0.548387  0.677580"
      ]
     },
     "metadata": {},
     "output_type": "display_data"
    },
    {
     "data": {
      "text/html": [
       "<div>\n",
       "<style scoped>\n",
       "    .dataframe tbody tr th:only-of-type {\n",
       "        vertical-align: middle;\n",
       "    }\n",
       "\n",
       "    .dataframe tbody tr th {\n",
       "        vertical-align: top;\n",
       "    }\n",
       "\n",
       "    .dataframe thead th {\n",
       "        text-align: right;\n",
       "    }\n",
       "</style>\n",
       "<table border=\"1\" class=\"dataframe\">\n",
       "  <thead>\n",
       "    <tr style=\"text-align: right;\">\n",
       "      <th></th>\n",
       "      <th>no bancarotta</th>\n",
       "      <th>bancarotta</th>\n",
       "    </tr>\n",
       "  </thead>\n",
       "  <tbody>\n",
       "    <tr>\n",
       "      <th>no bancarotta</th>\n",
       "      <td>1764</td>\n",
       "      <td>1536</td>\n",
       "    </tr>\n",
       "    <tr>\n",
       "      <th>bancarotta</th>\n",
       "      <td>4</td>\n",
       "      <td>106</td>\n",
       "    </tr>\n",
       "  </tbody>\n",
       "</table>\n",
       "</div>"
      ],
      "text/plain": [
       "               no bancarotta  bancarotta\n",
       "no bancarotta           1764        1536\n",
       "bancarotta                 4         106"
      ]
     },
     "metadata": {},
     "output_type": "display_data"
    },
    {
     "name": "stdout",
     "output_type": "stream",
     "text": [
      "\n",
      "Misclassification rate LDA random oversampling senza PCA=13%\n",
      "Misclassification rate LDA random oversampling con PCA=45%\n",
      "\n",
      "\n",
      "LDA UNDER\n"
     ]
    },
    {
     "data": {
      "text/html": [
       "<div>\n",
       "<style scoped>\n",
       "    .dataframe tbody tr th:only-of-type {\n",
       "        vertical-align: middle;\n",
       "    }\n",
       "\n",
       "    .dataframe tbody tr th {\n",
       "        vertical-align: top;\n",
       "    }\n",
       "\n",
       "    .dataframe thead th {\n",
       "        text-align: right;\n",
       "    }\n",
       "</style>\n",
       "<table border=\"1\" class=\"dataframe\">\n",
       "  <thead>\n",
       "    <tr style=\"text-align: right;\">\n",
       "      <th></th>\n",
       "      <th>acc</th>\n",
       "      <th>prec</th>\n",
       "      <th>rec</th>\n",
       "      <th>f1</th>\n",
       "    </tr>\n",
       "  </thead>\n",
       "  <tbody>\n",
       "    <tr>\n",
       "      <th>training lda no pca under</th>\n",
       "      <td>0.918182</td>\n",
       "      <td>0.918320</td>\n",
       "      <td>0.918182</td>\n",
       "      <td>0.918175</td>\n",
       "    </tr>\n",
       "    <tr>\n",
       "      <th>test lda no pca under</th>\n",
       "      <td>0.797361</td>\n",
       "      <td>0.959959</td>\n",
       "      <td>0.797361</td>\n",
       "      <td>0.861752</td>\n",
       "    </tr>\n",
       "  </tbody>\n",
       "</table>\n",
       "</div>"
      ],
      "text/plain": [
       "                                acc      prec       rec        f1\n",
       "training lda no pca under  0.918182  0.918320  0.918182  0.918175\n",
       "test lda no pca under      0.797361  0.959959  0.797361  0.861752"
      ]
     },
     "metadata": {},
     "output_type": "display_data"
    },
    {
     "data": {
      "text/html": [
       "<div>\n",
       "<style scoped>\n",
       "    .dataframe tbody tr th:only-of-type {\n",
       "        vertical-align: middle;\n",
       "    }\n",
       "\n",
       "    .dataframe tbody tr th {\n",
       "        vertical-align: top;\n",
       "    }\n",
       "\n",
       "    .dataframe thead th {\n",
       "        text-align: right;\n",
       "    }\n",
       "</style>\n",
       "<table border=\"1\" class=\"dataframe\">\n",
       "  <thead>\n",
       "    <tr style=\"text-align: right;\">\n",
       "      <th></th>\n",
       "      <th>no bancarotta</th>\n",
       "      <th>bancarotta</th>\n",
       "    </tr>\n",
       "  </thead>\n",
       "  <tbody>\n",
       "    <tr>\n",
       "      <th>no bancarotta</th>\n",
       "      <td>2640</td>\n",
       "      <td>660</td>\n",
       "    </tr>\n",
       "    <tr>\n",
       "      <th>bancarotta</th>\n",
       "      <td>31</td>\n",
       "      <td>79</td>\n",
       "    </tr>\n",
       "  </tbody>\n",
       "</table>\n",
       "</div>"
      ],
      "text/plain": [
       "               no bancarotta  bancarotta\n",
       "no bancarotta           2640         660\n",
       "bancarotta                31          79"
      ]
     },
     "metadata": {},
     "output_type": "display_data"
    },
    {
     "data": {
      "text/html": [
       "<div>\n",
       "<style scoped>\n",
       "    .dataframe tbody tr th:only-of-type {\n",
       "        vertical-align: middle;\n",
       "    }\n",
       "\n",
       "    .dataframe tbody tr th {\n",
       "        vertical-align: top;\n",
       "    }\n",
       "\n",
       "    .dataframe thead th {\n",
       "        text-align: right;\n",
       "    }\n",
       "</style>\n",
       "<table border=\"1\" class=\"dataframe\">\n",
       "  <thead>\n",
       "    <tr style=\"text-align: right;\">\n",
       "      <th></th>\n",
       "      <th>acc</th>\n",
       "      <th>prec</th>\n",
       "      <th>rec</th>\n",
       "      <th>f1</th>\n",
       "    </tr>\n",
       "  </thead>\n",
       "  <tbody>\n",
       "    <tr>\n",
       "      <th>training lda pca under</th>\n",
       "      <td>0.840909</td>\n",
       "      <td>0.840937</td>\n",
       "      <td>0.840909</td>\n",
       "      <td>0.840906</td>\n",
       "    </tr>\n",
       "    <tr>\n",
       "      <th>test lda pca under</th>\n",
       "      <td>0.549560</td>\n",
       "      <td>0.965968</td>\n",
       "      <td>0.549560</td>\n",
       "      <td>0.678833</td>\n",
       "    </tr>\n",
       "  </tbody>\n",
       "</table>\n",
       "</div>"
      ],
      "text/plain": [
       "                             acc      prec       rec        f1\n",
       "training lda pca under  0.840909  0.840937  0.840909  0.840906\n",
       "test lda pca under      0.549560  0.965968  0.549560  0.678833"
      ]
     },
     "metadata": {},
     "output_type": "display_data"
    },
    {
     "data": {
      "text/html": [
       "<div>\n",
       "<style scoped>\n",
       "    .dataframe tbody tr th:only-of-type {\n",
       "        vertical-align: middle;\n",
       "    }\n",
       "\n",
       "    .dataframe tbody tr th {\n",
       "        vertical-align: top;\n",
       "    }\n",
       "\n",
       "    .dataframe thead th {\n",
       "        text-align: right;\n",
       "    }\n",
       "</style>\n",
       "<table border=\"1\" class=\"dataframe\">\n",
       "  <thead>\n",
       "    <tr style=\"text-align: right;\">\n",
       "      <th></th>\n",
       "      <th>no bancarotta</th>\n",
       "      <th>bancarotta</th>\n",
       "    </tr>\n",
       "  </thead>\n",
       "  <tbody>\n",
       "    <tr>\n",
       "      <th>no bancarotta</th>\n",
       "      <td>1771</td>\n",
       "      <td>1529</td>\n",
       "    </tr>\n",
       "    <tr>\n",
       "      <th>bancarotta</th>\n",
       "      <td>7</td>\n",
       "      <td>103</td>\n",
       "    </tr>\n",
       "  </tbody>\n",
       "</table>\n",
       "</div>"
      ],
      "text/plain": [
       "               no bancarotta  bancarotta\n",
       "no bancarotta           1771        1529\n",
       "bancarotta                 7         103"
      ]
     },
     "metadata": {},
     "output_type": "display_data"
    },
    {
     "name": "stdout",
     "output_type": "stream",
     "text": [
      "\n",
      "Misclassification rate LDA random undersampling senza PCA=27%\n",
      "Misclassification rate LDA random undersampling con PCA=48%\n",
      "\n",
      "\n",
      "SVM OVER\n"
     ]
    },
    {
     "data": {
      "text/html": [
       "<div>\n",
       "<style scoped>\n",
       "    .dataframe tbody tr th:only-of-type {\n",
       "        vertical-align: middle;\n",
       "    }\n",
       "\n",
       "    .dataframe tbody tr th {\n",
       "        vertical-align: top;\n",
       "    }\n",
       "\n",
       "    .dataframe thead th {\n",
       "        text-align: right;\n",
       "    }\n",
       "</style>\n",
       "<table border=\"1\" class=\"dataframe\">\n",
       "  <thead>\n",
       "    <tr style=\"text-align: right;\">\n",
       "      <th></th>\n",
       "      <th>acc</th>\n",
       "      <th>prec</th>\n",
       "      <th>rec</th>\n",
       "      <th>f1</th>\n",
       "    </tr>\n",
       "  </thead>\n",
       "  <tbody>\n",
       "    <tr>\n",
       "      <th>train svm no pca over</th>\n",
       "      <td>0.908245</td>\n",
       "      <td>0.910938</td>\n",
       "      <td>0.908245</td>\n",
       "      <td>0.908095</td>\n",
       "    </tr>\n",
       "    <tr>\n",
       "      <th>val svm no pca over</th>\n",
       "      <td>0.516717</td>\n",
       "      <td>0.530018</td>\n",
       "      <td>0.516717</td>\n",
       "      <td>0.456513</td>\n",
       "    </tr>\n",
       "    <tr>\n",
       "      <th>test svm no pca over</th>\n",
       "      <td>0.824340</td>\n",
       "      <td>0.942613</td>\n",
       "      <td>0.824340</td>\n",
       "      <td>0.875767</td>\n",
       "    </tr>\n",
       "  </tbody>\n",
       "</table>\n",
       "</div>"
      ],
      "text/plain": [
       "                            acc      prec       rec        f1\n",
       "train svm no pca over  0.908245  0.910938  0.908245  0.908095\n",
       "val svm no pca over    0.516717  0.530018  0.516717  0.456513\n",
       "test svm no pca over   0.824340  0.942613  0.824340  0.875767"
      ]
     },
     "metadata": {},
     "output_type": "display_data"
    },
    {
     "data": {
      "text/html": [
       "<div>\n",
       "<style scoped>\n",
       "    .dataframe tbody tr th:only-of-type {\n",
       "        vertical-align: middle;\n",
       "    }\n",
       "\n",
       "    .dataframe tbody tr th {\n",
       "        vertical-align: top;\n",
       "    }\n",
       "\n",
       "    .dataframe thead th {\n",
       "        text-align: right;\n",
       "    }\n",
       "</style>\n",
       "<table border=\"1\" class=\"dataframe\">\n",
       "  <thead>\n",
       "    <tr style=\"text-align: right;\">\n",
       "      <th></th>\n",
       "      <th>no bancarotta</th>\n",
       "      <th>bancarotta</th>\n",
       "    </tr>\n",
       "  </thead>\n",
       "  <tbody>\n",
       "    <tr>\n",
       "      <th>no bancarotta</th>\n",
       "      <td>2771</td>\n",
       "      <td>523</td>\n",
       "    </tr>\n",
       "    <tr>\n",
       "      <th>bancarotta</th>\n",
       "      <td>76</td>\n",
       "      <td>40</td>\n",
       "    </tr>\n",
       "  </tbody>\n",
       "</table>\n",
       "</div>"
      ],
      "text/plain": [
       "               no bancarotta  bancarotta\n",
       "no bancarotta           2771         523\n",
       "bancarotta                76          40"
      ]
     },
     "metadata": {},
     "output_type": "display_data"
    },
    {
     "data": {
      "text/html": [
       "<div>\n",
       "<style scoped>\n",
       "    .dataframe tbody tr th:only-of-type {\n",
       "        vertical-align: middle;\n",
       "    }\n",
       "\n",
       "    .dataframe tbody tr th {\n",
       "        vertical-align: top;\n",
       "    }\n",
       "\n",
       "    .dataframe thead th {\n",
       "        text-align: right;\n",
       "    }\n",
       "</style>\n",
       "<table border=\"1\" class=\"dataframe\">\n",
       "  <thead>\n",
       "    <tr style=\"text-align: right;\">\n",
       "      <th></th>\n",
       "      <th>acc</th>\n",
       "      <th>prec</th>\n",
       "      <th>rec</th>\n",
       "      <th>f1</th>\n",
       "    </tr>\n",
       "  </thead>\n",
       "  <tbody>\n",
       "    <tr>\n",
       "      <th>train svm over pca</th>\n",
       "      <td>0.976370</td>\n",
       "      <td>0.977436</td>\n",
       "      <td>0.976370</td>\n",
       "      <td>0.976357</td>\n",
       "    </tr>\n",
       "    <tr>\n",
       "      <th>val svm over pca</th>\n",
       "      <td>0.716185</td>\n",
       "      <td>0.769425</td>\n",
       "      <td>0.716185</td>\n",
       "      <td>0.701436</td>\n",
       "    </tr>\n",
       "    <tr>\n",
       "      <th>test svm over pca</th>\n",
       "      <td>0.754252</td>\n",
       "      <td>0.954507</td>\n",
       "      <td>0.754252</td>\n",
       "      <td>0.832376</td>\n",
       "    </tr>\n",
       "  </tbody>\n",
       "</table>\n",
       "</div>"
      ],
      "text/plain": [
       "                         acc      prec       rec        f1\n",
       "train svm over pca  0.976370  0.977436  0.976370  0.976357\n",
       "val svm over pca    0.716185  0.769425  0.716185  0.701436\n",
       "test svm over pca   0.754252  0.954507  0.754252  0.832376"
      ]
     },
     "metadata": {},
     "output_type": "display_data"
    },
    {
     "data": {
      "text/html": [
       "<div>\n",
       "<style scoped>\n",
       "    .dataframe tbody tr th:only-of-type {\n",
       "        vertical-align: middle;\n",
       "    }\n",
       "\n",
       "    .dataframe tbody tr th {\n",
       "        vertical-align: top;\n",
       "    }\n",
       "\n",
       "    .dataframe thead th {\n",
       "        text-align: right;\n",
       "    }\n",
       "</style>\n",
       "<table border=\"1\" class=\"dataframe\">\n",
       "  <thead>\n",
       "    <tr style=\"text-align: right;\">\n",
       "      <th></th>\n",
       "      <th>no bancarotta</th>\n",
       "      <th>bancarotta</th>\n",
       "    </tr>\n",
       "  </thead>\n",
       "  <tbody>\n",
       "    <tr>\n",
       "      <th>no bancarotta</th>\n",
       "      <td>2494</td>\n",
       "      <td>800</td>\n",
       "    </tr>\n",
       "    <tr>\n",
       "      <th>bancarotta</th>\n",
       "      <td>38</td>\n",
       "      <td>78</td>\n",
       "    </tr>\n",
       "  </tbody>\n",
       "</table>\n",
       "</div>"
      ],
      "text/plain": [
       "               no bancarotta  bancarotta\n",
       "no bancarotta           2494         800\n",
       "bancarotta                38          78"
      ]
     },
     "metadata": {},
     "output_type": "display_data"
    },
    {
     "name": "stdout",
     "output_type": "stream",
     "text": [
      "\n",
      "Misclassification rate SVM random oversampling senza PCA=17%\n",
      "Misclassification rate SVM random oversampling con PCA=24%\n",
      "\n",
      "\n",
      "SVM UNDER\n"
     ]
    },
    {
     "data": {
      "text/html": [
       "<div>\n",
       "<style scoped>\n",
       "    .dataframe tbody tr th:only-of-type {\n",
       "        vertical-align: middle;\n",
       "    }\n",
       "\n",
       "    .dataframe tbody tr th {\n",
       "        vertical-align: top;\n",
       "    }\n",
       "\n",
       "    .dataframe thead th {\n",
       "        text-align: right;\n",
       "    }\n",
       "</style>\n",
       "<table border=\"1\" class=\"dataframe\">\n",
       "  <thead>\n",
       "    <tr style=\"text-align: right;\">\n",
       "      <th></th>\n",
       "      <th>acc</th>\n",
       "      <th>prec</th>\n",
       "      <th>rec</th>\n",
       "      <th>f1</th>\n",
       "    </tr>\n",
       "  </thead>\n",
       "  <tbody>\n",
       "    <tr>\n",
       "      <th>train svm no pca under</th>\n",
       "      <td>0.785714</td>\n",
       "      <td>0.789032</td>\n",
       "      <td>0.785714</td>\n",
       "      <td>0.785098</td>\n",
       "    </tr>\n",
       "    <tr>\n",
       "      <th>val svm no pca under</th>\n",
       "      <td>0.562500</td>\n",
       "      <td>0.565336</td>\n",
       "      <td>0.562500</td>\n",
       "      <td>0.557701</td>\n",
       "    </tr>\n",
       "    <tr>\n",
       "      <th>test svm no pca under</th>\n",
       "      <td>0.537830</td>\n",
       "      <td>0.935150</td>\n",
       "      <td>0.537830</td>\n",
       "      <td>0.671671</td>\n",
       "    </tr>\n",
       "  </tbody>\n",
       "</table>\n",
       "</div>"
      ],
      "text/plain": [
       "                             acc      prec       rec        f1\n",
       "train svm no pca under  0.785714  0.789032  0.785714  0.785098\n",
       "val svm no pca under    0.562500  0.565336  0.562500  0.557701\n",
       "test svm no pca under   0.537830  0.935150  0.537830  0.671671"
      ]
     },
     "metadata": {},
     "output_type": "display_data"
    },
    {
     "data": {
      "text/html": [
       "<div>\n",
       "<style scoped>\n",
       "    .dataframe tbody tr th:only-of-type {\n",
       "        vertical-align: middle;\n",
       "    }\n",
       "\n",
       "    .dataframe tbody tr th {\n",
       "        vertical-align: top;\n",
       "    }\n",
       "\n",
       "    .dataframe thead th {\n",
       "        text-align: right;\n",
       "    }\n",
       "</style>\n",
       "<table border=\"1\" class=\"dataframe\">\n",
       "  <thead>\n",
       "    <tr style=\"text-align: right;\">\n",
       "      <th></th>\n",
       "      <th>no bancarotta</th>\n",
       "      <th>bancarotta</th>\n",
       "    </tr>\n",
       "  </thead>\n",
       "  <tbody>\n",
       "    <tr>\n",
       "      <th>no bancarotta</th>\n",
       "      <td>1779</td>\n",
       "      <td>1515</td>\n",
       "    </tr>\n",
       "    <tr>\n",
       "      <th>bancarotta</th>\n",
       "      <td>61</td>\n",
       "      <td>55</td>\n",
       "    </tr>\n",
       "  </tbody>\n",
       "</table>\n",
       "</div>"
      ],
      "text/plain": [
       "               no bancarotta  bancarotta\n",
       "no bancarotta           1779        1515\n",
       "bancarotta                61          55"
      ]
     },
     "metadata": {},
     "output_type": "display_data"
    },
    {
     "data": {
      "text/html": [
       "<div>\n",
       "<style scoped>\n",
       "    .dataframe tbody tr th:only-of-type {\n",
       "        vertical-align: middle;\n",
       "    }\n",
       "\n",
       "    .dataframe tbody tr th {\n",
       "        vertical-align: top;\n",
       "    }\n",
       "\n",
       "    .dataframe thead th {\n",
       "        text-align: right;\n",
       "    }\n",
       "</style>\n",
       "<table border=\"1\" class=\"dataframe\">\n",
       "  <thead>\n",
       "    <tr style=\"text-align: right;\">\n",
       "      <th></th>\n",
       "      <th>acc</th>\n",
       "      <th>prec</th>\n",
       "      <th>rec</th>\n",
       "      <th>f1</th>\n",
       "    </tr>\n",
       "  </thead>\n",
       "  <tbody>\n",
       "    <tr>\n",
       "      <th>train svm under pca</th>\n",
       "      <td>0.991071</td>\n",
       "      <td>0.991228</td>\n",
       "      <td>0.991071</td>\n",
       "      <td>0.991071</td>\n",
       "    </tr>\n",
       "    <tr>\n",
       "      <th>val svm under pca</th>\n",
       "      <td>0.947917</td>\n",
       "      <td>0.952830</td>\n",
       "      <td>0.947917</td>\n",
       "      <td>0.947775</td>\n",
       "    </tr>\n",
       "    <tr>\n",
       "      <th>test svm under pca</th>\n",
       "      <td>0.416129</td>\n",
       "      <td>0.966348</td>\n",
       "      <td>0.416129</td>\n",
       "      <td>0.551466</td>\n",
       "    </tr>\n",
       "  </tbody>\n",
       "</table>\n",
       "</div>"
      ],
      "text/plain": [
       "                          acc      prec       rec        f1\n",
       "train svm under pca  0.991071  0.991228  0.991071  0.991071\n",
       "val svm under pca    0.947917  0.952830  0.947917  0.947775\n",
       "test svm under pca   0.416129  0.966348  0.416129  0.551466"
      ]
     },
     "metadata": {},
     "output_type": "display_data"
    },
    {
     "data": {
      "text/html": [
       "<div>\n",
       "<style scoped>\n",
       "    .dataframe tbody tr th:only-of-type {\n",
       "        vertical-align: middle;\n",
       "    }\n",
       "\n",
       "    .dataframe tbody tr th {\n",
       "        vertical-align: top;\n",
       "    }\n",
       "\n",
       "    .dataframe thead th {\n",
       "        text-align: right;\n",
       "    }\n",
       "</style>\n",
       "<table border=\"1\" class=\"dataframe\">\n",
       "  <thead>\n",
       "    <tr style=\"text-align: right;\">\n",
       "      <th></th>\n",
       "      <th>no bancarotta</th>\n",
       "      <th>bancarotta</th>\n",
       "    </tr>\n",
       "  </thead>\n",
       "  <tbody>\n",
       "    <tr>\n",
       "      <th>no bancarotta</th>\n",
       "      <td>1305</td>\n",
       "      <td>1989</td>\n",
       "    </tr>\n",
       "    <tr>\n",
       "      <th>bancarotta</th>\n",
       "      <td>2</td>\n",
       "      <td>114</td>\n",
       "    </tr>\n",
       "  </tbody>\n",
       "</table>\n",
       "</div>"
      ],
      "text/plain": [
       "               no bancarotta  bancarotta\n",
       "no bancarotta           1305        1989\n",
       "bancarotta                 2         114"
      ]
     },
     "metadata": {},
     "output_type": "display_data"
    },
    {
     "name": "stdout",
     "output_type": "stream",
     "text": [
      "\n",
      "Misclassification rate SVM random undersampling senza PCA=46%\n",
      "Misclassification rate SVM random undersampling con PCA=58%\n",
      "\n",
      "\n",
      "MLP OVER\n"
     ]
    },
    {
     "data": {
      "text/html": [
       "<div>\n",
       "<style scoped>\n",
       "    .dataframe tbody tr th:only-of-type {\n",
       "        vertical-align: middle;\n",
       "    }\n",
       "\n",
       "    .dataframe tbody tr th {\n",
       "        vertical-align: top;\n",
       "    }\n",
       "\n",
       "    .dataframe thead th {\n",
       "        text-align: right;\n",
       "    }\n",
       "</style>\n",
       "<table border=\"1\" class=\"dataframe\">\n",
       "  <thead>\n",
       "    <tr style=\"text-align: right;\">\n",
       "      <th></th>\n",
       "      <th>acc</th>\n",
       "      <th>prec</th>\n",
       "      <th>rec</th>\n",
       "      <th>f1</th>\n",
       "    </tr>\n",
       "  </thead>\n",
       "  <tbody>\n",
       "    <tr>\n",
       "      <th>trainval mlp no pca over</th>\n",
       "      <td>0.893797</td>\n",
       "      <td>0.894103</td>\n",
       "      <td>0.893797</td>\n",
       "      <td>0.893777</td>\n",
       "    </tr>\n",
       "    <tr>\n",
       "      <th>test mlp no pca over</th>\n",
       "      <td>0.840762</td>\n",
       "      <td>0.937422</td>\n",
       "      <td>0.840762</td>\n",
       "      <td>0.884538</td>\n",
       "    </tr>\n",
       "  </tbody>\n",
       "</table>\n",
       "</div>"
      ],
      "text/plain": [
       "                               acc      prec       rec        f1\n",
       "trainval mlp no pca over  0.893797  0.894103  0.893797  0.893777\n",
       "test mlp no pca over      0.840762  0.937422  0.840762  0.884538"
      ]
     },
     "metadata": {},
     "output_type": "display_data"
    },
    {
     "data": {
      "text/html": [
       "<div>\n",
       "<style scoped>\n",
       "    .dataframe tbody tr th:only-of-type {\n",
       "        vertical-align: middle;\n",
       "    }\n",
       "\n",
       "    .dataframe tbody tr th {\n",
       "        vertical-align: top;\n",
       "    }\n",
       "\n",
       "    .dataframe thead th {\n",
       "        text-align: right;\n",
       "    }\n",
       "</style>\n",
       "<table border=\"1\" class=\"dataframe\">\n",
       "  <thead>\n",
       "    <tr style=\"text-align: right;\">\n",
       "      <th></th>\n",
       "      <th>no bancarotta</th>\n",
       "      <th>bancarotta</th>\n",
       "    </tr>\n",
       "  </thead>\n",
       "  <tbody>\n",
       "    <tr>\n",
       "      <th>no bancarotta</th>\n",
       "      <td>2843</td>\n",
       "      <td>451</td>\n",
       "    </tr>\n",
       "    <tr>\n",
       "      <th>bancarotta</th>\n",
       "      <td>92</td>\n",
       "      <td>24</td>\n",
       "    </tr>\n",
       "  </tbody>\n",
       "</table>\n",
       "</div>"
      ],
      "text/plain": [
       "               no bancarotta  bancarotta\n",
       "no bancarotta           2843         451\n",
       "bancarotta                92          24"
      ]
     },
     "metadata": {},
     "output_type": "display_data"
    },
    {
     "data": {
      "text/html": [
       "<div>\n",
       "<style scoped>\n",
       "    .dataframe tbody tr th:only-of-type {\n",
       "        vertical-align: middle;\n",
       "    }\n",
       "\n",
       "    .dataframe tbody tr th {\n",
       "        vertical-align: top;\n",
       "    }\n",
       "\n",
       "    .dataframe thead th {\n",
       "        text-align: right;\n",
       "    }\n",
       "</style>\n",
       "<table border=\"1\" class=\"dataframe\">\n",
       "  <thead>\n",
       "    <tr style=\"text-align: right;\">\n",
       "      <th></th>\n",
       "      <th>acc</th>\n",
       "      <th>prec</th>\n",
       "      <th>rec</th>\n",
       "      <th>f1</th>\n",
       "    </tr>\n",
       "  </thead>\n",
       "  <tbody>\n",
       "    <tr>\n",
       "      <th>train mlp over pca</th>\n",
       "      <td>0.995159</td>\n",
       "      <td>0.995205</td>\n",
       "      <td>0.995159</td>\n",
       "      <td>0.995159</td>\n",
       "    </tr>\n",
       "    <tr>\n",
       "      <th>test mlp over pca</th>\n",
       "      <td>0.842815</td>\n",
       "      <td>0.958386</td>\n",
       "      <td>0.842815</td>\n",
       "      <td>0.889255</td>\n",
       "    </tr>\n",
       "  </tbody>\n",
       "</table>\n",
       "</div>"
      ],
      "text/plain": [
       "                         acc      prec       rec        f1\n",
       "train mlp over pca  0.995159  0.995205  0.995159  0.995159\n",
       "test mlp over pca   0.842815  0.958386  0.842815  0.889255"
      ]
     },
     "metadata": {},
     "output_type": "display_data"
    },
    {
     "data": {
      "text/html": [
       "<div>\n",
       "<style scoped>\n",
       "    .dataframe tbody tr th:only-of-type {\n",
       "        vertical-align: middle;\n",
       "    }\n",
       "\n",
       "    .dataframe tbody tr th {\n",
       "        vertical-align: top;\n",
       "    }\n",
       "\n",
       "    .dataframe thead th {\n",
       "        text-align: right;\n",
       "    }\n",
       "</style>\n",
       "<table border=\"1\" class=\"dataframe\">\n",
       "  <thead>\n",
       "    <tr style=\"text-align: right;\">\n",
       "      <th></th>\n",
       "      <th>no bancarotta</th>\n",
       "      <th>bancarotta</th>\n",
       "    </tr>\n",
       "  </thead>\n",
       "  <tbody>\n",
       "    <tr>\n",
       "      <th>no bancarotta</th>\n",
       "      <td>2794</td>\n",
       "      <td>500</td>\n",
       "    </tr>\n",
       "    <tr>\n",
       "      <th>bancarotta</th>\n",
       "      <td>36</td>\n",
       "      <td>80</td>\n",
       "    </tr>\n",
       "  </tbody>\n",
       "</table>\n",
       "</div>"
      ],
      "text/plain": [
       "               no bancarotta  bancarotta\n",
       "no bancarotta           2794         500\n",
       "bancarotta                36          80"
      ]
     },
     "metadata": {},
     "output_type": "display_data"
    },
    {
     "name": "stdout",
     "output_type": "stream",
     "text": [
      "\n",
      "Misclassification rate MLP random oversampling senza PCA=16% (nel dettaglio 15.9%)\n",
      "Misclassification rate MLP random oversampling con PCA=16% (nel dettaglio 15.7%)\n",
      "\n",
      "\n",
      "MLP UNDER\n"
     ]
    },
    {
     "data": {
      "text/html": [
       "<div>\n",
       "<style scoped>\n",
       "    .dataframe tbody tr th:only-of-type {\n",
       "        vertical-align: middle;\n",
       "    }\n",
       "\n",
       "    .dataframe tbody tr th {\n",
       "        vertical-align: top;\n",
       "    }\n",
       "\n",
       "    .dataframe thead th {\n",
       "        text-align: right;\n",
       "    }\n",
       "</style>\n",
       "<table border=\"1\" class=\"dataframe\">\n",
       "  <thead>\n",
       "    <tr style=\"text-align: right;\">\n",
       "      <th></th>\n",
       "      <th>acc</th>\n",
       "      <th>prec</th>\n",
       "      <th>rec</th>\n",
       "      <th>f1</th>\n",
       "    </tr>\n",
       "  </thead>\n",
       "  <tbody>\n",
       "    <tr>\n",
       "      <th>trainval mlp no pca under</th>\n",
       "      <td>0.807692</td>\n",
       "      <td>0.811844</td>\n",
       "      <td>0.807692</td>\n",
       "      <td>0.807050</td>\n",
       "    </tr>\n",
       "    <tr>\n",
       "      <th>test mlp no pca under</th>\n",
       "      <td>0.508504</td>\n",
       "      <td>0.938102</td>\n",
       "      <td>0.508504</td>\n",
       "      <td>0.645632</td>\n",
       "    </tr>\n",
       "  </tbody>\n",
       "</table>\n",
       "</div>"
      ],
      "text/plain": [
       "                                acc      prec       rec        f1\n",
       "trainval mlp no pca under  0.807692  0.811844  0.807692  0.807050\n",
       "test mlp no pca under      0.508504  0.938102  0.508504  0.645632"
      ]
     },
     "metadata": {},
     "output_type": "display_data"
    },
    {
     "data": {
      "text/html": [
       "<div>\n",
       "<style scoped>\n",
       "    .dataframe tbody tr th:only-of-type {\n",
       "        vertical-align: middle;\n",
       "    }\n",
       "\n",
       "    .dataframe tbody tr th {\n",
       "        vertical-align: top;\n",
       "    }\n",
       "\n",
       "    .dataframe thead th {\n",
       "        text-align: right;\n",
       "    }\n",
       "</style>\n",
       "<table border=\"1\" class=\"dataframe\">\n",
       "  <thead>\n",
       "    <tr style=\"text-align: right;\">\n",
       "      <th></th>\n",
       "      <th>no bancarotta</th>\n",
       "      <th>bancarotta</th>\n",
       "    </tr>\n",
       "  </thead>\n",
       "  <tbody>\n",
       "    <tr>\n",
       "      <th>no bancarotta</th>\n",
       "      <td>1670</td>\n",
       "      <td>1624</td>\n",
       "    </tr>\n",
       "    <tr>\n",
       "      <th>bancarotta</th>\n",
       "      <td>52</td>\n",
       "      <td>64</td>\n",
       "    </tr>\n",
       "  </tbody>\n",
       "</table>\n",
       "</div>"
      ],
      "text/plain": [
       "               no bancarotta  bancarotta\n",
       "no bancarotta           1670        1624\n",
       "bancarotta                52          64"
      ]
     },
     "metadata": {},
     "output_type": "display_data"
    },
    {
     "data": {
      "text/html": [
       "<div>\n",
       "<style scoped>\n",
       "    .dataframe tbody tr th:only-of-type {\n",
       "        vertical-align: middle;\n",
       "    }\n",
       "\n",
       "    .dataframe tbody tr th {\n",
       "        vertical-align: top;\n",
       "    }\n",
       "\n",
       "    .dataframe thead th {\n",
       "        text-align: right;\n",
       "    }\n",
       "</style>\n",
       "<table border=\"1\" class=\"dataframe\">\n",
       "  <thead>\n",
       "    <tr style=\"text-align: right;\">\n",
       "      <th></th>\n",
       "      <th>acc</th>\n",
       "      <th>prec</th>\n",
       "      <th>rec</th>\n",
       "      <th>f1</th>\n",
       "    </tr>\n",
       "  </thead>\n",
       "  <tbody>\n",
       "    <tr>\n",
       "      <th>train mlp under pca</th>\n",
       "      <td>0.985577</td>\n",
       "      <td>0.985622</td>\n",
       "      <td>0.985577</td>\n",
       "      <td>0.985577</td>\n",
       "    </tr>\n",
       "    <tr>\n",
       "      <th>test mlp under pca</th>\n",
       "      <td>0.432551</td>\n",
       "      <td>0.967182</td>\n",
       "      <td>0.432551</td>\n",
       "      <td>0.568055</td>\n",
       "    </tr>\n",
       "  </tbody>\n",
       "</table>\n",
       "</div>"
      ],
      "text/plain": [
       "                          acc      prec       rec        f1\n",
       "train mlp under pca  0.985577  0.985622  0.985577  0.985577\n",
       "test mlp under pca   0.432551  0.967182  0.432551  0.568055"
      ]
     },
     "metadata": {},
     "output_type": "display_data"
    },
    {
     "data": {
      "text/html": [
       "<div>\n",
       "<style scoped>\n",
       "    .dataframe tbody tr th:only-of-type {\n",
       "        vertical-align: middle;\n",
       "    }\n",
       "\n",
       "    .dataframe tbody tr th {\n",
       "        vertical-align: top;\n",
       "    }\n",
       "\n",
       "    .dataframe thead th {\n",
       "        text-align: right;\n",
       "    }\n",
       "</style>\n",
       "<table border=\"1\" class=\"dataframe\">\n",
       "  <thead>\n",
       "    <tr style=\"text-align: right;\">\n",
       "      <th></th>\n",
       "      <th>no bancarotta</th>\n",
       "      <th>bancarotta</th>\n",
       "    </tr>\n",
       "  </thead>\n",
       "  <tbody>\n",
       "    <tr>\n",
       "      <th>no bancarotta</th>\n",
       "      <td>1360</td>\n",
       "      <td>1934</td>\n",
       "    </tr>\n",
       "    <tr>\n",
       "      <th>bancarotta</th>\n",
       "      <td>1</td>\n",
       "      <td>115</td>\n",
       "    </tr>\n",
       "  </tbody>\n",
       "</table>\n",
       "</div>"
      ],
      "text/plain": [
       "               no bancarotta  bancarotta\n",
       "no bancarotta           1360        1934\n",
       "bancarotta                 1         115"
      ]
     },
     "metadata": {},
     "output_type": "display_data"
    },
    {
     "name": "stdout",
     "output_type": "stream",
     "text": [
      "Misclassification rate MLP random undersampling senza PCA=49%\n",
      "Misclassification rate MLP random undersampling con PCA=57%\n"
     ]
    }
   ],
   "source": [
    "print('')\n",
    "print('LDA OVER')\n",
    "display(df_perfo)\n",
    "display(df_cmato)\n",
    "display(df_perfop)\n",
    "display(df_cmatop)\n",
    "print('')\n",
    "print('Misclassification rate LDA random oversampling senza PCA=13%')\n",
    "print('Misclassification rate LDA random oversampling con PCA=45%')\n",
    "print('')\n",
    "print('')\n",
    "print('LDA UNDER')\n",
    "display(df_perfu)\n",
    "display(df_cmatu)\n",
    "display(df_perfup)\n",
    "display(df_cmatup)\n",
    "print('')\n",
    "print('Misclassification rate LDA random undersampling senza PCA=27%')\n",
    "print('Misclassification rate LDA random undersampling con PCA=48%')\n",
    "print('')\n",
    "print('')\n",
    "print('SVM OVER')\n",
    "display(df_perf_svmo)\n",
    "display(df_cmat_svmo)\n",
    "display(df_perf_svmop)\n",
    "display(df_cmat_svmop)\n",
    "print('')\n",
    "print('Misclassification rate SVM random oversampling senza PCA=17%')\n",
    "print('Misclassification rate SVM random oversampling con PCA=24%')\n",
    "print('')\n",
    "print('')\n",
    "print('SVM UNDER')\n",
    "display(df_perf_svmu)\n",
    "display(df_cmat_svmu)\n",
    "display(df_perf_svmup)\n",
    "display(df_cmat_svmup)\n",
    "print('')\n",
    "print('Misclassification rate SVM random undersampling senza PCA=46%')\n",
    "print('Misclassification rate SVM random undersampling con PCA=58%')\n",
    "print('')\n",
    "print('')\n",
    "print('MLP OVER')\n",
    "display(df_perf_over_mlp)\n",
    "display(df_cmat_over_mlp)\n",
    "display(df_perf_mlpop)\n",
    "display(df_cmat_mlpop)\n",
    "print('')\n",
    "print('Misclassification rate MLP random oversampling senza PCA=16% (nel dettaglio 15.9%)')\n",
    "print('Misclassification rate MLP random oversampling con PCA=16% (nel dettaglio 15.7%)')\n",
    "print('')\n",
    "print('')\n",
    "print('MLP UNDER')\n",
    "display(df_perf_under_mlp)\n",
    "display(df_cmat_under_mlp)\n",
    "display(df_perf_mlpup)\n",
    "display(df_cmat_mlpup)\n",
    "print('Misclassification rate MLP random undersampling senza PCA=49%')\n",
    "print('Misclassification rate MLP random undersampling con PCA=57%')"
   ]
  },
  {
   "cell_type": "markdown",
   "id": "horizontal-closer",
   "metadata": {
    "tags": []
   },
   "source": [
    "Confrontando le diverse tabelle emerge che la LDA random oversampling senza PCA sia il metodo migliore in termini predittivi. Oltre a questo metodo anche l'MLP random oversampling con e senza pca, l'SVM random oversampling con e senza PCA e la LDA random undersampling senza PCA funzionano molto bene. In generale quindi il random oversampling funziona meglio dell'under-sampling mentre la PCA non sempre è superflua. Come già detto, il motivo principale dello scarso funzionamento del random undrsampling potrebbe esser dovuto all'eccessivo sbilanciamento delle classi che a diminuire in maniera eccessiva il numero di \"1\", ossia i casi di bancarotta, rendendo più difficile la predizione."
   ]
  },
  {
   "cell_type": "markdown",
   "id": "different-aaron",
   "metadata": {
    "tags": []
   },
   "source": [
    "## Analisi delle features fondamentali"
   ]
  },
  {
   "cell_type": "markdown",
   "id": "speaking-fruit",
   "metadata": {
    "tags": []
   },
   "source": [
    "Nel seguito della trattazione viene effettuata una analisi delle categorie di Financial ratios fondamentali. L'obiettivo è testare il miglior metodo trovato fino a questo punto (LDA random oversampling senza PCA) applicandolo al data set senza una categoria in particolare. Facendo così si potrà osservare quali categorie sono più critiche e quindi utili nella predizione della bancarotta."
   ]
  },
  {
   "cell_type": "markdown",
   "id": "ignored-large",
   "metadata": {
    "tags": []
   },
   "source": [
    "## Data set senza solvency"
   ]
  },
  {
   "cell_type": "code",
   "execution_count": 39,
   "id": "magnetic-undergraduate",
   "metadata": {
    "tags": []
   },
   "outputs": [],
   "source": [
    "Xtrains=Xtrain_over.copy()\n",
    "ytrains=ytrain_over.copy()\n",
    "Xtrains=Xtrains.drop([Xtrains.columns[94],Xtrains.columns[84],Xtrains.columns[83]],axis=1)\n",
    "Xtrains=Xtrains.drop([Xtrains.columns[i] for i in range(53,67)],axis=1) \n",
    "Xtrains=Xtrains.drop([Xtrains.columns[i] for i in range(39,43)],axis=1) \n",
    "Xtrains=Xtrains.drop([Xtrains.columns[i] for i in range(31,37)],axis=1) \n",
    "Xtrains=Xtrains.drop([Xtrains.columns[13]],axis=1)\n",
    "\n",
    "Xtests=Xtest.copy()\n",
    "ytests=ytest.copy()\n",
    "Xtests=Xtests.drop([Xtests.columns[94],Xtests.columns[84],Xtests.columns[83]],axis=1)\n",
    "Xtests=Xtests.drop([Xtests.columns[i] for i in range(53,67)],axis=1) \n",
    "Xtests=Xtests.drop([Xtests.columns[i] for i in range(39,43)],axis=1) \n",
    "Xtests=Xtests.drop([Xtests.columns[i] for i in range(31,37)],axis=1) \n",
    "Xtests=Xtests.drop([Xtests.columns[13]],axis=1)\n",
    "\n",
    "#display(Xtrain_over.shape)\n",
    "#display(Xtrains.shape)\n",
    "#display(Xtest.shape)\n",
    "#display(Xtests.shape)"
   ]
  },
  {
   "cell_type": "code",
   "execution_count": 40,
   "id": "black-guess",
   "metadata": {
    "tags": []
   },
   "outputs": [
    {
     "name": "stdout",
     "output_type": "stream",
     "text": [
      "\n",
      "LDA random oversampling no solvency\n"
     ]
    },
    {
     "data": {
      "text/html": [
       "<div>\n",
       "<style scoped>\n",
       "    .dataframe tbody tr th:only-of-type {\n",
       "        vertical-align: middle;\n",
       "    }\n",
       "\n",
       "    .dataframe tbody tr th {\n",
       "        vertical-align: top;\n",
       "    }\n",
       "\n",
       "    .dataframe thead th {\n",
       "        text-align: right;\n",
       "    }\n",
       "</style>\n",
       "<table border=\"1\" class=\"dataframe\">\n",
       "  <thead>\n",
       "    <tr style=\"text-align: right;\">\n",
       "      <th></th>\n",
       "      <th>acc</th>\n",
       "      <th>prec</th>\n",
       "      <th>rec</th>\n",
       "      <th>f1</th>\n",
       "    </tr>\n",
       "  </thead>\n",
       "  <tbody>\n",
       "    <tr>\n",
       "      <th>train lda no pca no solvency over</th>\n",
       "      <td>0.891028</td>\n",
       "      <td>0.891455</td>\n",
       "      <td>0.891028</td>\n",
       "      <td>0.890998</td>\n",
       "    </tr>\n",
       "    <tr>\n",
       "      <th>test lda no pca no solvency over</th>\n",
       "      <td>0.867155</td>\n",
       "      <td>0.965847</td>\n",
       "      <td>0.867155</td>\n",
       "      <td>0.905958</td>\n",
       "    </tr>\n",
       "  </tbody>\n",
       "</table>\n",
       "</div>"
      ],
      "text/plain": [
       "                                        acc      prec       rec        f1\n",
       "train lda no pca no solvency over  0.891028  0.891455  0.891028  0.890998\n",
       "test lda no pca no solvency over   0.867155  0.965847  0.867155  0.905958"
      ]
     },
     "metadata": {},
     "output_type": "display_data"
    },
    {
     "data": {
      "text/html": [
       "<div>\n",
       "<style scoped>\n",
       "    .dataframe tbody tr th:only-of-type {\n",
       "        vertical-align: middle;\n",
       "    }\n",
       "\n",
       "    .dataframe tbody tr th {\n",
       "        vertical-align: top;\n",
       "    }\n",
       "\n",
       "    .dataframe thead th {\n",
       "        text-align: right;\n",
       "    }\n",
       "</style>\n",
       "<table border=\"1\" class=\"dataframe\">\n",
       "  <thead>\n",
       "    <tr style=\"text-align: right;\">\n",
       "      <th></th>\n",
       "      <th>no bancarotta</th>\n",
       "      <th>bancarotta</th>\n",
       "    </tr>\n",
       "  </thead>\n",
       "  <tbody>\n",
       "    <tr>\n",
       "      <th>no bancarotta</th>\n",
       "      <td>2869</td>\n",
       "      <td>431</td>\n",
       "    </tr>\n",
       "    <tr>\n",
       "      <th>bancarotta</th>\n",
       "      <td>22</td>\n",
       "      <td>88</td>\n",
       "    </tr>\n",
       "  </tbody>\n",
       "</table>\n",
       "</div>"
      ],
      "text/plain": [
       "               no bancarotta  bancarotta\n",
       "no bancarotta           2869         431\n",
       "bancarotta                22          88"
      ]
     },
     "metadata": {},
     "output_type": "display_data"
    },
    {
     "name": "stdout",
     "output_type": "stream",
     "text": [
      "\n",
      "LDA random oversampling all\n"
     ]
    },
    {
     "data": {
      "text/html": [
       "<div>\n",
       "<style scoped>\n",
       "    .dataframe tbody tr th:only-of-type {\n",
       "        vertical-align: middle;\n",
       "    }\n",
       "\n",
       "    .dataframe tbody tr th {\n",
       "        vertical-align: top;\n",
       "    }\n",
       "\n",
       "    .dataframe thead th {\n",
       "        text-align: right;\n",
       "    }\n",
       "</style>\n",
       "<table border=\"1\" class=\"dataframe\">\n",
       "  <thead>\n",
       "    <tr style=\"text-align: right;\">\n",
       "      <th></th>\n",
       "      <th>acc</th>\n",
       "      <th>prec</th>\n",
       "      <th>rec</th>\n",
       "      <th>f1</th>\n",
       "    </tr>\n",
       "  </thead>\n",
       "  <tbody>\n",
       "    <tr>\n",
       "      <th>train lda no pca over</th>\n",
       "      <td>0.898909</td>\n",
       "      <td>0.899909</td>\n",
       "      <td>0.898909</td>\n",
       "      <td>0.898846</td>\n",
       "    </tr>\n",
       "    <tr>\n",
       "      <th>test lda no pca over</th>\n",
       "      <td>0.870088</td>\n",
       "      <td>0.964501</td>\n",
       "      <td>0.870088</td>\n",
       "      <td>0.907565</td>\n",
       "    </tr>\n",
       "  </tbody>\n",
       "</table>\n",
       "</div>"
      ],
      "text/plain": [
       "                            acc      prec       rec        f1\n",
       "train lda no pca over  0.898909  0.899909  0.898909  0.898846\n",
       "test lda no pca over   0.870088  0.964501  0.870088  0.907565"
      ]
     },
     "metadata": {},
     "output_type": "display_data"
    },
    {
     "data": {
      "text/html": [
       "<div>\n",
       "<style scoped>\n",
       "    .dataframe tbody tr th:only-of-type {\n",
       "        vertical-align: middle;\n",
       "    }\n",
       "\n",
       "    .dataframe tbody tr th {\n",
       "        vertical-align: top;\n",
       "    }\n",
       "\n",
       "    .dataframe thead th {\n",
       "        text-align: right;\n",
       "    }\n",
       "</style>\n",
       "<table border=\"1\" class=\"dataframe\">\n",
       "  <thead>\n",
       "    <tr style=\"text-align: right;\">\n",
       "      <th></th>\n",
       "      <th>no bancarotta</th>\n",
       "      <th>bancarotta</th>\n",
       "    </tr>\n",
       "  </thead>\n",
       "  <tbody>\n",
       "    <tr>\n",
       "      <th>no bancarotta</th>\n",
       "      <td>2883</td>\n",
       "      <td>417</td>\n",
       "    </tr>\n",
       "    <tr>\n",
       "      <th>bancarotta</th>\n",
       "      <td>26</td>\n",
       "      <td>84</td>\n",
       "    </tr>\n",
       "  </tbody>\n",
       "</table>\n",
       "</div>"
      ],
      "text/plain": [
       "               no bancarotta   bancarotta\n",
       "no bancarotta            2883         417\n",
       "bancarotta                 26          84"
      ]
     },
     "metadata": {},
     "output_type": "display_data"
    }
   ],
   "source": [
    "ldas=LDA()\n",
    "ldas.fit(Xtrains,ytrains)\n",
    "y_preds= ldas.predict(Xtests)\n",
    "\n",
    "acc_trains = ldas.score(Xtrains, ytrains)\n",
    "prec_trains = precision_score(ytrains,ldas.predict(Xtrains), average='weighted')\n",
    "rec_trains = recall_score(ytrains,ldas.predict(Xtrains), average='weighted')\n",
    "f1_trains = f1_score(ytrains,ldas.predict(Xtrains), average='weighted')\n",
    "\n",
    "acc_tests = ldas.score(Xtests, ytests)\n",
    "prec_tests = precision_score(ytests,y_preds, average='weighted')\n",
    "rec_tests = recall_score(ytests,y_preds, average='weighted')\n",
    "f1_tests = f1_score(ytests,y_preds, average='weighted')\n",
    "\n",
    "df_perfs = pd.DataFrame({'acc': [acc_trains, acc_tests], \n",
    "                        'prec': [prec_trains, prec_tests], \n",
    "                        'rec': [rec_trains, rec_tests],\n",
    "                        'f1': [f1_trains, f1_tests]\n",
    "                       },\n",
    "                      index=['train lda no pca no solvency over', 'test lda no pca no solvency over'])\n",
    "\n",
    "cmats = confusion_matrix(ytests,y_preds)\n",
    "df_cmats = pd.DataFrame(cmats, columns=['no bancarotta','bancarotta'], \n",
    "                        index=['no bancarotta','bancarotta'])\n",
    "\n",
    "\n",
    "print('')\n",
    "print('LDA random oversampling no solvency')\n",
    "display(df_perfs)\n",
    "display(df_cmats)\n",
    "print('')\n",
    "print('LDA random oversampling all')\n",
    "display(df_perfo)\n",
    "display(df_cmato)"
   ]
  },
  {
   "cell_type": "markdown",
   "id": "younger-answer",
   "metadata": {
    "tags": []
   },
   "source": [
    "Gli score restano circa invariati."
   ]
  },
  {
   "cell_type": "markdown",
   "id": "concerned-prescription",
   "metadata": {
    "tags": []
   },
   "source": [
    "## Data set senza profitability"
   ]
  },
  {
   "cell_type": "code",
   "execution_count": 41,
   "id": "physical-handbook",
   "metadata": {
    "tags": []
   },
   "outputs": [],
   "source": [
    "Xtrainp=Xtrain_over.copy()\n",
    "ytrainp=ytrain_over.copy()\n",
    "Xtrainp=Xtrainp.drop([Xtrainp.columns[93],Xtrainp.columns[89],Xtrainp.columns[88],Xtrainp.columns[85]],axis=1)\n",
    "Xtrainp=Xtrainp.drop([Xtrainp.columns[69],Xtrainp.columns[68],Xtrainp.columns[67]],axis=1) \n",
    "Xtrainp=Xtrainp.drop([Xtrainp.columns[22],Xtrainp.columns[18]],axis=1) \n",
    "Xtrainp=Xtrainp.drop([Xtrainp.columns[i] for i in range(0,10)],axis=1) \n",
    "\n",
    "Xtestp=Xtest.copy()\n",
    "ytestp=ytest.copy()\n",
    "Xtestp=Xtestp.drop([Xtestp.columns[93],Xtestp.columns[89],Xtestp.columns[88],Xtestp.columns[85]],axis=1)\n",
    "Xtestp=Xtestp.drop([Xtestp.columns[69],Xtestp.columns[68],Xtestp.columns[67]],axis=1) \n",
    "Xtestp=Xtestp.drop([Xtestp.columns[22],Xtestp.columns[18]],axis=1) \n",
    "Xtestp=Xtestp.drop([Xtestp.columns[i] for i in range(0,10)],axis=1)\n",
    "\n",
    "#display(Xtrain_over.shape)\n",
    "#display(Xtrainp.shape)\n",
    "#display(Xtest.shape)\n",
    "#display(Xtestp.shape)"
   ]
  },
  {
   "cell_type": "code",
   "execution_count": 42,
   "id": "functional-peeing",
   "metadata": {
    "tags": []
   },
   "outputs": [
    {
     "name": "stdout",
     "output_type": "stream",
     "text": [
      "\n",
      "LDA random oversampling no profitability\n"
     ]
    },
    {
     "data": {
      "text/html": [
       "<div>\n",
       "<style scoped>\n",
       "    .dataframe tbody tr th:only-of-type {\n",
       "        vertical-align: middle;\n",
       "    }\n",
       "\n",
       "    .dataframe tbody tr th {\n",
       "        vertical-align: top;\n",
       "    }\n",
       "\n",
       "    .dataframe thead th {\n",
       "        text-align: right;\n",
       "    }\n",
       "</style>\n",
       "<table border=\"1\" class=\"dataframe\">\n",
       "  <thead>\n",
       "    <tr style=\"text-align: right;\">\n",
       "      <th></th>\n",
       "      <th>acc</th>\n",
       "      <th>prec</th>\n",
       "      <th>rec</th>\n",
       "      <th>f1</th>\n",
       "    </tr>\n",
       "  </thead>\n",
       "  <tbody>\n",
       "    <tr>\n",
       "      <th>train lda no pca no profitability over</th>\n",
       "      <td>0.886329</td>\n",
       "      <td>0.886841</td>\n",
       "      <td>0.886329</td>\n",
       "      <td>0.886292</td>\n",
       "    </tr>\n",
       "    <tr>\n",
       "      <th>test lda no pca no profitability over</th>\n",
       "      <td>0.855425</td>\n",
       "      <td>0.961996</td>\n",
       "      <td>0.855425</td>\n",
       "      <td>0.898233</td>\n",
       "    </tr>\n",
       "  </tbody>\n",
       "</table>\n",
       "</div>"
      ],
      "text/plain": [
       "                                             acc      prec       rec        f1\n",
       "train lda no pca no profitability over  0.886329  0.886841  0.886329  0.886292\n",
       "test lda no pca no profitability over   0.855425  0.961996  0.855425  0.898233"
      ]
     },
     "metadata": {},
     "output_type": "display_data"
    },
    {
     "data": {
      "text/html": [
       "<div>\n",
       "<style scoped>\n",
       "    .dataframe tbody tr th:only-of-type {\n",
       "        vertical-align: middle;\n",
       "    }\n",
       "\n",
       "    .dataframe tbody tr th {\n",
       "        vertical-align: top;\n",
       "    }\n",
       "\n",
       "    .dataframe thead th {\n",
       "        text-align: right;\n",
       "    }\n",
       "</style>\n",
       "<table border=\"1\" class=\"dataframe\">\n",
       "  <thead>\n",
       "    <tr style=\"text-align: right;\">\n",
       "      <th></th>\n",
       "      <th>no bancarotta</th>\n",
       "      <th>bancarotta</th>\n",
       "    </tr>\n",
       "  </thead>\n",
       "  <tbody>\n",
       "    <tr>\n",
       "      <th>no bancarotta</th>\n",
       "      <td>2838</td>\n",
       "      <td>462</td>\n",
       "    </tr>\n",
       "    <tr>\n",
       "      <th>bancarotta</th>\n",
       "      <td>31</td>\n",
       "      <td>79</td>\n",
       "    </tr>\n",
       "  </tbody>\n",
       "</table>\n",
       "</div>"
      ],
      "text/plain": [
       "               no bancarotta  bancarotta\n",
       "no bancarotta           2838         462\n",
       "bancarotta                31          79"
      ]
     },
     "metadata": {},
     "output_type": "display_data"
    },
    {
     "name": "stdout",
     "output_type": "stream",
     "text": [
      "\n",
      "LDA random oversampling all\n"
     ]
    },
    {
     "data": {
      "text/html": [
       "<div>\n",
       "<style scoped>\n",
       "    .dataframe tbody tr th:only-of-type {\n",
       "        vertical-align: middle;\n",
       "    }\n",
       "\n",
       "    .dataframe tbody tr th {\n",
       "        vertical-align: top;\n",
       "    }\n",
       "\n",
       "    .dataframe thead th {\n",
       "        text-align: right;\n",
       "    }\n",
       "</style>\n",
       "<table border=\"1\" class=\"dataframe\">\n",
       "  <thead>\n",
       "    <tr style=\"text-align: right;\">\n",
       "      <th></th>\n",
       "      <th>acc</th>\n",
       "      <th>prec</th>\n",
       "      <th>rec</th>\n",
       "      <th>f1</th>\n",
       "    </tr>\n",
       "  </thead>\n",
       "  <tbody>\n",
       "    <tr>\n",
       "      <th>train lda no pca over</th>\n",
       "      <td>0.898909</td>\n",
       "      <td>0.899909</td>\n",
       "      <td>0.898909</td>\n",
       "      <td>0.898846</td>\n",
       "    </tr>\n",
       "    <tr>\n",
       "      <th>test lda no pca over</th>\n",
       "      <td>0.870088</td>\n",
       "      <td>0.964501</td>\n",
       "      <td>0.870088</td>\n",
       "      <td>0.907565</td>\n",
       "    </tr>\n",
       "  </tbody>\n",
       "</table>\n",
       "</div>"
      ],
      "text/plain": [
       "                            acc      prec       rec        f1\n",
       "train lda no pca over  0.898909  0.899909  0.898909  0.898846\n",
       "test lda no pca over   0.870088  0.964501  0.870088  0.907565"
      ]
     },
     "metadata": {},
     "output_type": "display_data"
    },
    {
     "data": {
      "text/html": [
       "<div>\n",
       "<style scoped>\n",
       "    .dataframe tbody tr th:only-of-type {\n",
       "        vertical-align: middle;\n",
       "    }\n",
       "\n",
       "    .dataframe tbody tr th {\n",
       "        vertical-align: top;\n",
       "    }\n",
       "\n",
       "    .dataframe thead th {\n",
       "        text-align: right;\n",
       "    }\n",
       "</style>\n",
       "<table border=\"1\" class=\"dataframe\">\n",
       "  <thead>\n",
       "    <tr style=\"text-align: right;\">\n",
       "      <th></th>\n",
       "      <th>no bancarotta</th>\n",
       "      <th>bancarotta</th>\n",
       "    </tr>\n",
       "  </thead>\n",
       "  <tbody>\n",
       "    <tr>\n",
       "      <th>no bancarotta</th>\n",
       "      <td>2883</td>\n",
       "      <td>417</td>\n",
       "    </tr>\n",
       "    <tr>\n",
       "      <th>bancarotta</th>\n",
       "      <td>26</td>\n",
       "      <td>84</td>\n",
       "    </tr>\n",
       "  </tbody>\n",
       "</table>\n",
       "</div>"
      ],
      "text/plain": [
       "               no bancarotta   bancarotta\n",
       "no bancarotta            2883         417\n",
       "bancarotta                 26          84"
      ]
     },
     "metadata": {},
     "output_type": "display_data"
    }
   ],
   "source": [
    "ldap=LDA()\n",
    "ldap.fit(Xtrainp,ytrainp)\n",
    "y_predp= ldap.predict(Xtestp)\n",
    "\n",
    "acc_trainp = ldap.score(Xtrainp, ytrainp)\n",
    "prec_trainp = precision_score(ytrainp,ldap.predict(Xtrainp), average='weighted')\n",
    "rec_trainp = recall_score(ytrainp,ldap.predict(Xtrainp), average='weighted')\n",
    "f1_trainp = f1_score(ytrainp,ldap.predict(Xtrainp), average='weighted')\n",
    "\n",
    "acc_testp = ldap.score(Xtestp, ytestp)\n",
    "prec_testp = precision_score(ytestp,y_predp, average='weighted')\n",
    "rec_testp = recall_score(ytestp,y_predp, average='weighted')\n",
    "f1_testp = f1_score(ytestp,y_predp, average='weighted')\n",
    "\n",
    "df_perfp = pd.DataFrame({'acc': [acc_trainp, acc_testp], \n",
    "                        'prec': [prec_trainp, prec_testp], \n",
    "                        'rec': [rec_trainp, rec_testp],\n",
    "                        'f1': [f1_trainp, f1_testp]\n",
    "                       },\n",
    "                      index=['train lda no pca no profitability over', 'test lda no pca no profitability over'])\n",
    "\n",
    "cmatp = confusion_matrix(ytestp,y_predp)\n",
    "df_cmatp = pd.DataFrame(cmatp, columns=['no bancarotta','bancarotta'], \n",
    "                        index=['no bancarotta','bancarotta'])\n",
    "\n",
    "print('')\n",
    "print('LDA random oversampling no profitability')\n",
    "display(df_perfp)\n",
    "display(df_cmatp)\n",
    "print('')\n",
    "print('LDA random oversampling all')\n",
    "display(df_perfo)\n",
    "display(df_cmato)"
   ]
  },
  {
   "cell_type": "markdown",
   "id": "delayed-shipping",
   "metadata": {
    "tags": []
   },
   "source": [
    "Gli score peggiorano anche se di poco."
   ]
  },
  {
   "cell_type": "markdown",
   "id": "obvious-messenger",
   "metadata": {
    "tags": []
   },
   "source": [
    "## Data set senza turnover ratios"
   ]
  },
  {
   "cell_type": "code",
   "execution_count": 43,
   "id": "dominant-toner",
   "metadata": {
    "tags": []
   },
   "outputs": [],
   "source": [
    "Xtraint=Xtrain_over.copy()\n",
    "ytraint=ytrain_over.copy()\n",
    "Xtraint=Xtraint.drop([Xtraint.columns[87]],axis=1)\n",
    "Xtraint=Xtraint.drop([Xtraint.columns[i] for i in range(70,75)],axis=1) \n",
    "Xtraint=Xtraint.drop([Xtraint.columns[i] for i in range(43,50)],axis=1) \n",
    "\n",
    "Xtestt=Xtest.copy()\n",
    "ytestt=ytest.copy()\n",
    "Xtestt=Xtestt.drop([Xtestt.columns[87]],axis=1)\n",
    "Xtestt=Xtestt.drop([Xtestt.columns[i] for i in range(70,75)],axis=1) \n",
    "Xtestt=Xtestt.drop([Xtestt.columns[i] for i in range(43,50)],axis=1) \n",
    "\n",
    "#display(Xtrain_over.shape)\n",
    "#display(Xtraint.shape)\n",
    "#display(Xtest.shape)\n",
    "#display(Xtestt.shape)"
   ]
  },
  {
   "cell_type": "code",
   "execution_count": 44,
   "id": "prepared-research",
   "metadata": {
    "tags": []
   },
   "outputs": [
    {
     "name": "stdout",
     "output_type": "stream",
     "text": [
      "\n",
      "LDA random oversampling no turnover ratios\n"
     ]
    },
    {
     "data": {
      "text/html": [
       "<div>\n",
       "<style scoped>\n",
       "    .dataframe tbody tr th:only-of-type {\n",
       "        vertical-align: middle;\n",
       "    }\n",
       "\n",
       "    .dataframe tbody tr th {\n",
       "        vertical-align: top;\n",
       "    }\n",
       "\n",
       "    .dataframe thead th {\n",
       "        text-align: right;\n",
       "    }\n",
       "</style>\n",
       "<table border=\"1\" class=\"dataframe\">\n",
       "  <thead>\n",
       "    <tr style=\"text-align: right;\">\n",
       "      <th></th>\n",
       "      <th>acc</th>\n",
       "      <th>prec</th>\n",
       "      <th>rec</th>\n",
       "      <th>f1</th>\n",
       "    </tr>\n",
       "  </thead>\n",
       "  <tbody>\n",
       "    <tr>\n",
       "      <th>train lda no pca no turnover ratios over</th>\n",
       "      <td>0.876629</td>\n",
       "      <td>0.877179</td>\n",
       "      <td>0.876629</td>\n",
       "      <td>0.876584</td>\n",
       "    </tr>\n",
       "    <tr>\n",
       "      <th>test lda no pca no turnover ratios over</th>\n",
       "      <td>0.859531</td>\n",
       "      <td>0.964402</td>\n",
       "      <td>0.859531</td>\n",
       "      <td>0.901074</td>\n",
       "    </tr>\n",
       "  </tbody>\n",
       "</table>\n",
       "</div>"
      ],
      "text/plain": [
       "                                               acc      prec       rec  \\\n",
       "train lda no pca no turnover ratios over  0.876629  0.877179  0.876629   \n",
       "test lda no pca no turnover ratios over   0.859531  0.964402  0.859531   \n",
       "\n",
       "                                                f1  \n",
       "train lda no pca no turnover ratios over  0.876584  \n",
       "test lda no pca no turnover ratios over   0.901074  "
      ]
     },
     "metadata": {},
     "output_type": "display_data"
    },
    {
     "data": {
      "text/html": [
       "<div>\n",
       "<style scoped>\n",
       "    .dataframe tbody tr th:only-of-type {\n",
       "        vertical-align: middle;\n",
       "    }\n",
       "\n",
       "    .dataframe tbody tr th {\n",
       "        vertical-align: top;\n",
       "    }\n",
       "\n",
       "    .dataframe thead th {\n",
       "        text-align: right;\n",
       "    }\n",
       "</style>\n",
       "<table border=\"1\" class=\"dataframe\">\n",
       "  <thead>\n",
       "    <tr style=\"text-align: right;\">\n",
       "      <th></th>\n",
       "      <th>no bancarotta</th>\n",
       "      <th>bancarotta</th>\n",
       "    </tr>\n",
       "  </thead>\n",
       "  <tbody>\n",
       "    <tr>\n",
       "      <th>no bancarotta</th>\n",
       "      <td>2846</td>\n",
       "      <td>454</td>\n",
       "    </tr>\n",
       "    <tr>\n",
       "      <th>bancarotta</th>\n",
       "      <td>25</td>\n",
       "      <td>85</td>\n",
       "    </tr>\n",
       "  </tbody>\n",
       "</table>\n",
       "</div>"
      ],
      "text/plain": [
       "               no bancarotta  bancarotta\n",
       "no bancarotta           2846         454\n",
       "bancarotta                25          85"
      ]
     },
     "metadata": {},
     "output_type": "display_data"
    },
    {
     "name": "stdout",
     "output_type": "stream",
     "text": [
      "\n",
      "LDA random oversampling all\n"
     ]
    },
    {
     "data": {
      "text/html": [
       "<div>\n",
       "<style scoped>\n",
       "    .dataframe tbody tr th:only-of-type {\n",
       "        vertical-align: middle;\n",
       "    }\n",
       "\n",
       "    .dataframe tbody tr th {\n",
       "        vertical-align: top;\n",
       "    }\n",
       "\n",
       "    .dataframe thead th {\n",
       "        text-align: right;\n",
       "    }\n",
       "</style>\n",
       "<table border=\"1\" class=\"dataframe\">\n",
       "  <thead>\n",
       "    <tr style=\"text-align: right;\">\n",
       "      <th></th>\n",
       "      <th>acc</th>\n",
       "      <th>prec</th>\n",
       "      <th>rec</th>\n",
       "      <th>f1</th>\n",
       "    </tr>\n",
       "  </thead>\n",
       "  <tbody>\n",
       "    <tr>\n",
       "      <th>train lda no pca over</th>\n",
       "      <td>0.898909</td>\n",
       "      <td>0.899909</td>\n",
       "      <td>0.898909</td>\n",
       "      <td>0.898846</td>\n",
       "    </tr>\n",
       "    <tr>\n",
       "      <th>test lda no pca over</th>\n",
       "      <td>0.870088</td>\n",
       "      <td>0.964501</td>\n",
       "      <td>0.870088</td>\n",
       "      <td>0.907565</td>\n",
       "    </tr>\n",
       "  </tbody>\n",
       "</table>\n",
       "</div>"
      ],
      "text/plain": [
       "                            acc      prec       rec        f1\n",
       "train lda no pca over  0.898909  0.899909  0.898909  0.898846\n",
       "test lda no pca over   0.870088  0.964501  0.870088  0.907565"
      ]
     },
     "metadata": {},
     "output_type": "display_data"
    },
    {
     "data": {
      "text/html": [
       "<div>\n",
       "<style scoped>\n",
       "    .dataframe tbody tr th:only-of-type {\n",
       "        vertical-align: middle;\n",
       "    }\n",
       "\n",
       "    .dataframe tbody tr th {\n",
       "        vertical-align: top;\n",
       "    }\n",
       "\n",
       "    .dataframe thead th {\n",
       "        text-align: right;\n",
       "    }\n",
       "</style>\n",
       "<table border=\"1\" class=\"dataframe\">\n",
       "  <thead>\n",
       "    <tr style=\"text-align: right;\">\n",
       "      <th></th>\n",
       "      <th>no bancarotta</th>\n",
       "      <th>bancarotta</th>\n",
       "    </tr>\n",
       "  </thead>\n",
       "  <tbody>\n",
       "    <tr>\n",
       "      <th>no bancarotta</th>\n",
       "      <td>2883</td>\n",
       "      <td>417</td>\n",
       "    </tr>\n",
       "    <tr>\n",
       "      <th>bancarotta</th>\n",
       "      <td>26</td>\n",
       "      <td>84</td>\n",
       "    </tr>\n",
       "  </tbody>\n",
       "</table>\n",
       "</div>"
      ],
      "text/plain": [
       "               no bancarotta   bancarotta\n",
       "no bancarotta            2883         417\n",
       "bancarotta                 26          84"
      ]
     },
     "metadata": {},
     "output_type": "display_data"
    }
   ],
   "source": [
    "ldat=LDA()\n",
    "ldat.fit(Xtraint,ytraint)\n",
    "y_predt= ldat.predict(Xtestt)\n",
    "\n",
    "acc_traint = ldat.score(Xtraint, ytraint)\n",
    "prec_traint = precision_score(ytraint,ldat.predict(Xtraint), average='weighted')\n",
    "rec_traint = recall_score(ytraint,ldat.predict(Xtraint), average='weighted')\n",
    "f1_traint = f1_score(ytraint,ldat.predict(Xtraint), average='weighted')\n",
    "\n",
    "acc_testt = ldat.score(Xtestt, ytestt)\n",
    "prec_testt = precision_score(ytestt,y_predt, average='weighted')\n",
    "rec_testt = recall_score(ytestt,y_predt, average='weighted')\n",
    "f1_testt = f1_score(ytestt,y_predt, average='weighted')\n",
    "\n",
    "df_perft = pd.DataFrame({'acc': [acc_traint, acc_testt], \n",
    "                        'prec': [prec_traint, prec_testt], \n",
    "                        'rec': [rec_traint, rec_testt],\n",
    "                        'f1': [f1_traint, f1_testt]\n",
    "                       },\n",
    "                      index=['train lda no pca no turnover ratios over', 'test lda no pca no turnover ratios over'])\n",
    "\n",
    "cmatt = confusion_matrix(ytestt,y_predt)\n",
    "df_cmatt = pd.DataFrame(cmatt, columns=['no bancarotta','bancarotta'], \n",
    "                        index=['no bancarotta','bancarotta'])\n",
    "\n",
    "print('')\n",
    "print('LDA random oversampling no turnover ratios')\n",
    "display(df_perft)\n",
    "display(df_cmatt)\n",
    "print('')\n",
    "print('LDA random oversampling all')\n",
    "display(df_perfo)\n",
    "display(df_cmato)"
   ]
  },
  {
   "cell_type": "markdown",
   "id": "biological-mercury",
   "metadata": {
    "tags": []
   },
   "source": [
    "Gli score restano circa invariati."
   ]
  },
  {
   "cell_type": "markdown",
   "id": "subject-finger",
   "metadata": {
    "tags": []
   },
   "source": [
    "## Data set senza capital structure ratios"
   ]
  },
  {
   "cell_type": "code",
   "execution_count": 45,
   "id": "sealed-boost",
   "metadata": {
    "tags": []
   },
   "outputs": [],
   "source": [
    "Xtrainsr=Xtrain_over.copy()\n",
    "ytrainsr=ytrain_over.copy()\n",
    "Xtrainsr=Xtrainsr.drop([Xtrainsr.columns[i] for i in range(90,93)],axis=1) \n",
    "Xtrainsr=Xtrainsr.drop([Xtrainsr.columns[i] for i in range(75,79)],axis=1) \n",
    "Xtrainsr=Xtrainsr.drop([Xtrainsr.columns[38],Xtrainsr.columns[37]],axis=1)\n",
    "Xtestsr=Xtest.copy()\n",
    "ytestsr=ytest.copy()\n",
    "Xtestsr=Xtestsr.drop([Xtestsr.columns[i] for i in range(90,93)],axis=1) \n",
    "Xtestsr=Xtestsr.drop([Xtestsr.columns[i] for i in range(75,79)],axis=1) \n",
    "Xtestsr=Xtestsr.drop([Xtestsr.columns[38],Xtrainsr.columns[37]],axis=1)\n",
    "#display(Xtrain_over.shape)\n",
    "#display(Xtrainsr.shape)\n",
    "#display(Xtest.shape)\n",
    "#display(Xtestsr.shape)"
   ]
  },
  {
   "cell_type": "code",
   "execution_count": 46,
   "id": "soviet-scout",
   "metadata": {
    "tags": []
   },
   "outputs": [
    {
     "name": "stdout",
     "output_type": "stream",
     "text": [
      "\n",
      "LDA random oversampling no capital structure ratios\n"
     ]
    },
    {
     "data": {
      "text/html": [
       "<div>\n",
       "<style scoped>\n",
       "    .dataframe tbody tr th:only-of-type {\n",
       "        vertical-align: middle;\n",
       "    }\n",
       "\n",
       "    .dataframe tbody tr th {\n",
       "        vertical-align: top;\n",
       "    }\n",
       "\n",
       "    .dataframe thead th {\n",
       "        text-align: right;\n",
       "    }\n",
       "</style>\n",
       "<table border=\"1\" class=\"dataframe\">\n",
       "  <thead>\n",
       "    <tr style=\"text-align: right;\">\n",
       "      <th></th>\n",
       "      <th>acc</th>\n",
       "      <th>prec</th>\n",
       "      <th>rec</th>\n",
       "      <th>f1</th>\n",
       "    </tr>\n",
       "  </thead>\n",
       "  <tbody>\n",
       "    <tr>\n",
       "      <th>train lda no pca no cap struct ratios over</th>\n",
       "      <td>0.896332</td>\n",
       "      <td>0.897027</td>\n",
       "      <td>0.896332</td>\n",
       "      <td>0.896287</td>\n",
       "    </tr>\n",
       "    <tr>\n",
       "      <th>test lda no pca no cap struct ratio over</th>\n",
       "      <td>0.031672</td>\n",
       "      <td>0.323585</td>\n",
       "      <td>0.031672</td>\n",
       "      <td>0.003117</td>\n",
       "    </tr>\n",
       "  </tbody>\n",
       "</table>\n",
       "</div>"
      ],
      "text/plain": [
       "                                                 acc      prec       rec  \\\n",
       "train lda no pca no cap struct ratios over  0.896332  0.897027  0.896332   \n",
       "test lda no pca no cap struct ratio over    0.031672  0.323585  0.031672   \n",
       "\n",
       "                                                  f1  \n",
       "train lda no pca no cap struct ratios over  0.896287  \n",
       "test lda no pca no cap struct ratio over    0.003117  "
      ]
     },
     "metadata": {},
     "output_type": "display_data"
    },
    {
     "data": {
      "text/html": [
       "<div>\n",
       "<style scoped>\n",
       "    .dataframe tbody tr th:only-of-type {\n",
       "        vertical-align: middle;\n",
       "    }\n",
       "\n",
       "    .dataframe tbody tr th {\n",
       "        vertical-align: top;\n",
       "    }\n",
       "\n",
       "    .dataframe thead th {\n",
       "        text-align: right;\n",
       "    }\n",
       "</style>\n",
       "<table border=\"1\" class=\"dataframe\">\n",
       "  <thead>\n",
       "    <tr style=\"text-align: right;\">\n",
       "      <th></th>\n",
       "      <th>no bancarotta</th>\n",
       "      <th>bancarotta</th>\n",
       "    </tr>\n",
       "  </thead>\n",
       "  <tbody>\n",
       "    <tr>\n",
       "      <th>no bancarotta</th>\n",
       "      <td>2</td>\n",
       "      <td>3298</td>\n",
       "    </tr>\n",
       "    <tr>\n",
       "      <th>bancarotta</th>\n",
       "      <td>4</td>\n",
       "      <td>106</td>\n",
       "    </tr>\n",
       "  </tbody>\n",
       "</table>\n",
       "</div>"
      ],
      "text/plain": [
       "               no bancarotta  bancarotta\n",
       "no bancarotta              2        3298\n",
       "bancarotta                 4         106"
      ]
     },
     "metadata": {},
     "output_type": "display_data"
    },
    {
     "name": "stdout",
     "output_type": "stream",
     "text": [
      "\n",
      "LDA random oversampling all\n"
     ]
    },
    {
     "data": {
      "text/html": [
       "<div>\n",
       "<style scoped>\n",
       "    .dataframe tbody tr th:only-of-type {\n",
       "        vertical-align: middle;\n",
       "    }\n",
       "\n",
       "    .dataframe tbody tr th {\n",
       "        vertical-align: top;\n",
       "    }\n",
       "\n",
       "    .dataframe thead th {\n",
       "        text-align: right;\n",
       "    }\n",
       "</style>\n",
       "<table border=\"1\" class=\"dataframe\">\n",
       "  <thead>\n",
       "    <tr style=\"text-align: right;\">\n",
       "      <th></th>\n",
       "      <th>acc</th>\n",
       "      <th>prec</th>\n",
       "      <th>rec</th>\n",
       "      <th>f1</th>\n",
       "    </tr>\n",
       "  </thead>\n",
       "  <tbody>\n",
       "    <tr>\n",
       "      <th>train lda no pca over</th>\n",
       "      <td>0.898909</td>\n",
       "      <td>0.899909</td>\n",
       "      <td>0.898909</td>\n",
       "      <td>0.898846</td>\n",
       "    </tr>\n",
       "    <tr>\n",
       "      <th>test lda no pca over</th>\n",
       "      <td>0.870088</td>\n",
       "      <td>0.964501</td>\n",
       "      <td>0.870088</td>\n",
       "      <td>0.907565</td>\n",
       "    </tr>\n",
       "  </tbody>\n",
       "</table>\n",
       "</div>"
      ],
      "text/plain": [
       "                            acc      prec       rec        f1\n",
       "train lda no pca over  0.898909  0.899909  0.898909  0.898846\n",
       "test lda no pca over   0.870088  0.964501  0.870088  0.907565"
      ]
     },
     "metadata": {},
     "output_type": "display_data"
    },
    {
     "data": {
      "text/html": [
       "<div>\n",
       "<style scoped>\n",
       "    .dataframe tbody tr th:only-of-type {\n",
       "        vertical-align: middle;\n",
       "    }\n",
       "\n",
       "    .dataframe tbody tr th {\n",
       "        vertical-align: top;\n",
       "    }\n",
       "\n",
       "    .dataframe thead th {\n",
       "        text-align: right;\n",
       "    }\n",
       "</style>\n",
       "<table border=\"1\" class=\"dataframe\">\n",
       "  <thead>\n",
       "    <tr style=\"text-align: right;\">\n",
       "      <th></th>\n",
       "      <th>no bancarotta</th>\n",
       "      <th>bancarotta</th>\n",
       "    </tr>\n",
       "  </thead>\n",
       "  <tbody>\n",
       "    <tr>\n",
       "      <th>no bancarotta</th>\n",
       "      <td>2883</td>\n",
       "      <td>417</td>\n",
       "    </tr>\n",
       "    <tr>\n",
       "      <th>bancarotta</th>\n",
       "      <td>26</td>\n",
       "      <td>84</td>\n",
       "    </tr>\n",
       "  </tbody>\n",
       "</table>\n",
       "</div>"
      ],
      "text/plain": [
       "               no bancarotta   bancarotta\n",
       "no bancarotta            2883         417\n",
       "bancarotta                 26          84"
      ]
     },
     "metadata": {},
     "output_type": "display_data"
    }
   ],
   "source": [
    "ldasr=LDA()\n",
    "ldasr.fit(Xtrainsr,ytrainsr)\n",
    "y_predsr= ldasr.predict(Xtestsr)\n",
    "\n",
    "acc_trainsr = ldasr.score(Xtrainsr, ytrainsr)\n",
    "prec_trainsr = precision_score(ytrainsr,ldasr.predict(Xtrainsr), average='weighted')\n",
    "rec_trainsr = recall_score(ytrainsr,ldasr.predict(Xtrainsr), average='weighted')\n",
    "f1_trainsr = f1_score(ytrainsr,ldasr.predict(Xtrainsr), average='weighted')\n",
    "\n",
    "acc_testsr = ldasr.score(Xtestsr, ytestsr)\n",
    "prec_testsr = precision_score(ytestsr,y_predsr, average='weighted')\n",
    "rec_testsr = recall_score(ytestsr,y_predsr, average='weighted')\n",
    "f1_testsr = f1_score(ytestsr,y_predsr, average='weighted')\n",
    "\n",
    "df_perfsr = pd.DataFrame({'acc': [acc_trainsr, acc_testsr], \n",
    "                        'prec': [prec_trainsr, prec_testsr], \n",
    "                        'rec': [rec_trainsr, rec_testsr],\n",
    "                        'f1': [f1_trainsr, f1_testsr]\n",
    "                       },\n",
    "                      index=['train lda no pca no cap struct ratios over', 'test lda no pca no cap struct ratio over'])\n",
    "\n",
    "cmatsr = confusion_matrix(ytestsr,y_predsr)\n",
    "df_cmatsr = pd.DataFrame(cmatsr, columns=['no bancarotta','bancarotta'], \n",
    "                        index=['no bancarotta','bancarotta'])\n",
    "\n",
    "print('')\n",
    "print('LDA random oversampling no capital structure ratios')\n",
    "display(df_perfsr)\n",
    "display(df_cmatsr)\n",
    "print('')\n",
    "print('LDA random oversampling all')\n",
    "display(df_perfo)\n",
    "display(df_cmato)"
   ]
  },
  {
   "cell_type": "markdown",
   "id": "hazardous-mexican",
   "metadata": {
    "tags": []
   },
   "source": [
    "Gli score peggiorano nettamente."
   ]
  },
  {
   "cell_type": "markdown",
   "id": "southeast-greeting",
   "metadata": {
    "tags": []
   },
   "source": [
    "## Data set senza cash flow ratios"
   ]
  },
  {
   "cell_type": "code",
   "execution_count": 47,
   "id": "restricted-corner",
   "metadata": {
    "tags": []
   },
   "outputs": [],
   "source": [
    "Xtraincf=Xtrain_over.copy()\n",
    "ytraincf=ytrain_over.copy()\n",
    "Xtraincf=Xtraincf.drop([Xtraincf.columns[i] for i in range(79,83)],axis=1) \n",
    "Xtraincf=Xtraincf.drop([Xtraincf.columns[12]],axis=1)\n",
    "Xtestcf=Xtest.copy()\n",
    "ytestcf=ytest.copy()\n",
    "Xtestcf=Xtestcf.drop([Xtestcf.columns[i] for i in range(79,83)],axis=1) \n",
    "Xtestcf=Xtestcf.drop([Xtestcf.columns[12]],axis=1)\n",
    "#display(Xtrain_over.shape)\n",
    "#display(Xtraincf.shape)\n",
    "#display(Xtest.shape)\n",
    "#display(Xtestcf.shape)"
   ]
  },
  {
   "cell_type": "code",
   "execution_count": 48,
   "id": "ordered-sussex",
   "metadata": {
    "tags": []
   },
   "outputs": [
    {
     "name": "stdout",
     "output_type": "stream",
     "text": [
      "\n",
      "LDA random oversampling no cash flow ratios\n"
     ]
    },
    {
     "data": {
      "text/html": [
       "<div>\n",
       "<style scoped>\n",
       "    .dataframe tbody tr th:only-of-type {\n",
       "        vertical-align: middle;\n",
       "    }\n",
       "\n",
       "    .dataframe tbody tr th {\n",
       "        vertical-align: top;\n",
       "    }\n",
       "\n",
       "    .dataframe thead th {\n",
       "        text-align: right;\n",
       "    }\n",
       "</style>\n",
       "<table border=\"1\" class=\"dataframe\">\n",
       "  <thead>\n",
       "    <tr style=\"text-align: right;\">\n",
       "      <th></th>\n",
       "      <th>acc</th>\n",
       "      <th>prec</th>\n",
       "      <th>rec</th>\n",
       "      <th>f1</th>\n",
       "    </tr>\n",
       "  </thead>\n",
       "  <tbody>\n",
       "    <tr>\n",
       "      <th>train lda no pca no cash flow ratios over</th>\n",
       "      <td>0.898303</td>\n",
       "      <td>0.899351</td>\n",
       "      <td>0.898303</td>\n",
       "      <td>0.898236</td>\n",
       "    </tr>\n",
       "    <tr>\n",
       "      <th>test lda no pca no cash flow ratio over</th>\n",
       "      <td>0.869208</td>\n",
       "      <td>0.965200</td>\n",
       "      <td>0.869208</td>\n",
       "      <td>0.907127</td>\n",
       "    </tr>\n",
       "  </tbody>\n",
       "</table>\n",
       "</div>"
      ],
      "text/plain": [
       "                                                acc      prec       rec  \\\n",
       "train lda no pca no cash flow ratios over  0.898303  0.899351  0.898303   \n",
       "test lda no pca no cash flow ratio over    0.869208  0.965200  0.869208   \n",
       "\n",
       "                                                 f1  \n",
       "train lda no pca no cash flow ratios over  0.898236  \n",
       "test lda no pca no cash flow ratio over    0.907127  "
      ]
     },
     "metadata": {},
     "output_type": "display_data"
    },
    {
     "data": {
      "text/html": [
       "<div>\n",
       "<style scoped>\n",
       "    .dataframe tbody tr th:only-of-type {\n",
       "        vertical-align: middle;\n",
       "    }\n",
       "\n",
       "    .dataframe tbody tr th {\n",
       "        vertical-align: top;\n",
       "    }\n",
       "\n",
       "    .dataframe thead th {\n",
       "        text-align: right;\n",
       "    }\n",
       "</style>\n",
       "<table border=\"1\" class=\"dataframe\">\n",
       "  <thead>\n",
       "    <tr style=\"text-align: right;\">\n",
       "      <th></th>\n",
       "      <th>no bancarotta</th>\n",
       "      <th>bancarotta</th>\n",
       "    </tr>\n",
       "  </thead>\n",
       "  <tbody>\n",
       "    <tr>\n",
       "      <th>no bancarotta</th>\n",
       "      <td>2878</td>\n",
       "      <td>422</td>\n",
       "    </tr>\n",
       "    <tr>\n",
       "      <th>bancarotta</th>\n",
       "      <td>24</td>\n",
       "      <td>86</td>\n",
       "    </tr>\n",
       "  </tbody>\n",
       "</table>\n",
       "</div>"
      ],
      "text/plain": [
       "               no bancarotta  bancarotta\n",
       "no bancarotta           2878         422\n",
       "bancarotta                24          86"
      ]
     },
     "metadata": {},
     "output_type": "display_data"
    },
    {
     "name": "stdout",
     "output_type": "stream",
     "text": [
      "\n",
      "LDA random oversampling all\n"
     ]
    },
    {
     "data": {
      "text/html": [
       "<div>\n",
       "<style scoped>\n",
       "    .dataframe tbody tr th:only-of-type {\n",
       "        vertical-align: middle;\n",
       "    }\n",
       "\n",
       "    .dataframe tbody tr th {\n",
       "        vertical-align: top;\n",
       "    }\n",
       "\n",
       "    .dataframe thead th {\n",
       "        text-align: right;\n",
       "    }\n",
       "</style>\n",
       "<table border=\"1\" class=\"dataframe\">\n",
       "  <thead>\n",
       "    <tr style=\"text-align: right;\">\n",
       "      <th></th>\n",
       "      <th>acc</th>\n",
       "      <th>prec</th>\n",
       "      <th>rec</th>\n",
       "      <th>f1</th>\n",
       "    </tr>\n",
       "  </thead>\n",
       "  <tbody>\n",
       "    <tr>\n",
       "      <th>train lda no pca over</th>\n",
       "      <td>0.898909</td>\n",
       "      <td>0.899909</td>\n",
       "      <td>0.898909</td>\n",
       "      <td>0.898846</td>\n",
       "    </tr>\n",
       "    <tr>\n",
       "      <th>test lda no pca over</th>\n",
       "      <td>0.870088</td>\n",
       "      <td>0.964501</td>\n",
       "      <td>0.870088</td>\n",
       "      <td>0.907565</td>\n",
       "    </tr>\n",
       "  </tbody>\n",
       "</table>\n",
       "</div>"
      ],
      "text/plain": [
       "                            acc      prec       rec        f1\n",
       "train lda no pca over  0.898909  0.899909  0.898909  0.898846\n",
       "test lda no pca over   0.870088  0.964501  0.870088  0.907565"
      ]
     },
     "metadata": {},
     "output_type": "display_data"
    },
    {
     "data": {
      "text/html": [
       "<div>\n",
       "<style scoped>\n",
       "    .dataframe tbody tr th:only-of-type {\n",
       "        vertical-align: middle;\n",
       "    }\n",
       "\n",
       "    .dataframe tbody tr th {\n",
       "        vertical-align: top;\n",
       "    }\n",
       "\n",
       "    .dataframe thead th {\n",
       "        text-align: right;\n",
       "    }\n",
       "</style>\n",
       "<table border=\"1\" class=\"dataframe\">\n",
       "  <thead>\n",
       "    <tr style=\"text-align: right;\">\n",
       "      <th></th>\n",
       "      <th>no bancarotta</th>\n",
       "      <th>bancarotta</th>\n",
       "    </tr>\n",
       "  </thead>\n",
       "  <tbody>\n",
       "    <tr>\n",
       "      <th>no bancarotta</th>\n",
       "      <td>2883</td>\n",
       "      <td>417</td>\n",
       "    </tr>\n",
       "    <tr>\n",
       "      <th>bancarotta</th>\n",
       "      <td>26</td>\n",
       "      <td>84</td>\n",
       "    </tr>\n",
       "  </tbody>\n",
       "</table>\n",
       "</div>"
      ],
      "text/plain": [
       "               no bancarotta   bancarotta\n",
       "no bancarotta            2883         417\n",
       "bancarotta                 26          84"
      ]
     },
     "metadata": {},
     "output_type": "display_data"
    }
   ],
   "source": [
    "ldacf=LDA()\n",
    "ldacf.fit(Xtraincf,ytraincf)\n",
    "y_predcf= ldacf.predict(Xtestcf)\n",
    "\n",
    "acc_traincf = ldacf.score(Xtraincf, ytraincf)\n",
    "prec_traincf = precision_score(ytraincf,ldacf.predict(Xtraincf), average='weighted')\n",
    "rec_traincf = recall_score(ytraincf,ldacf.predict(Xtraincf), average='weighted')\n",
    "f1_traincf = f1_score(ytraincf,ldacf.predict(Xtraincf), average='weighted')\n",
    "\n",
    "acc_testcf = ldacf.score(Xtestcf, ytestcf)\n",
    "prec_testcf = precision_score(ytestcf,y_predcf, average='weighted')\n",
    "rec_testcf = recall_score(ytestcf,y_predcf, average='weighted')\n",
    "f1_testcf = f1_score(ytestcf,y_predcf, average='weighted')\n",
    "\n",
    "df_perfcf = pd.DataFrame({'acc': [acc_traincf, acc_testcf], \n",
    "                        'prec': [prec_traincf, prec_testcf], \n",
    "                        'rec': [rec_traincf, rec_testcf],\n",
    "                        'f1': [f1_traincf, f1_testcf]\n",
    "                       },\n",
    "                      index=['train lda no pca no cash flow ratios over', 'test lda no pca no cash flow ratio over'])\n",
    "\n",
    "cmatcf = confusion_matrix(ytestcf,y_predcf)\n",
    "df_cmatcf = pd.DataFrame(cmatcf, columns=['no bancarotta','bancarotta'], \n",
    "                        index=['no bancarotta','bancarotta'])\n",
    "\n",
    "print('')\n",
    "print('LDA random oversampling no cash flow ratios')\n",
    "display(df_perfcf)\n",
    "display(df_cmatcf)\n",
    "print('')\n",
    "print('LDA random oversampling all')\n",
    "display(df_perfo)\n",
    "display(df_cmato)"
   ]
  },
  {
   "cell_type": "markdown",
   "id": "universal-honduras",
   "metadata": {
    "tags": []
   },
   "source": [
    "Gli score restano circa invariati."
   ]
  },
  {
   "cell_type": "markdown",
   "id": "cardiac-seller",
   "metadata": {
    "tags": []
   },
   "source": [
    "## Data set senza growth"
   ]
  },
  {
   "cell_type": "code",
   "execution_count": 49,
   "id": "straight-reservoir",
   "metadata": {
    "tags": []
   },
   "outputs": [],
   "source": [
    "Xtraingr=Xtrain_over.copy()\n",
    "ytraingr=ytrain_over.copy()\n",
    "Xtraingr=Xtraingr.drop([Xtraingr.columns[i] for i in range(23,31)],axis=1) \n",
    "Xtestgr=Xtest.copy()\n",
    "ytestgr=ytest.copy()\n",
    "Xtestgr=Xtestgr.drop([Xtestgr.columns[i] for i in range(23,31)],axis=1) \n",
    "#display(Xtrain_over.shape)\n",
    "#display(Xtraingr.shape)\n",
    "#display(Xtest.shape)\n",
    "#display(Xtestgr.shape)"
   ]
  },
  {
   "cell_type": "code",
   "execution_count": 50,
   "id": "identical-magazine",
   "metadata": {
    "tags": []
   },
   "outputs": [
    {
     "name": "stdout",
     "output_type": "stream",
     "text": [
      "\n",
      "LDA random oversampling no growth\n"
     ]
    },
    {
     "data": {
      "text/html": [
       "<div>\n",
       "<style scoped>\n",
       "    .dataframe tbody tr th:only-of-type {\n",
       "        vertical-align: middle;\n",
       "    }\n",
       "\n",
       "    .dataframe tbody tr th {\n",
       "        vertical-align: top;\n",
       "    }\n",
       "\n",
       "    .dataframe thead th {\n",
       "        text-align: right;\n",
       "    }\n",
       "</style>\n",
       "<table border=\"1\" class=\"dataframe\">\n",
       "  <thead>\n",
       "    <tr style=\"text-align: right;\">\n",
       "      <th></th>\n",
       "      <th>acc</th>\n",
       "      <th>prec</th>\n",
       "      <th>rec</th>\n",
       "      <th>f1</th>\n",
       "    </tr>\n",
       "  </thead>\n",
       "  <tbody>\n",
       "    <tr>\n",
       "      <th>train lda no pca no growth over</th>\n",
       "      <td>0.899060</td>\n",
       "      <td>0.900049</td>\n",
       "      <td>0.899060</td>\n",
       "      <td>0.898998</td>\n",
       "    </tr>\n",
       "    <tr>\n",
       "      <th>test lda no pca no growth over</th>\n",
       "      <td>0.872141</td>\n",
       "      <td>0.965337</td>\n",
       "      <td>0.872141</td>\n",
       "      <td>0.908945</td>\n",
       "    </tr>\n",
       "  </tbody>\n",
       "</table>\n",
       "</div>"
      ],
      "text/plain": [
       "                                      acc      prec       rec        f1\n",
       "train lda no pca no growth over  0.899060  0.900049  0.899060  0.898998\n",
       "test lda no pca no growth over   0.872141  0.965337  0.872141  0.908945"
      ]
     },
     "metadata": {},
     "output_type": "display_data"
    },
    {
     "data": {
      "text/html": [
       "<div>\n",
       "<style scoped>\n",
       "    .dataframe tbody tr th:only-of-type {\n",
       "        vertical-align: middle;\n",
       "    }\n",
       "\n",
       "    .dataframe tbody tr th {\n",
       "        vertical-align: top;\n",
       "    }\n",
       "\n",
       "    .dataframe thead th {\n",
       "        text-align: right;\n",
       "    }\n",
       "</style>\n",
       "<table border=\"1\" class=\"dataframe\">\n",
       "  <thead>\n",
       "    <tr style=\"text-align: right;\">\n",
       "      <th></th>\n",
       "      <th>no bancarotta</th>\n",
       "      <th>bancarotta</th>\n",
       "    </tr>\n",
       "  </thead>\n",
       "  <tbody>\n",
       "    <tr>\n",
       "      <th>no bancarotta</th>\n",
       "      <td>2888</td>\n",
       "      <td>412</td>\n",
       "    </tr>\n",
       "    <tr>\n",
       "      <th>bancarotta</th>\n",
       "      <td>24</td>\n",
       "      <td>86</td>\n",
       "    </tr>\n",
       "  </tbody>\n",
       "</table>\n",
       "</div>"
      ],
      "text/plain": [
       "               no bancarotta  bancarotta\n",
       "no bancarotta           2888         412\n",
       "bancarotta                24          86"
      ]
     },
     "metadata": {},
     "output_type": "display_data"
    },
    {
     "name": "stdout",
     "output_type": "stream",
     "text": [
      "\n",
      "LDA random oversampling all\n"
     ]
    },
    {
     "data": {
      "text/html": [
       "<div>\n",
       "<style scoped>\n",
       "    .dataframe tbody tr th:only-of-type {\n",
       "        vertical-align: middle;\n",
       "    }\n",
       "\n",
       "    .dataframe tbody tr th {\n",
       "        vertical-align: top;\n",
       "    }\n",
       "\n",
       "    .dataframe thead th {\n",
       "        text-align: right;\n",
       "    }\n",
       "</style>\n",
       "<table border=\"1\" class=\"dataframe\">\n",
       "  <thead>\n",
       "    <tr style=\"text-align: right;\">\n",
       "      <th></th>\n",
       "      <th>acc</th>\n",
       "      <th>prec</th>\n",
       "      <th>rec</th>\n",
       "      <th>f1</th>\n",
       "    </tr>\n",
       "  </thead>\n",
       "  <tbody>\n",
       "    <tr>\n",
       "      <th>train lda no pca over</th>\n",
       "      <td>0.898909</td>\n",
       "      <td>0.899909</td>\n",
       "      <td>0.898909</td>\n",
       "      <td>0.898846</td>\n",
       "    </tr>\n",
       "    <tr>\n",
       "      <th>test lda no pca over</th>\n",
       "      <td>0.870088</td>\n",
       "      <td>0.964501</td>\n",
       "      <td>0.870088</td>\n",
       "      <td>0.907565</td>\n",
       "    </tr>\n",
       "  </tbody>\n",
       "</table>\n",
       "</div>"
      ],
      "text/plain": [
       "                            acc      prec       rec        f1\n",
       "train lda no pca over  0.898909  0.899909  0.898909  0.898846\n",
       "test lda no pca over   0.870088  0.964501  0.870088  0.907565"
      ]
     },
     "metadata": {},
     "output_type": "display_data"
    },
    {
     "data": {
      "text/html": [
       "<div>\n",
       "<style scoped>\n",
       "    .dataframe tbody tr th:only-of-type {\n",
       "        vertical-align: middle;\n",
       "    }\n",
       "\n",
       "    .dataframe tbody tr th {\n",
       "        vertical-align: top;\n",
       "    }\n",
       "\n",
       "    .dataframe thead th {\n",
       "        text-align: right;\n",
       "    }\n",
       "</style>\n",
       "<table border=\"1\" class=\"dataframe\">\n",
       "  <thead>\n",
       "    <tr style=\"text-align: right;\">\n",
       "      <th></th>\n",
       "      <th>no bancarotta</th>\n",
       "      <th>bancarotta</th>\n",
       "    </tr>\n",
       "  </thead>\n",
       "  <tbody>\n",
       "    <tr>\n",
       "      <th>no bancarotta</th>\n",
       "      <td>2883</td>\n",
       "      <td>417</td>\n",
       "    </tr>\n",
       "    <tr>\n",
       "      <th>bancarotta</th>\n",
       "      <td>26</td>\n",
       "      <td>84</td>\n",
       "    </tr>\n",
       "  </tbody>\n",
       "</table>\n",
       "</div>"
      ],
      "text/plain": [
       "               no bancarotta   bancarotta\n",
       "no bancarotta            2883         417\n",
       "bancarotta                 26          84"
      ]
     },
     "metadata": {},
     "output_type": "display_data"
    }
   ],
   "source": [
    "ldagr=LDA()\n",
    "ldagr.fit(Xtraingr,ytraingr)\n",
    "y_predgr= ldagr.predict(Xtestgr)\n",
    "\n",
    "acc_traingr = ldagr.score(Xtraingr, ytraingr)\n",
    "prec_traingr = precision_score(ytraingr,ldagr.predict(Xtraingr), average='weighted')\n",
    "rec_traingr = recall_score(ytraingr,ldagr.predict(Xtraingr), average='weighted')\n",
    "f1_traingr = f1_score(ytraingr,ldagr.predict(Xtraingr), average='weighted')\n",
    "\n",
    "acc_testgr = ldagr.score(Xtestgr, ytestgr)\n",
    "prec_testgr = precision_score(ytestgr,y_predgr, average='weighted')\n",
    "rec_testgr = recall_score(ytestgr,y_predgr, average='weighted')\n",
    "f1_testgr = f1_score(ytestgr,y_predgr, average='weighted')\n",
    "\n",
    "df_perfgr = pd.DataFrame({'acc': [acc_traingr, acc_testgr], \n",
    "                        'prec': [prec_traingr, prec_testgr], \n",
    "                        'rec': [rec_traingr, rec_testgr],\n",
    "                        'f1': [f1_traingr, f1_testgr]\n",
    "                       },\n",
    "                      index=['train lda no pca no growth over', 'test lda no pca no growth over'])\n",
    "\n",
    "cmatgr = confusion_matrix(ytestgr,y_predgr)\n",
    "df_cmatgr = pd.DataFrame(cmatgr, columns=['no bancarotta','bancarotta'], \n",
    "                        index=['no bancarotta','bancarotta'])\n",
    "\n",
    "print('')\n",
    "print('LDA random oversampling no growth')\n",
    "display(df_perfgr)\n",
    "display(df_cmatgr)\n",
    "print('')\n",
    "print('LDA random oversampling all')\n",
    "display(df_perfo)\n",
    "display(df_cmato)"
   ]
  },
  {
   "cell_type": "markdown",
   "id": "civic-objective",
   "metadata": {
    "tags": []
   },
   "source": [
    "Gli score migliorano anche se di poco."
   ]
  },
  {
   "cell_type": "markdown",
   "id": "statistical-process",
   "metadata": {
    "tags": []
   },
   "source": [
    "## Data set senza others"
   ]
  },
  {
   "cell_type": "code",
   "execution_count": 51,
   "id": "heavy-apparel",
   "metadata": {
    "tags": []
   },
   "outputs": [],
   "source": [
    "Xtrainoth=Xtrain_over.copy()\n",
    "ytrainoth=ytrain_over.copy()\n",
    "Xtrainoth=Xtrainoth.drop([Xtrainoth.columns[86]],axis=1)\n",
    "Xtrainoth=Xtrainoth.drop([Xtrainoth.columns[i] for i in range(50,53)],axis=1) \n",
    "Xtrainoth=Xtrainoth.drop([Xtrainoth.columns[i] for i in range(19,22)],axis=1)\n",
    "Xtrainoth=Xtrainoth.drop([Xtrainoth.columns[i] for i in range(14,18)],axis=1)\n",
    "Xtrainoth=Xtrainoth.drop([Xtrainoth.columns[11],Xtrainoth.columns[10]],axis=1)\n",
    "Xtestoth=Xtest.copy()\n",
    "ytestoth=ytest.copy()\n",
    "Xtestoth=Xtestoth.drop([Xtestoth.columns[86]],axis=1)\n",
    "Xtestoth=Xtestoth.drop([Xtestoth.columns[i] for i in range(50,53)],axis=1) \n",
    "Xtestoth=Xtestoth.drop([Xtestoth.columns[i] for i in range(19,22)],axis=1) \n",
    "Xtestoth=Xtestoth.drop([Xtestoth.columns[i] for i in range(14,18)],axis=1) \n",
    "Xtestoth=Xtestoth.drop([Xtestoth.columns[11],Xtrainoth.columns[10]],axis=1)\n",
    "#display(Xtrain_over.shape)\n",
    "#display(Xtrainoth.shape)\n",
    "#display(Xtest.shape)\n",
    "#display(Xtestoth.shape)"
   ]
  },
  {
   "cell_type": "code",
   "execution_count": 52,
   "id": "spread-parameter",
   "metadata": {
    "tags": []
   },
   "outputs": [
    {
     "name": "stdout",
     "output_type": "stream",
     "text": [
      "\n",
      "LDA random oversampling no others\n"
     ]
    },
    {
     "data": {
      "text/html": [
       "<div>\n",
       "<style scoped>\n",
       "    .dataframe tbody tr th:only-of-type {\n",
       "        vertical-align: middle;\n",
       "    }\n",
       "\n",
       "    .dataframe tbody tr th {\n",
       "        vertical-align: top;\n",
       "    }\n",
       "\n",
       "    .dataframe thead th {\n",
       "        text-align: right;\n",
       "    }\n",
       "</style>\n",
       "<table border=\"1\" class=\"dataframe\">\n",
       "  <thead>\n",
       "    <tr style=\"text-align: right;\">\n",
       "      <th></th>\n",
       "      <th>acc</th>\n",
       "      <th>prec</th>\n",
       "      <th>rec</th>\n",
       "      <th>f1</th>\n",
       "    </tr>\n",
       "  </thead>\n",
       "  <tbody>\n",
       "    <tr>\n",
       "      <th>train lda no pca no others over</th>\n",
       "      <td>0.898606</td>\n",
       "      <td>0.899654</td>\n",
       "      <td>0.898606</td>\n",
       "      <td>0.898539</td>\n",
       "    </tr>\n",
       "    <tr>\n",
       "      <th>test lda no pca no others over</th>\n",
       "      <td>0.653079</td>\n",
       "      <td>0.937139</td>\n",
       "      <td>0.653079</td>\n",
       "      <td>0.763871</td>\n",
       "    </tr>\n",
       "  </tbody>\n",
       "</table>\n",
       "</div>"
      ],
      "text/plain": [
       "                                      acc      prec       rec        f1\n",
       "train lda no pca no others over  0.898606  0.899654  0.898606  0.898539\n",
       "test lda no pca no others over   0.653079  0.937139  0.653079  0.763871"
      ]
     },
     "metadata": {},
     "output_type": "display_data"
    },
    {
     "data": {
      "text/html": [
       "<div>\n",
       "<style scoped>\n",
       "    .dataframe tbody tr th:only-of-type {\n",
       "        vertical-align: middle;\n",
       "    }\n",
       "\n",
       "    .dataframe tbody tr th {\n",
       "        vertical-align: top;\n",
       "    }\n",
       "\n",
       "    .dataframe thead th {\n",
       "        text-align: right;\n",
       "    }\n",
       "</style>\n",
       "<table border=\"1\" class=\"dataframe\">\n",
       "  <thead>\n",
       "    <tr style=\"text-align: right;\">\n",
       "      <th></th>\n",
       "      <th>no bancarotta</th>\n",
       "      <th>bancarotta</th>\n",
       "    </tr>\n",
       "  </thead>\n",
       "  <tbody>\n",
       "    <tr>\n",
       "      <th>no bancarotta</th>\n",
       "      <td>2191</td>\n",
       "      <td>1109</td>\n",
       "    </tr>\n",
       "    <tr>\n",
       "      <th>bancarotta</th>\n",
       "      <td>74</td>\n",
       "      <td>36</td>\n",
       "    </tr>\n",
       "  </tbody>\n",
       "</table>\n",
       "</div>"
      ],
      "text/plain": [
       "               no bancarotta  bancarotta\n",
       "no bancarotta           2191        1109\n",
       "bancarotta                74          36"
      ]
     },
     "metadata": {},
     "output_type": "display_data"
    },
    {
     "name": "stdout",
     "output_type": "stream",
     "text": [
      "\n",
      "LDA random oversampling all\n"
     ]
    },
    {
     "data": {
      "text/html": [
       "<div>\n",
       "<style scoped>\n",
       "    .dataframe tbody tr th:only-of-type {\n",
       "        vertical-align: middle;\n",
       "    }\n",
       "\n",
       "    .dataframe tbody tr th {\n",
       "        vertical-align: top;\n",
       "    }\n",
       "\n",
       "    .dataframe thead th {\n",
       "        text-align: right;\n",
       "    }\n",
       "</style>\n",
       "<table border=\"1\" class=\"dataframe\">\n",
       "  <thead>\n",
       "    <tr style=\"text-align: right;\">\n",
       "      <th></th>\n",
       "      <th>acc</th>\n",
       "      <th>prec</th>\n",
       "      <th>rec</th>\n",
       "      <th>f1</th>\n",
       "    </tr>\n",
       "  </thead>\n",
       "  <tbody>\n",
       "    <tr>\n",
       "      <th>train lda no pca over</th>\n",
       "      <td>0.898909</td>\n",
       "      <td>0.899909</td>\n",
       "      <td>0.898909</td>\n",
       "      <td>0.898846</td>\n",
       "    </tr>\n",
       "    <tr>\n",
       "      <th>test lda no pca over</th>\n",
       "      <td>0.870088</td>\n",
       "      <td>0.964501</td>\n",
       "      <td>0.870088</td>\n",
       "      <td>0.907565</td>\n",
       "    </tr>\n",
       "  </tbody>\n",
       "</table>\n",
       "</div>"
      ],
      "text/plain": [
       "                            acc      prec       rec        f1\n",
       "train lda no pca over  0.898909  0.899909  0.898909  0.898846\n",
       "test lda no pca over   0.870088  0.964501  0.870088  0.907565"
      ]
     },
     "metadata": {},
     "output_type": "display_data"
    },
    {
     "data": {
      "text/html": [
       "<div>\n",
       "<style scoped>\n",
       "    .dataframe tbody tr th:only-of-type {\n",
       "        vertical-align: middle;\n",
       "    }\n",
       "\n",
       "    .dataframe tbody tr th {\n",
       "        vertical-align: top;\n",
       "    }\n",
       "\n",
       "    .dataframe thead th {\n",
       "        text-align: right;\n",
       "    }\n",
       "</style>\n",
       "<table border=\"1\" class=\"dataframe\">\n",
       "  <thead>\n",
       "    <tr style=\"text-align: right;\">\n",
       "      <th></th>\n",
       "      <th>no bancarotta</th>\n",
       "      <th>bancarotta</th>\n",
       "    </tr>\n",
       "  </thead>\n",
       "  <tbody>\n",
       "    <tr>\n",
       "      <th>no bancarotta</th>\n",
       "      <td>2883</td>\n",
       "      <td>417</td>\n",
       "    </tr>\n",
       "    <tr>\n",
       "      <th>bancarotta</th>\n",
       "      <td>26</td>\n",
       "      <td>84</td>\n",
       "    </tr>\n",
       "  </tbody>\n",
       "</table>\n",
       "</div>"
      ],
      "text/plain": [
       "               no bancarotta   bancarotta\n",
       "no bancarotta            2883         417\n",
       "bancarotta                 26          84"
      ]
     },
     "metadata": {},
     "output_type": "display_data"
    }
   ],
   "source": [
    "ldaoth=LDA()\n",
    "ldaoth.fit(Xtrainoth,ytrainoth)\n",
    "y_predoth= ldaoth.predict(Xtestoth)\n",
    "\n",
    "acc_trainoth = ldaoth.score(Xtrainoth, ytrainoth)\n",
    "prec_trainoth = precision_score(ytrainoth,ldaoth.predict(Xtrainoth), average='weighted')\n",
    "rec_trainoth = recall_score(ytrainoth,ldaoth.predict(Xtrainoth), average='weighted')\n",
    "f1_trainoth = f1_score(ytrainoth,ldaoth.predict(Xtrainoth), average='weighted')\n",
    "\n",
    "acc_testoth = ldaoth.score(Xtestoth, ytestoth)\n",
    "prec_testoth = precision_score(ytestoth,y_predoth, average='weighted')\n",
    "rec_testoth = recall_score(ytestoth,y_predoth, average='weighted')\n",
    "f1_testoth = f1_score(ytestoth,y_predoth, average='weighted')\n",
    "\n",
    "df_perfoth = pd.DataFrame({'acc': [acc_trainoth, acc_testoth], \n",
    "                        'prec': [prec_trainoth, prec_testoth], \n",
    "                        'rec': [rec_trainoth, rec_testoth],\n",
    "                        'f1': [f1_trainoth, f1_testoth]\n",
    "                       },\n",
    "                      index=['train lda no pca no others over', 'test lda no pca no others over'])\n",
    "\n",
    "cmatoth = confusion_matrix(ytestoth,y_predoth)\n",
    "df_cmatoth = pd.DataFrame(cmatoth, columns=['no bancarotta','bancarotta'], \n",
    "                        index=['no bancarotta','bancarotta'])\n",
    "\n",
    "print('')\n",
    "print('LDA random oversampling no others')\n",
    "display(df_perfoth)\n",
    "display(df_cmatoth)\n",
    "print('')\n",
    "print('LDA random oversampling all')\n",
    "display(df_perfo)\n",
    "display(df_cmato)"
   ]
  },
  {
   "cell_type": "markdown",
   "id": "located-dublin",
   "metadata": {
    "tags": []
   },
   "source": [
    "Gli score peggiorano."
   ]
  },
  {
   "cell_type": "markdown",
   "id": "derived-desktop",
   "metadata": {
    "tags": []
   },
   "source": [
    "## Conclusioni del ricampionamento random oversampling e random undersampling"
   ]
  },
  {
   "cell_type": "markdown",
   "id": "curious-liability",
   "metadata": {
    "tags": []
   },
   "source": [
    "Lo studio dei Finacial ratios come metodo di predizione effettiva di bancarotta evidenzia che le tecniche applicate sono efficaci. In particolare il pareggio delle classi effettuato tramite il random over e under sampling permette una migliore rappresentazione dei dati tramite PCA. Nel caso del random undersampling inoltre si ha una buona separazione delle classi in $R^3$ a livello grafico. Dal punto di vista numerico invece l'LDA risulta essere il miglior metodo predittivo per quanto riguarda la separazione delle classi. Essa lavora meglio nel caso senza PCA sia per il random oversampling che per il random undersampling: tra queste 2 tecniche di ricampionamento è da preferire la prima dato che restituisce migliori risultati. Non si può dire lo stesso per quanto riguarda le SVM e l'MLP. Entrambi infatti lavorano tendenzialmente allo stesso modo con il random oversampling sia con che senza PCA mentre col random undersampling i risultati sono decisamente poco precisi. In generale, come già detto, la scelta del metodo più efficace da utilizzare si baserà su quanta accuratezza si vuole avere nel predirre la classe bancarotta come tale. Confrontando tutti metodi utilizzati risulta tuttavia che, oltre alla LDA, anche l'MLP e le SVM, entrambi nel caso random oversampling con e senza PCA, sono buoni classificatori. Il ruolo della PCA nella riduzione della dimensionalità quindi non è da escludere a priori come strumento di appoggio per una migliore predizione. Infatti, in certi casi (vedi MLP random oversampling con e senza PCA) può risultare anche leggermente più conveniente utilizzarla. In conclusione, dall'analisi delle features fondamentali emerge chiaramente come le categorie capital structure ratios e others siano indicatori critici per la predizione della bancarotta. Infatti, è molto più netto il peggioramento delle prestazioni del miglior metodo senza di essi rispetto a quando vengono esclusi altri. Allo stesso tempo si può osservare come l'indicatore growth abbia un influenza negativa nella predizione della bancarotta; senza di esso infatti gli score migliorano. Per quanto riguarda l'assenza dell'indicatore profitability gli score peggiorano leggermente ma i dati a disposizione non sono sufficienti per poter affermare con certezza che sia un indicatore critico. Analogamente si può pensare per gli indicatori restanti dato che non presentano grandi variazioni negli score."
   ]
  },
  {
   "cell_type": "markdown",
   "id": "foster-macedonia",
   "metadata": {},
   "source": [
    "## Smote e Tomek's links"
   ]
  },
  {
   "cell_type": "markdown",
   "id": "twelve-organic",
   "metadata": {},
   "source": [
    "In quest'ultima parte vogliamo testare le nuove tecniche di ricampionamento presentate a inizio elaborato per confrontarle con quelle appena utilizzate"
   ]
  },
  {
   "cell_type": "code",
   "execution_count": 53,
   "id": "caroline-universal",
   "metadata": {},
   "outputs": [],
   "source": [
    "Xtrain_over, ytrain_over = SMOTE().fit_resample(Xtrain, ytrain)\n",
    "Xtrain_Tomek, ytrain_Tomek = TomekLinks().fit_resample(Xtrain, ytrain)\n",
    "Xtrain_under, ytrain_under = SMOTE().fit_resample(Xtrain_Tomek, ytrain_Tomek)"
   ]
  },
  {
   "cell_type": "code",
   "execution_count": 54,
   "id": "awful-decimal",
   "metadata": {},
   "outputs": [
    {
     "data": {
      "text/html": [
       "<div>\n",
       "<style scoped>\n",
       "    .dataframe tbody tr th:only-of-type {\n",
       "        vertical-align: middle;\n",
       "    }\n",
       "\n",
       "    .dataframe tbody tr th {\n",
       "        vertical-align: top;\n",
       "    }\n",
       "\n",
       "    .dataframe thead th {\n",
       "        text-align: right;\n",
       "    }\n",
       "</style>\n",
       "<table border=\"1\" class=\"dataframe\">\n",
       "  <thead>\n",
       "    <tr style=\"text-align: right;\">\n",
       "      <th></th>\n",
       "      <th>train</th>\n",
       "      <th>train Smote</th>\n",
       "      <th>train Tomek</th>\n",
       "      <th>train Smote+Tomek</th>\n",
       "      <th>test</th>\n",
       "    </tr>\n",
       "  </thead>\n",
       "  <tbody>\n",
       "    <tr>\n",
       "      <th>0</th>\n",
       "      <td>3299</td>\n",
       "      <td>3299</td>\n",
       "      <td>3258</td>\n",
       "      <td>3258</td>\n",
       "      <td>3300</td>\n",
       "    </tr>\n",
       "    <tr>\n",
       "      <th>1</th>\n",
       "      <td>110</td>\n",
       "      <td>3299</td>\n",
       "      <td>110</td>\n",
       "      <td>3258</td>\n",
       "      <td>110</td>\n",
       "    </tr>\n",
       "  </tbody>\n",
       "</table>\n",
       "</div>"
      ],
      "text/plain": [
       "   train  train Smote  train Tomek  train Smote+Tomek  test\n",
       "0   3299         3299         3258               3258  3300\n",
       "1    110         3299          110               3258   110"
      ]
     },
     "metadata": {},
     "output_type": "display_data"
    }
   ],
   "source": [
    "info=pd.DataFrame({'train':[list(ytrain).count(0),list(ytrain).count(1)],\n",
    "                  'train Smote':[list(ytrain_over).count(0),list(ytrain_over).count(1)],\n",
    "                   'train Tomek':[list(ytrain_Tomek).count(0),list(ytrain_Tomek).count(1)],\n",
    "                  'train Smote+Tomek':[list(ytrain_under).count(0),list(ytrain_under).count(1)],\n",
    "                  'test':[list(ytest).count(0),list(ytest).count(1)]})\n",
    "display(info)"
   ]
  },
  {
   "cell_type": "code",
   "execution_count": 55,
   "id": "distinct-formula",
   "metadata": {},
   "outputs": [],
   "source": [
    "#pca Smote\n",
    "scalero=StandardScaler()\n",
    "scalero.fit(Xtrain_over)\n",
    "Xtrain_over_scaled=scalero.transform(Xtrain_over)\n",
    "explvar1=0.9\n",
    "pca_var1_scaled_over=PCA(explvar1)\n",
    "pca_var1_scaled_over.fit(Xtrain_over_scaled)\n",
    "Xtrain_over_scaled_transf=pca_var1_scaled_over.transform(Xtrain_over_scaled)"
   ]
  },
  {
   "cell_type": "code",
   "execution_count": 56,
   "id": "behavioral-directive",
   "metadata": {},
   "outputs": [],
   "source": [
    "#pca Smote+Tomek\n",
    "pca_var1_under=PCA(0.9)\n",
    "scaler=StandardScaler()\n",
    "scaler.fit(Xtrain_under)\n",
    "Xtrain_under_scaled=scaler.transform(Xtrain_under)\n",
    "pca_var1_under.fit(Xtrain_under_scaled)\n",
    "Xtrain_under_scaled_transf=pca_var1_under.transform(Xtrain_under_scaled)"
   ]
  },
  {
   "cell_type": "code",
   "execution_count": 57,
   "id": "legal-oregon",
   "metadata": {
    "tags": []
   },
   "outputs": [],
   "source": [
    "#lda Smote con e senza pca\n",
    "lda_over=LDA()\n",
    "lda_pca_over=LDA()\n",
    "lda_over.fit(Xtrain_over,ytrain_over)\n",
    "lda_pca_over.fit(Xtrain_over_scaled_transf,ytrain_over)\n",
    "\n",
    "scaler_over=StandardScaler()\n",
    "scaler_over.fit(Xtest)\n",
    "Xtest_scaled=scaler_over.transform(Xtest)\n",
    "zldatr_over=lda_over.transform(Xtrain_over)\n",
    "zlda_pcatr_over=lda_pca_over.transform(Xtrain_over_scaled_transf)\n",
    "zldate_over=lda_over.transform(Xtest)\n",
    "zlda_pcate_over=lda_pca_over.transform(pca_var1_scaled_over.transform(Xtest_scaled))\n",
    "\n",
    "y_pred_over= lda_over.predict(Xtest)\n",
    "y_pred_pca_over= lda_pca_over.predict(pca_var1_scaled_over.transform(Xtest_scaled))"
   ]
  },
  {
   "cell_type": "code",
   "execution_count": 58,
   "id": "comparative-texas",
   "metadata": {
    "tags": []
   },
   "outputs": [],
   "source": [
    "acc_traino = lda_over.score(Xtrain_over, ytrain_over)\n",
    "prec_traino = precision_score(ytrain_over,lda_over.predict(Xtrain_over), average='weighted')\n",
    "rec_traino = recall_score(ytrain_over,lda_over.predict(Xtrain_over), average='weighted')\n",
    "f1_traino = f1_score(ytrain_over,lda_over.predict(Xtrain_over), average='weighted')\n",
    "\n",
    "acc_train_pcao = lda_pca_over.score(pca_var1_scaled_over.transform(Xtrain_over_scaled), ytrain_over)\n",
    "prec_train_pcao = precision_score(ytrain_over,lda_pca_over.predict(pca_var1_scaled_over.transform(Xtrain_over_scaled)), average='weighted')\n",
    "rec_train_pcao = recall_score(ytrain_over,lda_pca_over.predict(pca_var1_scaled_over.transform(Xtrain_over_scaled)), average='weighted')\n",
    "f1_train_pcao = f1_score(ytrain_over,lda_pca_over.predict(pca_var1_scaled_over.transform(Xtrain_over_scaled)), average='weighted')\n",
    "\n",
    "acc_testo = lda_over.score(Xtest, ytest)\n",
    "prec_testo = precision_score(ytest,y_pred_over, average='weighted')\n",
    "rec_testo = recall_score(ytest,y_pred_over, average='weighted')\n",
    "f1_testo = f1_score(ytest,y_pred_over, average='weighted')\n",
    "\n",
    "acc_test_pcao = lda_pca_over.score(pca_var1_scaled_over.transform(Xtest_scaled), ytest)\n",
    "prec_test_pcao = precision_score(ytest,lda_pca_over.predict(pca_var1_scaled_over.transform(Xtest_scaled)), average='weighted')\n",
    "rec_test_pcao = recall_score(ytest,lda_pca_over.predict(pca_var1_scaled_over.transform(Xtest_scaled)), average='weighted')\n",
    "f1_test_pcao = f1_score(ytest,lda_pca_over.predict(pca_var1_scaled_over.transform(Xtest_scaled)), average='weighted')"
   ]
  },
  {
   "cell_type": "code",
   "execution_count": 59,
   "id": "united-penny",
   "metadata": {
    "tags": []
   },
   "outputs": [],
   "source": [
    "df_perfo = pd.DataFrame({'acc': [acc_traino, acc_testo], \n",
    "                        'prec': [prec_traino, prec_testo], \n",
    "                        'rec': [rec_traino, rec_testo],\n",
    "                        'f1': [f1_traino, f1_testo]\n",
    "                       },\n",
    "                      index=['train lda no pca over', 'test lda no pca over'])\n",
    "df_perfop = pd.DataFrame({'acc': [acc_train_pcao, acc_test_pcao], \n",
    "                        'prec': [prec_train_pcao, prec_test_pcao], \n",
    "                        'rec': [rec_train_pcao, rec_test_pcao],\n",
    "                        'f1': [f1_train_pcao, f1_test_pcao]\n",
    "                       },\n",
    "                      index=['train lda pca over','test lda pca over'])\n",
    "cmato = confusion_matrix(ytest,y_pred_over)\n",
    "df_cmato = pd.DataFrame(cmato, columns=['no bancarotta','bancarotta'], \n",
    "                        index=['no bancarotta','bancarotta'])\n",
    "cmatop = confusion_matrix(ytest,y_pred_pca_over)\n",
    "df_cmatop = pd.DataFrame(cmatop, columns=['no bancarotta','bancarotta'], \n",
    "                        index=['no bancarotta','bancarotta'])"
   ]
  },
  {
   "cell_type": "code",
   "execution_count": 60,
   "id": "common-studio",
   "metadata": {
    "tags": []
   },
   "outputs": [
    {
     "name": "stdout",
     "output_type": "stream",
     "text": [
      "\n",
      "Performance LDA senza PCA Smote\n",
      "\n"
     ]
    },
    {
     "data": {
      "text/html": [
       "<div>\n",
       "<style scoped>\n",
       "    .dataframe tbody tr th:only-of-type {\n",
       "        vertical-align: middle;\n",
       "    }\n",
       "\n",
       "    .dataframe tbody tr th {\n",
       "        vertical-align: top;\n",
       "    }\n",
       "\n",
       "    .dataframe thead th {\n",
       "        text-align: right;\n",
       "    }\n",
       "</style>\n",
       "<table border=\"1\" class=\"dataframe\">\n",
       "  <thead>\n",
       "    <tr style=\"text-align: right;\">\n",
       "      <th></th>\n",
       "      <th>acc</th>\n",
       "      <th>prec</th>\n",
       "      <th>rec</th>\n",
       "      <th>f1</th>\n",
       "    </tr>\n",
       "  </thead>\n",
       "  <tbody>\n",
       "    <tr>\n",
       "      <th>train lda no pca over</th>\n",
       "      <td>0.909366</td>\n",
       "      <td>0.909822</td>\n",
       "      <td>0.909366</td>\n",
       "      <td>0.909341</td>\n",
       "    </tr>\n",
       "    <tr>\n",
       "      <th>test lda no pca over</th>\n",
       "      <td>0.878006</td>\n",
       "      <td>0.963418</td>\n",
       "      <td>0.878006</td>\n",
       "      <td>0.912228</td>\n",
       "    </tr>\n",
       "  </tbody>\n",
       "</table>\n",
       "</div>"
      ],
      "text/plain": [
       "                            acc      prec       rec        f1\n",
       "train lda no pca over  0.909366  0.909822  0.909366  0.909341\n",
       "test lda no pca over   0.878006  0.963418  0.878006  0.912228"
      ]
     },
     "metadata": {},
     "output_type": "display_data"
    },
    {
     "name": "stdout",
     "output_type": "stream",
     "text": [
      "\n",
      "Confusion matrix LDA senza PCA Smote\n",
      "\n"
     ]
    },
    {
     "data": {
      "text/html": [
       "<div>\n",
       "<style scoped>\n",
       "    .dataframe tbody tr th:only-of-type {\n",
       "        vertical-align: middle;\n",
       "    }\n",
       "\n",
       "    .dataframe tbody tr th {\n",
       "        vertical-align: top;\n",
       "    }\n",
       "\n",
       "    .dataframe thead th {\n",
       "        text-align: right;\n",
       "    }\n",
       "</style>\n",
       "<table border=\"1\" class=\"dataframe\">\n",
       "  <thead>\n",
       "    <tr style=\"text-align: right;\">\n",
       "      <th></th>\n",
       "      <th>no bancarotta</th>\n",
       "      <th>bancarotta</th>\n",
       "    </tr>\n",
       "  </thead>\n",
       "  <tbody>\n",
       "    <tr>\n",
       "      <th>no bancarotta</th>\n",
       "      <td>2914</td>\n",
       "      <td>386</td>\n",
       "    </tr>\n",
       "    <tr>\n",
       "      <th>bancarotta</th>\n",
       "      <td>30</td>\n",
       "      <td>80</td>\n",
       "    </tr>\n",
       "  </tbody>\n",
       "</table>\n",
       "</div>"
      ],
      "text/plain": [
       "               no bancarotta  bancarotta\n",
       "no bancarotta           2914         386\n",
       "bancarotta                30          80"
      ]
     },
     "metadata": {},
     "output_type": "display_data"
    },
    {
     "name": "stdout",
     "output_type": "stream",
     "text": [
      "\n",
      "Performance LDA con PCA Smote\n",
      "\n"
     ]
    },
    {
     "data": {
      "text/html": [
       "<div>\n",
       "<style scoped>\n",
       "    .dataframe tbody tr th:only-of-type {\n",
       "        vertical-align: middle;\n",
       "    }\n",
       "\n",
       "    .dataframe tbody tr th {\n",
       "        vertical-align: top;\n",
       "    }\n",
       "\n",
       "    .dataframe thead th {\n",
       "        text-align: right;\n",
       "    }\n",
       "</style>\n",
       "<table border=\"1\" class=\"dataframe\">\n",
       "  <thead>\n",
       "    <tr style=\"text-align: right;\">\n",
       "      <th></th>\n",
       "      <th>acc</th>\n",
       "      <th>prec</th>\n",
       "      <th>rec</th>\n",
       "      <th>f1</th>\n",
       "    </tr>\n",
       "  </thead>\n",
       "  <tbody>\n",
       "    <tr>\n",
       "      <th>train lda pca over</th>\n",
       "      <td>0.893604</td>\n",
       "      <td>0.894398</td>\n",
       "      <td>0.893604</td>\n",
       "      <td>0.893551</td>\n",
       "    </tr>\n",
       "    <tr>\n",
       "      <th>test lda pca over</th>\n",
       "      <td>0.557771</td>\n",
       "      <td>0.967715</td>\n",
       "      <td>0.557771</td>\n",
       "      <td>0.685570</td>\n",
       "    </tr>\n",
       "  </tbody>\n",
       "</table>\n",
       "</div>"
      ],
      "text/plain": [
       "                         acc      prec       rec        f1\n",
       "train lda pca over  0.893604  0.894398  0.893604  0.893551\n",
       "test lda pca over   0.557771  0.967715  0.557771  0.685570"
      ]
     },
     "metadata": {},
     "output_type": "display_data"
    },
    {
     "name": "stdout",
     "output_type": "stream",
     "text": [
      "\n",
      "Confusion matrix LDA con PCA Smote\n",
      "\n"
     ]
    },
    {
     "data": {
      "text/html": [
       "<div>\n",
       "<style scoped>\n",
       "    .dataframe tbody tr th:only-of-type {\n",
       "        vertical-align: middle;\n",
       "    }\n",
       "\n",
       "    .dataframe tbody tr th {\n",
       "        vertical-align: top;\n",
       "    }\n",
       "\n",
       "    .dataframe thead th {\n",
       "        text-align: right;\n",
       "    }\n",
       "</style>\n",
       "<table border=\"1\" class=\"dataframe\">\n",
       "  <thead>\n",
       "    <tr style=\"text-align: right;\">\n",
       "      <th></th>\n",
       "      <th>no bancarotta</th>\n",
       "      <th>bancarotta</th>\n",
       "    </tr>\n",
       "  </thead>\n",
       "  <tbody>\n",
       "    <tr>\n",
       "      <th>no bancarotta</th>\n",
       "      <td>1796</td>\n",
       "      <td>1504</td>\n",
       "    </tr>\n",
       "    <tr>\n",
       "      <th>bancarotta</th>\n",
       "      <td>4</td>\n",
       "      <td>106</td>\n",
       "    </tr>\n",
       "  </tbody>\n",
       "</table>\n",
       "</div>"
      ],
      "text/plain": [
       "               no bancarotta  bancarotta\n",
       "no bancarotta           1796        1504\n",
       "bancarotta                 4         106"
      ]
     },
     "metadata": {},
     "output_type": "display_data"
    }
   ],
   "source": [
    "print('')\n",
    "print('Performance LDA senza PCA Smote')\n",
    "print('')\n",
    "display(df_perfo)\n",
    "print('')\n",
    "print('Confusion matrix LDA senza PCA Smote')\n",
    "print('')\n",
    "display(df_cmato)\n",
    "print('')\n",
    "print('Performance LDA con PCA Smote')\n",
    "print('')\n",
    "display(df_perfop)\n",
    "print('')\n",
    "print('Confusion matrix LDA con PCA Smote')\n",
    "print('')\n",
    "display(df_cmatop)"
   ]
  },
  {
   "cell_type": "code",
   "execution_count": 61,
   "id": "american-reaction",
   "metadata": {
    "tags": []
   },
   "outputs": [],
   "source": [
    "#lda Smote+Tomek con e senza pca\n",
    "ldau=LDA()\n",
    "lda_pcau=LDA()\n",
    "ldau.fit(Xtrain_under,ytrain_under)\n",
    "lda_pcau.fit(Xtrain_under_scaled_transf,ytrain_under)\n",
    "\n",
    "scaler=StandardScaler()\n",
    "scaler.fit(Xtest)\n",
    "Xtest_scaled=scaler.transform(Xtest)\n",
    "zldatru=ldau.transform(Xtrain_under)\n",
    "zlda_pcatru=lda_pcau.transform(Xtrain_under_scaled_transf)\n",
    "zldateu=ldau.transform(Xtest)\n",
    "zlda_pcateu=lda_pcau.transform(pca_var1_under.transform(Xtest_scaled))\n",
    "\n",
    "y_predu = ldau.predict(Xtest)\n",
    "y_pred_pcau = lda_pcau.predict(pca_var1_under.transform(Xtest_scaled))"
   ]
  },
  {
   "cell_type": "code",
   "execution_count": 62,
   "id": "sound-spirituality",
   "metadata": {
    "tags": []
   },
   "outputs": [],
   "source": [
    "acc_trainu = ldau.score(Xtrain_under, ytrain_under)\n",
    "prec_trainu = precision_score(ytrain_under,ldau.predict(Xtrain_under), average='weighted')\n",
    "rec_trainu = recall_score(ytrain_under,ldau.predict(Xtrain_under), average='weighted')\n",
    "f1_trainu = f1_score(ytrain_under,ldau.predict(Xtrain_under), average='weighted')\n",
    "\n",
    "acc_train_pcau = lda_pcau.score(pca_var1_under.transform(Xtrain_under_scaled), ytrain_under)\n",
    "prec_train_pcau = precision_score(ytrain_under,lda_pcau.predict(pca_var1_under.transform(Xtrain_under_scaled)), average='weighted')\n",
    "rec_train_pcau = recall_score(ytrain_under,lda_pcau.predict(pca_var1_under.transform(Xtrain_under_scaled)), average='weighted')\n",
    "f1_train_pcau = f1_score(ytrain_under,lda_pcau.predict(pca_var1_under.transform(Xtrain_under_scaled)), average='weighted')\n",
    "\n",
    "acc_testu= ldau.score(Xtest, ytest)\n",
    "prec_testu = precision_score(ytest,y_predu, average='weighted')\n",
    "rec_testu = recall_score(ytest,y_predu, average='weighted')\n",
    "f1_testu = f1_score(ytest,y_predu, average='weighted')\n",
    "\n",
    "acc_test_pcau = lda_pcau.score(pca_var1_under.transform(Xtest_scaled), ytest)\n",
    "prec_test_pcau = precision_score(ytest,lda_pcau.predict(pca_var1_under.transform(Xtest_scaled)), average='weighted')\n",
    "rec_test_pcau = recall_score(ytest,lda_pcau.predict(pca_var1_under.transform(Xtest_scaled)), average='weighted')\n",
    "f1_test_pcau = f1_score(ytest,lda_pcau.predict(pca_var1_under.transform(Xtest_scaled)), average='weighted')"
   ]
  },
  {
   "cell_type": "code",
   "execution_count": 63,
   "id": "checked-intranet",
   "metadata": {
    "tags": []
   },
   "outputs": [],
   "source": [
    "df_perfu = pd.DataFrame({'acc': [acc_trainu, acc_testu], \n",
    "                        'prec': [prec_trainu, prec_testu], \n",
    "                        'rec': [rec_trainu, rec_testu],\n",
    "                        'f1': [f1_trainu, f1_testu]\n",
    "                       },\n",
    "                      index=['training lda no pca under', 'test lda no pca under'])\n",
    "df_perfup = pd.DataFrame({'acc': [acc_train_pcau, acc_test_pcau], \n",
    "                        'prec': [prec_train_pcau, prec_test_pcau], \n",
    "                        'rec': [rec_train_pcau, rec_test_pcau],\n",
    "                        'f1': [f1_train_pcau, f1_test_pcau]\n",
    "                       },\n",
    "                      index=['training lda pca under','test lda pca under'])\n",
    "\n",
    "cmatu = confusion_matrix(ytest,y_predu)\n",
    "df_cmatu = pd.DataFrame(cmatu, columns=['no bancarotta','bancarotta'], \n",
    "                        index=['no bancarotta','bancarotta'])\n",
    "cmatup = confusion_matrix(ytest,y_pred_pcau)\n",
    "df_cmatup = pd.DataFrame(cmatup, columns=['no bancarotta','bancarotta'], \n",
    "                        index=['no bancarotta','bancarotta'])"
   ]
  },
  {
   "cell_type": "code",
   "execution_count": 64,
   "id": "civic-grant",
   "metadata": {
    "tags": []
   },
   "outputs": [
    {
     "name": "stdout",
     "output_type": "stream",
     "text": [
      "\n",
      "Performance LDA senza PCA Smote+Tomek\n",
      "\n"
     ]
    },
    {
     "data": {
      "text/html": [
       "<div>\n",
       "<style scoped>\n",
       "    .dataframe tbody tr th:only-of-type {\n",
       "        vertical-align: middle;\n",
       "    }\n",
       "\n",
       "    .dataframe tbody tr th {\n",
       "        vertical-align: top;\n",
       "    }\n",
       "\n",
       "    .dataframe thead th {\n",
       "        text-align: right;\n",
       "    }\n",
       "</style>\n",
       "<table border=\"1\" class=\"dataframe\">\n",
       "  <thead>\n",
       "    <tr style=\"text-align: right;\">\n",
       "      <th></th>\n",
       "      <th>acc</th>\n",
       "      <th>prec</th>\n",
       "      <th>rec</th>\n",
       "      <th>f1</th>\n",
       "    </tr>\n",
       "  </thead>\n",
       "  <tbody>\n",
       "    <tr>\n",
       "      <th>training lda no pca under</th>\n",
       "      <td>0.911602</td>\n",
       "      <td>0.912199</td>\n",
       "      <td>0.911602</td>\n",
       "      <td>0.911570</td>\n",
       "    </tr>\n",
       "    <tr>\n",
       "      <th>test lda no pca under</th>\n",
       "      <td>0.878299</td>\n",
       "      <td>0.964168</td>\n",
       "      <td>0.878299</td>\n",
       "      <td>0.912528</td>\n",
       "    </tr>\n",
       "  </tbody>\n",
       "</table>\n",
       "</div>"
      ],
      "text/plain": [
       "                                acc      prec       rec        f1\n",
       "training lda no pca under  0.911602  0.912199  0.911602  0.911570\n",
       "test lda no pca under      0.878299  0.964168  0.878299  0.912528"
      ]
     },
     "metadata": {},
     "output_type": "display_data"
    },
    {
     "name": "stdout",
     "output_type": "stream",
     "text": [
      "\n",
      "Confusion matrix LDA senza PCA Smote+Tomek\n",
      "\n"
     ]
    },
    {
     "data": {
      "text/html": [
       "<div>\n",
       "<style scoped>\n",
       "    .dataframe tbody tr th:only-of-type {\n",
       "        vertical-align: middle;\n",
       "    }\n",
       "\n",
       "    .dataframe tbody tr th {\n",
       "        vertical-align: top;\n",
       "    }\n",
       "\n",
       "    .dataframe thead th {\n",
       "        text-align: right;\n",
       "    }\n",
       "</style>\n",
       "<table border=\"1\" class=\"dataframe\">\n",
       "  <thead>\n",
       "    <tr style=\"text-align: right;\">\n",
       "      <th></th>\n",
       "      <th>no bancarotta</th>\n",
       "      <th>bancarotta</th>\n",
       "    </tr>\n",
       "  </thead>\n",
       "  <tbody>\n",
       "    <tr>\n",
       "      <th>no bancarotta</th>\n",
       "      <td>2913</td>\n",
       "      <td>387</td>\n",
       "    </tr>\n",
       "    <tr>\n",
       "      <th>bancarotta</th>\n",
       "      <td>28</td>\n",
       "      <td>82</td>\n",
       "    </tr>\n",
       "  </tbody>\n",
       "</table>\n",
       "</div>"
      ],
      "text/plain": [
       "               no bancarotta  bancarotta\n",
       "no bancarotta           2913         387\n",
       "bancarotta                28          82"
      ]
     },
     "metadata": {},
     "output_type": "display_data"
    },
    {
     "name": "stdout",
     "output_type": "stream",
     "text": [
      "\n",
      "Performance LDA con PCA Smote+Tomek\n",
      "\n"
     ]
    },
    {
     "data": {
      "text/html": [
       "<div>\n",
       "<style scoped>\n",
       "    .dataframe tbody tr th:only-of-type {\n",
       "        vertical-align: middle;\n",
       "    }\n",
       "\n",
       "    .dataframe tbody tr th {\n",
       "        vertical-align: top;\n",
       "    }\n",
       "\n",
       "    .dataframe thead th {\n",
       "        text-align: right;\n",
       "    }\n",
       "</style>\n",
       "<table border=\"1\" class=\"dataframe\">\n",
       "  <thead>\n",
       "    <tr style=\"text-align: right;\">\n",
       "      <th></th>\n",
       "      <th>acc</th>\n",
       "      <th>prec</th>\n",
       "      <th>rec</th>\n",
       "      <th>f1</th>\n",
       "    </tr>\n",
       "  </thead>\n",
       "  <tbody>\n",
       "    <tr>\n",
       "      <th>training lda pca under</th>\n",
       "      <td>0.891651</td>\n",
       "      <td>0.892439</td>\n",
       "      <td>0.891651</td>\n",
       "      <td>0.891597</td>\n",
       "    </tr>\n",
       "    <tr>\n",
       "      <th>test lda pca under</th>\n",
       "      <td>0.560411</td>\n",
       "      <td>0.967738</td>\n",
       "      <td>0.560411</td>\n",
       "      <td>0.687800</td>\n",
       "    </tr>\n",
       "  </tbody>\n",
       "</table>\n",
       "</div>"
      ],
      "text/plain": [
       "                             acc      prec       rec        f1\n",
       "training lda pca under  0.891651  0.892439  0.891651  0.891597\n",
       "test lda pca under      0.560411  0.967738  0.560411  0.687800"
      ]
     },
     "metadata": {},
     "output_type": "display_data"
    },
    {
     "name": "stdout",
     "output_type": "stream",
     "text": [
      "\n",
      "Confusion matrix LDA con PCA Smote+Tomek\n",
      "\n"
     ]
    },
    {
     "data": {
      "text/html": [
       "<div>\n",
       "<style scoped>\n",
       "    .dataframe tbody tr th:only-of-type {\n",
       "        vertical-align: middle;\n",
       "    }\n",
       "\n",
       "    .dataframe tbody tr th {\n",
       "        vertical-align: top;\n",
       "    }\n",
       "\n",
       "    .dataframe thead th {\n",
       "        text-align: right;\n",
       "    }\n",
       "</style>\n",
       "<table border=\"1\" class=\"dataframe\">\n",
       "  <thead>\n",
       "    <tr style=\"text-align: right;\">\n",
       "      <th></th>\n",
       "      <th>no bancarotta</th>\n",
       "      <th>bancarotta</th>\n",
       "    </tr>\n",
       "  </thead>\n",
       "  <tbody>\n",
       "    <tr>\n",
       "      <th>no bancarotta</th>\n",
       "      <td>1805</td>\n",
       "      <td>1495</td>\n",
       "    </tr>\n",
       "    <tr>\n",
       "      <th>bancarotta</th>\n",
       "      <td>4</td>\n",
       "      <td>106</td>\n",
       "    </tr>\n",
       "  </tbody>\n",
       "</table>\n",
       "</div>"
      ],
      "text/plain": [
       "               no bancarotta  bancarotta\n",
       "no bancarotta           1805        1495\n",
       "bancarotta                 4         106"
      ]
     },
     "metadata": {},
     "output_type": "display_data"
    }
   ],
   "source": [
    "print('')\n",
    "print('Performance LDA senza PCA Smote+Tomek')\n",
    "print('')\n",
    "display(df_perfu)\n",
    "print('')\n",
    "print('Confusion matrix LDA senza PCA Smote+Tomek')\n",
    "print('')\n",
    "display(df_cmatu)\n",
    "print('')\n",
    "print('Performance LDA con PCA Smote+Tomek')\n",
    "print('')\n",
    "display(df_perfup)\n",
    "print('')\n",
    "print('Confusion matrix LDA con PCA Smote+Tomek')\n",
    "print('')\n",
    "display(df_cmatup)"
   ]
  },
  {
   "cell_type": "code",
   "execution_count": 65,
   "id": "typical-ecology",
   "metadata": {
    "tags": []
   },
   "outputs": [],
   "source": [
    "#svm Smote con e senza pca\n",
    "test_svm = 0.5\n",
    "val_svm = 0.4\n",
    "indices = np.arange(X.shape[0])\n",
    "ind_train_svm, ind_test_svm = train_test_split(indices, test_size=test_svm, random_state=random_state, shuffle=True)\n",
    "ind_train_svm, ind_val_svm = train_test_split(ind_train_svm, test_size=val_svm, random_state=random_state, shuffle=True)\n",
    "\n",
    "Xtrain_svm=X.iloc[ind_train_svm,:]\n",
    "ytrain_svm= y.iloc[ind_train_svm]\n",
    "Xval_svm=X.iloc[ind_val_svm,:]\n",
    "yval_svm= y.iloc[ind_val_svm]\n",
    "Xtest_svm=X.iloc[ind_test_svm,:]\n",
    "ytest_svm= y.iloc[ind_test_svm]\n",
    "\n",
    "\n",
    "Xtrain_over_svm, ytrain_over_svm = SMOTE().fit_resample(Xtrain_svm, ytrain_svm)\n",
    "Xval_over_svm, yval_over_svm = SMOTE().fit_resample(Xval_svm, yval_svm)\n",
    "Xtrain_svm_Tomek, ytrain_svm_Tomek = TomekLinks().fit_resample(Xtrain_svm, ytrain_svm)\n",
    "Xtrain_under_svm, ytrain_under_svm = SMOTE().fit_resample(Xtrain_svm_Tomek, ytrain_svm_Tomek)\n",
    "Xval_svm_Tomek, yval_svm_Tomek = TomekLinks().fit_resample(Xval_svm, yval_svm)\n",
    "Xval_under_svm, yval_under_svm = SMOTE().fit_resample(Xval_svm_Tomek, yval_svm_Tomek)"
   ]
  },
  {
   "cell_type": "code",
   "execution_count": 66,
   "id": "funded-bottom",
   "metadata": {
    "tags": []
   },
   "outputs": [
    {
     "data": {
      "text/html": [
       "<div>\n",
       "<style scoped>\n",
       "    .dataframe tbody tr th:only-of-type {\n",
       "        vertical-align: middle;\n",
       "    }\n",
       "\n",
       "    .dataframe tbody tr th {\n",
       "        vertical-align: top;\n",
       "    }\n",
       "\n",
       "    .dataframe thead th {\n",
       "        text-align: right;\n",
       "    }\n",
       "</style>\n",
       "<table border=\"1\" class=\"dataframe\">\n",
       "  <thead>\n",
       "    <tr style=\"text-align: right;\">\n",
       "      <th></th>\n",
       "      <th>train svm</th>\n",
       "      <th>test svm</th>\n",
       "    </tr>\n",
       "  </thead>\n",
       "  <tbody>\n",
       "    <tr>\n",
       "      <th>0</th>\n",
       "      <td>1989</td>\n",
       "      <td>3294</td>\n",
       "    </tr>\n",
       "    <tr>\n",
       "      <th>1</th>\n",
       "      <td>56</td>\n",
       "      <td>116</td>\n",
       "    </tr>\n",
       "  </tbody>\n",
       "</table>\n",
       "</div>"
      ],
      "text/plain": [
       "   train svm  test svm\n",
       "0       1989      3294\n",
       "1         56       116"
      ]
     },
     "metadata": {},
     "output_type": "display_data"
    },
    {
     "data": {
      "text/html": [
       "<div>\n",
       "<style scoped>\n",
       "    .dataframe tbody tr th:only-of-type {\n",
       "        vertical-align: middle;\n",
       "    }\n",
       "\n",
       "    .dataframe tbody tr th {\n",
       "        vertical-align: top;\n",
       "    }\n",
       "\n",
       "    .dataframe thead th {\n",
       "        text-align: right;\n",
       "    }\n",
       "</style>\n",
       "<table border=\"1\" class=\"dataframe\">\n",
       "  <thead>\n",
       "    <tr style=\"text-align: right;\">\n",
       "      <th></th>\n",
       "      <th>train Smote svm</th>\n",
       "      <th>train Tomek svm</th>\n",
       "      <th>train Smote+Tomek svm</th>\n",
       "      <th>val Smote svm</th>\n",
       "      <th>val Tomek svm</th>\n",
       "      <th>val Smote+Tomek svm</th>\n",
       "      <th>test svm</th>\n",
       "    </tr>\n",
       "  </thead>\n",
       "  <tbody>\n",
       "    <tr>\n",
       "      <th>0</th>\n",
       "      <td>1989</td>\n",
       "      <td>1966</td>\n",
       "      <td>1966</td>\n",
       "      <td>1316</td>\n",
       "      <td>1293</td>\n",
       "      <td>1293</td>\n",
       "      <td>3294</td>\n",
       "    </tr>\n",
       "    <tr>\n",
       "      <th>1</th>\n",
       "      <td>1989</td>\n",
       "      <td>56</td>\n",
       "      <td>1966</td>\n",
       "      <td>1316</td>\n",
       "      <td>48</td>\n",
       "      <td>1293</td>\n",
       "      <td>116</td>\n",
       "    </tr>\n",
       "  </tbody>\n",
       "</table>\n",
       "</div>"
      ],
      "text/plain": [
       "   train Smote svm  train Tomek svm  train Smote+Tomek svm  val Smote svm  \\\n",
       "0             1989             1966                   1966           1316   \n",
       "1             1989               56                   1966           1316   \n",
       "\n",
       "   val Tomek svm  val Smote+Tomek svm  test svm  \n",
       "0           1293                 1293      3294  \n",
       "1             48                 1293       116  "
      ]
     },
     "metadata": {},
     "output_type": "display_data"
    }
   ],
   "source": [
    "info_svm1=pd.DataFrame({'train svm':[list(ytrain_svm).count(0),list(ytrain_svm).count(1)],\n",
    "                  'test svm':[list(ytest_svm).count(0),list(ytest_svm).count(1)]})\n",
    "info_svm2=pd.DataFrame({'train Smote svm':[list(ytrain_over_svm).count(0),list(ytrain_over_svm).count(1)],\n",
    "                  'train Tomek svm':[list(ytrain_svm_Tomek).count(0),list(ytrain_svm_Tomek).count(1)],\n",
    "                  'train Smote+Tomek svm':[list(ytrain_under_svm).count(0),list(ytrain_under_svm).count(1)],\n",
    "                  'val Smote svm':[list(yval_over_svm).count(0),list(yval_over_svm).count(1)],\n",
    "                  'val Tomek svm':[list(yval_svm_Tomek).count(0),list(yval_svm_Tomek).count(1)],\n",
    "                  'val Smote+Tomek svm':[list(yval_under_svm).count(0),list(yval_under_svm).count(1)],\n",
    "                  'test svm':[list(ytest_svm).count(0),list(ytest_svm).count(1)]})\n",
    "display(info_svm1)\n",
    "display(info_svm2)"
   ]
  },
  {
   "cell_type": "code",
   "execution_count": 67,
   "id": "bibliographic-toilet",
   "metadata": {
    "tags": []
   },
   "outputs": [
    {
     "data": {
      "text/plain": [
       "GridSearchCV(cv=<zip object at 0x000001D86D387080>,\n",
       "             estimator=SVC(class_weight='balanced'),\n",
       "             param_grid={'C': [1, 2, 3, 4, 5],\n",
       "                         'kernel': ['rbf', 'poly', 'sigmoid']},\n",
       "             return_train_score=True, scoring='f1_weighted')"
      ]
     },
     "execution_count": 67,
     "metadata": {},
     "output_type": "execute_result"
    }
   ],
   "source": [
    "C_list = [i for i in range(1,6)]\n",
    "kernel_list =['rbf','poly','sigmoid']\n",
    "gamma_list = ['scale','auto']\n",
    "hparameters = {'C': C_list, 'kernel': kernel_list}\n",
    "svm = SVC(class_weight='balanced')\n",
    "svm_gs = GridSearchCV(estimator=svm,\n",
    "                      param_grid=hparameters, \n",
    "                      scoring='f1_weighted',\n",
    "                      return_train_score=True,\n",
    "                      cv=zip([ind_train_svm], [ind_val_svm]))\n",
    "svm_gs.fit(X, y)"
   ]
  },
  {
   "cell_type": "code",
   "execution_count": 68,
   "id": "scheduled-saint",
   "metadata": {
    "tags": []
   },
   "outputs": [],
   "source": [
    "svm_gs.best_estimator_.fit(Xtrain_over_svm, ytrain_over_svm) \n",
    "\n",
    "y_pred_traino = svm_gs.best_estimator_.predict(Xtrain_over_svm)\n",
    "y_true_traino = ytrain_over_svm\n",
    "y_pred_testo = svm_gs.best_estimator_.predict(Xtest_svm)\n",
    "y_true_testo = ytest_svm\n",
    "y_pred_valo = svm_gs.best_estimator_.predict(Xval_over_svm)\n",
    "y_true_valo = yval_over_svm\n",
    "\n",
    "acc_traino = svm_gs.best_estimator_.score(Xtrain_over_svm, y_true_traino)\n",
    "prec_traino = precision_score(y_true_traino,y_pred_traino, average='weighted')\n",
    "rec_traino = recall_score(y_true_traino,y_pred_traino, average='weighted')\n",
    "f1_traino = f1_score(y_true_traino,y_pred_traino, average='weighted')\n",
    "acc_valo = svm_gs.best_estimator_.score(Xval_over_svm, y_true_valo)\n",
    "prec_valo = precision_score(y_true_valo,y_pred_valo, average='weighted')\n",
    "rec_valo = recall_score(y_true_valo,y_pred_valo, average='weighted')\n",
    "f1_valo = f1_score(y_true_valo,y_pred_valo, average='weighted')\n",
    "acc_testo = svm_gs.best_estimator_.score(Xtest_svm,y_true_testo)\n",
    "prec_testo = precision_score(y_true_testo,y_pred_testo, average='weighted')\n",
    "rec_testo = recall_score(y_true_testo,y_pred_testo, average='weighted')\n",
    "f1_testo = f1_score(y_true_testo,y_pred_testo, average='weighted')\n",
    "\n",
    "df_perf_svmo = pd.DataFrame({'acc': [acc_traino, acc_valo, acc_testo], \n",
    "                        'prec': [prec_traino, prec_valo, prec_testo], \n",
    "                        'rec': [rec_traino, rec_valo, rec_testo],\n",
    "                        'f1': [f1_traino, f1_valo, f1_testo]\n",
    "                       },\n",
    "                      index=['train svm no pca over', 'val svm no pca over', 'test svm no pca over'])\n",
    "cmat_svmo = confusion_matrix(y_true_testo,y_pred_testo)\n",
    "df_cmat_svmo = pd.DataFrame(cmat_svmo, columns=['no bancarotta','bancarotta'], \n",
    "                            index=['no bancarotta','bancarotta'])"
   ]
  },
  {
   "cell_type": "code",
   "execution_count": 69,
   "id": "usual-finland",
   "metadata": {
    "tags": []
   },
   "outputs": [
    {
     "name": "stdout",
     "output_type": "stream",
     "text": [
      "\n",
      "Performance SVM senza PCA Smote\n",
      "\n"
     ]
    },
    {
     "data": {
      "text/html": [
       "<div>\n",
       "<style scoped>\n",
       "    .dataframe tbody tr th:only-of-type {\n",
       "        vertical-align: middle;\n",
       "    }\n",
       "\n",
       "    .dataframe tbody tr th {\n",
       "        vertical-align: top;\n",
       "    }\n",
       "\n",
       "    .dataframe thead th {\n",
       "        text-align: right;\n",
       "    }\n",
       "</style>\n",
       "<table border=\"1\" class=\"dataframe\">\n",
       "  <thead>\n",
       "    <tr style=\"text-align: right;\">\n",
       "      <th></th>\n",
       "      <th>acc</th>\n",
       "      <th>prec</th>\n",
       "      <th>rec</th>\n",
       "      <th>f1</th>\n",
       "    </tr>\n",
       "  </thead>\n",
       "  <tbody>\n",
       "    <tr>\n",
       "      <th>train svm no pca over</th>\n",
       "      <td>0.925842</td>\n",
       "      <td>0.929241</td>\n",
       "      <td>0.925842</td>\n",
       "      <td>0.925695</td>\n",
       "    </tr>\n",
       "    <tr>\n",
       "      <th>val svm no pca over</th>\n",
       "      <td>0.605623</td>\n",
       "      <td>0.648306</td>\n",
       "      <td>0.605623</td>\n",
       "      <td>0.575047</td>\n",
       "    </tr>\n",
       "    <tr>\n",
       "      <th>test svm no pca over</th>\n",
       "      <td>0.848974</td>\n",
       "      <td>0.943775</td>\n",
       "      <td>0.848974</td>\n",
       "      <td>0.890640</td>\n",
       "    </tr>\n",
       "  </tbody>\n",
       "</table>\n",
       "</div>"
      ],
      "text/plain": [
       "                            acc      prec       rec        f1\n",
       "train svm no pca over  0.925842  0.929241  0.925842  0.925695\n",
       "val svm no pca over    0.605623  0.648306  0.605623  0.575047\n",
       "test svm no pca over   0.848974  0.943775  0.848974  0.890640"
      ]
     },
     "metadata": {},
     "output_type": "display_data"
    },
    {
     "name": "stdout",
     "output_type": "stream",
     "text": [
      "\n",
      "Confusion matrix SVM senza PCA Smote\n",
      "\n"
     ]
    },
    {
     "data": {
      "text/html": [
       "<div>\n",
       "<style scoped>\n",
       "    .dataframe tbody tr th:only-of-type {\n",
       "        vertical-align: middle;\n",
       "    }\n",
       "\n",
       "    .dataframe tbody tr th {\n",
       "        vertical-align: top;\n",
       "    }\n",
       "\n",
       "    .dataframe thead th {\n",
       "        text-align: right;\n",
       "    }\n",
       "</style>\n",
       "<table border=\"1\" class=\"dataframe\">\n",
       "  <thead>\n",
       "    <tr style=\"text-align: right;\">\n",
       "      <th></th>\n",
       "      <th>no bancarotta</th>\n",
       "      <th>bancarotta</th>\n",
       "    </tr>\n",
       "  </thead>\n",
       "  <tbody>\n",
       "    <tr>\n",
       "      <th>no bancarotta</th>\n",
       "      <td>2855</td>\n",
       "      <td>439</td>\n",
       "    </tr>\n",
       "    <tr>\n",
       "      <th>bancarotta</th>\n",
       "      <td>76</td>\n",
       "      <td>40</td>\n",
       "    </tr>\n",
       "  </tbody>\n",
       "</table>\n",
       "</div>"
      ],
      "text/plain": [
       "               no bancarotta  bancarotta\n",
       "no bancarotta           2855         439\n",
       "bancarotta                76          40"
      ]
     },
     "metadata": {},
     "output_type": "display_data"
    },
    {
     "name": "stdout",
     "output_type": "stream",
     "text": [
      "\n",
      "Performance SVM con PCA Smote\n",
      "\n"
     ]
    },
    {
     "data": {
      "text/html": [
       "<div>\n",
       "<style scoped>\n",
       "    .dataframe tbody tr th:only-of-type {\n",
       "        vertical-align: middle;\n",
       "    }\n",
       "\n",
       "    .dataframe tbody tr th {\n",
       "        vertical-align: top;\n",
       "    }\n",
       "\n",
       "    .dataframe thead th {\n",
       "        text-align: right;\n",
       "    }\n",
       "</style>\n",
       "<table border=\"1\" class=\"dataframe\">\n",
       "  <thead>\n",
       "    <tr style=\"text-align: right;\">\n",
       "      <th></th>\n",
       "      <th>acc</th>\n",
       "      <th>prec</th>\n",
       "      <th>rec</th>\n",
       "      <th>f1</th>\n",
       "    </tr>\n",
       "  </thead>\n",
       "  <tbody>\n",
       "    <tr>\n",
       "      <th>train svm over pca</th>\n",
       "      <td>0.976119</td>\n",
       "      <td>0.977207</td>\n",
       "      <td>0.976119</td>\n",
       "      <td>0.976105</td>\n",
       "    </tr>\n",
       "    <tr>\n",
       "      <th>val svm over pca</th>\n",
       "      <td>0.810790</td>\n",
       "      <td>0.827588</td>\n",
       "      <td>0.810790</td>\n",
       "      <td>0.808333</td>\n",
       "    </tr>\n",
       "    <tr>\n",
       "      <th>test svm over pca</th>\n",
       "      <td>0.702346</td>\n",
       "      <td>0.957614</td>\n",
       "      <td>0.702346</td>\n",
       "      <td>0.796814</td>\n",
       "    </tr>\n",
       "  </tbody>\n",
       "</table>\n",
       "</div>"
      ],
      "text/plain": [
       "                         acc      prec       rec        f1\n",
       "train svm over pca  0.976119  0.977207  0.976119  0.976105\n",
       "val svm over pca    0.810790  0.827588  0.810790  0.808333\n",
       "test svm over pca   0.702346  0.957614  0.702346  0.796814"
      ]
     },
     "metadata": {},
     "output_type": "display_data"
    },
    {
     "name": "stdout",
     "output_type": "stream",
     "text": [
      "\n",
      "Confusion matrix SVM con PCA Smote\n",
      "\n"
     ]
    },
    {
     "data": {
      "text/html": [
       "<div>\n",
       "<style scoped>\n",
       "    .dataframe tbody tr th:only-of-type {\n",
       "        vertical-align: middle;\n",
       "    }\n",
       "\n",
       "    .dataframe tbody tr th {\n",
       "        vertical-align: top;\n",
       "    }\n",
       "\n",
       "    .dataframe thead th {\n",
       "        text-align: right;\n",
       "    }\n",
       "</style>\n",
       "<table border=\"1\" class=\"dataframe\">\n",
       "  <thead>\n",
       "    <tr style=\"text-align: right;\">\n",
       "      <th></th>\n",
       "      <th>no bancarotta</th>\n",
       "      <th>bancarotta</th>\n",
       "    </tr>\n",
       "  </thead>\n",
       "  <tbody>\n",
       "    <tr>\n",
       "      <th>no bancarotta</th>\n",
       "      <td>2306</td>\n",
       "      <td>988</td>\n",
       "    </tr>\n",
       "    <tr>\n",
       "      <th>bancarotta</th>\n",
       "      <td>27</td>\n",
       "      <td>89</td>\n",
       "    </tr>\n",
       "  </tbody>\n",
       "</table>\n",
       "</div>"
      ],
      "text/plain": [
       "               no bancarotta  bancarotta\n",
       "no bancarotta           2306         988\n",
       "bancarotta                27          89"
      ]
     },
     "metadata": {},
     "output_type": "display_data"
    }
   ],
   "source": [
    "scaler_svm_over=StandardScaler()\n",
    "scaler_svm_over.fit(Xtrain_over_svm)\n",
    "Xtrain_over_svm_scaled=scaler_svm_over.transform(Xtrain_over_svm)\n",
    "scaler_svm_val=StandardScaler()\n",
    "scaler_svm_val.fit(Xval_over_svm)\n",
    "Xval_over_svm_scaled=scaler_svm_val.transform(Xval_over_svm)\n",
    "scaler_svm_test=StandardScaler()\n",
    "scaler_svm_test.fit(Xtest_svm)\n",
    "Xtest_svm_scaled=scaler_svm_test.transform(Xtest_svm)\n",
    "\n",
    "pca_svm_over=PCA(0.9)\n",
    "pca_svm_over.fit(Xtrain_over_svm_scaled)\n",
    "svm_gs.best_estimator_.fit(pca_svm_over.transform(Xtrain_over_svm_scaled), ytrain_over_svm) \n",
    "\n",
    "y_pred_trainop = svm_gs.best_estimator_.predict(pca_svm_over.transform(Xtrain_over_svm_scaled))\n",
    "y_true_trainop = ytrain_over_svm\n",
    "y_pred_testop = svm_gs.best_estimator_.predict(pca_svm_over.transform(Xtest_svm_scaled))\n",
    "y_true_testop = ytest_svm\n",
    "y_pred_valop = svm_gs.best_estimator_.predict(pca_svm_over.transform(Xval_over_svm_scaled))\n",
    "y_true_valop = yval_over_svm\n",
    "\n",
    "acc_trainop = svm_gs.best_estimator_.score(pca_svm_over.transform(Xtrain_over_svm_scaled), y_true_trainop)\n",
    "prec_trainop = precision_score(y_true_trainop,y_pred_trainop, average='weighted')\n",
    "rec_trainop = recall_score(y_true_trainop,y_pred_trainop, average='weighted')\n",
    "f1_trainop = f1_score(y_true_trainop,y_pred_trainop, average='weighted')\n",
    "acc_valop = svm_gs.best_estimator_.score(pca_svm_over.transform(Xval_over_svm_scaled), y_true_valop)\n",
    "prec_valop = precision_score(y_true_valop,y_pred_valop, average='weighted')\n",
    "rec_valop = recall_score(y_true_valop,y_pred_valop, average='weighted')\n",
    "f1_valop = f1_score(y_true_valop,y_pred_valop, average='weighted')\n",
    "acc_testop = svm_gs.best_estimator_.score(pca_svm_over.transform(Xtest_svm_scaled),y_true_testop)\n",
    "prec_testop = precision_score(y_true_testop,y_pred_testop, average='weighted')\n",
    "rec_testop = recall_score(y_true_testop,y_pred_testop, average='weighted')\n",
    "f1_testop = f1_score(y_true_testop,y_pred_testop, average='weighted')\n",
    "\n",
    "df_perf_svmop = pd.DataFrame({'acc': [acc_trainop, acc_valop, acc_testop], \n",
    "                        'prec': [prec_trainop, prec_valop, prec_testop], \n",
    "                        'rec': [rec_trainop, rec_valop, rec_testop],\n",
    "                        'f1': [f1_trainop, f1_valop, f1_testop]\n",
    "                       },\n",
    "                      index=['train svm over pca', 'val svm over pca', 'test svm over pca'])\n",
    "cmat_svmop = confusion_matrix(y_true_testop,y_pred_testop)\n",
    "df_cmat_svmop = pd.DataFrame(cmat_svmop, columns=['no bancarotta','bancarotta'], \n",
    "                             index=['no bancarotta','bancarotta'])\n",
    "\n",
    "print('')\n",
    "print('Performance SVM senza PCA Smote')\n",
    "print('')\n",
    "display(df_perf_svmo)\n",
    "print('')\n",
    "print('Confusion matrix SVM senza PCA Smote')\n",
    "print('')\n",
    "display(df_cmat_svmo)\n",
    "print('')\n",
    "print('Performance SVM con PCA Smote')\n",
    "print('')\n",
    "display(df_perf_svmop)\n",
    "print('')\n",
    "print('Confusion matrix SVM con PCA Smote')\n",
    "print('')\n",
    "display(df_cmat_svmop)"
   ]
  },
  {
   "cell_type": "code",
   "execution_count": 70,
   "id": "improving-conditioning",
   "metadata": {
    "tags": []
   },
   "outputs": [],
   "source": [
    "#svm Smote+Tomek con e senza pca\n",
    "svm_gs.best_estimator_.fit(Xtrain_under_svm, ytrain_under_svm) \n",
    "\n",
    "y_pred_trainu = svm_gs.best_estimator_.predict(Xtrain_under_svm)\n",
    "y_true_trainu = ytrain_under_svm\n",
    "y_pred_testu = svm_gs.best_estimator_.predict(Xtest_svm)\n",
    "y_true_testu = ytest_svm\n",
    "y_pred_valu = svm_gs.best_estimator_.predict(Xval_under_svm)\n",
    "y_true_valu = yval_under_svm\n",
    "\n",
    "acc_trainu = svm_gs.best_estimator_.score(Xtrain_under_svm, y_true_trainu)\n",
    "prec_trainu = precision_score(y_true_trainu,y_pred_trainu, average='weighted')\n",
    "rec_trainu = recall_score(y_true_trainu,y_pred_trainu, average='weighted')\n",
    "f1_trainu = f1_score(y_true_trainu,y_pred_trainu, average='weighted')\n",
    "acc_valu = svm_gs.best_estimator_.score(Xval_under_svm, y_true_valu)\n",
    "prec_valu = precision_score(y_true_valu,y_pred_valu, average='weighted')\n",
    "rec_valu = recall_score(y_true_valu,y_pred_valu, average='weighted')\n",
    "f1_valu = f1_score(y_true_valu,y_pred_valu, average='weighted')\n",
    "acc_testu = svm_gs.best_estimator_.score(Xtest_svm,y_true_testu)\n",
    "prec_testu = precision_score(y_true_testu,y_pred_testu, average='weighted')\n",
    "rec_testu = recall_score(y_true_testu,y_pred_testu, average='weighted')\n",
    "f1_testu = f1_score(y_true_testu,y_pred_testu, average='weighted')\n",
    "\n",
    "df_perf_svmu = pd.DataFrame({'acc': [acc_trainu, acc_valu, acc_testu], \n",
    "                        'prec': [prec_trainu, prec_valu, prec_testu], \n",
    "                        'rec': [rec_trainu, rec_valu, rec_testu],\n",
    "                        'f1': [f1_trainu, f1_valu, f1_testu]\n",
    "                       },\n",
    "                      index=['train svm no pca under', 'val svm no pca under', 'test svm no pca under'])\n",
    "cmat_svmu = confusion_matrix(y_true_testu,y_pred_testu)\n",
    "df_cmat_svmu = pd.DataFrame(cmat_svmu, columns=['no bancarotta svm no pca under','bancarotta svm no pca under'], \n",
    "                            index=['no bancarotta svm no pca under','bancarotta svm no pca under'])"
   ]
  },
  {
   "cell_type": "code",
   "execution_count": 71,
   "id": "controlling-attack",
   "metadata": {
    "tags": []
   },
   "outputs": [
    {
     "name": "stdout",
     "output_type": "stream",
     "text": [
      "\n",
      "Performance SVM senza PCA Smote+Tomek\n",
      "\n"
     ]
    },
    {
     "data": {
      "text/html": [
       "<div>\n",
       "<style scoped>\n",
       "    .dataframe tbody tr th:only-of-type {\n",
       "        vertical-align: middle;\n",
       "    }\n",
       "\n",
       "    .dataframe tbody tr th {\n",
       "        vertical-align: top;\n",
       "    }\n",
       "\n",
       "    .dataframe thead th {\n",
       "        text-align: right;\n",
       "    }\n",
       "</style>\n",
       "<table border=\"1\" class=\"dataframe\">\n",
       "  <thead>\n",
       "    <tr style=\"text-align: right;\">\n",
       "      <th></th>\n",
       "      <th>acc</th>\n",
       "      <th>prec</th>\n",
       "      <th>rec</th>\n",
       "      <th>f1</th>\n",
       "    </tr>\n",
       "  </thead>\n",
       "  <tbody>\n",
       "    <tr>\n",
       "      <th>train svm no pca under</th>\n",
       "      <td>0.934130</td>\n",
       "      <td>0.937061</td>\n",
       "      <td>0.934130</td>\n",
       "      <td>0.934020</td>\n",
       "    </tr>\n",
       "    <tr>\n",
       "      <th>val svm no pca under</th>\n",
       "      <td>0.604022</td>\n",
       "      <td>0.650025</td>\n",
       "      <td>0.604022</td>\n",
       "      <td>0.571146</td>\n",
       "    </tr>\n",
       "    <tr>\n",
       "      <th>test svm no pca under</th>\n",
       "      <td>0.850440</td>\n",
       "      <td>0.943848</td>\n",
       "      <td>0.850440</td>\n",
       "      <td>0.891518</td>\n",
       "    </tr>\n",
       "  </tbody>\n",
       "</table>\n",
       "</div>"
      ],
      "text/plain": [
       "                             acc      prec       rec        f1\n",
       "train svm no pca under  0.934130  0.937061  0.934130  0.934020\n",
       "val svm no pca under    0.604022  0.650025  0.604022  0.571146\n",
       "test svm no pca under   0.850440  0.943848  0.850440  0.891518"
      ]
     },
     "metadata": {},
     "output_type": "display_data"
    },
    {
     "name": "stdout",
     "output_type": "stream",
     "text": [
      "\n",
      "Confusion matrix SVM senza PCA Smote+Tomek\n",
      "\n"
     ]
    },
    {
     "data": {
      "text/html": [
       "<div>\n",
       "<style scoped>\n",
       "    .dataframe tbody tr th:only-of-type {\n",
       "        vertical-align: middle;\n",
       "    }\n",
       "\n",
       "    .dataframe tbody tr th {\n",
       "        vertical-align: top;\n",
       "    }\n",
       "\n",
       "    .dataframe thead th {\n",
       "        text-align: right;\n",
       "    }\n",
       "</style>\n",
       "<table border=\"1\" class=\"dataframe\">\n",
       "  <thead>\n",
       "    <tr style=\"text-align: right;\">\n",
       "      <th></th>\n",
       "      <th>no bancarotta svm no pca under</th>\n",
       "      <th>bancarotta svm no pca under</th>\n",
       "    </tr>\n",
       "  </thead>\n",
       "  <tbody>\n",
       "    <tr>\n",
       "      <th>no bancarotta svm no pca under</th>\n",
       "      <td>2860</td>\n",
       "      <td>434</td>\n",
       "    </tr>\n",
       "    <tr>\n",
       "      <th>bancarotta svm no pca under</th>\n",
       "      <td>76</td>\n",
       "      <td>40</td>\n",
       "    </tr>\n",
       "  </tbody>\n",
       "</table>\n",
       "</div>"
      ],
      "text/plain": [
       "                                no bancarotta svm no pca under  \\\n",
       "no bancarotta svm no pca under                            2860   \n",
       "bancarotta svm no pca under                                 76   \n",
       "\n",
       "                                bancarotta svm no pca under  \n",
       "no bancarotta svm no pca under                          434  \n",
       "bancarotta svm no pca under                              40  "
      ]
     },
     "metadata": {},
     "output_type": "display_data"
    },
    {
     "name": "stdout",
     "output_type": "stream",
     "text": [
      "\n",
      "Performance SVM con PCA Smote+Tomek\n",
      "\n"
     ]
    },
    {
     "data": {
      "text/html": [
       "<div>\n",
       "<style scoped>\n",
       "    .dataframe tbody tr th:only-of-type {\n",
       "        vertical-align: middle;\n",
       "    }\n",
       "\n",
       "    .dataframe tbody tr th {\n",
       "        vertical-align: top;\n",
       "    }\n",
       "\n",
       "    .dataframe thead th {\n",
       "        text-align: right;\n",
       "    }\n",
       "</style>\n",
       "<table border=\"1\" class=\"dataframe\">\n",
       "  <thead>\n",
       "    <tr style=\"text-align: right;\">\n",
       "      <th></th>\n",
       "      <th>acc</th>\n",
       "      <th>prec</th>\n",
       "      <th>rec</th>\n",
       "      <th>f1</th>\n",
       "    </tr>\n",
       "  </thead>\n",
       "  <tbody>\n",
       "    <tr>\n",
       "      <th>train svm under pca</th>\n",
       "      <td>0.974568</td>\n",
       "      <td>0.975799</td>\n",
       "      <td>0.974568</td>\n",
       "      <td>0.974551</td>\n",
       "    </tr>\n",
       "    <tr>\n",
       "      <th>val svm under pca</th>\n",
       "      <td>0.816319</td>\n",
       "      <td>0.832234</td>\n",
       "      <td>0.816319</td>\n",
       "      <td>0.814092</td>\n",
       "    </tr>\n",
       "    <tr>\n",
       "      <th>test svm under pca</th>\n",
       "      <td>0.690909</td>\n",
       "      <td>0.959078</td>\n",
       "      <td>0.690909</td>\n",
       "      <td>0.788622</td>\n",
       "    </tr>\n",
       "  </tbody>\n",
       "</table>\n",
       "</div>"
      ],
      "text/plain": [
       "                          acc      prec       rec        f1\n",
       "train svm under pca  0.974568  0.975799  0.974568  0.974551\n",
       "val svm under pca    0.816319  0.832234  0.816319  0.814092\n",
       "test svm under pca   0.690909  0.959078  0.690909  0.788622"
      ]
     },
     "metadata": {},
     "output_type": "display_data"
    },
    {
     "name": "stdout",
     "output_type": "stream",
     "text": [
      "\n",
      "Confusion matrix SVM con PCA Smote+Tomek\n",
      "\n"
     ]
    },
    {
     "data": {
      "text/html": [
       "<div>\n",
       "<style scoped>\n",
       "    .dataframe tbody tr th:only-of-type {\n",
       "        vertical-align: middle;\n",
       "    }\n",
       "\n",
       "    .dataframe tbody tr th {\n",
       "        vertical-align: top;\n",
       "    }\n",
       "\n",
       "    .dataframe thead th {\n",
       "        text-align: right;\n",
       "    }\n",
       "</style>\n",
       "<table border=\"1\" class=\"dataframe\">\n",
       "  <thead>\n",
       "    <tr style=\"text-align: right;\">\n",
       "      <th></th>\n",
       "      <th>no bancarotta</th>\n",
       "      <th>bancarotta</th>\n",
       "    </tr>\n",
       "  </thead>\n",
       "  <tbody>\n",
       "    <tr>\n",
       "      <th>no bancarotta</th>\n",
       "      <td>2263</td>\n",
       "      <td>1031</td>\n",
       "    </tr>\n",
       "    <tr>\n",
       "      <th>bancarotta</th>\n",
       "      <td>23</td>\n",
       "      <td>93</td>\n",
       "    </tr>\n",
       "  </tbody>\n",
       "</table>\n",
       "</div>"
      ],
      "text/plain": [
       "               no bancarotta  bancarotta\n",
       "no bancarotta           2263        1031\n",
       "bancarotta                23          93"
      ]
     },
     "metadata": {},
     "output_type": "display_data"
    }
   ],
   "source": [
    "scaler_svm_under=StandardScaler()\n",
    "scaler_svm_under.fit(Xtrain_under_svm)\n",
    "Xtrain_under_svm_scaled=scaler_svm_under.transform(Xtrain_under_svm)\n",
    "scaler_svm_val_under=StandardScaler()\n",
    "scaler_svm_val_under.fit(Xval_under_svm)\n",
    "Xval_under_svm_scaled=scaler_svm_val.transform(Xval_under_svm)\n",
    "scaler_svm_test_under=StandardScaler()\n",
    "\n",
    "pca_svm_under=PCA(0.9)\n",
    "pca_svm_under.fit(Xtrain_under_svm_scaled)\n",
    "svm_gs.best_estimator_.fit(pca_svm_under.transform(Xtrain_under_svm_scaled), ytrain_under_svm) \n",
    "\n",
    "y_pred_trainup = svm_gs.best_estimator_.predict(pca_svm_under.transform(Xtrain_under_svm_scaled))\n",
    "y_true_trainup = ytrain_under_svm\n",
    "y_pred_testup = svm_gs.best_estimator_.predict(pca_svm_under.transform(Xtest_svm_scaled))\n",
    "y_true_testup = ytest_svm\n",
    "y_pred_valup = svm_gs.best_estimator_.predict(pca_svm_under.transform(Xval_under_svm_scaled))\n",
    "y_true_valup = yval_under_svm\n",
    "\n",
    "acc_trainup = svm_gs.best_estimator_.score(pca_svm_under.transform(Xtrain_under_svm_scaled), y_true_trainup)\n",
    "prec_trainup = precision_score(y_true_trainup,y_pred_trainup, average='weighted')\n",
    "rec_trainup = recall_score(y_true_trainup,y_pred_trainup, average='weighted')\n",
    "f1_trainup = f1_score(y_true_trainup,y_pred_trainup, average='weighted')\n",
    "acc_valup = svm_gs.best_estimator_.score(pca_svm_under.transform(Xval_under_svm_scaled), y_true_valup)\n",
    "prec_valup = precision_score(y_true_valup,y_pred_valup, average='weighted')\n",
    "rec_valup = recall_score(y_true_valup,y_pred_valup, average='weighted')\n",
    "f1_valup = f1_score(y_true_valup,y_pred_valup, average='weighted')\n",
    "acc_testup = svm_gs.best_estimator_.score(pca_svm_under.transform(Xtest_svm_scaled),y_true_testup)\n",
    "prec_testup = precision_score(y_true_testup,y_pred_testup, average='weighted')\n",
    "rec_testup = recall_score(y_true_testup,y_pred_testup, average='weighted')\n",
    "f1_testup = f1_score(y_true_testup,y_pred_testup, average='weighted')\n",
    "\n",
    "df_perf_svmup = pd.DataFrame({'acc': [acc_trainup, acc_valup, acc_testup], \n",
    "                        'prec': [prec_trainup, prec_valup, prec_testup], \n",
    "                        'rec': [rec_trainup, rec_valup, rec_testup],\n",
    "                        'f1': [f1_trainup, f1_valup, f1_testup]\n",
    "                       },\n",
    "                      index=['train svm under pca', 'val svm under pca', 'test svm under pca'])\n",
    "cmat_svmup = confusion_matrix(y_true_testup,y_pred_testup)\n",
    "df_cmat_svmup = pd.DataFrame(cmat_svmup, columns=['no bancarotta','bancarotta'], \n",
    "                             index=['no bancarotta','bancarotta'])\n",
    "\n",
    "print('')\n",
    "print('Performance SVM senza PCA Smote+Tomek')\n",
    "print('')\n",
    "display(df_perf_svmu)\n",
    "print('')\n",
    "print('Confusion matrix SVM senza PCA Smote+Tomek')\n",
    "print('')\n",
    "display(df_cmat_svmu)\n",
    "print('')\n",
    "print('Performance SVM con PCA Smote+Tomek')\n",
    "print('')\n",
    "display(df_perf_svmup)\n",
    "print('')\n",
    "print('Confusion matrix SVM con PCA Smote+Tomek')\n",
    "print('')\n",
    "display(df_cmat_svmup)"
   ]
  },
  {
   "cell_type": "code",
   "execution_count": 72,
   "id": "demographic-restoration",
   "metadata": {
    "tags": []
   },
   "outputs": [
    {
     "data": {
      "text/html": [
       "<div>\n",
       "<style scoped>\n",
       "    .dataframe tbody tr th:only-of-type {\n",
       "        vertical-align: middle;\n",
       "    }\n",
       "\n",
       "    .dataframe tbody tr th {\n",
       "        vertical-align: top;\n",
       "    }\n",
       "\n",
       "    .dataframe thead th {\n",
       "        text-align: right;\n",
       "    }\n",
       "</style>\n",
       "<table border=\"1\" class=\"dataframe\">\n",
       "  <thead>\n",
       "    <tr style=\"text-align: right;\">\n",
       "      <th></th>\n",
       "      <th>trainval mlp</th>\n",
       "      <th>test mlp</th>\n",
       "    </tr>\n",
       "  </thead>\n",
       "  <tbody>\n",
       "    <tr>\n",
       "      <th>0</th>\n",
       "      <td>3305</td>\n",
       "      <td>3294</td>\n",
       "    </tr>\n",
       "    <tr>\n",
       "      <th>1</th>\n",
       "      <td>104</td>\n",
       "      <td>116</td>\n",
       "    </tr>\n",
       "  </tbody>\n",
       "</table>\n",
       "</div>"
      ],
      "text/plain": [
       "   trainval mlp  test mlp\n",
       "0          3305      3294\n",
       "1           104       116"
      ]
     },
     "metadata": {},
     "output_type": "display_data"
    },
    {
     "data": {
      "text/html": [
       "<div>\n",
       "<style scoped>\n",
       "    .dataframe tbody tr th:only-of-type {\n",
       "        vertical-align: middle;\n",
       "    }\n",
       "\n",
       "    .dataframe tbody tr th {\n",
       "        vertical-align: top;\n",
       "    }\n",
       "\n",
       "    .dataframe thead th {\n",
       "        text-align: right;\n",
       "    }\n",
       "</style>\n",
       "<table border=\"1\" class=\"dataframe\">\n",
       "  <thead>\n",
       "    <tr style=\"text-align: right;\">\n",
       "      <th></th>\n",
       "      <th>trainval Smote mlp</th>\n",
       "      <th>trainval Tomek mlp</th>\n",
       "      <th>trainval Smote+Tomek mlp</th>\n",
       "      <th>test mlp</th>\n",
       "    </tr>\n",
       "  </thead>\n",
       "  <tbody>\n",
       "    <tr>\n",
       "      <th>0</th>\n",
       "      <td>3305</td>\n",
       "      <td>3263</td>\n",
       "      <td>3263</td>\n",
       "      <td>3294</td>\n",
       "    </tr>\n",
       "    <tr>\n",
       "      <th>1</th>\n",
       "      <td>3305</td>\n",
       "      <td>104</td>\n",
       "      <td>3263</td>\n",
       "      <td>116</td>\n",
       "    </tr>\n",
       "  </tbody>\n",
       "</table>\n",
       "</div>"
      ],
      "text/plain": [
       "   trainval Smote mlp  trainval Tomek mlp  trainval Smote+Tomek mlp  test mlp\n",
       "0                3305                3263                      3263      3294\n",
       "1                3305                 104                      3263       116"
      ]
     },
     "metadata": {},
     "output_type": "display_data"
    }
   ],
   "source": [
    "#mlp Smote con e senza pca\n",
    "test_mlp = 0.5\n",
    "val_mlp = 0.4\n",
    "\n",
    "indices = np.arange(X.shape[0])\n",
    "ind_trainval_mlp, ind_test_mlp = train_test_split(indices, test_size=test_mlp, random_state=random_state, shuffle=True)\n",
    "\n",
    "Xtrainval_mlp=X.iloc[ind_trainval_mlp,:]\n",
    "ytrainval_mlp=y.iloc[ind_trainval_mlp]\n",
    "Xtest_mlp=X.iloc[ind_test_mlp,:]\n",
    "ytest_mlp= y.iloc[ind_test_mlp]\n",
    "\n",
    "\n",
    "Xtrainval_over_mlp, ytrainval_over_mlp = SMOTE().fit_resample(Xtrainval_mlp, ytrainval_mlp)\n",
    "Xtrainval_Tomek_mlp, ytrainval_Tomek_mlp = TomekLinks().fit_resample(Xtrainval_mlp, ytrainval_mlp)\n",
    "Xtrainval_under_mlp, ytrainval_under_mlp = SMOTE().fit_resample(Xtrainval_Tomek_mlp, ytrainval_Tomek_mlp)\n",
    "\n",
    "info_mlp1=pd.DataFrame({'trainval mlp':[list(ytrainval_mlp).count(0),list(ytrainval_mlp).count(1)],\n",
    "                  'test mlp':[list(ytest_mlp).count(0),list(ytest_mlp).count(1)]})\n",
    "info_mlp2=pd.DataFrame({'trainval Smote mlp':[list(ytrainval_over_mlp).count(0),list(ytrainval_over_mlp).count(1)],\n",
    "                  'trainval Tomek mlp':[list(ytrainval_Tomek_mlp).count(0),list(ytrainval_Tomek_mlp).count(1)],\n",
    "                  'trainval Smote+Tomek mlp':[list(ytrainval_under_mlp).count(0),list(ytrainval_under_mlp).count(1)],\n",
    "                  'test mlp':[list(ytest_mlp).count(0),list(ytest_mlp).count(1)]})\n",
    "display(info_mlp1)\n",
    "display(info_mlp2)"
   ]
  },
  {
   "cell_type": "code",
   "execution_count": 73,
   "id": "analyzed-batman",
   "metadata": {
    "tags": []
   },
   "outputs": [
    {
     "data": {
      "text/plain": [
       "GridSearchCV(estimator=MLPClassifier(batch_size=4, early_stopping=True,\n",
       "                                     hidden_layer_sizes=[64],\n",
       "                                     n_iter_no_change=75, random_state=20210528,\n",
       "                                     validation_fraction=0.4),\n",
       "             param_grid={'activation': ['relu', 'logistic'],\n",
       "                         'max_iter': [500, 750, 1000]},\n",
       "             return_train_score=True, scoring='f1_weighted')"
      ]
     },
     "execution_count": 73,
     "metadata": {},
     "output_type": "execute_result"
    }
   ],
   "source": [
    "hidden_layer_sizes = [64]\n",
    "activation_list=['relu','logistic']\n",
    "patience=75\n",
    "max_epochs_list = [500,750,1000]\n",
    "verbose = False\n",
    "batch_sz = 4\n",
    "hparameters = {'max_iter': max_epochs_list,\n",
    "               'activation':activation_list}\n",
    "mlp = MLPClassifier(hidden_layer_sizes=hidden_layer_sizes,\n",
    "                    verbose=verbose,n_iter_no_change=patience,\n",
    "                    random_state=random_state, batch_size=batch_sz,\n",
    "                    validation_fraction=val_mlp,solver='adam',\n",
    "                    early_stopping=True)\n",
    "mlp_gs = GridSearchCV(estimator=mlp,\n",
    "                      param_grid=hparameters, \n",
    "                      scoring='f1_weighted',\n",
    "                      return_train_score=True)\n",
    "mlp_gs.fit(X, y)"
   ]
  },
  {
   "cell_type": "code",
   "execution_count": 74,
   "id": "collect-defensive",
   "metadata": {
    "tags": []
   },
   "outputs": [],
   "source": [
    "mlp_gs.best_estimator_.fit(Xtrainval_over_mlp,ytrainval_over_mlp)\n",
    "y_pred_trainval_over_mlp = mlp_gs.best_estimator_.predict(Xtrainval_over_mlp)\n",
    "y_pred_test_over_mlp = mlp_gs.best_estimator_.predict(Xtest_mlp)\n",
    "\n",
    "acc_trainval_over_mlp = mlp_gs.best_estimator_.score(Xtrainval_over_mlp, ytrainval_over_mlp)\n",
    "prec_trainval_over_mlp = precision_score(ytrainval_over_mlp, y_pred_trainval_over_mlp, average='weighted',zero_division=0)\n",
    "rec_trainval_over_mlp = recall_score(ytrainval_over_mlp, y_pred_trainval_over_mlp, average='weighted')\n",
    "f1_trainval_over_mlp = f1_score(ytrainval_over_mlp, y_pred_trainval_over_mlp, average='weighted')\n",
    "\n",
    "acc_test_over_mlp = mlp_gs.best_estimator_.score(Xtest_mlp, ytest_mlp)\n",
    "prec_test_over_mlp = precision_score(ytest_mlp, y_pred_test_over_mlp, average='weighted',zero_division=1)\n",
    "rec_test_over_mlp = recall_score(ytest_mlp, y_pred_test_over_mlp, average='weighted')\n",
    "f1_test_over_mlp = f1_score(ytest_mlp, y_pred_test_over_mlp, average='weighted')\n",
    "\n",
    "df_perf_over_mlp = pd.DataFrame({'acc': [acc_trainval_over_mlp, acc_test_over_mlp], \n",
    "                        'prec': [prec_trainval_over_mlp, prec_test_over_mlp], \n",
    "                        'rec': [rec_trainval_over_mlp, rec_test_over_mlp],\n",
    "                        'f1': [f1_trainval_over_mlp, f1_test_over_mlp]\n",
    "                       },\n",
    "                      index=['trainval mlp no pca over', 'test mlp no pca over'])\n",
    "\n",
    "cmat_over_mlp = confusion_matrix(ytest_mlp, y_pred_test_over_mlp, labels=mlp_gs.best_estimator_.classes_)\n",
    "\n",
    "df_cmat_over_mlp = pd.DataFrame(cmat_over_mlp, columns=['no bancarotta','bancarotta'],\n",
    "                                index=['no bancarotta','bancarotta'])"
   ]
  },
  {
   "cell_type": "code",
   "execution_count": 75,
   "id": "funded-cricket",
   "metadata": {
    "tags": []
   },
   "outputs": [
    {
     "name": "stdout",
     "output_type": "stream",
     "text": [
      "\n",
      "Performance MLP senza PCA Smote\n",
      "\n"
     ]
    },
    {
     "data": {
      "text/html": [
       "<div>\n",
       "<style scoped>\n",
       "    .dataframe tbody tr th:only-of-type {\n",
       "        vertical-align: middle;\n",
       "    }\n",
       "\n",
       "    .dataframe tbody tr th {\n",
       "        vertical-align: top;\n",
       "    }\n",
       "\n",
       "    .dataframe thead th {\n",
       "        text-align: right;\n",
       "    }\n",
       "</style>\n",
       "<table border=\"1\" class=\"dataframe\">\n",
       "  <thead>\n",
       "    <tr style=\"text-align: right;\">\n",
       "      <th></th>\n",
       "      <th>acc</th>\n",
       "      <th>prec</th>\n",
       "      <th>rec</th>\n",
       "      <th>f1</th>\n",
       "    </tr>\n",
       "  </thead>\n",
       "  <tbody>\n",
       "    <tr>\n",
       "      <th>trainval mlp no pca over</th>\n",
       "      <td>0.878517</td>\n",
       "      <td>0.879440</td>\n",
       "      <td>0.878517</td>\n",
       "      <td>0.878443</td>\n",
       "    </tr>\n",
       "    <tr>\n",
       "      <th>test mlp no pca over</th>\n",
       "      <td>0.814663</td>\n",
       "      <td>0.942176</td>\n",
       "      <td>0.814663</td>\n",
       "      <td>0.869854</td>\n",
       "    </tr>\n",
       "  </tbody>\n",
       "</table>\n",
       "</div>"
      ],
      "text/plain": [
       "                               acc      prec       rec        f1\n",
       "trainval mlp no pca over  0.878517  0.879440  0.878517  0.878443\n",
       "test mlp no pca over      0.814663  0.942176  0.814663  0.869854"
      ]
     },
     "metadata": {},
     "output_type": "display_data"
    },
    {
     "name": "stdout",
     "output_type": "stream",
     "text": [
      "\n",
      "Confusion matrix MLP senza PCA Smote\n",
      "\n"
     ]
    },
    {
     "data": {
      "text/html": [
       "<div>\n",
       "<style scoped>\n",
       "    .dataframe tbody tr th:only-of-type {\n",
       "        vertical-align: middle;\n",
       "    }\n",
       "\n",
       "    .dataframe tbody tr th {\n",
       "        vertical-align: top;\n",
       "    }\n",
       "\n",
       "    .dataframe thead th {\n",
       "        text-align: right;\n",
       "    }\n",
       "</style>\n",
       "<table border=\"1\" class=\"dataframe\">\n",
       "  <thead>\n",
       "    <tr style=\"text-align: right;\">\n",
       "      <th></th>\n",
       "      <th>no bancarotta</th>\n",
       "      <th>bancarotta</th>\n",
       "    </tr>\n",
       "  </thead>\n",
       "  <tbody>\n",
       "    <tr>\n",
       "      <th>no bancarotta</th>\n",
       "      <td>2738</td>\n",
       "      <td>556</td>\n",
       "    </tr>\n",
       "    <tr>\n",
       "      <th>bancarotta</th>\n",
       "      <td>76</td>\n",
       "      <td>40</td>\n",
       "    </tr>\n",
       "  </tbody>\n",
       "</table>\n",
       "</div>"
      ],
      "text/plain": [
       "               no bancarotta  bancarotta\n",
       "no bancarotta           2738         556\n",
       "bancarotta                76          40"
      ]
     },
     "metadata": {},
     "output_type": "display_data"
    },
    {
     "name": "stdout",
     "output_type": "stream",
     "text": [
      "\n",
      "Performance MLP con PCA Smote\n",
      "\n"
     ]
    },
    {
     "data": {
      "text/html": [
       "<div>\n",
       "<style scoped>\n",
       "    .dataframe tbody tr th:only-of-type {\n",
       "        vertical-align: middle;\n",
       "    }\n",
       "\n",
       "    .dataframe tbody tr th {\n",
       "        vertical-align: top;\n",
       "    }\n",
       "\n",
       "    .dataframe thead th {\n",
       "        text-align: right;\n",
       "    }\n",
       "</style>\n",
       "<table border=\"1\" class=\"dataframe\">\n",
       "  <thead>\n",
       "    <tr style=\"text-align: right;\">\n",
       "      <th></th>\n",
       "      <th>acc</th>\n",
       "      <th>prec</th>\n",
       "      <th>rec</th>\n",
       "      <th>f1</th>\n",
       "    </tr>\n",
       "  </thead>\n",
       "  <tbody>\n",
       "    <tr>\n",
       "      <th>train mlp over pca</th>\n",
       "      <td>0.995008</td>\n",
       "      <td>0.995041</td>\n",
       "      <td>0.995008</td>\n",
       "      <td>0.995007</td>\n",
       "    </tr>\n",
       "    <tr>\n",
       "      <th>test mlp over pca</th>\n",
       "      <td>0.828446</td>\n",
       "      <td>0.958941</td>\n",
       "      <td>0.828446</td>\n",
       "      <td>0.880389</td>\n",
       "    </tr>\n",
       "  </tbody>\n",
       "</table>\n",
       "</div>"
      ],
      "text/plain": [
       "                         acc      prec       rec        f1\n",
       "train mlp over pca  0.995008  0.995041  0.995008  0.995007\n",
       "test mlp over pca   0.828446  0.958941  0.828446  0.880389"
      ]
     },
     "metadata": {},
     "output_type": "display_data"
    },
    {
     "name": "stdout",
     "output_type": "stream",
     "text": [
      "\n",
      "Confusion matrix MLP con PCA Smote\n",
      "\n"
     ]
    },
    {
     "data": {
      "text/html": [
       "<div>\n",
       "<style scoped>\n",
       "    .dataframe tbody tr th:only-of-type {\n",
       "        vertical-align: middle;\n",
       "    }\n",
       "\n",
       "    .dataframe tbody tr th {\n",
       "        vertical-align: top;\n",
       "    }\n",
       "\n",
       "    .dataframe thead th {\n",
       "        text-align: right;\n",
       "    }\n",
       "</style>\n",
       "<table border=\"1\" class=\"dataframe\">\n",
       "  <thead>\n",
       "    <tr style=\"text-align: right;\">\n",
       "      <th></th>\n",
       "      <th>no bancarotta</th>\n",
       "      <th>bancarotta</th>\n",
       "    </tr>\n",
       "  </thead>\n",
       "  <tbody>\n",
       "    <tr>\n",
       "      <th>no bancarotta</th>\n",
       "      <td>2742</td>\n",
       "      <td>552</td>\n",
       "    </tr>\n",
       "    <tr>\n",
       "      <th>bancarotta</th>\n",
       "      <td>33</td>\n",
       "      <td>83</td>\n",
       "    </tr>\n",
       "  </tbody>\n",
       "</table>\n",
       "</div>"
      ],
      "text/plain": [
       "               no bancarotta  bancarotta\n",
       "no bancarotta           2742         552\n",
       "bancarotta                33          83"
      ]
     },
     "metadata": {},
     "output_type": "display_data"
    }
   ],
   "source": [
    "scaler_mlp_over=StandardScaler()\n",
    "scaler_mlp_over.fit(Xtrainval_over_mlp)\n",
    "Xtrainval_over_mlp_scaled=scaler_mlp_over.transform(Xtrainval_over_mlp)\n",
    "scaler_mlp_test=StandardScaler()\n",
    "scaler_mlp_test.fit(Xtest_mlp)\n",
    "Xtest_mlp_scaled=scaler_mlp_test.transform(Xtest_mlp)\n",
    "\n",
    "pca_mlp_over=PCA(0.9)\n",
    "pca_mlp_over.fit(Xtrainval_over_mlp_scaled)\n",
    "Xtrainval_over_mlp_scaled_transf=pca_mlp_over.transform(Xtrainval_over_mlp_scaled)\n",
    "Xtest_mlp_scaled_transf=pca_mlp_over.transform(Xtest_mlp_scaled)\n",
    "mlp_gs.best_estimator_.fit(Xtrainval_over_mlp_scaled_transf, ytrainval_over_mlp) \n",
    "\n",
    "y_pred_trainvalop = mlp_gs.best_estimator_.predict(Xtrainval_over_mlp_scaled_transf)\n",
    "y_true_trainvalop = ytrainval_over_mlp\n",
    "y_pred_testop = mlp_gs.best_estimator_.predict(Xtest_mlp_scaled_transf)\n",
    "y_true_testop = ytest_mlp\n",
    "\n",
    "acc_trainvalop = mlp_gs.best_estimator_.score(Xtrainval_over_mlp_scaled_transf, y_true_trainvalop)\n",
    "prec_trainvalop = precision_score(y_true_trainvalop,y_pred_trainvalop, average='weighted')\n",
    "rec_trainvalop = recall_score(y_true_trainvalop,y_pred_trainvalop, average='weighted')\n",
    "f1_trainvalop = f1_score(y_true_trainvalop,y_pred_trainvalop, average='weighted')\n",
    "acc_testop = mlp_gs.best_estimator_.score(Xtest_mlp_scaled_transf,y_true_testop)\n",
    "prec_testop = precision_score(y_true_testop,y_pred_testop, average='weighted')\n",
    "rec_testop = recall_score(y_true_testop,y_pred_testop, average='weighted')\n",
    "f1_testop = f1_score(y_true_testop,y_pred_testop, average='weighted')\n",
    "\n",
    "df_perf_mlpop = pd.DataFrame({'acc': [acc_trainvalop, acc_testop], \n",
    "                        'prec': [prec_trainvalop, prec_testop], \n",
    "                        'rec': [rec_trainvalop, rec_testop],\n",
    "                        'f1': [f1_trainvalop, f1_testop]\n",
    "                       },\n",
    "                      index=['train mlp over pca', 'test mlp over pca'])\n",
    "cmat_mlpop = confusion_matrix(y_true_testop,y_pred_testop)\n",
    "df_cmat_mlpop = pd.DataFrame(cmat_mlpop, columns=['no bancarotta','bancarotta'], \n",
    "                             index=['no bancarotta','bancarotta'])\n",
    "\n",
    "print('')\n",
    "print('Performance MLP senza PCA Smote')\n",
    "print('')\n",
    "display(df_perf_over_mlp)\n",
    "print('')\n",
    "print('Confusion matrix MLP senza PCA Smote')\n",
    "print('')\n",
    "display(df_cmat_over_mlp)\n",
    "print('')\n",
    "print('Performance MLP con PCA Smote')\n",
    "print('')\n",
    "display(df_perf_mlpop)\n",
    "print('')\n",
    "print('Confusion matrix MLP con PCA Smote')\n",
    "print('')\n",
    "display(df_cmat_mlpop)"
   ]
  },
  {
   "cell_type": "code",
   "execution_count": 76,
   "id": "latter-actor",
   "metadata": {
    "tags": []
   },
   "outputs": [],
   "source": [
    "#mlp Smote+Tomek con e senza pca\n",
    "mlp_gs.best_estimator_.fit(Xtrainval_under_mlp,ytrainval_under_mlp)\n",
    "y_pred_trainval_under_mlp = mlp_gs.best_estimator_.predict(Xtrainval_under_mlp)\n",
    "y_pred_test_under_mlp = mlp_gs.best_estimator_.predict(Xtest_mlp)\n",
    "\n",
    "acc_trainval_under_mlp = mlp_gs.best_estimator_.score(Xtrainval_under_mlp, ytrainval_under_mlp)\n",
    "prec_trainval_under_mlp = precision_score(ytrainval_under_mlp, y_pred_trainval_under_mlp, average='weighted',zero_division=0)\n",
    "rec_trainval_under_mlp = recall_score(ytrainval_under_mlp, y_pred_trainval_under_mlp, average='weighted')\n",
    "f1_trainval_under_mlp = f1_score(ytrainval_under_mlp, y_pred_trainval_under_mlp, average='weighted')\n",
    "\n",
    "acc_test_under_mlp = mlp_gs.best_estimator_.score(Xtest_mlp, ytest_mlp)\n",
    "prec_test_under_mlp = precision_score(ytest_mlp, y_pred_test_under_mlp, average='weighted',zero_division=1)\n",
    "rec_test_under_mlp = recall_score(ytest_mlp, y_pred_test_under_mlp, average='weighted')\n",
    "f1_test_under_mlp = f1_score(ytest_mlp, y_pred_test_under_mlp, average='weighted')\n",
    "\n",
    "df_perf_under_mlp = pd.DataFrame({'acc': [acc_trainval_under_mlp, acc_test_under_mlp], \n",
    "                        'prec': [prec_trainval_under_mlp, prec_test_under_mlp], \n",
    "                        'rec': [rec_trainval_under_mlp, rec_test_under_mlp],\n",
    "                        'f1': [f1_trainval_under_mlp, f1_test_under_mlp]\n",
    "                       },\n",
    "                      index=['trainval mlp no pca under', 'test mlp no pca under'])\n",
    "\n",
    "cmat_under_mlp = confusion_matrix(ytest_mlp, y_pred_test_under_mlp, labels=mlp_gs.best_estimator_.classes_)\n",
    "\n",
    "df_cmat_under_mlp = pd.DataFrame(cmat_under_mlp, columns=['no bancarotta','bancarotta'], \n",
    "                                 index=['no bancarotta','bancarotta'])"
   ]
  },
  {
   "cell_type": "code",
   "execution_count": 77,
   "id": "missing-employer",
   "metadata": {
    "tags": []
   },
   "outputs": [
    {
     "name": "stdout",
     "output_type": "stream",
     "text": [
      "\n",
      "Performance MLP senza PCA Smote+Tomek\n",
      "\n"
     ]
    },
    {
     "data": {
      "text/html": [
       "<div>\n",
       "<style scoped>\n",
       "    .dataframe tbody tr th:only-of-type {\n",
       "        vertical-align: middle;\n",
       "    }\n",
       "\n",
       "    .dataframe tbody tr th {\n",
       "        vertical-align: top;\n",
       "    }\n",
       "\n",
       "    .dataframe thead th {\n",
       "        text-align: right;\n",
       "    }\n",
       "</style>\n",
       "<table border=\"1\" class=\"dataframe\">\n",
       "  <thead>\n",
       "    <tr style=\"text-align: right;\">\n",
       "      <th></th>\n",
       "      <th>acc</th>\n",
       "      <th>prec</th>\n",
       "      <th>rec</th>\n",
       "      <th>f1</th>\n",
       "    </tr>\n",
       "  </thead>\n",
       "  <tbody>\n",
       "    <tr>\n",
       "      <th>trainval mlp no pca under</th>\n",
       "      <td>0.864695</td>\n",
       "      <td>0.865320</td>\n",
       "      <td>0.864695</td>\n",
       "      <td>0.864637</td>\n",
       "    </tr>\n",
       "    <tr>\n",
       "      <th>test mlp no pca under</th>\n",
       "      <td>0.816129</td>\n",
       "      <td>0.941868</td>\n",
       "      <td>0.816129</td>\n",
       "      <td>0.870699</td>\n",
       "    </tr>\n",
       "  </tbody>\n",
       "</table>\n",
       "</div>"
      ],
      "text/plain": [
       "                                acc      prec       rec        f1\n",
       "trainval mlp no pca under  0.864695  0.865320  0.864695  0.864637\n",
       "test mlp no pca under      0.816129  0.941868  0.816129  0.870699"
      ]
     },
     "metadata": {},
     "output_type": "display_data"
    },
    {
     "name": "stdout",
     "output_type": "stream",
     "text": [
      "\n",
      "Confusion matrix MLP senza PCA Smote+Tomek\n",
      "\n"
     ]
    },
    {
     "data": {
      "text/html": [
       "<div>\n",
       "<style scoped>\n",
       "    .dataframe tbody tr th:only-of-type {\n",
       "        vertical-align: middle;\n",
       "    }\n",
       "\n",
       "    .dataframe tbody tr th {\n",
       "        vertical-align: top;\n",
       "    }\n",
       "\n",
       "    .dataframe thead th {\n",
       "        text-align: right;\n",
       "    }\n",
       "</style>\n",
       "<table border=\"1\" class=\"dataframe\">\n",
       "  <thead>\n",
       "    <tr style=\"text-align: right;\">\n",
       "      <th></th>\n",
       "      <th>no bancarotta</th>\n",
       "      <th>bancarotta</th>\n",
       "    </tr>\n",
       "  </thead>\n",
       "  <tbody>\n",
       "    <tr>\n",
       "      <th>no bancarotta</th>\n",
       "      <td>2744</td>\n",
       "      <td>550</td>\n",
       "    </tr>\n",
       "    <tr>\n",
       "      <th>bancarotta</th>\n",
       "      <td>77</td>\n",
       "      <td>39</td>\n",
       "    </tr>\n",
       "  </tbody>\n",
       "</table>\n",
       "</div>"
      ],
      "text/plain": [
       "               no bancarotta  bancarotta\n",
       "no bancarotta           2744         550\n",
       "bancarotta                77          39"
      ]
     },
     "metadata": {},
     "output_type": "display_data"
    },
    {
     "name": "stdout",
     "output_type": "stream",
     "text": [
      "\n",
      "Performance MLP con PCA Smote+Tomek\n",
      "\n"
     ]
    },
    {
     "data": {
      "text/html": [
       "<div>\n",
       "<style scoped>\n",
       "    .dataframe tbody tr th:only-of-type {\n",
       "        vertical-align: middle;\n",
       "    }\n",
       "\n",
       "    .dataframe tbody tr th {\n",
       "        vertical-align: top;\n",
       "    }\n",
       "\n",
       "    .dataframe thead th {\n",
       "        text-align: right;\n",
       "    }\n",
       "</style>\n",
       "<table border=\"1\" class=\"dataframe\">\n",
       "  <thead>\n",
       "    <tr style=\"text-align: right;\">\n",
       "      <th></th>\n",
       "      <th>acc</th>\n",
       "      <th>prec</th>\n",
       "      <th>rec</th>\n",
       "      <th>f1</th>\n",
       "    </tr>\n",
       "  </thead>\n",
       "  <tbody>\n",
       "    <tr>\n",
       "      <th>train mlp under pca</th>\n",
       "      <td>0.993871</td>\n",
       "      <td>0.993924</td>\n",
       "      <td>0.993871</td>\n",
       "      <td>0.993871</td>\n",
       "    </tr>\n",
       "    <tr>\n",
       "      <th>test mlp under pca</th>\n",
       "      <td>0.778006</td>\n",
       "      <td>0.959216</td>\n",
       "      <td>0.778006</td>\n",
       "      <td>0.848185</td>\n",
       "    </tr>\n",
       "  </tbody>\n",
       "</table>\n",
       "</div>"
      ],
      "text/plain": [
       "                          acc      prec       rec        f1\n",
       "train mlp under pca  0.993871  0.993924  0.993871  0.993871\n",
       "test mlp under pca   0.778006  0.959216  0.778006  0.848185"
      ]
     },
     "metadata": {},
     "output_type": "display_data"
    },
    {
     "name": "stdout",
     "output_type": "stream",
     "text": [
      "\n",
      "Confusion matrix MLP con PCA Smote+Tomek\n",
      "\n"
     ]
    },
    {
     "data": {
      "text/html": [
       "<div>\n",
       "<style scoped>\n",
       "    .dataframe tbody tr th:only-of-type {\n",
       "        vertical-align: middle;\n",
       "    }\n",
       "\n",
       "    .dataframe tbody tr th {\n",
       "        vertical-align: top;\n",
       "    }\n",
       "\n",
       "    .dataframe thead th {\n",
       "        text-align: right;\n",
       "    }\n",
       "</style>\n",
       "<table border=\"1\" class=\"dataframe\">\n",
       "  <thead>\n",
       "    <tr style=\"text-align: right;\">\n",
       "      <th></th>\n",
       "      <th>no bancarotta</th>\n",
       "      <th>bancarotta</th>\n",
       "    </tr>\n",
       "  </thead>\n",
       "  <tbody>\n",
       "    <tr>\n",
       "      <th>no bancarotta</th>\n",
       "      <td>2565</td>\n",
       "      <td>729</td>\n",
       "    </tr>\n",
       "    <tr>\n",
       "      <th>bancarotta</th>\n",
       "      <td>28</td>\n",
       "      <td>88</td>\n",
       "    </tr>\n",
       "  </tbody>\n",
       "</table>\n",
       "</div>"
      ],
      "text/plain": [
       "               no bancarotta  bancarotta\n",
       "no bancarotta           2565         729\n",
       "bancarotta                28          88"
      ]
     },
     "metadata": {},
     "output_type": "display_data"
    }
   ],
   "source": [
    "scaler_mlp_under=StandardScaler()\n",
    "scaler_mlp_under.fit(Xtrainval_under_mlp)\n",
    "Xtrainval_under_mlp_scaled=scaler_mlp_under.transform(Xtrainval_under_mlp)\n",
    "scaler_mlp_test=StandardScaler()\n",
    "scaler_mlp_test.fit(Xtest_mlp)\n",
    "Xtest_mlp_scaled=scaler_mlp_test.transform(Xtest_mlp)\n",
    "\n",
    "pca_mlp_under=PCA(0.9)\n",
    "pca_mlp_under.fit(Xtrainval_under_mlp_scaled)\n",
    "mlp_gs.best_estimator_.fit(pca_mlp_under.transform(Xtrainval_under_mlp_scaled), ytrainval_under_mlp)\n",
    "\n",
    "y_pred_trainvalup = mlp_gs.best_estimator_.predict(pca_mlp_under.transform(Xtrainval_under_mlp_scaled))\n",
    "y_true_trainvalup = ytrainval_under_mlp\n",
    "y_pred_testup = mlp_gs.best_estimator_.predict(pca_mlp_under.transform(Xtest_mlp_scaled))\n",
    "y_true_testup = ytest_mlp\n",
    "\n",
    "acc_trainvalup = mlp_gs.best_estimator_.score(pca_mlp_under.transform(Xtrainval_under_mlp_scaled), y_true_trainvalup)\n",
    "prec_trainvalup = precision_score(y_true_trainvalup,y_pred_trainvalup, average='weighted')\n",
    "rec_trainvalup = recall_score(y_true_trainvalup,y_pred_trainvalup, average='weighted')\n",
    "f1_trainvalup = f1_score(y_true_trainvalup,y_pred_trainvalup, average='weighted')\n",
    "acc_testup = mlp_gs.best_estimator_.score(pca_mlp_under.transform(Xtest_mlp_scaled),y_true_testup)\n",
    "prec_testup = precision_score(y_true_testup,y_pred_testup, average='weighted')\n",
    "rec_testup = recall_score(y_true_testup,y_pred_testup, average='weighted')\n",
    "f1_testup = f1_score(y_true_testup,y_pred_testup, average='weighted')\n",
    "\n",
    "df_perf_mlpup = pd.DataFrame({'acc': [acc_trainvalup, acc_testup], \n",
    "                        'prec': [prec_trainvalup, prec_testup], \n",
    "                        'rec': [rec_trainvalup, rec_testup],\n",
    "                        'f1': [f1_trainvalup, f1_testup]\n",
    "                       },\n",
    "                      index=['train mlp under pca', 'test mlp under pca'])\n",
    "cmat_mlpup = confusion_matrix(y_true_testup,y_pred_testup)\n",
    "df_cmat_mlpup = pd.DataFrame(cmat_mlpup, columns=['no bancarotta','bancarotta'], \n",
    "                             index=['no bancarotta','bancarotta'])\n",
    "\n",
    "print('')\n",
    "print('Performance MLP senza PCA Smote+Tomek')\n",
    "print('')\n",
    "display(df_perf_under_mlp)\n",
    "print('')\n",
    "print('Confusion matrix MLP senza PCA Smote+Tomek')\n",
    "print('')\n",
    "display(df_cmat_under_mlp)\n",
    "print('')\n",
    "print('Performance MLP con PCA Smote+Tomek')\n",
    "print('')\n",
    "display(df_perf_mlpup)\n",
    "print('')\n",
    "print('Confusion matrix MLP con PCA Smote+Tomek')\n",
    "print('')\n",
    "display(df_cmat_mlpup)"
   ]
  },
  {
   "cell_type": "code",
   "execution_count": 78,
   "id": "through-bhutan",
   "metadata": {},
   "outputs": [
    {
     "name": "stdout",
     "output_type": "stream",
     "text": [
      "\n",
      "Performance LDA senza PCA Smote\n",
      "\n"
     ]
    },
    {
     "data": {
      "text/html": [
       "<div>\n",
       "<style scoped>\n",
       "    .dataframe tbody tr th:only-of-type {\n",
       "        vertical-align: middle;\n",
       "    }\n",
       "\n",
       "    .dataframe tbody tr th {\n",
       "        vertical-align: top;\n",
       "    }\n",
       "\n",
       "    .dataframe thead th {\n",
       "        text-align: right;\n",
       "    }\n",
       "</style>\n",
       "<table border=\"1\" class=\"dataframe\">\n",
       "  <thead>\n",
       "    <tr style=\"text-align: right;\">\n",
       "      <th></th>\n",
       "      <th>acc</th>\n",
       "      <th>prec</th>\n",
       "      <th>rec</th>\n",
       "      <th>f1</th>\n",
       "    </tr>\n",
       "  </thead>\n",
       "  <tbody>\n",
       "    <tr>\n",
       "      <th>train lda no pca over</th>\n",
       "      <td>0.909366</td>\n",
       "      <td>0.909822</td>\n",
       "      <td>0.909366</td>\n",
       "      <td>0.909341</td>\n",
       "    </tr>\n",
       "    <tr>\n",
       "      <th>test lda no pca over</th>\n",
       "      <td>0.878006</td>\n",
       "      <td>0.963418</td>\n",
       "      <td>0.878006</td>\n",
       "      <td>0.912228</td>\n",
       "    </tr>\n",
       "  </tbody>\n",
       "</table>\n",
       "</div>"
      ],
      "text/plain": [
       "                            acc      prec       rec        f1\n",
       "train lda no pca over  0.909366  0.909822  0.909366  0.909341\n",
       "test lda no pca over   0.878006  0.963418  0.878006  0.912228"
      ]
     },
     "metadata": {},
     "output_type": "display_data"
    },
    {
     "name": "stdout",
     "output_type": "stream",
     "text": [
      "\n",
      "Confusion matrix LDA senza PCA Smote\n",
      "\n"
     ]
    },
    {
     "data": {
      "text/html": [
       "<div>\n",
       "<style scoped>\n",
       "    .dataframe tbody tr th:only-of-type {\n",
       "        vertical-align: middle;\n",
       "    }\n",
       "\n",
       "    .dataframe tbody tr th {\n",
       "        vertical-align: top;\n",
       "    }\n",
       "\n",
       "    .dataframe thead th {\n",
       "        text-align: right;\n",
       "    }\n",
       "</style>\n",
       "<table border=\"1\" class=\"dataframe\">\n",
       "  <thead>\n",
       "    <tr style=\"text-align: right;\">\n",
       "      <th></th>\n",
       "      <th>no bancarotta</th>\n",
       "      <th>bancarotta</th>\n",
       "    </tr>\n",
       "  </thead>\n",
       "  <tbody>\n",
       "    <tr>\n",
       "      <th>no bancarotta</th>\n",
       "      <td>2914</td>\n",
       "      <td>386</td>\n",
       "    </tr>\n",
       "    <tr>\n",
       "      <th>bancarotta</th>\n",
       "      <td>30</td>\n",
       "      <td>80</td>\n",
       "    </tr>\n",
       "  </tbody>\n",
       "</table>\n",
       "</div>"
      ],
      "text/plain": [
       "               no bancarotta  bancarotta\n",
       "no bancarotta           2914         386\n",
       "bancarotta                30          80"
      ]
     },
     "metadata": {},
     "output_type": "display_data"
    },
    {
     "name": "stdout",
     "output_type": "stream",
     "text": [
      "\n",
      "Performance LDA con PCA Smote\n",
      "\n"
     ]
    },
    {
     "data": {
      "text/html": [
       "<div>\n",
       "<style scoped>\n",
       "    .dataframe tbody tr th:only-of-type {\n",
       "        vertical-align: middle;\n",
       "    }\n",
       "\n",
       "    .dataframe tbody tr th {\n",
       "        vertical-align: top;\n",
       "    }\n",
       "\n",
       "    .dataframe thead th {\n",
       "        text-align: right;\n",
       "    }\n",
       "</style>\n",
       "<table border=\"1\" class=\"dataframe\">\n",
       "  <thead>\n",
       "    <tr style=\"text-align: right;\">\n",
       "      <th></th>\n",
       "      <th>acc</th>\n",
       "      <th>prec</th>\n",
       "      <th>rec</th>\n",
       "      <th>f1</th>\n",
       "    </tr>\n",
       "  </thead>\n",
       "  <tbody>\n",
       "    <tr>\n",
       "      <th>train lda pca over</th>\n",
       "      <td>0.893604</td>\n",
       "      <td>0.894398</td>\n",
       "      <td>0.893604</td>\n",
       "      <td>0.893551</td>\n",
       "    </tr>\n",
       "    <tr>\n",
       "      <th>test lda pca over</th>\n",
       "      <td>0.557771</td>\n",
       "      <td>0.967715</td>\n",
       "      <td>0.557771</td>\n",
       "      <td>0.685570</td>\n",
       "    </tr>\n",
       "  </tbody>\n",
       "</table>\n",
       "</div>"
      ],
      "text/plain": [
       "                         acc      prec       rec        f1\n",
       "train lda pca over  0.893604  0.894398  0.893604  0.893551\n",
       "test lda pca over   0.557771  0.967715  0.557771  0.685570"
      ]
     },
     "metadata": {},
     "output_type": "display_data"
    },
    {
     "name": "stdout",
     "output_type": "stream",
     "text": [
      "\n",
      "Confusion matrix LDA con PCA Smote\n",
      "\n"
     ]
    },
    {
     "data": {
      "text/html": [
       "<div>\n",
       "<style scoped>\n",
       "    .dataframe tbody tr th:only-of-type {\n",
       "        vertical-align: middle;\n",
       "    }\n",
       "\n",
       "    .dataframe tbody tr th {\n",
       "        vertical-align: top;\n",
       "    }\n",
       "\n",
       "    .dataframe thead th {\n",
       "        text-align: right;\n",
       "    }\n",
       "</style>\n",
       "<table border=\"1\" class=\"dataframe\">\n",
       "  <thead>\n",
       "    <tr style=\"text-align: right;\">\n",
       "      <th></th>\n",
       "      <th>no bancarotta</th>\n",
       "      <th>bancarotta</th>\n",
       "    </tr>\n",
       "  </thead>\n",
       "  <tbody>\n",
       "    <tr>\n",
       "      <th>no bancarotta</th>\n",
       "      <td>1796</td>\n",
       "      <td>1504</td>\n",
       "    </tr>\n",
       "    <tr>\n",
       "      <th>bancarotta</th>\n",
       "      <td>4</td>\n",
       "      <td>106</td>\n",
       "    </tr>\n",
       "  </tbody>\n",
       "</table>\n",
       "</div>"
      ],
      "text/plain": [
       "               no bancarotta  bancarotta\n",
       "no bancarotta           1796        1504\n",
       "bancarotta                 4         106"
      ]
     },
     "metadata": {},
     "output_type": "display_data"
    },
    {
     "name": "stdout",
     "output_type": "stream",
     "text": [
      "\n",
      "Performance LDA senza PCA Smote+Tomek\n",
      "\n"
     ]
    },
    {
     "data": {
      "text/html": [
       "<div>\n",
       "<style scoped>\n",
       "    .dataframe tbody tr th:only-of-type {\n",
       "        vertical-align: middle;\n",
       "    }\n",
       "\n",
       "    .dataframe tbody tr th {\n",
       "        vertical-align: top;\n",
       "    }\n",
       "\n",
       "    .dataframe thead th {\n",
       "        text-align: right;\n",
       "    }\n",
       "</style>\n",
       "<table border=\"1\" class=\"dataframe\">\n",
       "  <thead>\n",
       "    <tr style=\"text-align: right;\">\n",
       "      <th></th>\n",
       "      <th>acc</th>\n",
       "      <th>prec</th>\n",
       "      <th>rec</th>\n",
       "      <th>f1</th>\n",
       "    </tr>\n",
       "  </thead>\n",
       "  <tbody>\n",
       "    <tr>\n",
       "      <th>training lda no pca under</th>\n",
       "      <td>0.911602</td>\n",
       "      <td>0.912199</td>\n",
       "      <td>0.911602</td>\n",
       "      <td>0.911570</td>\n",
       "    </tr>\n",
       "    <tr>\n",
       "      <th>test lda no pca under</th>\n",
       "      <td>0.878299</td>\n",
       "      <td>0.964168</td>\n",
       "      <td>0.878299</td>\n",
       "      <td>0.912528</td>\n",
       "    </tr>\n",
       "  </tbody>\n",
       "</table>\n",
       "</div>"
      ],
      "text/plain": [
       "                                acc      prec       rec        f1\n",
       "training lda no pca under  0.911602  0.912199  0.911602  0.911570\n",
       "test lda no pca under      0.878299  0.964168  0.878299  0.912528"
      ]
     },
     "metadata": {},
     "output_type": "display_data"
    },
    {
     "name": "stdout",
     "output_type": "stream",
     "text": [
      "\n",
      "Confusion matrix LDA senza PCA Smote+Tomek\n",
      "\n"
     ]
    },
    {
     "data": {
      "text/html": [
       "<div>\n",
       "<style scoped>\n",
       "    .dataframe tbody tr th:only-of-type {\n",
       "        vertical-align: middle;\n",
       "    }\n",
       "\n",
       "    .dataframe tbody tr th {\n",
       "        vertical-align: top;\n",
       "    }\n",
       "\n",
       "    .dataframe thead th {\n",
       "        text-align: right;\n",
       "    }\n",
       "</style>\n",
       "<table border=\"1\" class=\"dataframe\">\n",
       "  <thead>\n",
       "    <tr style=\"text-align: right;\">\n",
       "      <th></th>\n",
       "      <th>no bancarotta</th>\n",
       "      <th>bancarotta</th>\n",
       "    </tr>\n",
       "  </thead>\n",
       "  <tbody>\n",
       "    <tr>\n",
       "      <th>no bancarotta</th>\n",
       "      <td>2913</td>\n",
       "      <td>387</td>\n",
       "    </tr>\n",
       "    <tr>\n",
       "      <th>bancarotta</th>\n",
       "      <td>28</td>\n",
       "      <td>82</td>\n",
       "    </tr>\n",
       "  </tbody>\n",
       "</table>\n",
       "</div>"
      ],
      "text/plain": [
       "               no bancarotta  bancarotta\n",
       "no bancarotta           2913         387\n",
       "bancarotta                28          82"
      ]
     },
     "metadata": {},
     "output_type": "display_data"
    },
    {
     "name": "stdout",
     "output_type": "stream",
     "text": [
      "\n",
      "Performance LDA con PCA Smote+Tomek\n",
      "\n"
     ]
    },
    {
     "data": {
      "text/html": [
       "<div>\n",
       "<style scoped>\n",
       "    .dataframe tbody tr th:only-of-type {\n",
       "        vertical-align: middle;\n",
       "    }\n",
       "\n",
       "    .dataframe tbody tr th {\n",
       "        vertical-align: top;\n",
       "    }\n",
       "\n",
       "    .dataframe thead th {\n",
       "        text-align: right;\n",
       "    }\n",
       "</style>\n",
       "<table border=\"1\" class=\"dataframe\">\n",
       "  <thead>\n",
       "    <tr style=\"text-align: right;\">\n",
       "      <th></th>\n",
       "      <th>acc</th>\n",
       "      <th>prec</th>\n",
       "      <th>rec</th>\n",
       "      <th>f1</th>\n",
       "    </tr>\n",
       "  </thead>\n",
       "  <tbody>\n",
       "    <tr>\n",
       "      <th>training lda pca under</th>\n",
       "      <td>0.891651</td>\n",
       "      <td>0.892439</td>\n",
       "      <td>0.891651</td>\n",
       "      <td>0.891597</td>\n",
       "    </tr>\n",
       "    <tr>\n",
       "      <th>test lda pca under</th>\n",
       "      <td>0.560411</td>\n",
       "      <td>0.967738</td>\n",
       "      <td>0.560411</td>\n",
       "      <td>0.687800</td>\n",
       "    </tr>\n",
       "  </tbody>\n",
       "</table>\n",
       "</div>"
      ],
      "text/plain": [
       "                             acc      prec       rec        f1\n",
       "training lda pca under  0.891651  0.892439  0.891651  0.891597\n",
       "test lda pca under      0.560411  0.967738  0.560411  0.687800"
      ]
     },
     "metadata": {},
     "output_type": "display_data"
    },
    {
     "name": "stdout",
     "output_type": "stream",
     "text": [
      "\n",
      "Confusion matrix LDA con PCA Smote+Tomek\n",
      "\n"
     ]
    },
    {
     "data": {
      "text/html": [
       "<div>\n",
       "<style scoped>\n",
       "    .dataframe tbody tr th:only-of-type {\n",
       "        vertical-align: middle;\n",
       "    }\n",
       "\n",
       "    .dataframe tbody tr th {\n",
       "        vertical-align: top;\n",
       "    }\n",
       "\n",
       "    .dataframe thead th {\n",
       "        text-align: right;\n",
       "    }\n",
       "</style>\n",
       "<table border=\"1\" class=\"dataframe\">\n",
       "  <thead>\n",
       "    <tr style=\"text-align: right;\">\n",
       "      <th></th>\n",
       "      <th>no bancarotta</th>\n",
       "      <th>bancarotta</th>\n",
       "    </tr>\n",
       "  </thead>\n",
       "  <tbody>\n",
       "    <tr>\n",
       "      <th>no bancarotta</th>\n",
       "      <td>1805</td>\n",
       "      <td>1495</td>\n",
       "    </tr>\n",
       "    <tr>\n",
       "      <th>bancarotta</th>\n",
       "      <td>4</td>\n",
       "      <td>106</td>\n",
       "    </tr>\n",
       "  </tbody>\n",
       "</table>\n",
       "</div>"
      ],
      "text/plain": [
       "               no bancarotta  bancarotta\n",
       "no bancarotta           1805        1495\n",
       "bancarotta                 4         106"
      ]
     },
     "metadata": {},
     "output_type": "display_data"
    },
    {
     "name": "stdout",
     "output_type": "stream",
     "text": [
      "\n",
      "Performance SVM senza PCA Smote\n",
      "\n"
     ]
    },
    {
     "data": {
      "text/html": [
       "<div>\n",
       "<style scoped>\n",
       "    .dataframe tbody tr th:only-of-type {\n",
       "        vertical-align: middle;\n",
       "    }\n",
       "\n",
       "    .dataframe tbody tr th {\n",
       "        vertical-align: top;\n",
       "    }\n",
       "\n",
       "    .dataframe thead th {\n",
       "        text-align: right;\n",
       "    }\n",
       "</style>\n",
       "<table border=\"1\" class=\"dataframe\">\n",
       "  <thead>\n",
       "    <tr style=\"text-align: right;\">\n",
       "      <th></th>\n",
       "      <th>acc</th>\n",
       "      <th>prec</th>\n",
       "      <th>rec</th>\n",
       "      <th>f1</th>\n",
       "    </tr>\n",
       "  </thead>\n",
       "  <tbody>\n",
       "    <tr>\n",
       "      <th>train svm no pca over</th>\n",
       "      <td>0.925842</td>\n",
       "      <td>0.929241</td>\n",
       "      <td>0.925842</td>\n",
       "      <td>0.925695</td>\n",
       "    </tr>\n",
       "    <tr>\n",
       "      <th>val svm no pca over</th>\n",
       "      <td>0.605623</td>\n",
       "      <td>0.648306</td>\n",
       "      <td>0.605623</td>\n",
       "      <td>0.575047</td>\n",
       "    </tr>\n",
       "    <tr>\n",
       "      <th>test svm no pca over</th>\n",
       "      <td>0.848974</td>\n",
       "      <td>0.943775</td>\n",
       "      <td>0.848974</td>\n",
       "      <td>0.890640</td>\n",
       "    </tr>\n",
       "  </tbody>\n",
       "</table>\n",
       "</div>"
      ],
      "text/plain": [
       "                            acc      prec       rec        f1\n",
       "train svm no pca over  0.925842  0.929241  0.925842  0.925695\n",
       "val svm no pca over    0.605623  0.648306  0.605623  0.575047\n",
       "test svm no pca over   0.848974  0.943775  0.848974  0.890640"
      ]
     },
     "metadata": {},
     "output_type": "display_data"
    },
    {
     "name": "stdout",
     "output_type": "stream",
     "text": [
      "\n",
      "Confusion matrix SVM senza PCA Smote\n",
      "\n"
     ]
    },
    {
     "data": {
      "text/html": [
       "<div>\n",
       "<style scoped>\n",
       "    .dataframe tbody tr th:only-of-type {\n",
       "        vertical-align: middle;\n",
       "    }\n",
       "\n",
       "    .dataframe tbody tr th {\n",
       "        vertical-align: top;\n",
       "    }\n",
       "\n",
       "    .dataframe thead th {\n",
       "        text-align: right;\n",
       "    }\n",
       "</style>\n",
       "<table border=\"1\" class=\"dataframe\">\n",
       "  <thead>\n",
       "    <tr style=\"text-align: right;\">\n",
       "      <th></th>\n",
       "      <th>no bancarotta</th>\n",
       "      <th>bancarotta</th>\n",
       "    </tr>\n",
       "  </thead>\n",
       "  <tbody>\n",
       "    <tr>\n",
       "      <th>no bancarotta</th>\n",
       "      <td>2855</td>\n",
       "      <td>439</td>\n",
       "    </tr>\n",
       "    <tr>\n",
       "      <th>bancarotta</th>\n",
       "      <td>76</td>\n",
       "      <td>40</td>\n",
       "    </tr>\n",
       "  </tbody>\n",
       "</table>\n",
       "</div>"
      ],
      "text/plain": [
       "               no bancarotta  bancarotta\n",
       "no bancarotta           2855         439\n",
       "bancarotta                76          40"
      ]
     },
     "metadata": {},
     "output_type": "display_data"
    },
    {
     "name": "stdout",
     "output_type": "stream",
     "text": [
      "\n",
      "Performance SVM con PCA Smote\n",
      "\n"
     ]
    },
    {
     "data": {
      "text/html": [
       "<div>\n",
       "<style scoped>\n",
       "    .dataframe tbody tr th:only-of-type {\n",
       "        vertical-align: middle;\n",
       "    }\n",
       "\n",
       "    .dataframe tbody tr th {\n",
       "        vertical-align: top;\n",
       "    }\n",
       "\n",
       "    .dataframe thead th {\n",
       "        text-align: right;\n",
       "    }\n",
       "</style>\n",
       "<table border=\"1\" class=\"dataframe\">\n",
       "  <thead>\n",
       "    <tr style=\"text-align: right;\">\n",
       "      <th></th>\n",
       "      <th>acc</th>\n",
       "      <th>prec</th>\n",
       "      <th>rec</th>\n",
       "      <th>f1</th>\n",
       "    </tr>\n",
       "  </thead>\n",
       "  <tbody>\n",
       "    <tr>\n",
       "      <th>train svm over pca</th>\n",
       "      <td>0.976119</td>\n",
       "      <td>0.977207</td>\n",
       "      <td>0.976119</td>\n",
       "      <td>0.976105</td>\n",
       "    </tr>\n",
       "    <tr>\n",
       "      <th>val svm over pca</th>\n",
       "      <td>0.810790</td>\n",
       "      <td>0.827588</td>\n",
       "      <td>0.810790</td>\n",
       "      <td>0.808333</td>\n",
       "    </tr>\n",
       "    <tr>\n",
       "      <th>test svm over pca</th>\n",
       "      <td>0.702346</td>\n",
       "      <td>0.957614</td>\n",
       "      <td>0.702346</td>\n",
       "      <td>0.796814</td>\n",
       "    </tr>\n",
       "  </tbody>\n",
       "</table>\n",
       "</div>"
      ],
      "text/plain": [
       "                         acc      prec       rec        f1\n",
       "train svm over pca  0.976119  0.977207  0.976119  0.976105\n",
       "val svm over pca    0.810790  0.827588  0.810790  0.808333\n",
       "test svm over pca   0.702346  0.957614  0.702346  0.796814"
      ]
     },
     "metadata": {},
     "output_type": "display_data"
    },
    {
     "name": "stdout",
     "output_type": "stream",
     "text": [
      "\n",
      "Confusion matrix SVM con PCA Smote\n",
      "\n"
     ]
    },
    {
     "data": {
      "text/html": [
       "<div>\n",
       "<style scoped>\n",
       "    .dataframe tbody tr th:only-of-type {\n",
       "        vertical-align: middle;\n",
       "    }\n",
       "\n",
       "    .dataframe tbody tr th {\n",
       "        vertical-align: top;\n",
       "    }\n",
       "\n",
       "    .dataframe thead th {\n",
       "        text-align: right;\n",
       "    }\n",
       "</style>\n",
       "<table border=\"1\" class=\"dataframe\">\n",
       "  <thead>\n",
       "    <tr style=\"text-align: right;\">\n",
       "      <th></th>\n",
       "      <th>no bancarotta</th>\n",
       "      <th>bancarotta</th>\n",
       "    </tr>\n",
       "  </thead>\n",
       "  <tbody>\n",
       "    <tr>\n",
       "      <th>no bancarotta</th>\n",
       "      <td>2306</td>\n",
       "      <td>988</td>\n",
       "    </tr>\n",
       "    <tr>\n",
       "      <th>bancarotta</th>\n",
       "      <td>27</td>\n",
       "      <td>89</td>\n",
       "    </tr>\n",
       "  </tbody>\n",
       "</table>\n",
       "</div>"
      ],
      "text/plain": [
       "               no bancarotta  bancarotta\n",
       "no bancarotta           2306         988\n",
       "bancarotta                27          89"
      ]
     },
     "metadata": {},
     "output_type": "display_data"
    },
    {
     "name": "stdout",
     "output_type": "stream",
     "text": [
      "\n",
      "Performance SVM senza PCA Smote+Tomek\n",
      "\n"
     ]
    },
    {
     "data": {
      "text/html": [
       "<div>\n",
       "<style scoped>\n",
       "    .dataframe tbody tr th:only-of-type {\n",
       "        vertical-align: middle;\n",
       "    }\n",
       "\n",
       "    .dataframe tbody tr th {\n",
       "        vertical-align: top;\n",
       "    }\n",
       "\n",
       "    .dataframe thead th {\n",
       "        text-align: right;\n",
       "    }\n",
       "</style>\n",
       "<table border=\"1\" class=\"dataframe\">\n",
       "  <thead>\n",
       "    <tr style=\"text-align: right;\">\n",
       "      <th></th>\n",
       "      <th>acc</th>\n",
       "      <th>prec</th>\n",
       "      <th>rec</th>\n",
       "      <th>f1</th>\n",
       "    </tr>\n",
       "  </thead>\n",
       "  <tbody>\n",
       "    <tr>\n",
       "      <th>train svm no pca under</th>\n",
       "      <td>0.934130</td>\n",
       "      <td>0.937061</td>\n",
       "      <td>0.934130</td>\n",
       "      <td>0.934020</td>\n",
       "    </tr>\n",
       "    <tr>\n",
       "      <th>val svm no pca under</th>\n",
       "      <td>0.604022</td>\n",
       "      <td>0.650025</td>\n",
       "      <td>0.604022</td>\n",
       "      <td>0.571146</td>\n",
       "    </tr>\n",
       "    <tr>\n",
       "      <th>test svm no pca under</th>\n",
       "      <td>0.850440</td>\n",
       "      <td>0.943848</td>\n",
       "      <td>0.850440</td>\n",
       "      <td>0.891518</td>\n",
       "    </tr>\n",
       "  </tbody>\n",
       "</table>\n",
       "</div>"
      ],
      "text/plain": [
       "                             acc      prec       rec        f1\n",
       "train svm no pca under  0.934130  0.937061  0.934130  0.934020\n",
       "val svm no pca under    0.604022  0.650025  0.604022  0.571146\n",
       "test svm no pca under   0.850440  0.943848  0.850440  0.891518"
      ]
     },
     "metadata": {},
     "output_type": "display_data"
    },
    {
     "name": "stdout",
     "output_type": "stream",
     "text": [
      "\n",
      "Confusion matrix SVM senza PCA Smote+Tomek\n",
      "\n"
     ]
    },
    {
     "data": {
      "text/html": [
       "<div>\n",
       "<style scoped>\n",
       "    .dataframe tbody tr th:only-of-type {\n",
       "        vertical-align: middle;\n",
       "    }\n",
       "\n",
       "    .dataframe tbody tr th {\n",
       "        vertical-align: top;\n",
       "    }\n",
       "\n",
       "    .dataframe thead th {\n",
       "        text-align: right;\n",
       "    }\n",
       "</style>\n",
       "<table border=\"1\" class=\"dataframe\">\n",
       "  <thead>\n",
       "    <tr style=\"text-align: right;\">\n",
       "      <th></th>\n",
       "      <th>no bancarotta svm no pca under</th>\n",
       "      <th>bancarotta svm no pca under</th>\n",
       "    </tr>\n",
       "  </thead>\n",
       "  <tbody>\n",
       "    <tr>\n",
       "      <th>no bancarotta svm no pca under</th>\n",
       "      <td>2860</td>\n",
       "      <td>434</td>\n",
       "    </tr>\n",
       "    <tr>\n",
       "      <th>bancarotta svm no pca under</th>\n",
       "      <td>76</td>\n",
       "      <td>40</td>\n",
       "    </tr>\n",
       "  </tbody>\n",
       "</table>\n",
       "</div>"
      ],
      "text/plain": [
       "                                no bancarotta svm no pca under  \\\n",
       "no bancarotta svm no pca under                            2860   \n",
       "bancarotta svm no pca under                                 76   \n",
       "\n",
       "                                bancarotta svm no pca under  \n",
       "no bancarotta svm no pca under                          434  \n",
       "bancarotta svm no pca under                              40  "
      ]
     },
     "metadata": {},
     "output_type": "display_data"
    },
    {
     "name": "stdout",
     "output_type": "stream",
     "text": [
      "\n",
      "Performance SVM con PCA Smote+Tomek\n",
      "\n"
     ]
    },
    {
     "data": {
      "text/html": [
       "<div>\n",
       "<style scoped>\n",
       "    .dataframe tbody tr th:only-of-type {\n",
       "        vertical-align: middle;\n",
       "    }\n",
       "\n",
       "    .dataframe tbody tr th {\n",
       "        vertical-align: top;\n",
       "    }\n",
       "\n",
       "    .dataframe thead th {\n",
       "        text-align: right;\n",
       "    }\n",
       "</style>\n",
       "<table border=\"1\" class=\"dataframe\">\n",
       "  <thead>\n",
       "    <tr style=\"text-align: right;\">\n",
       "      <th></th>\n",
       "      <th>acc</th>\n",
       "      <th>prec</th>\n",
       "      <th>rec</th>\n",
       "      <th>f1</th>\n",
       "    </tr>\n",
       "  </thead>\n",
       "  <tbody>\n",
       "    <tr>\n",
       "      <th>train svm under pca</th>\n",
       "      <td>0.974568</td>\n",
       "      <td>0.975799</td>\n",
       "      <td>0.974568</td>\n",
       "      <td>0.974551</td>\n",
       "    </tr>\n",
       "    <tr>\n",
       "      <th>val svm under pca</th>\n",
       "      <td>0.816319</td>\n",
       "      <td>0.832234</td>\n",
       "      <td>0.816319</td>\n",
       "      <td>0.814092</td>\n",
       "    </tr>\n",
       "    <tr>\n",
       "      <th>test svm under pca</th>\n",
       "      <td>0.690909</td>\n",
       "      <td>0.959078</td>\n",
       "      <td>0.690909</td>\n",
       "      <td>0.788622</td>\n",
       "    </tr>\n",
       "  </tbody>\n",
       "</table>\n",
       "</div>"
      ],
      "text/plain": [
       "                          acc      prec       rec        f1\n",
       "train svm under pca  0.974568  0.975799  0.974568  0.974551\n",
       "val svm under pca    0.816319  0.832234  0.816319  0.814092\n",
       "test svm under pca   0.690909  0.959078  0.690909  0.788622"
      ]
     },
     "metadata": {},
     "output_type": "display_data"
    },
    {
     "name": "stdout",
     "output_type": "stream",
     "text": [
      "\n",
      "Confusion matrix SVM con PCA Smote+Tomek\n",
      "\n"
     ]
    },
    {
     "data": {
      "text/html": [
       "<div>\n",
       "<style scoped>\n",
       "    .dataframe tbody tr th:only-of-type {\n",
       "        vertical-align: middle;\n",
       "    }\n",
       "\n",
       "    .dataframe tbody tr th {\n",
       "        vertical-align: top;\n",
       "    }\n",
       "\n",
       "    .dataframe thead th {\n",
       "        text-align: right;\n",
       "    }\n",
       "</style>\n",
       "<table border=\"1\" class=\"dataframe\">\n",
       "  <thead>\n",
       "    <tr style=\"text-align: right;\">\n",
       "      <th></th>\n",
       "      <th>no bancarotta</th>\n",
       "      <th>bancarotta</th>\n",
       "    </tr>\n",
       "  </thead>\n",
       "  <tbody>\n",
       "    <tr>\n",
       "      <th>no bancarotta</th>\n",
       "      <td>2263</td>\n",
       "      <td>1031</td>\n",
       "    </tr>\n",
       "    <tr>\n",
       "      <th>bancarotta</th>\n",
       "      <td>23</td>\n",
       "      <td>93</td>\n",
       "    </tr>\n",
       "  </tbody>\n",
       "</table>\n",
       "</div>"
      ],
      "text/plain": [
       "               no bancarotta  bancarotta\n",
       "no bancarotta           2263        1031\n",
       "bancarotta                23          93"
      ]
     },
     "metadata": {},
     "output_type": "display_data"
    },
    {
     "name": "stdout",
     "output_type": "stream",
     "text": [
      "\n",
      "Performance MLP senza PCA Smote\n",
      "\n"
     ]
    },
    {
     "data": {
      "text/html": [
       "<div>\n",
       "<style scoped>\n",
       "    .dataframe tbody tr th:only-of-type {\n",
       "        vertical-align: middle;\n",
       "    }\n",
       "\n",
       "    .dataframe tbody tr th {\n",
       "        vertical-align: top;\n",
       "    }\n",
       "\n",
       "    .dataframe thead th {\n",
       "        text-align: right;\n",
       "    }\n",
       "</style>\n",
       "<table border=\"1\" class=\"dataframe\">\n",
       "  <thead>\n",
       "    <tr style=\"text-align: right;\">\n",
       "      <th></th>\n",
       "      <th>acc</th>\n",
       "      <th>prec</th>\n",
       "      <th>rec</th>\n",
       "      <th>f1</th>\n",
       "    </tr>\n",
       "  </thead>\n",
       "  <tbody>\n",
       "    <tr>\n",
       "      <th>trainval mlp no pca over</th>\n",
       "      <td>0.878517</td>\n",
       "      <td>0.879440</td>\n",
       "      <td>0.878517</td>\n",
       "      <td>0.878443</td>\n",
       "    </tr>\n",
       "    <tr>\n",
       "      <th>test mlp no pca over</th>\n",
       "      <td>0.814663</td>\n",
       "      <td>0.942176</td>\n",
       "      <td>0.814663</td>\n",
       "      <td>0.869854</td>\n",
       "    </tr>\n",
       "  </tbody>\n",
       "</table>\n",
       "</div>"
      ],
      "text/plain": [
       "                               acc      prec       rec        f1\n",
       "trainval mlp no pca over  0.878517  0.879440  0.878517  0.878443\n",
       "test mlp no pca over      0.814663  0.942176  0.814663  0.869854"
      ]
     },
     "metadata": {},
     "output_type": "display_data"
    },
    {
     "name": "stdout",
     "output_type": "stream",
     "text": [
      "\n",
      "Confusion matrix MLP senza PCA Smote\n",
      "\n"
     ]
    },
    {
     "data": {
      "text/html": [
       "<div>\n",
       "<style scoped>\n",
       "    .dataframe tbody tr th:only-of-type {\n",
       "        vertical-align: middle;\n",
       "    }\n",
       "\n",
       "    .dataframe tbody tr th {\n",
       "        vertical-align: top;\n",
       "    }\n",
       "\n",
       "    .dataframe thead th {\n",
       "        text-align: right;\n",
       "    }\n",
       "</style>\n",
       "<table border=\"1\" class=\"dataframe\">\n",
       "  <thead>\n",
       "    <tr style=\"text-align: right;\">\n",
       "      <th></th>\n",
       "      <th>no bancarotta</th>\n",
       "      <th>bancarotta</th>\n",
       "    </tr>\n",
       "  </thead>\n",
       "  <tbody>\n",
       "    <tr>\n",
       "      <th>no bancarotta</th>\n",
       "      <td>2738</td>\n",
       "      <td>556</td>\n",
       "    </tr>\n",
       "    <tr>\n",
       "      <th>bancarotta</th>\n",
       "      <td>76</td>\n",
       "      <td>40</td>\n",
       "    </tr>\n",
       "  </tbody>\n",
       "</table>\n",
       "</div>"
      ],
      "text/plain": [
       "               no bancarotta  bancarotta\n",
       "no bancarotta           2738         556\n",
       "bancarotta                76          40"
      ]
     },
     "metadata": {},
     "output_type": "display_data"
    },
    {
     "name": "stdout",
     "output_type": "stream",
     "text": [
      "\n",
      "Performance MLP con PCA Smote\n",
      "\n"
     ]
    },
    {
     "data": {
      "text/html": [
       "<div>\n",
       "<style scoped>\n",
       "    .dataframe tbody tr th:only-of-type {\n",
       "        vertical-align: middle;\n",
       "    }\n",
       "\n",
       "    .dataframe tbody tr th {\n",
       "        vertical-align: top;\n",
       "    }\n",
       "\n",
       "    .dataframe thead th {\n",
       "        text-align: right;\n",
       "    }\n",
       "</style>\n",
       "<table border=\"1\" class=\"dataframe\">\n",
       "  <thead>\n",
       "    <tr style=\"text-align: right;\">\n",
       "      <th></th>\n",
       "      <th>acc</th>\n",
       "      <th>prec</th>\n",
       "      <th>rec</th>\n",
       "      <th>f1</th>\n",
       "    </tr>\n",
       "  </thead>\n",
       "  <tbody>\n",
       "    <tr>\n",
       "      <th>train mlp over pca</th>\n",
       "      <td>0.995008</td>\n",
       "      <td>0.995041</td>\n",
       "      <td>0.995008</td>\n",
       "      <td>0.995007</td>\n",
       "    </tr>\n",
       "    <tr>\n",
       "      <th>test mlp over pca</th>\n",
       "      <td>0.828446</td>\n",
       "      <td>0.958941</td>\n",
       "      <td>0.828446</td>\n",
       "      <td>0.880389</td>\n",
       "    </tr>\n",
       "  </tbody>\n",
       "</table>\n",
       "</div>"
      ],
      "text/plain": [
       "                         acc      prec       rec        f1\n",
       "train mlp over pca  0.995008  0.995041  0.995008  0.995007\n",
       "test mlp over pca   0.828446  0.958941  0.828446  0.880389"
      ]
     },
     "metadata": {},
     "output_type": "display_data"
    },
    {
     "name": "stdout",
     "output_type": "stream",
     "text": [
      "\n",
      "Confusion matrix MLP con PCA Smote\n",
      "\n"
     ]
    },
    {
     "data": {
      "text/html": [
       "<div>\n",
       "<style scoped>\n",
       "    .dataframe tbody tr th:only-of-type {\n",
       "        vertical-align: middle;\n",
       "    }\n",
       "\n",
       "    .dataframe tbody tr th {\n",
       "        vertical-align: top;\n",
       "    }\n",
       "\n",
       "    .dataframe thead th {\n",
       "        text-align: right;\n",
       "    }\n",
       "</style>\n",
       "<table border=\"1\" class=\"dataframe\">\n",
       "  <thead>\n",
       "    <tr style=\"text-align: right;\">\n",
       "      <th></th>\n",
       "      <th>no bancarotta</th>\n",
       "      <th>bancarotta</th>\n",
       "    </tr>\n",
       "  </thead>\n",
       "  <tbody>\n",
       "    <tr>\n",
       "      <th>no bancarotta</th>\n",
       "      <td>2742</td>\n",
       "      <td>552</td>\n",
       "    </tr>\n",
       "    <tr>\n",
       "      <th>bancarotta</th>\n",
       "      <td>33</td>\n",
       "      <td>83</td>\n",
       "    </tr>\n",
       "  </tbody>\n",
       "</table>\n",
       "</div>"
      ],
      "text/plain": [
       "               no bancarotta  bancarotta\n",
       "no bancarotta           2742         552\n",
       "bancarotta                33          83"
      ]
     },
     "metadata": {},
     "output_type": "display_data"
    },
    {
     "name": "stdout",
     "output_type": "stream",
     "text": [
      "\n",
      "Performance MLP senza PCA Smote+Tomek\n",
      "\n"
     ]
    },
    {
     "data": {
      "text/html": [
       "<div>\n",
       "<style scoped>\n",
       "    .dataframe tbody tr th:only-of-type {\n",
       "        vertical-align: middle;\n",
       "    }\n",
       "\n",
       "    .dataframe tbody tr th {\n",
       "        vertical-align: top;\n",
       "    }\n",
       "\n",
       "    .dataframe thead th {\n",
       "        text-align: right;\n",
       "    }\n",
       "</style>\n",
       "<table border=\"1\" class=\"dataframe\">\n",
       "  <thead>\n",
       "    <tr style=\"text-align: right;\">\n",
       "      <th></th>\n",
       "      <th>acc</th>\n",
       "      <th>prec</th>\n",
       "      <th>rec</th>\n",
       "      <th>f1</th>\n",
       "    </tr>\n",
       "  </thead>\n",
       "  <tbody>\n",
       "    <tr>\n",
       "      <th>trainval mlp no pca under</th>\n",
       "      <td>0.864695</td>\n",
       "      <td>0.865320</td>\n",
       "      <td>0.864695</td>\n",
       "      <td>0.864637</td>\n",
       "    </tr>\n",
       "    <tr>\n",
       "      <th>test mlp no pca under</th>\n",
       "      <td>0.816129</td>\n",
       "      <td>0.941868</td>\n",
       "      <td>0.816129</td>\n",
       "      <td>0.870699</td>\n",
       "    </tr>\n",
       "  </tbody>\n",
       "</table>\n",
       "</div>"
      ],
      "text/plain": [
       "                                acc      prec       rec        f1\n",
       "trainval mlp no pca under  0.864695  0.865320  0.864695  0.864637\n",
       "test mlp no pca under      0.816129  0.941868  0.816129  0.870699"
      ]
     },
     "metadata": {},
     "output_type": "display_data"
    },
    {
     "name": "stdout",
     "output_type": "stream",
     "text": [
      "\n",
      "Confusion matrix MLP senza PCA Smote+Tomek\n",
      "\n"
     ]
    },
    {
     "data": {
      "text/html": [
       "<div>\n",
       "<style scoped>\n",
       "    .dataframe tbody tr th:only-of-type {\n",
       "        vertical-align: middle;\n",
       "    }\n",
       "\n",
       "    .dataframe tbody tr th {\n",
       "        vertical-align: top;\n",
       "    }\n",
       "\n",
       "    .dataframe thead th {\n",
       "        text-align: right;\n",
       "    }\n",
       "</style>\n",
       "<table border=\"1\" class=\"dataframe\">\n",
       "  <thead>\n",
       "    <tr style=\"text-align: right;\">\n",
       "      <th></th>\n",
       "      <th>no bancarotta</th>\n",
       "      <th>bancarotta</th>\n",
       "    </tr>\n",
       "  </thead>\n",
       "  <tbody>\n",
       "    <tr>\n",
       "      <th>no bancarotta</th>\n",
       "      <td>2744</td>\n",
       "      <td>550</td>\n",
       "    </tr>\n",
       "    <tr>\n",
       "      <th>bancarotta</th>\n",
       "      <td>77</td>\n",
       "      <td>39</td>\n",
       "    </tr>\n",
       "  </tbody>\n",
       "</table>\n",
       "</div>"
      ],
      "text/plain": [
       "               no bancarotta  bancarotta\n",
       "no bancarotta           2744         550\n",
       "bancarotta                77          39"
      ]
     },
     "metadata": {},
     "output_type": "display_data"
    },
    {
     "name": "stdout",
     "output_type": "stream",
     "text": [
      "\n",
      "Performance MLP con PCA Smote+Tomek\n",
      "\n"
     ]
    },
    {
     "data": {
      "text/html": [
       "<div>\n",
       "<style scoped>\n",
       "    .dataframe tbody tr th:only-of-type {\n",
       "        vertical-align: middle;\n",
       "    }\n",
       "\n",
       "    .dataframe tbody tr th {\n",
       "        vertical-align: top;\n",
       "    }\n",
       "\n",
       "    .dataframe thead th {\n",
       "        text-align: right;\n",
       "    }\n",
       "</style>\n",
       "<table border=\"1\" class=\"dataframe\">\n",
       "  <thead>\n",
       "    <tr style=\"text-align: right;\">\n",
       "      <th></th>\n",
       "      <th>acc</th>\n",
       "      <th>prec</th>\n",
       "      <th>rec</th>\n",
       "      <th>f1</th>\n",
       "    </tr>\n",
       "  </thead>\n",
       "  <tbody>\n",
       "    <tr>\n",
       "      <th>train mlp under pca</th>\n",
       "      <td>0.993871</td>\n",
       "      <td>0.993924</td>\n",
       "      <td>0.993871</td>\n",
       "      <td>0.993871</td>\n",
       "    </tr>\n",
       "    <tr>\n",
       "      <th>test mlp under pca</th>\n",
       "      <td>0.778006</td>\n",
       "      <td>0.959216</td>\n",
       "      <td>0.778006</td>\n",
       "      <td>0.848185</td>\n",
       "    </tr>\n",
       "  </tbody>\n",
       "</table>\n",
       "</div>"
      ],
      "text/plain": [
       "                          acc      prec       rec        f1\n",
       "train mlp under pca  0.993871  0.993924  0.993871  0.993871\n",
       "test mlp under pca   0.778006  0.959216  0.778006  0.848185"
      ]
     },
     "metadata": {},
     "output_type": "display_data"
    },
    {
     "name": "stdout",
     "output_type": "stream",
     "text": [
      "\n",
      "Confusion matrix MLP con PCA Smote+Tomek\n",
      "\n"
     ]
    },
    {
     "data": {
      "text/html": [
       "<div>\n",
       "<style scoped>\n",
       "    .dataframe tbody tr th:only-of-type {\n",
       "        vertical-align: middle;\n",
       "    }\n",
       "\n",
       "    .dataframe tbody tr th {\n",
       "        vertical-align: top;\n",
       "    }\n",
       "\n",
       "    .dataframe thead th {\n",
       "        text-align: right;\n",
       "    }\n",
       "</style>\n",
       "<table border=\"1\" class=\"dataframe\">\n",
       "  <thead>\n",
       "    <tr style=\"text-align: right;\">\n",
       "      <th></th>\n",
       "      <th>no bancarotta</th>\n",
       "      <th>bancarotta</th>\n",
       "    </tr>\n",
       "  </thead>\n",
       "  <tbody>\n",
       "    <tr>\n",
       "      <th>no bancarotta</th>\n",
       "      <td>2565</td>\n",
       "      <td>729</td>\n",
       "    </tr>\n",
       "    <tr>\n",
       "      <th>bancarotta</th>\n",
       "      <td>28</td>\n",
       "      <td>88</td>\n",
       "    </tr>\n",
       "  </tbody>\n",
       "</table>\n",
       "</div>"
      ],
      "text/plain": [
       "               no bancarotta  bancarotta\n",
       "no bancarotta           2565         729\n",
       "bancarotta                28          88"
      ]
     },
     "metadata": {},
     "output_type": "display_data"
    }
   ],
   "source": [
    "#riassunto tabelle principali\n",
    "print('')\n",
    "print('Performance LDA senza PCA Smote')\n",
    "print('')\n",
    "display(df_perfo)\n",
    "print('')\n",
    "print('Confusion matrix LDA senza PCA Smote')\n",
    "print('')\n",
    "display(df_cmato)\n",
    "print('')\n",
    "print('Performance LDA con PCA Smote')\n",
    "print('')\n",
    "display(df_perfop)\n",
    "print('')\n",
    "print('Confusion matrix LDA con PCA Smote')\n",
    "print('')\n",
    "display(df_cmatop)\n",
    "print('')\n",
    "print('Performance LDA senza PCA Smote+Tomek')\n",
    "print('')\n",
    "display(df_perfu)\n",
    "print('')\n",
    "print('Confusion matrix LDA senza PCA Smote+Tomek')\n",
    "print('')\n",
    "display(df_cmatu)\n",
    "print('')\n",
    "print('Performance LDA con PCA Smote+Tomek')\n",
    "print('')\n",
    "display(df_perfup)\n",
    "print('')\n",
    "print('Confusion matrix LDA con PCA Smote+Tomek')\n",
    "print('')\n",
    "display(df_cmatup)\n",
    "print('')\n",
    "print('Performance SVM senza PCA Smote')\n",
    "print('')\n",
    "display(df_perf_svmo)\n",
    "print('')\n",
    "print('Confusion matrix SVM senza PCA Smote')\n",
    "print('')\n",
    "display(df_cmat_svmo)\n",
    "print('')\n",
    "print('Performance SVM con PCA Smote')\n",
    "print('')\n",
    "display(df_perf_svmop)\n",
    "print('')\n",
    "print('Confusion matrix SVM con PCA Smote')\n",
    "print('')\n",
    "display(df_cmat_svmop)\n",
    "print('')\n",
    "print('Performance SVM senza PCA Smote+Tomek')\n",
    "print('')\n",
    "display(df_perf_svmu)\n",
    "print('')\n",
    "print('Confusion matrix SVM senza PCA Smote+Tomek')\n",
    "print('')\n",
    "display(df_cmat_svmu)\n",
    "print('')\n",
    "print('Performance SVM con PCA Smote+Tomek')\n",
    "print('')\n",
    "display(df_perf_svmup)\n",
    "print('')\n",
    "print('Confusion matrix SVM con PCA Smote+Tomek')\n",
    "print('')\n",
    "display(df_cmat_svmup)\n",
    "print('')\n",
    "print('Performance MLP senza PCA Smote')\n",
    "print('')\n",
    "display(df_perf_over_mlp)\n",
    "print('')\n",
    "print('Confusion matrix MLP senza PCA Smote')\n",
    "print('')\n",
    "display(df_cmat_over_mlp)\n",
    "print('')\n",
    "print('Performance MLP con PCA Smote')\n",
    "print('')\n",
    "display(df_perf_mlpop)\n",
    "print('')\n",
    "print('Confusion matrix MLP con PCA Smote')\n",
    "print('')\n",
    "display(df_cmat_mlpop)\n",
    "print('')\n",
    "print('Performance MLP senza PCA Smote+Tomek')\n",
    "print('')\n",
    "display(df_perf_under_mlp)\n",
    "print('')\n",
    "print('Confusion matrix MLP senza PCA Smote+Tomek')\n",
    "print('')\n",
    "display(df_cmat_under_mlp)\n",
    "print('')\n",
    "print('Performance MLP con PCA Smote+Tomek')\n",
    "print('')\n",
    "display(df_perf_mlpup)\n",
    "print('')\n",
    "print('Confusion matrix MLP con PCA Smote+Tomek')\n",
    "print('')\n",
    "display(df_cmat_mlpup)"
   ]
  },
  {
   "cell_type": "markdown",
   "id": "super-collapse",
   "metadata": {},
   "source": [
    "## Adasyn e Tomek's links"
   ]
  },
  {
   "cell_type": "code",
   "execution_count": 79,
   "id": "academic-effectiveness",
   "metadata": {},
   "outputs": [],
   "source": [
    "Xtrain_over, ytrain_over = ADASYN().fit_resample(Xtrain, ytrain)\n",
    "Xtrain_Tomek, ytrain_Tomek = TomekLinks().fit_resample(Xtrain, ytrain)\n",
    "Xtrain_under, ytrain_under = ADASYN().fit_resample(Xtrain_Tomek, ytrain_Tomek)"
   ]
  },
  {
   "cell_type": "code",
   "execution_count": 80,
   "id": "swedish-negotiation",
   "metadata": {},
   "outputs": [
    {
     "data": {
      "text/html": [
       "<div>\n",
       "<style scoped>\n",
       "    .dataframe tbody tr th:only-of-type {\n",
       "        vertical-align: middle;\n",
       "    }\n",
       "\n",
       "    .dataframe tbody tr th {\n",
       "        vertical-align: top;\n",
       "    }\n",
       "\n",
       "    .dataframe thead th {\n",
       "        text-align: right;\n",
       "    }\n",
       "</style>\n",
       "<table border=\"1\" class=\"dataframe\">\n",
       "  <thead>\n",
       "    <tr style=\"text-align: right;\">\n",
       "      <th></th>\n",
       "      <th>train</th>\n",
       "      <th>train Adasyn</th>\n",
       "      <th>train Tomek</th>\n",
       "      <th>train Adasyn+Tomek</th>\n",
       "      <th>test</th>\n",
       "    </tr>\n",
       "  </thead>\n",
       "  <tbody>\n",
       "    <tr>\n",
       "      <th>0</th>\n",
       "      <td>3299</td>\n",
       "      <td>3299</td>\n",
       "      <td>3258</td>\n",
       "      <td>3258</td>\n",
       "      <td>3300</td>\n",
       "    </tr>\n",
       "    <tr>\n",
       "      <th>1</th>\n",
       "      <td>110</td>\n",
       "      <td>3280</td>\n",
       "      <td>110</td>\n",
       "      <td>3253</td>\n",
       "      <td>110</td>\n",
       "    </tr>\n",
       "  </tbody>\n",
       "</table>\n",
       "</div>"
      ],
      "text/plain": [
       "   train  train Adasyn  train Tomek  train Adasyn+Tomek  test\n",
       "0   3299          3299         3258                3258  3300\n",
       "1    110          3280          110                3253   110"
      ]
     },
     "metadata": {},
     "output_type": "display_data"
    }
   ],
   "source": [
    "info=pd.DataFrame({'train':[list(ytrain).count(0),list(ytrain).count(1)],\n",
    "                  'train Adasyn':[list(ytrain_over).count(0),list(ytrain_over).count(1)],\n",
    "                   'train Tomek':[list(ytrain_Tomek).count(0),list(ytrain_Tomek).count(1)],\n",
    "                  'train Adasyn+Tomek':[list(ytrain_under).count(0),list(ytrain_under).count(1)],\n",
    "                  'test':[list(ytest).count(0),list(ytest).count(1)]})\n",
    "display(info)"
   ]
  },
  {
   "cell_type": "code",
   "execution_count": 81,
   "id": "disturbed-triple",
   "metadata": {},
   "outputs": [],
   "source": [
    "#pca Adasyn\n",
    "scalero=StandardScaler()\n",
    "scalero.fit(Xtrain_over)\n",
    "Xtrain_over_scaled=scalero.transform(Xtrain_over)\n",
    "explvar1=0.9\n",
    "pca_var1_scaled_over=PCA(explvar1)\n",
    "pca_var1_scaled_over.fit(Xtrain_over_scaled)\n",
    "Xtrain_over_scaled_transf=pca_var1_scaled_over.transform(Xtrain_over_scaled)"
   ]
  },
  {
   "cell_type": "code",
   "execution_count": 82,
   "id": "applied-berkeley",
   "metadata": {},
   "outputs": [],
   "source": [
    "#pca Adasyn+Tomek\n",
    "pca_var1_under=PCA(0.9)\n",
    "scaler=StandardScaler()\n",
    "scaler.fit(Xtrain_under)\n",
    "Xtrain_under_scaled=scaler.transform(Xtrain_under)\n",
    "pca_var1_under.fit(Xtrain_under_scaled)\n",
    "Xtrain_under_scaled_transf=pca_var1_under.transform(Xtrain_under_scaled)"
   ]
  },
  {
   "cell_type": "code",
   "execution_count": 83,
   "id": "conventional-desire",
   "metadata": {
    "tags": []
   },
   "outputs": [],
   "source": [
    "#lda Adasyn con e senza pca\n",
    "lda_over=LDA()\n",
    "lda_pca_over=LDA()\n",
    "lda_over.fit(Xtrain_over,ytrain_over)\n",
    "lda_pca_over.fit(Xtrain_over_scaled_transf,ytrain_over)\n",
    "\n",
    "scaler_over=StandardScaler()\n",
    "scaler_over.fit(Xtest)\n",
    "Xtest_scaled=scaler_over.transform(Xtest)\n",
    "zldatr_over=lda_over.transform(Xtrain_over)\n",
    "zlda_pcatr_over=lda_pca_over.transform(Xtrain_over_scaled_transf)\n",
    "zldate_over=lda_over.transform(Xtest)\n",
    "zlda_pcate_over=lda_pca_over.transform(pca_var1_scaled_over.transform(Xtest_scaled))\n",
    "\n",
    "y_pred_over= lda_over.predict(Xtest)\n",
    "y_pred_pca_over= lda_pca_over.predict(pca_var1_scaled_over.transform(Xtest_scaled))"
   ]
  },
  {
   "cell_type": "code",
   "execution_count": 84,
   "id": "annoying-feeding",
   "metadata": {
    "tags": []
   },
   "outputs": [],
   "source": [
    "acc_traino = lda_over.score(Xtrain_over, ytrain_over)\n",
    "prec_traino = precision_score(ytrain_over,lda_over.predict(Xtrain_over), average='weighted')\n",
    "rec_traino = recall_score(ytrain_over,lda_over.predict(Xtrain_over), average='weighted')\n",
    "f1_traino = f1_score(ytrain_over,lda_over.predict(Xtrain_over), average='weighted')\n",
    "\n",
    "acc_train_pcao = lda_pca_over.score(pca_var1_scaled_over.transform(Xtrain_over_scaled), ytrain_over)\n",
    "prec_train_pcao = precision_score(ytrain_over,lda_pca_over.predict(pca_var1_scaled_over.transform(Xtrain_over_scaled)), average='weighted')\n",
    "rec_train_pcao = recall_score(ytrain_over,lda_pca_over.predict(pca_var1_scaled_over.transform(Xtrain_over_scaled)), average='weighted')\n",
    "f1_train_pcao = f1_score(ytrain_over,lda_pca_over.predict(pca_var1_scaled_over.transform(Xtrain_over_scaled)), average='weighted')\n",
    "\n",
    "acc_testo = lda_over.score(Xtest, ytest)\n",
    "prec_testo = precision_score(ytest,y_pred_over, average='weighted')\n",
    "rec_testo = recall_score(ytest,y_pred_over, average='weighted')\n",
    "f1_testo = f1_score(ytest,y_pred_over, average='weighted')\n",
    "\n",
    "acc_test_pcao = lda_pca_over.score(pca_var1_scaled_over.transform(Xtest_scaled), ytest)\n",
    "prec_test_pcao = precision_score(ytest,lda_pca_over.predict(pca_var1_scaled_over.transform(Xtest_scaled)), average='weighted')\n",
    "rec_test_pcao = recall_score(ytest,lda_pca_over.predict(pca_var1_scaled_over.transform(Xtest_scaled)), average='weighted')\n",
    "f1_test_pcao = f1_score(ytest,lda_pca_over.predict(pca_var1_scaled_over.transform(Xtest_scaled)), average='weighted')"
   ]
  },
  {
   "cell_type": "code",
   "execution_count": 85,
   "id": "unsigned-injury",
   "metadata": {
    "tags": []
   },
   "outputs": [],
   "source": [
    "df_perfo = pd.DataFrame({'acc': [acc_traino, acc_testo], \n",
    "                        'prec': [prec_traino, prec_testo], \n",
    "                        'rec': [rec_traino, rec_testo],\n",
    "                        'f1': [f1_traino, f1_testo]\n",
    "                       },\n",
    "                      index=['train lda no pca over', 'test lda no pca over'])\n",
    "df_perfop = pd.DataFrame({'acc': [acc_train_pcao, acc_test_pcao], \n",
    "                        'prec': [prec_train_pcao, prec_test_pcao], \n",
    "                        'rec': [rec_train_pcao, rec_test_pcao],\n",
    "                        'f1': [f1_train_pcao, f1_test_pcao]\n",
    "                       },\n",
    "                      index=['train lda pca over','test lda pca over'])\n",
    "cmato = confusion_matrix(ytest,y_pred_over)\n",
    "df_cmato = pd.DataFrame(cmato, columns=['no bancarotta','bancarotta'], \n",
    "                        index=['no bancarotta','bancarottar'])\n",
    "cmatop = confusion_matrix(ytest,y_pred_pca_over)\n",
    "df_cmatop = pd.DataFrame(cmatop, columns=['no bancarotta','bancarotta'], \n",
    "                        index=['no bancarotta','bancarotta'])"
   ]
  },
  {
   "cell_type": "code",
   "execution_count": 86,
   "id": "living-italic",
   "metadata": {
    "tags": []
   },
   "outputs": [
    {
     "name": "stdout",
     "output_type": "stream",
     "text": [
      "\n",
      "Performance LDA senza PCA Adasyn\n",
      "\n"
     ]
    },
    {
     "data": {
      "text/html": [
       "<div>\n",
       "<style scoped>\n",
       "    .dataframe tbody tr th:only-of-type {\n",
       "        vertical-align: middle;\n",
       "    }\n",
       "\n",
       "    .dataframe tbody tr th {\n",
       "        vertical-align: top;\n",
       "    }\n",
       "\n",
       "    .dataframe thead th {\n",
       "        text-align: right;\n",
       "    }\n",
       "</style>\n",
       "<table border=\"1\" class=\"dataframe\">\n",
       "  <thead>\n",
       "    <tr style=\"text-align: right;\">\n",
       "      <th></th>\n",
       "      <th>acc</th>\n",
       "      <th>prec</th>\n",
       "      <th>rec</th>\n",
       "      <th>f1</th>\n",
       "    </tr>\n",
       "  </thead>\n",
       "  <tbody>\n",
       "    <tr>\n",
       "      <th>train lda no pca over</th>\n",
       "      <td>0.908345</td>\n",
       "      <td>0.908754</td>\n",
       "      <td>0.908345</td>\n",
       "      <td>0.908326</td>\n",
       "    </tr>\n",
       "    <tr>\n",
       "      <th>test lda no pca over</th>\n",
       "      <td>0.876540</td>\n",
       "      <td>0.963711</td>\n",
       "      <td>0.876540</td>\n",
       "      <td>0.911383</td>\n",
       "    </tr>\n",
       "  </tbody>\n",
       "</table>\n",
       "</div>"
      ],
      "text/plain": [
       "                            acc      prec       rec        f1\n",
       "train lda no pca over  0.908345  0.908754  0.908345  0.908326\n",
       "test lda no pca over   0.876540  0.963711  0.876540  0.911383"
      ]
     },
     "metadata": {},
     "output_type": "display_data"
    },
    {
     "name": "stdout",
     "output_type": "stream",
     "text": [
      "\n",
      "Confusion matrix LDA senza PCA Adasyn\n",
      "\n"
     ]
    },
    {
     "data": {
      "text/html": [
       "<div>\n",
       "<style scoped>\n",
       "    .dataframe tbody tr th:only-of-type {\n",
       "        vertical-align: middle;\n",
       "    }\n",
       "\n",
       "    .dataframe tbody tr th {\n",
       "        vertical-align: top;\n",
       "    }\n",
       "\n",
       "    .dataframe thead th {\n",
       "        text-align: right;\n",
       "    }\n",
       "</style>\n",
       "<table border=\"1\" class=\"dataframe\">\n",
       "  <thead>\n",
       "    <tr style=\"text-align: right;\">\n",
       "      <th></th>\n",
       "      <th>no bancarotta</th>\n",
       "      <th>bancarotta</th>\n",
       "    </tr>\n",
       "  </thead>\n",
       "  <tbody>\n",
       "    <tr>\n",
       "      <th>no bancarotta</th>\n",
       "      <td>2908</td>\n",
       "      <td>392</td>\n",
       "    </tr>\n",
       "    <tr>\n",
       "      <th>bancarottar</th>\n",
       "      <td>29</td>\n",
       "      <td>81</td>\n",
       "    </tr>\n",
       "  </tbody>\n",
       "</table>\n",
       "</div>"
      ],
      "text/plain": [
       "               no bancarotta  bancarotta\n",
       "no bancarotta           2908         392\n",
       "bancarottar               29          81"
      ]
     },
     "metadata": {},
     "output_type": "display_data"
    },
    {
     "name": "stdout",
     "output_type": "stream",
     "text": [
      "\n",
      "Performance LDA con PCA Adasyn\n",
      "\n"
     ]
    },
    {
     "data": {
      "text/html": [
       "<div>\n",
       "<style scoped>\n",
       "    .dataframe tbody tr th:only-of-type {\n",
       "        vertical-align: middle;\n",
       "    }\n",
       "\n",
       "    .dataframe tbody tr th {\n",
       "        vertical-align: top;\n",
       "    }\n",
       "\n",
       "    .dataframe thead th {\n",
       "        text-align: right;\n",
       "    }\n",
       "</style>\n",
       "<table border=\"1\" class=\"dataframe\">\n",
       "  <thead>\n",
       "    <tr style=\"text-align: right;\">\n",
       "      <th></th>\n",
       "      <th>acc</th>\n",
       "      <th>prec</th>\n",
       "      <th>rec</th>\n",
       "      <th>f1</th>\n",
       "    </tr>\n",
       "  </thead>\n",
       "  <tbody>\n",
       "    <tr>\n",
       "      <th>train lda pca over</th>\n",
       "      <td>0.891473</td>\n",
       "      <td>0.892488</td>\n",
       "      <td>0.891473</td>\n",
       "      <td>0.891412</td>\n",
       "    </tr>\n",
       "    <tr>\n",
       "      <th>test lda pca over</th>\n",
       "      <td>0.559824</td>\n",
       "      <td>0.967733</td>\n",
       "      <td>0.559824</td>\n",
       "      <td>0.687305</td>\n",
       "    </tr>\n",
       "  </tbody>\n",
       "</table>\n",
       "</div>"
      ],
      "text/plain": [
       "                         acc      prec       rec        f1\n",
       "train lda pca over  0.891473  0.892488  0.891473  0.891412\n",
       "test lda pca over   0.559824  0.967733  0.559824  0.687305"
      ]
     },
     "metadata": {},
     "output_type": "display_data"
    },
    {
     "name": "stdout",
     "output_type": "stream",
     "text": [
      "\n",
      "Confusion matrix LDA con PCA Adasyn\n",
      "\n"
     ]
    },
    {
     "data": {
      "text/html": [
       "<div>\n",
       "<style scoped>\n",
       "    .dataframe tbody tr th:only-of-type {\n",
       "        vertical-align: middle;\n",
       "    }\n",
       "\n",
       "    .dataframe tbody tr th {\n",
       "        vertical-align: top;\n",
       "    }\n",
       "\n",
       "    .dataframe thead th {\n",
       "        text-align: right;\n",
       "    }\n",
       "</style>\n",
       "<table border=\"1\" class=\"dataframe\">\n",
       "  <thead>\n",
       "    <tr style=\"text-align: right;\">\n",
       "      <th></th>\n",
       "      <th>no bancarotta</th>\n",
       "      <th>bancarotta</th>\n",
       "    </tr>\n",
       "  </thead>\n",
       "  <tbody>\n",
       "    <tr>\n",
       "      <th>no bancarotta</th>\n",
       "      <td>1803</td>\n",
       "      <td>1497</td>\n",
       "    </tr>\n",
       "    <tr>\n",
       "      <th>bancarotta</th>\n",
       "      <td>4</td>\n",
       "      <td>106</td>\n",
       "    </tr>\n",
       "  </tbody>\n",
       "</table>\n",
       "</div>"
      ],
      "text/plain": [
       "               no bancarotta  bancarotta\n",
       "no bancarotta           1803        1497\n",
       "bancarotta                 4         106"
      ]
     },
     "metadata": {},
     "output_type": "display_data"
    }
   ],
   "source": [
    "print('')\n",
    "print('Performance LDA senza PCA Adasyn')\n",
    "print('')\n",
    "display(df_perfo)\n",
    "print('')\n",
    "print('Confusion matrix LDA senza PCA Adasyn')\n",
    "print('')\n",
    "display(df_cmato)\n",
    "print('')\n",
    "print('Performance LDA con PCA Adasyn')\n",
    "print('')\n",
    "display(df_perfop)\n",
    "print('')\n",
    "print('Confusion matrix LDA con PCA Adasyn')\n",
    "print('')\n",
    "display(df_cmatop)"
   ]
  },
  {
   "cell_type": "code",
   "execution_count": 87,
   "id": "nervous-concentration",
   "metadata": {
    "tags": []
   },
   "outputs": [],
   "source": [
    "#lda Adasyn+Tomek con e senza pca\n",
    "ldau=LDA()\n",
    "lda_pcau=LDA()\n",
    "ldau.fit(Xtrain_under,ytrain_under)\n",
    "lda_pcau.fit(Xtrain_under_scaled_transf,ytrain_under)\n",
    "\n",
    "scaler=StandardScaler()\n",
    "scaler.fit(Xtest)\n",
    "Xtest_scaled=scaler.transform(Xtest)\n",
    "zldatru=ldau.transform(Xtrain_under)\n",
    "zlda_pcatru=lda_pcau.transform(Xtrain_under_scaled_transf)\n",
    "zldateu=ldau.transform(Xtest)\n",
    "zlda_pcateu=lda_pcau.transform(pca_var1_under.transform(Xtest_scaled))\n",
    "\n",
    "y_predu = ldau.predict(Xtest)\n",
    "y_pred_pcau = lda_pcau.predict(pca_var1_under.transform(Xtest_scaled))"
   ]
  },
  {
   "cell_type": "code",
   "execution_count": 88,
   "id": "headed-seafood",
   "metadata": {
    "tags": []
   },
   "outputs": [],
   "source": [
    "acc_trainu = ldau.score(Xtrain_under, ytrain_under)\n",
    "prec_trainu = precision_score(ytrain_under,ldau.predict(Xtrain_under), average='weighted')\n",
    "rec_trainu = recall_score(ytrain_under,ldau.predict(Xtrain_under), average='weighted')\n",
    "f1_trainu = f1_score(ytrain_under,ldau.predict(Xtrain_under), average='weighted')\n",
    "\n",
    "acc_train_pcau = lda_pcau.score(pca_var1_under.transform(Xtrain_under_scaled), ytrain_under)\n",
    "prec_train_pcau = precision_score(ytrain_under,lda_pcau.predict(pca_var1_under.transform(Xtrain_under_scaled)), average='weighted')\n",
    "rec_train_pcau = recall_score(ytrain_under,lda_pcau.predict(pca_var1_under.transform(Xtrain_under_scaled)), average='weighted')\n",
    "f1_train_pcau = f1_score(ytrain_under,lda_pcau.predict(pca_var1_under.transform(Xtrain_under_scaled)), average='weighted')\n",
    "\n",
    "acc_testu= ldau.score(Xtest, ytest)\n",
    "prec_testu = precision_score(ytest,y_predu, average='weighted')\n",
    "rec_testu = recall_score(ytest,y_predu, average='weighted')\n",
    "f1_testu = f1_score(ytest,y_predu, average='weighted')\n",
    "\n",
    "acc_test_pcau = lda_pcau.score(pca_var1_under.transform(Xtest_scaled), ytest)\n",
    "prec_test_pcau = precision_score(ytest,lda_pcau.predict(pca_var1_under.transform(Xtest_scaled)), average='weighted')\n",
    "rec_test_pcau = recall_score(ytest,lda_pcau.predict(pca_var1_under.transform(Xtest_scaled)), average='weighted')\n",
    "f1_test_pcau = f1_score(ytest,lda_pcau.predict(pca_var1_under.transform(Xtest_scaled)), average='weighted')"
   ]
  },
  {
   "cell_type": "code",
   "execution_count": 89,
   "id": "respiratory-gallery",
   "metadata": {
    "tags": []
   },
   "outputs": [],
   "source": [
    "df_perfu = pd.DataFrame({'acc': [acc_trainu, acc_testu], \n",
    "                        'prec': [prec_trainu, prec_testu], \n",
    "                        'rec': [rec_trainu, rec_testu],\n",
    "                        'f1': [f1_trainu, f1_testu]\n",
    "                       },\n",
    "                      index=['training lda no pca under', 'test lda no pca under'])\n",
    "df_perfup = pd.DataFrame({'acc': [acc_train_pcau, acc_test_pcau], \n",
    "                        'prec': [prec_train_pcau, prec_test_pcau], \n",
    "                        'rec': [rec_train_pcau, rec_test_pcau],\n",
    "                        'f1': [f1_train_pcau, f1_test_pcau]\n",
    "                       },\n",
    "                      index=['training lda pca under','test lda pca under'])\n",
    "\n",
    "cmatu = confusion_matrix(ytest,y_predu)\n",
    "df_cmatu = pd.DataFrame(cmatu, columns=['no bancarotta','bancarotta'], \n",
    "                        index=['no bancarotta','bancarotta'])\n",
    "cmatup = confusion_matrix(ytest,y_pred_pcau)\n",
    "df_cmatup = pd.DataFrame(cmatup, columns=['no bancarotta','bancarotta'], \n",
    "                        index=['no bancarotta','bancarotta'])"
   ]
  },
  {
   "cell_type": "code",
   "execution_count": 90,
   "id": "accessible-cyprus",
   "metadata": {
    "tags": []
   },
   "outputs": [
    {
     "name": "stdout",
     "output_type": "stream",
     "text": [
      "\n",
      "Performance LDA senza PCA Adasyn+Tomek\n",
      "\n"
     ]
    },
    {
     "data": {
      "text/html": [
       "<div>\n",
       "<style scoped>\n",
       "    .dataframe tbody tr th:only-of-type {\n",
       "        vertical-align: middle;\n",
       "    }\n",
       "\n",
       "    .dataframe tbody tr th {\n",
       "        vertical-align: top;\n",
       "    }\n",
       "\n",
       "    .dataframe thead th {\n",
       "        text-align: right;\n",
       "    }\n",
       "</style>\n",
       "<table border=\"1\" class=\"dataframe\">\n",
       "  <thead>\n",
       "    <tr style=\"text-align: right;\">\n",
       "      <th></th>\n",
       "      <th>acc</th>\n",
       "      <th>prec</th>\n",
       "      <th>rec</th>\n",
       "      <th>f1</th>\n",
       "    </tr>\n",
       "  </thead>\n",
       "  <tbody>\n",
       "    <tr>\n",
       "      <th>training lda no pca under</th>\n",
       "      <td>0.909691</td>\n",
       "      <td>0.910289</td>\n",
       "      <td>0.909691</td>\n",
       "      <td>0.909660</td>\n",
       "    </tr>\n",
       "    <tr>\n",
       "      <th>test lda no pca under</th>\n",
       "      <td>0.878592</td>\n",
       "      <td>0.964184</td>\n",
       "      <td>0.878592</td>\n",
       "      <td>0.912709</td>\n",
       "    </tr>\n",
       "  </tbody>\n",
       "</table>\n",
       "</div>"
      ],
      "text/plain": [
       "                                acc      prec       rec        f1\n",
       "training lda no pca under  0.909691  0.910289  0.909691  0.909660\n",
       "test lda no pca under      0.878592  0.964184  0.878592  0.912709"
      ]
     },
     "metadata": {},
     "output_type": "display_data"
    },
    {
     "name": "stdout",
     "output_type": "stream",
     "text": [
      "\n",
      "Confusion matrix LDA senza PCA Adasyn+Tomek\n",
      "\n"
     ]
    },
    {
     "data": {
      "text/html": [
       "<div>\n",
       "<style scoped>\n",
       "    .dataframe tbody tr th:only-of-type {\n",
       "        vertical-align: middle;\n",
       "    }\n",
       "\n",
       "    .dataframe tbody tr th {\n",
       "        vertical-align: top;\n",
       "    }\n",
       "\n",
       "    .dataframe thead th {\n",
       "        text-align: right;\n",
       "    }\n",
       "</style>\n",
       "<table border=\"1\" class=\"dataframe\">\n",
       "  <thead>\n",
       "    <tr style=\"text-align: right;\">\n",
       "      <th></th>\n",
       "      <th>no bancarotta</th>\n",
       "      <th>bancarotta</th>\n",
       "    </tr>\n",
       "  </thead>\n",
       "  <tbody>\n",
       "    <tr>\n",
       "      <th>no bancarotta</th>\n",
       "      <td>2914</td>\n",
       "      <td>386</td>\n",
       "    </tr>\n",
       "    <tr>\n",
       "      <th>bancarotta</th>\n",
       "      <td>28</td>\n",
       "      <td>82</td>\n",
       "    </tr>\n",
       "  </tbody>\n",
       "</table>\n",
       "</div>"
      ],
      "text/plain": [
       "               no bancarotta  bancarotta\n",
       "no bancarotta           2914         386\n",
       "bancarotta                28          82"
      ]
     },
     "metadata": {},
     "output_type": "display_data"
    },
    {
     "name": "stdout",
     "output_type": "stream",
     "text": [
      "\n",
      "Performance LDA con PCA Adasyn+Tomek\n",
      "\n"
     ]
    },
    {
     "data": {
      "text/html": [
       "<div>\n",
       "<style scoped>\n",
       "    .dataframe tbody tr th:only-of-type {\n",
       "        vertical-align: middle;\n",
       "    }\n",
       "\n",
       "    .dataframe tbody tr th {\n",
       "        vertical-align: top;\n",
       "    }\n",
       "\n",
       "    .dataframe thead th {\n",
       "        text-align: right;\n",
       "    }\n",
       "</style>\n",
       "<table border=\"1\" class=\"dataframe\">\n",
       "  <thead>\n",
       "    <tr style=\"text-align: right;\">\n",
       "      <th></th>\n",
       "      <th>acc</th>\n",
       "      <th>prec</th>\n",
       "      <th>rec</th>\n",
       "      <th>f1</th>\n",
       "    </tr>\n",
       "  </thead>\n",
       "  <tbody>\n",
       "    <tr>\n",
       "      <th>training lda pca under</th>\n",
       "      <td>0.894640</td>\n",
       "      <td>0.896080</td>\n",
       "      <td>0.894640</td>\n",
       "      <td>0.894547</td>\n",
       "    </tr>\n",
       "    <tr>\n",
       "      <th>test lda pca under</th>\n",
       "      <td>0.559824</td>\n",
       "      <td>0.967733</td>\n",
       "      <td>0.559824</td>\n",
       "      <td>0.687305</td>\n",
       "    </tr>\n",
       "  </tbody>\n",
       "</table>\n",
       "</div>"
      ],
      "text/plain": [
       "                             acc      prec       rec        f1\n",
       "training lda pca under  0.894640  0.896080  0.894640  0.894547\n",
       "test lda pca under      0.559824  0.967733  0.559824  0.687305"
      ]
     },
     "metadata": {},
     "output_type": "display_data"
    },
    {
     "name": "stdout",
     "output_type": "stream",
     "text": [
      "\n",
      "Confusion matrix LDA con PCA Adasyn+Tomek\n",
      "\n"
     ]
    },
    {
     "data": {
      "text/html": [
       "<div>\n",
       "<style scoped>\n",
       "    .dataframe tbody tr th:only-of-type {\n",
       "        vertical-align: middle;\n",
       "    }\n",
       "\n",
       "    .dataframe tbody tr th {\n",
       "        vertical-align: top;\n",
       "    }\n",
       "\n",
       "    .dataframe thead th {\n",
       "        text-align: right;\n",
       "    }\n",
       "</style>\n",
       "<table border=\"1\" class=\"dataframe\">\n",
       "  <thead>\n",
       "    <tr style=\"text-align: right;\">\n",
       "      <th></th>\n",
       "      <th>no bancarotta</th>\n",
       "      <th>bancarotta</th>\n",
       "    </tr>\n",
       "  </thead>\n",
       "  <tbody>\n",
       "    <tr>\n",
       "      <th>no bancarotta</th>\n",
       "      <td>1803</td>\n",
       "      <td>1497</td>\n",
       "    </tr>\n",
       "    <tr>\n",
       "      <th>bancarotta</th>\n",
       "      <td>4</td>\n",
       "      <td>106</td>\n",
       "    </tr>\n",
       "  </tbody>\n",
       "</table>\n",
       "</div>"
      ],
      "text/plain": [
       "               no bancarotta  bancarotta\n",
       "no bancarotta           1803        1497\n",
       "bancarotta                 4         106"
      ]
     },
     "metadata": {},
     "output_type": "display_data"
    }
   ],
   "source": [
    "print('')\n",
    "print('Performance LDA senza PCA Adasyn+Tomek')\n",
    "print('')\n",
    "display(df_perfu)\n",
    "print('')\n",
    "print('Confusion matrix LDA senza PCA Adasyn+Tomek')\n",
    "print('')\n",
    "display(df_cmatu)\n",
    "print('')\n",
    "print('Performance LDA con PCA Adasyn+Tomek')\n",
    "print('')\n",
    "display(df_perfup)\n",
    "print('')\n",
    "print('Confusion matrix LDA con PCA Adasyn+Tomek')\n",
    "print('')\n",
    "display(df_cmatup)"
   ]
  },
  {
   "cell_type": "code",
   "execution_count": 91,
   "id": "weird-bishop",
   "metadata": {
    "tags": []
   },
   "outputs": [],
   "source": [
    "#svm Adasyn con e senza pca\n",
    "test_svm = 0.5\n",
    "val_svm = 0.4\n",
    "indices = np.arange(X.shape[0])\n",
    "ind_train_svm, ind_test_svm = train_test_split(indices, test_size=test_svm, random_state=random_state, shuffle=True)\n",
    "ind_train_svm, ind_val_svm = train_test_split(ind_train_svm, test_size=val_svm, random_state=random_state, shuffle=True)\n",
    "\n",
    "Xtrain_svm=X.iloc[ind_train_svm,:]\n",
    "ytrain_svm= y.iloc[ind_train_svm]\n",
    "Xval_svm=X.iloc[ind_val_svm,:]\n",
    "yval_svm= y.iloc[ind_val_svm]\n",
    "Xtest_svm=X.iloc[ind_test_svm,:]\n",
    "ytest_svm= y.iloc[ind_test_svm]\n",
    "\n",
    "\n",
    "Xtrain_over_svm, ytrain_over_svm = ADASYN().fit_resample(Xtrain_svm, ytrain_svm)\n",
    "Xval_over_svm, yval_over_svm = ADASYN().fit_resample(Xval_svm, yval_svm)\n",
    "Xtrain_svm_Tomek, ytrain_svm_Tomek = TomekLinks().fit_resample(Xtrain_svm, ytrain_svm)\n",
    "Xtrain_under_svm, ytrain_under_svm = ADASYN().fit_resample(Xtrain_svm_Tomek, ytrain_svm_Tomek)\n",
    "Xval_svm_Tomek, yval_svm_Tomek = TomekLinks().fit_resample(Xval_svm, yval_svm)\n",
    "Xval_under_svm, yval_under_svm = ADASYN().fit_resample(Xval_svm_Tomek, yval_svm_Tomek)"
   ]
  },
  {
   "cell_type": "code",
   "execution_count": 92,
   "id": "caring-cross",
   "metadata": {
    "tags": []
   },
   "outputs": [
    {
     "data": {
      "text/html": [
       "<div>\n",
       "<style scoped>\n",
       "    .dataframe tbody tr th:only-of-type {\n",
       "        vertical-align: middle;\n",
       "    }\n",
       "\n",
       "    .dataframe tbody tr th {\n",
       "        vertical-align: top;\n",
       "    }\n",
       "\n",
       "    .dataframe thead th {\n",
       "        text-align: right;\n",
       "    }\n",
       "</style>\n",
       "<table border=\"1\" class=\"dataframe\">\n",
       "  <thead>\n",
       "    <tr style=\"text-align: right;\">\n",
       "      <th></th>\n",
       "      <th>train svm</th>\n",
       "      <th>test svm</th>\n",
       "    </tr>\n",
       "  </thead>\n",
       "  <tbody>\n",
       "    <tr>\n",
       "      <th>0</th>\n",
       "      <td>1989</td>\n",
       "      <td>3294</td>\n",
       "    </tr>\n",
       "    <tr>\n",
       "      <th>1</th>\n",
       "      <td>56</td>\n",
       "      <td>116</td>\n",
       "    </tr>\n",
       "  </tbody>\n",
       "</table>\n",
       "</div>"
      ],
      "text/plain": [
       "   train svm  test svm\n",
       "0       1989      3294\n",
       "1         56       116"
      ]
     },
     "metadata": {},
     "output_type": "display_data"
    },
    {
     "data": {
      "text/html": [
       "<div>\n",
       "<style scoped>\n",
       "    .dataframe tbody tr th:only-of-type {\n",
       "        vertical-align: middle;\n",
       "    }\n",
       "\n",
       "    .dataframe tbody tr th {\n",
       "        vertical-align: top;\n",
       "    }\n",
       "\n",
       "    .dataframe thead th {\n",
       "        text-align: right;\n",
       "    }\n",
       "</style>\n",
       "<table border=\"1\" class=\"dataframe\">\n",
       "  <thead>\n",
       "    <tr style=\"text-align: right;\">\n",
       "      <th></th>\n",
       "      <th>train Adasyn svm</th>\n",
       "      <th>train Adasyn+Tomek svm</th>\n",
       "      <th>val Adasyn svm</th>\n",
       "      <th>val Adasyn+Tomek svm</th>\n",
       "      <th>test svm</th>\n",
       "    </tr>\n",
       "  </thead>\n",
       "  <tbody>\n",
       "    <tr>\n",
       "      <th>0</th>\n",
       "      <td>1989</td>\n",
       "      <td>1966</td>\n",
       "      <td>1316</td>\n",
       "      <td>1293</td>\n",
       "      <td>3294</td>\n",
       "    </tr>\n",
       "    <tr>\n",
       "      <th>1</th>\n",
       "      <td>1987</td>\n",
       "      <td>1987</td>\n",
       "      <td>1299</td>\n",
       "      <td>1288</td>\n",
       "      <td>116</td>\n",
       "    </tr>\n",
       "  </tbody>\n",
       "</table>\n",
       "</div>"
      ],
      "text/plain": [
       "   train Adasyn svm  train Adasyn+Tomek svm  val Adasyn svm  \\\n",
       "0              1989                    1966            1316   \n",
       "1              1987                    1987            1299   \n",
       "\n",
       "   val Adasyn+Tomek svm  test svm  \n",
       "0                  1293      3294  \n",
       "1                  1288       116  "
      ]
     },
     "metadata": {},
     "output_type": "display_data"
    }
   ],
   "source": [
    "info_svm1=pd.DataFrame({'train svm':[list(ytrain_svm).count(0),list(ytrain_svm).count(1)],\n",
    "                  'test svm':[list(ytest_svm).count(0),list(ytest_svm).count(1)]})\n",
    "info_svm2=pd.DataFrame({'train Adasyn svm':[list(ytrain_over_svm).count(0),list(ytrain_over_svm).count(1)],\n",
    "                  'train Adasyn+Tomek svm':[list(ytrain_under_svm).count(0),list(ytrain_under_svm).count(1)],\n",
    "                  'val Adasyn svm':[list(yval_over_svm).count(0),list(yval_over_svm).count(1)],\n",
    "                  'val Adasyn+Tomek svm':[list(yval_under_svm).count(0),list(yval_under_svm).count(1)],\n",
    "                  'test svm':[list(ytest_svm).count(0),list(ytest_svm).count(1)]})\n",
    "display(info_svm1)\n",
    "display(info_svm2)"
   ]
  },
  {
   "cell_type": "code",
   "execution_count": 93,
   "id": "double-inclusion",
   "metadata": {
    "tags": []
   },
   "outputs": [
    {
     "data": {
      "text/plain": [
       "GridSearchCV(cv=<zip object at 0x000001D86D689500>,\n",
       "             estimator=SVC(class_weight='balanced'),\n",
       "             param_grid={'C': [1, 2, 3, 4, 5],\n",
       "                         'kernel': ['rbf', 'poly', 'sigmoid']},\n",
       "             return_train_score=True, scoring='f1_weighted')"
      ]
     },
     "execution_count": 93,
     "metadata": {},
     "output_type": "execute_result"
    }
   ],
   "source": [
    "C_list = [i for i in range(1,6)]\n",
    "kernel_list =['rbf','poly','sigmoid']\n",
    "gamma_list = ['scale','auto']\n",
    "hparameters = {'C': C_list, 'kernel': kernel_list}\n",
    "svm = SVC(class_weight='balanced')\n",
    "svm_gs = GridSearchCV(estimator=svm,\n",
    "                      param_grid=hparameters, \n",
    "                      scoring='f1_weighted',\n",
    "                      return_train_score=True,\n",
    "                      cv=zip([ind_train_svm], [ind_val_svm]))\n",
    "svm_gs.fit(X, y)"
   ]
  },
  {
   "cell_type": "code",
   "execution_count": 94,
   "id": "elect-ozone",
   "metadata": {
    "tags": []
   },
   "outputs": [],
   "source": [
    "svm_gs.best_estimator_.fit(Xtrain_over_svm, ytrain_over_svm) \n",
    "\n",
    "y_pred_traino = svm_gs.best_estimator_.predict(Xtrain_over_svm)\n",
    "y_true_traino = ytrain_over_svm\n",
    "y_pred_testo = svm_gs.best_estimator_.predict(Xtest_svm)\n",
    "y_true_testo = ytest_svm\n",
    "y_pred_valo = svm_gs.best_estimator_.predict(Xval_over_svm)\n",
    "y_true_valo = yval_over_svm\n",
    "\n",
    "acc_traino = svm_gs.best_estimator_.score(Xtrain_over_svm, y_true_traino)\n",
    "prec_traino = precision_score(y_true_traino,y_pred_traino, average='weighted')\n",
    "rec_traino = recall_score(y_true_traino,y_pred_traino, average='weighted')\n",
    "f1_traino = f1_score(y_true_traino,y_pred_traino, average='weighted')\n",
    "acc_valo = svm_gs.best_estimator_.score(Xval_over_svm, y_true_valo)\n",
    "prec_valo = precision_score(y_true_valo,y_pred_valo, average='weighted')\n",
    "rec_valo = recall_score(y_true_valo,y_pred_valo, average='weighted')\n",
    "f1_valo = f1_score(y_true_valo,y_pred_valo, average='weighted')\n",
    "acc_testo = svm_gs.best_estimator_.score(Xtest_svm,y_true_testo)\n",
    "prec_testo = precision_score(y_true_testo,y_pred_testo, average='weighted')\n",
    "rec_testo = recall_score(y_true_testo,y_pred_testo, average='weighted')\n",
    "f1_testo = f1_score(y_true_testo,y_pred_testo, average='weighted')\n",
    "\n",
    "df_perf_svmo = pd.DataFrame({'acc': [acc_traino, acc_valo, acc_testo], \n",
    "                        'prec': [prec_traino, prec_valo, prec_testo], \n",
    "                        'rec': [rec_traino, rec_valo, rec_testo],\n",
    "                        'f1': [f1_traino, f1_valo, f1_testo]\n",
    "                       },\n",
    "                      index=['train svm no pca over', 'val svm no pca over', 'test svm no pca over'])\n",
    "cmat_svmo = confusion_matrix(y_true_testo,y_pred_testo)\n",
    "df_cmat_svmo = pd.DataFrame(cmat_svmo, columns=['no bancarotta','bancarotta'], \n",
    "                            index=['no bancarotta','bancarotta'])"
   ]
  },
  {
   "cell_type": "code",
   "execution_count": 95,
   "id": "transparent-surge",
   "metadata": {
    "tags": []
   },
   "outputs": [
    {
     "name": "stdout",
     "output_type": "stream",
     "text": [
      "\n",
      "Performance SVM senza PCA Adasyn\n",
      "\n"
     ]
    },
    {
     "data": {
      "text/html": [
       "<div>\n",
       "<style scoped>\n",
       "    .dataframe tbody tr th:only-of-type {\n",
       "        vertical-align: middle;\n",
       "    }\n",
       "\n",
       "    .dataframe tbody tr th {\n",
       "        vertical-align: top;\n",
       "    }\n",
       "\n",
       "    .dataframe thead th {\n",
       "        text-align: right;\n",
       "    }\n",
       "</style>\n",
       "<table border=\"1\" class=\"dataframe\">\n",
       "  <thead>\n",
       "    <tr style=\"text-align: right;\">\n",
       "      <th></th>\n",
       "      <th>acc</th>\n",
       "      <th>prec</th>\n",
       "      <th>rec</th>\n",
       "      <th>f1</th>\n",
       "    </tr>\n",
       "  </thead>\n",
       "  <tbody>\n",
       "    <tr>\n",
       "      <th>train svm no pca over</th>\n",
       "      <td>0.924547</td>\n",
       "      <td>0.927604</td>\n",
       "      <td>0.924547</td>\n",
       "      <td>0.924414</td>\n",
       "    </tr>\n",
       "    <tr>\n",
       "      <th>val svm no pca over</th>\n",
       "      <td>0.603824</td>\n",
       "      <td>0.645680</td>\n",
       "      <td>0.603824</td>\n",
       "      <td>0.571415</td>\n",
       "    </tr>\n",
       "    <tr>\n",
       "      <th>test svm no pca over</th>\n",
       "      <td>0.850733</td>\n",
       "      <td>0.943863</td>\n",
       "      <td>0.850733</td>\n",
       "      <td>0.891693</td>\n",
       "    </tr>\n",
       "  </tbody>\n",
       "</table>\n",
       "</div>"
      ],
      "text/plain": [
       "                            acc      prec       rec        f1\n",
       "train svm no pca over  0.924547  0.927604  0.924547  0.924414\n",
       "val svm no pca over    0.603824  0.645680  0.603824  0.571415\n",
       "test svm no pca over   0.850733  0.943863  0.850733  0.891693"
      ]
     },
     "metadata": {},
     "output_type": "display_data"
    },
    {
     "name": "stdout",
     "output_type": "stream",
     "text": [
      "\n",
      "Confusion matrix SVM senza PCA Adasyn\n",
      "\n"
     ]
    },
    {
     "data": {
      "text/html": [
       "<div>\n",
       "<style scoped>\n",
       "    .dataframe tbody tr th:only-of-type {\n",
       "        vertical-align: middle;\n",
       "    }\n",
       "\n",
       "    .dataframe tbody tr th {\n",
       "        vertical-align: top;\n",
       "    }\n",
       "\n",
       "    .dataframe thead th {\n",
       "        text-align: right;\n",
       "    }\n",
       "</style>\n",
       "<table border=\"1\" class=\"dataframe\">\n",
       "  <thead>\n",
       "    <tr style=\"text-align: right;\">\n",
       "      <th></th>\n",
       "      <th>no bancarotta</th>\n",
       "      <th>bancarotta</th>\n",
       "    </tr>\n",
       "  </thead>\n",
       "  <tbody>\n",
       "    <tr>\n",
       "      <th>no bancarotta</th>\n",
       "      <td>2861</td>\n",
       "      <td>433</td>\n",
       "    </tr>\n",
       "    <tr>\n",
       "      <th>bancarotta</th>\n",
       "      <td>76</td>\n",
       "      <td>40</td>\n",
       "    </tr>\n",
       "  </tbody>\n",
       "</table>\n",
       "</div>"
      ],
      "text/plain": [
       "               no bancarotta  bancarotta\n",
       "no bancarotta           2861         433\n",
       "bancarotta                76          40"
      ]
     },
     "metadata": {},
     "output_type": "display_data"
    },
    {
     "name": "stdout",
     "output_type": "stream",
     "text": [
      "\n",
      "Performance SVM con PCA Adasyn\n",
      "\n"
     ]
    },
    {
     "data": {
      "text/html": [
       "<div>\n",
       "<style scoped>\n",
       "    .dataframe tbody tr th:only-of-type {\n",
       "        vertical-align: middle;\n",
       "    }\n",
       "\n",
       "    .dataframe tbody tr th {\n",
       "        vertical-align: top;\n",
       "    }\n",
       "\n",
       "    .dataframe thead th {\n",
       "        text-align: right;\n",
       "    }\n",
       "</style>\n",
       "<table border=\"1\" class=\"dataframe\">\n",
       "  <thead>\n",
       "    <tr style=\"text-align: right;\">\n",
       "      <th></th>\n",
       "      <th>acc</th>\n",
       "      <th>prec</th>\n",
       "      <th>rec</th>\n",
       "      <th>f1</th>\n",
       "    </tr>\n",
       "  </thead>\n",
       "  <tbody>\n",
       "    <tr>\n",
       "      <th>train svm over pca</th>\n",
       "      <td>0.973089</td>\n",
       "      <td>0.974464</td>\n",
       "      <td>0.973089</td>\n",
       "      <td>0.973069</td>\n",
       "    </tr>\n",
       "    <tr>\n",
       "      <th>val svm over pca</th>\n",
       "      <td>0.799618</td>\n",
       "      <td>0.815542</td>\n",
       "      <td>0.799618</td>\n",
       "      <td>0.796863</td>\n",
       "    </tr>\n",
       "    <tr>\n",
       "      <th>test svm over pca</th>\n",
       "      <td>0.686804</td>\n",
       "      <td>0.957662</td>\n",
       "      <td>0.686804</td>\n",
       "      <td>0.785736</td>\n",
       "    </tr>\n",
       "  </tbody>\n",
       "</table>\n",
       "</div>"
      ],
      "text/plain": [
       "                         acc      prec       rec        f1\n",
       "train svm over pca  0.973089  0.974464  0.973089  0.973069\n",
       "val svm over pca    0.799618  0.815542  0.799618  0.796863\n",
       "test svm over pca   0.686804  0.957662  0.686804  0.785736"
      ]
     },
     "metadata": {},
     "output_type": "display_data"
    },
    {
     "name": "stdout",
     "output_type": "stream",
     "text": [
      "\n",
      "Confusion matrix SVM con PCA Adasyn\n",
      "\n"
     ]
    },
    {
     "data": {
      "text/html": [
       "<div>\n",
       "<style scoped>\n",
       "    .dataframe tbody tr th:only-of-type {\n",
       "        vertical-align: middle;\n",
       "    }\n",
       "\n",
       "    .dataframe tbody tr th {\n",
       "        vertical-align: top;\n",
       "    }\n",
       "\n",
       "    .dataframe thead th {\n",
       "        text-align: right;\n",
       "    }\n",
       "</style>\n",
       "<table border=\"1\" class=\"dataframe\">\n",
       "  <thead>\n",
       "    <tr style=\"text-align: right;\">\n",
       "      <th></th>\n",
       "      <th>no bancarotta</th>\n",
       "      <th>bancarotta</th>\n",
       "    </tr>\n",
       "  </thead>\n",
       "  <tbody>\n",
       "    <tr>\n",
       "      <th>no bancarotta</th>\n",
       "      <td>2252</td>\n",
       "      <td>1042</td>\n",
       "    </tr>\n",
       "    <tr>\n",
       "      <th>bancarotta</th>\n",
       "      <td>26</td>\n",
       "      <td>90</td>\n",
       "    </tr>\n",
       "  </tbody>\n",
       "</table>\n",
       "</div>"
      ],
      "text/plain": [
       "               no bancarotta  bancarotta\n",
       "no bancarotta           2252        1042\n",
       "bancarotta                26          90"
      ]
     },
     "metadata": {},
     "output_type": "display_data"
    }
   ],
   "source": [
    "scaler_svm_over=StandardScaler()\n",
    "scaler_svm_over.fit(Xtrain_over_svm)\n",
    "Xtrain_over_svm_scaled=scaler_svm_over.transform(Xtrain_over_svm)\n",
    "scaler_svm_val=StandardScaler()\n",
    "scaler_svm_val.fit(Xval_over_svm)\n",
    "Xval_over_svm_scaled=scaler_svm_val.transform(Xval_over_svm)\n",
    "scaler_svm_test=StandardScaler()\n",
    "scaler_svm_test.fit(Xtest_svm)\n",
    "Xtest_svm_scaled=scaler_svm_test.transform(Xtest_svm)\n",
    "\n",
    "pca_svm_over=PCA(0.9)\n",
    "pca_svm_over.fit(Xtrain_over_svm_scaled)\n",
    "svm_gs.best_estimator_.fit(pca_svm_over.transform(Xtrain_over_svm_scaled), ytrain_over_svm) \n",
    "\n",
    "y_pred_trainop = svm_gs.best_estimator_.predict(pca_svm_over.transform(Xtrain_over_svm_scaled))\n",
    "y_true_trainop = ytrain_over_svm\n",
    "y_pred_testop = svm_gs.best_estimator_.predict(pca_svm_over.transform(Xtest_svm_scaled))\n",
    "y_true_testop = ytest_svm\n",
    "y_pred_valop = svm_gs.best_estimator_.predict(pca_svm_over.transform(Xval_over_svm_scaled))\n",
    "y_true_valop = yval_over_svm\n",
    "\n",
    "acc_trainop = svm_gs.best_estimator_.score(pca_svm_over.transform(Xtrain_over_svm_scaled), y_true_trainop)\n",
    "prec_trainop = precision_score(y_true_trainop,y_pred_trainop, average='weighted')\n",
    "rec_trainop = recall_score(y_true_trainop,y_pred_trainop, average='weighted')\n",
    "f1_trainop = f1_score(y_true_trainop,y_pred_trainop, average='weighted')\n",
    "acc_valop = svm_gs.best_estimator_.score(pca_svm_over.transform(Xval_over_svm_scaled), y_true_valop)\n",
    "prec_valop = precision_score(y_true_valop,y_pred_valop, average='weighted')\n",
    "rec_valop = recall_score(y_true_valop,y_pred_valop, average='weighted')\n",
    "f1_valop = f1_score(y_true_valop,y_pred_valop, average='weighted')\n",
    "acc_testop = svm_gs.best_estimator_.score(pca_svm_over.transform(Xtest_svm_scaled),y_true_testop)\n",
    "prec_testop = precision_score(y_true_testop,y_pred_testop, average='weighted')\n",
    "rec_testop = recall_score(y_true_testop,y_pred_testop, average='weighted')\n",
    "f1_testop = f1_score(y_true_testop,y_pred_testop, average='weighted')\n",
    "\n",
    "df_perf_svmop = pd.DataFrame({'acc': [acc_trainop, acc_valop, acc_testop], \n",
    "                        'prec': [prec_trainop, prec_valop, prec_testop], \n",
    "                        'rec': [rec_trainop, rec_valop, rec_testop],\n",
    "                        'f1': [f1_trainop, f1_valop, f1_testop]\n",
    "                       },\n",
    "                      index=['train svm over pca', 'val svm over pca', 'test svm over pca'])\n",
    "cmat_svmop = confusion_matrix(y_true_testop,y_pred_testop)\n",
    "df_cmat_svmop = pd.DataFrame(cmat_svmop, columns=['no bancarotta','bancarotta'], \n",
    "                             index=['no bancarotta','bancarotta'])\n",
    "\n",
    "print('')\n",
    "print('Performance SVM senza PCA Adasyn')\n",
    "print('')\n",
    "display(df_perf_svmo)\n",
    "print('')\n",
    "print('Confusion matrix SVM senza PCA Adasyn')\n",
    "print('')\n",
    "display(df_cmat_svmo)\n",
    "print('')\n",
    "print('Performance SVM con PCA Adasyn')\n",
    "print('')\n",
    "display(df_perf_svmop)\n",
    "print('')\n",
    "print('Confusion matrix SVM con PCA Adasyn')\n",
    "print('')\n",
    "display(df_cmat_svmop)"
   ]
  },
  {
   "cell_type": "code",
   "execution_count": 96,
   "id": "extensive-zoning",
   "metadata": {
    "tags": []
   },
   "outputs": [],
   "source": [
    "#svm Adasyn+Tomek con e senza pca\n",
    "svm_gs.best_estimator_.fit(Xtrain_under_svm, ytrain_under_svm) \n",
    "\n",
    "y_pred_trainu = svm_gs.best_estimator_.predict(Xtrain_under_svm)\n",
    "y_true_trainu = ytrain_under_svm\n",
    "y_pred_testu = svm_gs.best_estimator_.predict(Xtest_svm)\n",
    "y_true_testu = ytest_svm\n",
    "y_pred_valu = svm_gs.best_estimator_.predict(Xval_under_svm)\n",
    "y_true_valu = yval_under_svm\n",
    "\n",
    "acc_trainu = svm_gs.best_estimator_.score(Xtrain_under_svm, y_true_trainu)\n",
    "prec_trainu = precision_score(y_true_trainu,y_pred_trainu, average='weighted')\n",
    "rec_trainu = recall_score(y_true_trainu,y_pred_trainu, average='weighted')\n",
    "f1_trainu = f1_score(y_true_trainu,y_pred_trainu, average='weighted')\n",
    "acc_valu = svm_gs.best_estimator_.score(Xval_under_svm, y_true_valu)\n",
    "prec_valu = precision_score(y_true_valu,y_pred_valu, average='weighted')\n",
    "rec_valu = recall_score(y_true_valu,y_pred_valu, average='weighted')\n",
    "f1_valu = f1_score(y_true_valu,y_pred_valu, average='weighted')\n",
    "acc_testu = svm_gs.best_estimator_.score(Xtest_svm,y_true_testu)\n",
    "prec_testu = precision_score(y_true_testu,y_pred_testu, average='weighted')\n",
    "rec_testu = recall_score(y_true_testu,y_pred_testu, average='weighted')\n",
    "f1_testu = f1_score(y_true_testu,y_pred_testu, average='weighted')\n",
    "\n",
    "df_perf_svmu = pd.DataFrame({'acc': [acc_trainu, acc_valu, acc_testu], \n",
    "                        'prec': [prec_trainu, prec_valu, prec_testu], \n",
    "                        'rec': [rec_trainu, rec_valu, rec_testu],\n",
    "                        'f1': [f1_trainu, f1_valu, f1_testu]\n",
    "                       },\n",
    "                      index=['train svm no pca under', 'val svm no pca under', 'test svm no pca under'])\n",
    "cmat_svmu = confusion_matrix(y_true_testu,y_pred_testu)\n",
    "df_cmat_svmu = pd.DataFrame(cmat_svmu, columns=['no bancarotta','bancarotta'], \n",
    "                            index=['no bancarotta','bancarotta'])"
   ]
  },
  {
   "cell_type": "code",
   "execution_count": 97,
   "id": "differential-quality",
   "metadata": {
    "tags": []
   },
   "outputs": [
    {
     "name": "stdout",
     "output_type": "stream",
     "text": [
      "\n",
      "Performance SVM senza PCA Adasyn+Tomek\n",
      "\n"
     ]
    },
    {
     "data": {
      "text/html": [
       "<div>\n",
       "<style scoped>\n",
       "    .dataframe tbody tr th:only-of-type {\n",
       "        vertical-align: middle;\n",
       "    }\n",
       "\n",
       "    .dataframe tbody tr th {\n",
       "        vertical-align: top;\n",
       "    }\n",
       "\n",
       "    .dataframe thead th {\n",
       "        text-align: right;\n",
       "    }\n",
       "</style>\n",
       "<table border=\"1\" class=\"dataframe\">\n",
       "  <thead>\n",
       "    <tr style=\"text-align: right;\">\n",
       "      <th></th>\n",
       "      <th>acc</th>\n",
       "      <th>prec</th>\n",
       "      <th>rec</th>\n",
       "      <th>f1</th>\n",
       "    </tr>\n",
       "  </thead>\n",
       "  <tbody>\n",
       "    <tr>\n",
       "      <th>train svm no pca under</th>\n",
       "      <td>0.928915</td>\n",
       "      <td>0.932044</td>\n",
       "      <td>0.928915</td>\n",
       "      <td>0.928768</td>\n",
       "    </tr>\n",
       "    <tr>\n",
       "      <th>val svm no pca under</th>\n",
       "      <td>0.606354</td>\n",
       "      <td>0.649526</td>\n",
       "      <td>0.606354</td>\n",
       "      <td>0.575227</td>\n",
       "    </tr>\n",
       "    <tr>\n",
       "      <th>test svm no pca under</th>\n",
       "      <td>0.843695</td>\n",
       "      <td>0.943518</td>\n",
       "      <td>0.843695</td>\n",
       "      <td>0.887472</td>\n",
       "    </tr>\n",
       "  </tbody>\n",
       "</table>\n",
       "</div>"
      ],
      "text/plain": [
       "                             acc      prec       rec        f1\n",
       "train svm no pca under  0.928915  0.932044  0.928915  0.928768\n",
       "val svm no pca under    0.606354  0.649526  0.606354  0.575227\n",
       "test svm no pca under   0.843695  0.943518  0.843695  0.887472"
      ]
     },
     "metadata": {},
     "output_type": "display_data"
    },
    {
     "name": "stdout",
     "output_type": "stream",
     "text": [
      "\n",
      "Confusion matrix SVM senza PCA Adasyn+Tomek\n",
      "\n"
     ]
    },
    {
     "data": {
      "text/html": [
       "<div>\n",
       "<style scoped>\n",
       "    .dataframe tbody tr th:only-of-type {\n",
       "        vertical-align: middle;\n",
       "    }\n",
       "\n",
       "    .dataframe tbody tr th {\n",
       "        vertical-align: top;\n",
       "    }\n",
       "\n",
       "    .dataframe thead th {\n",
       "        text-align: right;\n",
       "    }\n",
       "</style>\n",
       "<table border=\"1\" class=\"dataframe\">\n",
       "  <thead>\n",
       "    <tr style=\"text-align: right;\">\n",
       "      <th></th>\n",
       "      <th>no bancarotta</th>\n",
       "      <th>bancarotta</th>\n",
       "    </tr>\n",
       "  </thead>\n",
       "  <tbody>\n",
       "    <tr>\n",
       "      <th>no bancarotta</th>\n",
       "      <td>2837</td>\n",
       "      <td>457</td>\n",
       "    </tr>\n",
       "    <tr>\n",
       "      <th>bancarotta</th>\n",
       "      <td>76</td>\n",
       "      <td>40</td>\n",
       "    </tr>\n",
       "  </tbody>\n",
       "</table>\n",
       "</div>"
      ],
      "text/plain": [
       "               no bancarotta  bancarotta\n",
       "no bancarotta           2837         457\n",
       "bancarotta                76          40"
      ]
     },
     "metadata": {},
     "output_type": "display_data"
    },
    {
     "name": "stdout",
     "output_type": "stream",
     "text": [
      "\n",
      "Performance SVM con PCA Adasyn+Tomek\n",
      "\n"
     ]
    },
    {
     "data": {
      "text/html": [
       "<div>\n",
       "<style scoped>\n",
       "    .dataframe tbody tr th:only-of-type {\n",
       "        vertical-align: middle;\n",
       "    }\n",
       "\n",
       "    .dataframe tbody tr th {\n",
       "        vertical-align: top;\n",
       "    }\n",
       "\n",
       "    .dataframe thead th {\n",
       "        text-align: right;\n",
       "    }\n",
       "</style>\n",
       "<table border=\"1\" class=\"dataframe\">\n",
       "  <thead>\n",
       "    <tr style=\"text-align: right;\">\n",
       "      <th></th>\n",
       "      <th>acc</th>\n",
       "      <th>prec</th>\n",
       "      <th>rec</th>\n",
       "      <th>f1</th>\n",
       "    </tr>\n",
       "  </thead>\n",
       "  <tbody>\n",
       "    <tr>\n",
       "      <th>train svm under pca</th>\n",
       "      <td>0.972932</td>\n",
       "      <td>0.974315</td>\n",
       "      <td>0.972932</td>\n",
       "      <td>0.972908</td>\n",
       "    </tr>\n",
       "    <tr>\n",
       "      <th>val svm under pca</th>\n",
       "      <td>0.815188</td>\n",
       "      <td>0.831280</td>\n",
       "      <td>0.815188</td>\n",
       "      <td>0.812866</td>\n",
       "    </tr>\n",
       "    <tr>\n",
       "      <th>test svm under pca</th>\n",
       "      <td>0.693548</td>\n",
       "      <td>0.959139</td>\n",
       "      <td>0.693548</td>\n",
       "      <td>0.790508</td>\n",
       "    </tr>\n",
       "  </tbody>\n",
       "</table>\n",
       "</div>"
      ],
      "text/plain": [
       "                          acc      prec       rec        f1\n",
       "train svm under pca  0.972932  0.974315  0.972932  0.972908\n",
       "val svm under pca    0.815188  0.831280  0.815188  0.812866\n",
       "test svm under pca   0.693548  0.959139  0.693548  0.790508"
      ]
     },
     "metadata": {},
     "output_type": "display_data"
    },
    {
     "name": "stdout",
     "output_type": "stream",
     "text": [
      "\n",
      "Confusion matrix SVM con PCA Adasyn+Tomek\n",
      "\n"
     ]
    },
    {
     "data": {
      "text/html": [
       "<div>\n",
       "<style scoped>\n",
       "    .dataframe tbody tr th:only-of-type {\n",
       "        vertical-align: middle;\n",
       "    }\n",
       "\n",
       "    .dataframe tbody tr th {\n",
       "        vertical-align: top;\n",
       "    }\n",
       "\n",
       "    .dataframe thead th {\n",
       "        text-align: right;\n",
       "    }\n",
       "</style>\n",
       "<table border=\"1\" class=\"dataframe\">\n",
       "  <thead>\n",
       "    <tr style=\"text-align: right;\">\n",
       "      <th></th>\n",
       "      <th>no bancarotta</th>\n",
       "      <th>bancarotta</th>\n",
       "    </tr>\n",
       "  </thead>\n",
       "  <tbody>\n",
       "    <tr>\n",
       "      <th>no bancarotta</th>\n",
       "      <td>2272</td>\n",
       "      <td>1022</td>\n",
       "    </tr>\n",
       "    <tr>\n",
       "      <th>bancarotta</th>\n",
       "      <td>23</td>\n",
       "      <td>93</td>\n",
       "    </tr>\n",
       "  </tbody>\n",
       "</table>\n",
       "</div>"
      ],
      "text/plain": [
       "               no bancarotta  bancarotta\n",
       "no bancarotta           2272        1022\n",
       "bancarotta                23          93"
      ]
     },
     "metadata": {},
     "output_type": "display_data"
    }
   ],
   "source": [
    "scaler_svm_under=StandardScaler()\n",
    "scaler_svm_under.fit(Xtrain_under_svm)\n",
    "Xtrain_under_svm_scaled=scaler_svm_under.transform(Xtrain_under_svm)\n",
    "scaler_svm_val_under=StandardScaler()\n",
    "scaler_svm_val_under.fit(Xval_under_svm)\n",
    "Xval_under_svm_scaled=scaler_svm_val.transform(Xval_under_svm)\n",
    "scaler_svm_test_under=StandardScaler()\n",
    "\n",
    "pca_svm_under=PCA(0.9)\n",
    "pca_svm_under.fit(Xtrain_under_svm_scaled)\n",
    "svm_gs.best_estimator_.fit(pca_svm_under.transform(Xtrain_under_svm_scaled), ytrain_under_svm) \n",
    "\n",
    "y_pred_trainup = svm_gs.best_estimator_.predict(pca_svm_under.transform(Xtrain_under_svm_scaled))\n",
    "y_true_trainup = ytrain_under_svm\n",
    "y_pred_testup = svm_gs.best_estimator_.predict(pca_svm_under.transform(Xtest_svm_scaled))\n",
    "y_true_testup = ytest_svm\n",
    "y_pred_valup = svm_gs.best_estimator_.predict(pca_svm_under.transform(Xval_under_svm_scaled))\n",
    "y_true_valup = yval_under_svm\n",
    "\n",
    "acc_trainup = svm_gs.best_estimator_.score(pca_svm_under.transform(Xtrain_under_svm_scaled), y_true_trainup)\n",
    "prec_trainup = precision_score(y_true_trainup,y_pred_trainup, average='weighted')\n",
    "rec_trainup = recall_score(y_true_trainup,y_pred_trainup, average='weighted')\n",
    "f1_trainup = f1_score(y_true_trainup,y_pred_trainup, average='weighted')\n",
    "acc_valup = svm_gs.best_estimator_.score(pca_svm_under.transform(Xval_under_svm_scaled), y_true_valup)\n",
    "prec_valup = precision_score(y_true_valup,y_pred_valup, average='weighted')\n",
    "rec_valup = recall_score(y_true_valup,y_pred_valup, average='weighted')\n",
    "f1_valup = f1_score(y_true_valup,y_pred_valup, average='weighted')\n",
    "acc_testup = svm_gs.best_estimator_.score(pca_svm_under.transform(Xtest_svm_scaled),y_true_testup)\n",
    "prec_testup = precision_score(y_true_testup,y_pred_testup, average='weighted')\n",
    "rec_testup = recall_score(y_true_testup,y_pred_testup, average='weighted')\n",
    "f1_testup = f1_score(y_true_testup,y_pred_testup, average='weighted')\n",
    "\n",
    "df_perf_svmup = pd.DataFrame({'acc': [acc_trainup, acc_valup, acc_testup], \n",
    "                        'prec': [prec_trainup, prec_valup, prec_testup], \n",
    "                        'rec': [rec_trainup, rec_valup, rec_testup],\n",
    "                        'f1': [f1_trainup, f1_valup, f1_testup]\n",
    "                       },\n",
    "                      index=['train svm under pca', 'val svm under pca', 'test svm under pca'])\n",
    "cmat_svmup = confusion_matrix(y_true_testup,y_pred_testup)\n",
    "df_cmat_svmup = pd.DataFrame(cmat_svmup, columns=['no bancarotta','bancarotta'], \n",
    "                             index=['no bancarotta','bancarotta'])\n",
    "\n",
    "print('')\n",
    "print('Performance SVM senza PCA Adasyn+Tomek')\n",
    "print('')\n",
    "display(df_perf_svmu)\n",
    "print('')\n",
    "print('Confusion matrix SVM senza PCA Adasyn+Tomek')\n",
    "print('')\n",
    "display(df_cmat_svmu)\n",
    "print('')\n",
    "print('Performance SVM con PCA Adasyn+Tomek')\n",
    "print('')\n",
    "display(df_perf_svmup)\n",
    "print('')\n",
    "print('Confusion matrix SVM con PCA Adasyn+Tomek')\n",
    "print('')\n",
    "display(df_cmat_svmup)"
   ]
  },
  {
   "cell_type": "code",
   "execution_count": 98,
   "id": "published-compound",
   "metadata": {
    "tags": []
   },
   "outputs": [
    {
     "data": {
      "text/html": [
       "<div>\n",
       "<style scoped>\n",
       "    .dataframe tbody tr th:only-of-type {\n",
       "        vertical-align: middle;\n",
       "    }\n",
       "\n",
       "    .dataframe tbody tr th {\n",
       "        vertical-align: top;\n",
       "    }\n",
       "\n",
       "    .dataframe thead th {\n",
       "        text-align: right;\n",
       "    }\n",
       "</style>\n",
       "<table border=\"1\" class=\"dataframe\">\n",
       "  <thead>\n",
       "    <tr style=\"text-align: right;\">\n",
       "      <th></th>\n",
       "      <th>trainval mlp</th>\n",
       "      <th>test mlp</th>\n",
       "    </tr>\n",
       "  </thead>\n",
       "  <tbody>\n",
       "    <tr>\n",
       "      <th>0</th>\n",
       "      <td>3305</td>\n",
       "      <td>3294</td>\n",
       "    </tr>\n",
       "    <tr>\n",
       "      <th>1</th>\n",
       "      <td>104</td>\n",
       "      <td>116</td>\n",
       "    </tr>\n",
       "  </tbody>\n",
       "</table>\n",
       "</div>"
      ],
      "text/plain": [
       "   trainval mlp  test mlp\n",
       "0          3305      3294\n",
       "1           104       116"
      ]
     },
     "metadata": {},
     "output_type": "display_data"
    },
    {
     "data": {
      "text/html": [
       "<div>\n",
       "<style scoped>\n",
       "    .dataframe tbody tr th:only-of-type {\n",
       "        vertical-align: middle;\n",
       "    }\n",
       "\n",
       "    .dataframe tbody tr th {\n",
       "        vertical-align: top;\n",
       "    }\n",
       "\n",
       "    .dataframe thead th {\n",
       "        text-align: right;\n",
       "    }\n",
       "</style>\n",
       "<table border=\"1\" class=\"dataframe\">\n",
       "  <thead>\n",
       "    <tr style=\"text-align: right;\">\n",
       "      <th></th>\n",
       "      <th>trainval Adasyn mlp</th>\n",
       "      <th>trainval Tomek mlp</th>\n",
       "      <th>trainval Adasyn+Tomek mlp</th>\n",
       "      <th>test mlp</th>\n",
       "    </tr>\n",
       "  </thead>\n",
       "  <tbody>\n",
       "    <tr>\n",
       "      <th>0</th>\n",
       "      <td>3305</td>\n",
       "      <td>3263</td>\n",
       "      <td>3263</td>\n",
       "      <td>3294</td>\n",
       "    </tr>\n",
       "    <tr>\n",
       "      <th>1</th>\n",
       "      <td>3297</td>\n",
       "      <td>104</td>\n",
       "      <td>3275</td>\n",
       "      <td>116</td>\n",
       "    </tr>\n",
       "  </tbody>\n",
       "</table>\n",
       "</div>"
      ],
      "text/plain": [
       "   trainval Adasyn mlp  trainval Tomek mlp  trainval Adasyn+Tomek mlp  \\\n",
       "0                 3305                3263                       3263   \n",
       "1                 3297                 104                       3275   \n",
       "\n",
       "   test mlp  \n",
       "0      3294  \n",
       "1       116  "
      ]
     },
     "metadata": {},
     "output_type": "display_data"
    }
   ],
   "source": [
    "#mlp Adasyn con e senza pca\n",
    "test_mlp = 0.5\n",
    "val_mlp = 0.4\n",
    "\n",
    "indices = np.arange(X.shape[0])\n",
    "ind_trainval_mlp, ind_test_mlp = train_test_split(indices, test_size=test_mlp, random_state=random_state, shuffle=True)\n",
    "\n",
    "Xtrainval_mlp=X.iloc[ind_trainval_mlp,:]\n",
    "ytrainval_mlp=y.iloc[ind_trainval_mlp]\n",
    "Xtest_mlp=X.iloc[ind_test_mlp,:]\n",
    "ytest_mlp= y.iloc[ind_test_mlp]\n",
    "\n",
    "\n",
    "Xtrainval_over_mlp, ytrainval_over_mlp = ADASYN().fit_resample(Xtrainval_mlp, ytrainval_mlp)\n",
    "Xtrainval_Tomek_mlp, ytrainval_Tomek_mlp = TomekLinks().fit_resample(Xtrainval_mlp, ytrainval_mlp)\n",
    "Xtrainval_under_mlp, ytrainval_under_mlp = ADASYN().fit_resample(Xtrainval_Tomek_mlp, ytrainval_Tomek_mlp)\n",
    "\n",
    "info_mlp1=pd.DataFrame({'trainval mlp':[list(ytrainval_mlp).count(0),list(ytrainval_mlp).count(1)],\n",
    "                  'test mlp':[list(ytest_mlp).count(0),list(ytest_mlp).count(1)]})\n",
    "info_mlp2=pd.DataFrame({'trainval Adasyn mlp':[list(ytrainval_over_mlp).count(0),list(ytrainval_over_mlp).count(1)],\n",
    "                  'trainval Tomek mlp':[list(ytrainval_Tomek_mlp).count(0),list(ytrainval_Tomek_mlp).count(1)],\n",
    "                  'trainval Adasyn+Tomek mlp':[list(ytrainval_under_mlp).count(0),list(ytrainval_under_mlp).count(1)],\n",
    "                  'test mlp':[list(ytest_mlp).count(0),list(ytest_mlp).count(1)]})\n",
    "display(info_mlp1)\n",
    "display(info_mlp2)"
   ]
  },
  {
   "cell_type": "code",
   "execution_count": 99,
   "id": "needed-vegetation",
   "metadata": {
    "tags": []
   },
   "outputs": [
    {
     "data": {
      "text/plain": [
       "GridSearchCV(estimator=MLPClassifier(batch_size=4, early_stopping=True,\n",
       "                                     hidden_layer_sizes=[64],\n",
       "                                     n_iter_no_change=75, random_state=20210528,\n",
       "                                     validation_fraction=0.4),\n",
       "             param_grid={'activation': ['relu', 'logistic'],\n",
       "                         'max_iter': [500, 750, 1000]},\n",
       "             return_train_score=True, scoring='f1_weighted')"
      ]
     },
     "execution_count": 99,
     "metadata": {},
     "output_type": "execute_result"
    }
   ],
   "source": [
    "hidden_layer_sizes = [64]\n",
    "activation_list=['relu','logistic']\n",
    "patience=75\n",
    "max_epochs_list = [500,750,1000]\n",
    "verbose = False\n",
    "batch_sz = 4\n",
    "hparameters = {'max_iter': max_epochs_list,\n",
    "               'activation':activation_list}\n",
    "mlp = MLPClassifier(hidden_layer_sizes=hidden_layer_sizes,\n",
    "                    verbose=verbose,n_iter_no_change=patience,\n",
    "                    random_state=random_state, batch_size=batch_sz,\n",
    "                    validation_fraction=val_mlp,solver='adam',\n",
    "                    early_stopping=True)\n",
    "mlp_gs = GridSearchCV(estimator=mlp,\n",
    "                      param_grid=hparameters, \n",
    "                      scoring='f1_weighted',\n",
    "                      return_train_score=True)\n",
    "mlp_gs.fit(X, y)"
   ]
  },
  {
   "cell_type": "code",
   "execution_count": 100,
   "id": "saved-preservation",
   "metadata": {
    "tags": []
   },
   "outputs": [],
   "source": [
    "mlp_gs.best_estimator_.fit(Xtrainval_over_mlp,ytrainval_over_mlp)\n",
    "y_pred_trainval_over_mlp = mlp_gs.best_estimator_.predict(Xtrainval_over_mlp)\n",
    "y_pred_test_over_mlp = mlp_gs.best_estimator_.predict(Xtest_mlp)\n",
    "\n",
    "acc_trainval_over_mlp = mlp_gs.best_estimator_.score(Xtrainval_over_mlp, ytrainval_over_mlp)\n",
    "prec_trainval_over_mlp = precision_score(ytrainval_over_mlp, y_pred_trainval_over_mlp, average='weighted',zero_division=0)\n",
    "rec_trainval_over_mlp = recall_score(ytrainval_over_mlp, y_pred_trainval_over_mlp, average='weighted')\n",
    "f1_trainval_over_mlp = f1_score(ytrainval_over_mlp, y_pred_trainval_over_mlp, average='weighted')\n",
    "\n",
    "acc_test_over_mlp = mlp_gs.best_estimator_.score(Xtest_mlp, ytest_mlp)\n",
    "prec_test_over_mlp = precision_score(ytest_mlp, y_pred_test_over_mlp, average='weighted',zero_division=1)\n",
    "rec_test_over_mlp = recall_score(ytest_mlp, y_pred_test_over_mlp, average='weighted')\n",
    "f1_test_over_mlp = f1_score(ytest_mlp, y_pred_test_over_mlp, average='weighted')\n",
    "\n",
    "df_perf_over_mlp = pd.DataFrame({'acc': [acc_trainval_over_mlp, acc_test_over_mlp], \n",
    "                        'prec': [prec_trainval_over_mlp, prec_test_over_mlp], \n",
    "                        'rec': [rec_trainval_over_mlp, rec_test_over_mlp],\n",
    "                        'f1': [f1_trainval_over_mlp, f1_test_over_mlp]\n",
    "                       },\n",
    "                      index=['trainval mlp no pca over', 'test mlp no pca over'])\n",
    "\n",
    "cmat_over_mlp = confusion_matrix(ytest_mlp, y_pred_test_over_mlp, labels=mlp_gs.best_estimator_.classes_)\n",
    "\n",
    "df_cmat_over_mlp = pd.DataFrame(cmat_over_mlp, columns=['no bancarotta','bancarotta'],\n",
    "                                index=['no bancarotta','bancarotta'])"
   ]
  },
  {
   "cell_type": "code",
   "execution_count": 101,
   "id": "meaning-clock",
   "metadata": {
    "tags": []
   },
   "outputs": [
    {
     "name": "stdout",
     "output_type": "stream",
     "text": [
      "\n",
      "Performance MLP senza PCA Adasyn\n",
      "\n"
     ]
    },
    {
     "data": {
      "text/html": [
       "<div>\n",
       "<style scoped>\n",
       "    .dataframe tbody tr th:only-of-type {\n",
       "        vertical-align: middle;\n",
       "    }\n",
       "\n",
       "    .dataframe tbody tr th {\n",
       "        vertical-align: top;\n",
       "    }\n",
       "\n",
       "    .dataframe thead th {\n",
       "        text-align: right;\n",
       "    }\n",
       "</style>\n",
       "<table border=\"1\" class=\"dataframe\">\n",
       "  <thead>\n",
       "    <tr style=\"text-align: right;\">\n",
       "      <th></th>\n",
       "      <th>acc</th>\n",
       "      <th>prec</th>\n",
       "      <th>rec</th>\n",
       "      <th>f1</th>\n",
       "    </tr>\n",
       "  </thead>\n",
       "  <tbody>\n",
       "    <tr>\n",
       "      <th>trainval mlp no pca over</th>\n",
       "      <td>0.864132</td>\n",
       "      <td>0.864198</td>\n",
       "      <td>0.864132</td>\n",
       "      <td>0.864125</td>\n",
       "    </tr>\n",
       "    <tr>\n",
       "      <th>test mlp no pca over</th>\n",
       "      <td>0.833431</td>\n",
       "      <td>0.943031</td>\n",
       "      <td>0.833431</td>\n",
       "      <td>0.881284</td>\n",
       "    </tr>\n",
       "  </tbody>\n",
       "</table>\n",
       "</div>"
      ],
      "text/plain": [
       "                               acc      prec       rec        f1\n",
       "trainval mlp no pca over  0.864132  0.864198  0.864132  0.864125\n",
       "test mlp no pca over      0.833431  0.943031  0.833431  0.881284"
      ]
     },
     "metadata": {},
     "output_type": "display_data"
    },
    {
     "name": "stdout",
     "output_type": "stream",
     "text": [
      "\n",
      "Confusion matrix MLP senza PCA Adasyn\n",
      "\n"
     ]
    },
    {
     "data": {
      "text/html": [
       "<div>\n",
       "<style scoped>\n",
       "    .dataframe tbody tr th:only-of-type {\n",
       "        vertical-align: middle;\n",
       "    }\n",
       "\n",
       "    .dataframe tbody tr th {\n",
       "        vertical-align: top;\n",
       "    }\n",
       "\n",
       "    .dataframe thead th {\n",
       "        text-align: right;\n",
       "    }\n",
       "</style>\n",
       "<table border=\"1\" class=\"dataframe\">\n",
       "  <thead>\n",
       "    <tr style=\"text-align: right;\">\n",
       "      <th></th>\n",
       "      <th>no bancarotta</th>\n",
       "      <th>bancarotta</th>\n",
       "    </tr>\n",
       "  </thead>\n",
       "  <tbody>\n",
       "    <tr>\n",
       "      <th>no bancarotta</th>\n",
       "      <td>2802</td>\n",
       "      <td>492</td>\n",
       "    </tr>\n",
       "    <tr>\n",
       "      <th>bancarotta</th>\n",
       "      <td>76</td>\n",
       "      <td>40</td>\n",
       "    </tr>\n",
       "  </tbody>\n",
       "</table>\n",
       "</div>"
      ],
      "text/plain": [
       "               no bancarotta  bancarotta\n",
       "no bancarotta           2802         492\n",
       "bancarotta                76          40"
      ]
     },
     "metadata": {},
     "output_type": "display_data"
    },
    {
     "name": "stdout",
     "output_type": "stream",
     "text": [
      "\n",
      "Performance MLP con PCA Adasyn\n",
      "\n"
     ]
    },
    {
     "data": {
      "text/html": [
       "<div>\n",
       "<style scoped>\n",
       "    .dataframe tbody tr th:only-of-type {\n",
       "        vertical-align: middle;\n",
       "    }\n",
       "\n",
       "    .dataframe tbody tr th {\n",
       "        vertical-align: top;\n",
       "    }\n",
       "\n",
       "    .dataframe thead th {\n",
       "        text-align: right;\n",
       "    }\n",
       "</style>\n",
       "<table border=\"1\" class=\"dataframe\">\n",
       "  <thead>\n",
       "    <tr style=\"text-align: right;\">\n",
       "      <th></th>\n",
       "      <th>acc</th>\n",
       "      <th>prec</th>\n",
       "      <th>rec</th>\n",
       "      <th>f1</th>\n",
       "    </tr>\n",
       "  </thead>\n",
       "  <tbody>\n",
       "    <tr>\n",
       "      <th>train mlp over pca</th>\n",
       "      <td>0.994093</td>\n",
       "      <td>0.994148</td>\n",
       "      <td>0.994093</td>\n",
       "      <td>0.994093</td>\n",
       "    </tr>\n",
       "    <tr>\n",
       "      <th>test mlp over pca</th>\n",
       "      <td>0.810850</td>\n",
       "      <td>0.956768</td>\n",
       "      <td>0.810850</td>\n",
       "      <td>0.869126</td>\n",
       "    </tr>\n",
       "  </tbody>\n",
       "</table>\n",
       "</div>"
      ],
      "text/plain": [
       "                         acc      prec       rec        f1\n",
       "train mlp over pca  0.994093  0.994148  0.994093  0.994093\n",
       "test mlp over pca   0.810850  0.956768  0.810850  0.869126"
      ]
     },
     "metadata": {},
     "output_type": "display_data"
    },
    {
     "name": "stdout",
     "output_type": "stream",
     "text": [
      "\n",
      "Confusion matrix MLP con PCA Adasyn\n",
      "\n"
     ]
    },
    {
     "data": {
      "text/html": [
       "<div>\n",
       "<style scoped>\n",
       "    .dataframe tbody tr th:only-of-type {\n",
       "        vertical-align: middle;\n",
       "    }\n",
       "\n",
       "    .dataframe tbody tr th {\n",
       "        vertical-align: top;\n",
       "    }\n",
       "\n",
       "    .dataframe thead th {\n",
       "        text-align: right;\n",
       "    }\n",
       "</style>\n",
       "<table border=\"1\" class=\"dataframe\">\n",
       "  <thead>\n",
       "    <tr style=\"text-align: right;\">\n",
       "      <th></th>\n",
       "      <th>no bancarotta</th>\n",
       "      <th>bancarotta</th>\n",
       "    </tr>\n",
       "  </thead>\n",
       "  <tbody>\n",
       "    <tr>\n",
       "      <th>no bancarotta</th>\n",
       "      <td>2686</td>\n",
       "      <td>608</td>\n",
       "    </tr>\n",
       "    <tr>\n",
       "      <th>bancarotta</th>\n",
       "      <td>37</td>\n",
       "      <td>79</td>\n",
       "    </tr>\n",
       "  </tbody>\n",
       "</table>\n",
       "</div>"
      ],
      "text/plain": [
       "               no bancarotta  bancarotta\n",
       "no bancarotta           2686         608\n",
       "bancarotta                37          79"
      ]
     },
     "metadata": {},
     "output_type": "display_data"
    }
   ],
   "source": [
    "scaler_mlp_over=StandardScaler()\n",
    "scaler_mlp_over.fit(Xtrainval_over_mlp)\n",
    "Xtrainval_over_mlp_scaled=scaler_mlp_over.transform(Xtrainval_over_mlp)\n",
    "scaler_mlp_test=StandardScaler()\n",
    "scaler_mlp_test.fit(Xtest_mlp)\n",
    "Xtest_mlp_scaled=scaler_mlp_test.transform(Xtest_mlp)\n",
    "\n",
    "pca_mlp_over=PCA(0.9)\n",
    "pca_mlp_over.fit(Xtrainval_over_mlp_scaled)\n",
    "Xtrainval_over_mlp_scaled_transf=pca_mlp_over.transform(Xtrainval_over_mlp_scaled)\n",
    "Xtest_mlp_scaled_transf=pca_mlp_over.transform(Xtest_mlp_scaled)\n",
    "mlp_gs.best_estimator_.fit(Xtrainval_over_mlp_scaled_transf, ytrainval_over_mlp) \n",
    "\n",
    "y_pred_trainvalop = mlp_gs.best_estimator_.predict(Xtrainval_over_mlp_scaled_transf)\n",
    "y_true_trainvalop = ytrainval_over_mlp\n",
    "y_pred_testop = mlp_gs.best_estimator_.predict(Xtest_mlp_scaled_transf)\n",
    "y_true_testop = ytest_mlp\n",
    "\n",
    "acc_trainvalop = mlp_gs.best_estimator_.score(Xtrainval_over_mlp_scaled_transf, y_true_trainvalop)\n",
    "prec_trainvalop = precision_score(y_true_trainvalop,y_pred_trainvalop, average='weighted')\n",
    "rec_trainvalop = recall_score(y_true_trainvalop,y_pred_trainvalop, average='weighted')\n",
    "f1_trainvalop = f1_score(y_true_trainvalop,y_pred_trainvalop, average='weighted')\n",
    "acc_testop = mlp_gs.best_estimator_.score(Xtest_mlp_scaled_transf,y_true_testop)\n",
    "prec_testop = precision_score(y_true_testop,y_pred_testop, average='weighted')\n",
    "rec_testop = recall_score(y_true_testop,y_pred_testop, average='weighted')\n",
    "f1_testop = f1_score(y_true_testop,y_pred_testop, average='weighted')\n",
    "\n",
    "df_perf_mlpop = pd.DataFrame({'acc': [acc_trainvalop, acc_testop], \n",
    "                        'prec': [prec_trainvalop, prec_testop], \n",
    "                        'rec': [rec_trainvalop, rec_testop],\n",
    "                        'f1': [f1_trainvalop, f1_testop]\n",
    "                       },\n",
    "                      index=['train mlp over pca', 'test mlp over pca'])\n",
    "cmat_mlpop = confusion_matrix(y_true_testop,y_pred_testop)\n",
    "df_cmat_mlpop = pd.DataFrame(cmat_mlpop, columns=['no bancarotta','bancarotta'], \n",
    "                             index=['no bancarotta','bancarotta'])\n",
    "\n",
    "print('')\n",
    "print('Performance MLP senza PCA Adasyn')\n",
    "print('')\n",
    "display(df_perf_over_mlp)\n",
    "print('')\n",
    "print('Confusion matrix MLP senza PCA Adasyn')\n",
    "print('')\n",
    "display(df_cmat_over_mlp)\n",
    "print('')\n",
    "print('Performance MLP con PCA Adasyn')\n",
    "print('')\n",
    "display(df_perf_mlpop)\n",
    "print('')\n",
    "print('Confusion matrix MLP con PCA Adasyn')\n",
    "print('')\n",
    "display(df_cmat_mlpop)"
   ]
  },
  {
   "cell_type": "code",
   "execution_count": 102,
   "id": "historic-latvia",
   "metadata": {
    "tags": []
   },
   "outputs": [],
   "source": [
    "#mlp Adasyn+Tomek con e senza pca\n",
    "mlp_gs.best_estimator_.fit(Xtrainval_under_mlp,ytrainval_under_mlp)\n",
    "y_pred_trainval_under_mlp = mlp_gs.best_estimator_.predict(Xtrainval_under_mlp)\n",
    "y_pred_test_under_mlp = mlp_gs.best_estimator_.predict(Xtest_mlp)\n",
    "\n",
    "acc_trainval_under_mlp = mlp_gs.best_estimator_.score(Xtrainval_under_mlp, ytrainval_under_mlp)\n",
    "prec_trainval_under_mlp = precision_score(ytrainval_under_mlp, y_pred_trainval_under_mlp, average='weighted',zero_division=0)\n",
    "rec_trainval_under_mlp = recall_score(ytrainval_under_mlp, y_pred_trainval_under_mlp, average='weighted')\n",
    "f1_trainval_under_mlp = f1_score(ytrainval_under_mlp, y_pred_trainval_under_mlp, average='weighted')\n",
    "\n",
    "acc_test_under_mlp = mlp_gs.best_estimator_.score(Xtest_mlp, ytest_mlp)\n",
    "prec_test_under_mlp = precision_score(ytest_mlp, y_pred_test_under_mlp, average='weighted',zero_division=1)\n",
    "rec_test_under_mlp = recall_score(ytest_mlp, y_pred_test_under_mlp, average='weighted')\n",
    "f1_test_under_mlp = f1_score(ytest_mlp, y_pred_test_under_mlp, average='weighted')\n",
    "\n",
    "df_perf_under_mlp = pd.DataFrame({'acc': [acc_trainval_under_mlp, acc_test_under_mlp], \n",
    "                        'prec': [prec_trainval_under_mlp, prec_test_under_mlp], \n",
    "                        'rec': [rec_trainval_under_mlp, rec_test_under_mlp],\n",
    "                        'f1': [f1_trainval_under_mlp, f1_test_under_mlp]\n",
    "                       },\n",
    "                      index=['trainval mlp no pca under', 'test mlp no pca under'])\n",
    "\n",
    "cmat_under_mlp = confusion_matrix(ytest_mlp, y_pred_test_under_mlp, labels=mlp_gs.best_estimator_.classes_)\n",
    "\n",
    "df_cmat_under_mlp = pd.DataFrame(cmat_under_mlp, columns=['no bancarotta','bancarotta'], \n",
    "                                 index=['no bancarotta','bancarotta'])"
   ]
  },
  {
   "cell_type": "code",
   "execution_count": 103,
   "id": "congressional-prague",
   "metadata": {
    "tags": []
   },
   "outputs": [
    {
     "name": "stdout",
     "output_type": "stream",
     "text": [
      "\n",
      "Performance MLP senza PCA Adasyn+Tomek\n",
      "\n"
     ]
    },
    {
     "data": {
      "text/html": [
       "<div>\n",
       "<style scoped>\n",
       "    .dataframe tbody tr th:only-of-type {\n",
       "        vertical-align: middle;\n",
       "    }\n",
       "\n",
       "    .dataframe tbody tr th {\n",
       "        vertical-align: top;\n",
       "    }\n",
       "\n",
       "    .dataframe thead th {\n",
       "        text-align: right;\n",
       "    }\n",
       "</style>\n",
       "<table border=\"1\" class=\"dataframe\">\n",
       "  <thead>\n",
       "    <tr style=\"text-align: right;\">\n",
       "      <th></th>\n",
       "      <th>acc</th>\n",
       "      <th>prec</th>\n",
       "      <th>rec</th>\n",
       "      <th>f1</th>\n",
       "    </tr>\n",
       "  </thead>\n",
       "  <tbody>\n",
       "    <tr>\n",
       "      <th>trainval mlp no pca under</th>\n",
       "      <td>0.871826</td>\n",
       "      <td>0.876733</td>\n",
       "      <td>0.871826</td>\n",
       "      <td>0.871392</td>\n",
       "    </tr>\n",
       "    <tr>\n",
       "      <th>test mlp no pca under</th>\n",
       "      <td>0.777419</td>\n",
       "      <td>0.943216</td>\n",
       "      <td>0.777419</td>\n",
       "      <td>0.846859</td>\n",
       "    </tr>\n",
       "  </tbody>\n",
       "</table>\n",
       "</div>"
      ],
      "text/plain": [
       "                                acc      prec       rec        f1\n",
       "trainval mlp no pca under  0.871826  0.876733  0.871826  0.871392\n",
       "test mlp no pca under      0.777419  0.943216  0.777419  0.846859"
      ]
     },
     "metadata": {},
     "output_type": "display_data"
    },
    {
     "name": "stdout",
     "output_type": "stream",
     "text": [
      "\n",
      "Confusion matrix MLP senza PCA Adasyn+Tomek\n",
      "\n"
     ]
    },
    {
     "data": {
      "text/html": [
       "<div>\n",
       "<style scoped>\n",
       "    .dataframe tbody tr th:only-of-type {\n",
       "        vertical-align: middle;\n",
       "    }\n",
       "\n",
       "    .dataframe tbody tr th {\n",
       "        vertical-align: top;\n",
       "    }\n",
       "\n",
       "    .dataframe thead th {\n",
       "        text-align: right;\n",
       "    }\n",
       "</style>\n",
       "<table border=\"1\" class=\"dataframe\">\n",
       "  <thead>\n",
       "    <tr style=\"text-align: right;\">\n",
       "      <th></th>\n",
       "      <th>no bancarotta</th>\n",
       "      <th>bancarotta</th>\n",
       "    </tr>\n",
       "  </thead>\n",
       "  <tbody>\n",
       "    <tr>\n",
       "      <th>no bancarotta</th>\n",
       "      <td>2604</td>\n",
       "      <td>690</td>\n",
       "    </tr>\n",
       "    <tr>\n",
       "      <th>bancarotta</th>\n",
       "      <td>69</td>\n",
       "      <td>47</td>\n",
       "    </tr>\n",
       "  </tbody>\n",
       "</table>\n",
       "</div>"
      ],
      "text/plain": [
       "               no bancarotta  bancarotta\n",
       "no bancarotta           2604         690\n",
       "bancarotta                69          47"
      ]
     },
     "metadata": {},
     "output_type": "display_data"
    },
    {
     "name": "stdout",
     "output_type": "stream",
     "text": [
      "\n",
      "Performance MLP con PCA Adasyn+Tomek\n",
      "\n"
     ]
    },
    {
     "data": {
      "text/html": [
       "<div>\n",
       "<style scoped>\n",
       "    .dataframe tbody tr th:only-of-type {\n",
       "        vertical-align: middle;\n",
       "    }\n",
       "\n",
       "    .dataframe tbody tr th {\n",
       "        vertical-align: top;\n",
       "    }\n",
       "\n",
       "    .dataframe thead th {\n",
       "        text-align: right;\n",
       "    }\n",
       "</style>\n",
       "<table border=\"1\" class=\"dataframe\">\n",
       "  <thead>\n",
       "    <tr style=\"text-align: right;\">\n",
       "      <th></th>\n",
       "      <th>acc</th>\n",
       "      <th>prec</th>\n",
       "      <th>rec</th>\n",
       "      <th>f1</th>\n",
       "    </tr>\n",
       "  </thead>\n",
       "  <tbody>\n",
       "    <tr>\n",
       "      <th>train mlp under pca</th>\n",
       "      <td>0.996023</td>\n",
       "      <td>0.996050</td>\n",
       "      <td>0.996023</td>\n",
       "      <td>0.996023</td>\n",
       "    </tr>\n",
       "    <tr>\n",
       "      <th>test mlp under pca</th>\n",
       "      <td>0.773021</td>\n",
       "      <td>0.961072</td>\n",
       "      <td>0.773021</td>\n",
       "      <td>0.844985</td>\n",
       "    </tr>\n",
       "  </tbody>\n",
       "</table>\n",
       "</div>"
      ],
      "text/plain": [
       "                          acc      prec       rec        f1\n",
       "train mlp under pca  0.996023  0.996050  0.996023  0.996023\n",
       "test mlp under pca   0.773021  0.961072  0.773021  0.844985"
      ]
     },
     "metadata": {},
     "output_type": "display_data"
    },
    {
     "name": "stdout",
     "output_type": "stream",
     "text": [
      "\n",
      "Confusion matrix MLP con PCA Adasyn+Tomek\n",
      "\n"
     ]
    },
    {
     "data": {
      "text/html": [
       "<div>\n",
       "<style scoped>\n",
       "    .dataframe tbody tr th:only-of-type {\n",
       "        vertical-align: middle;\n",
       "    }\n",
       "\n",
       "    .dataframe tbody tr th {\n",
       "        vertical-align: top;\n",
       "    }\n",
       "\n",
       "    .dataframe thead th {\n",
       "        text-align: right;\n",
       "    }\n",
       "</style>\n",
       "<table border=\"1\" class=\"dataframe\">\n",
       "  <thead>\n",
       "    <tr style=\"text-align: right;\">\n",
       "      <th></th>\n",
       "      <th>no bancarotta</th>\n",
       "      <th>bancarotta</th>\n",
       "    </tr>\n",
       "  </thead>\n",
       "  <tbody>\n",
       "    <tr>\n",
       "      <th>no bancarotta</th>\n",
       "      <td>2543</td>\n",
       "      <td>751</td>\n",
       "    </tr>\n",
       "    <tr>\n",
       "      <th>bancarotta</th>\n",
       "      <td>23</td>\n",
       "      <td>93</td>\n",
       "    </tr>\n",
       "  </tbody>\n",
       "</table>\n",
       "</div>"
      ],
      "text/plain": [
       "               no bancarotta  bancarotta\n",
       "no bancarotta           2543         751\n",
       "bancarotta                23          93"
      ]
     },
     "metadata": {},
     "output_type": "display_data"
    }
   ],
   "source": [
    "scaler_mlp_under=StandardScaler()\n",
    "scaler_mlp_under.fit(Xtrainval_under_mlp)\n",
    "Xtrainval_under_mlp_scaled=scaler_mlp_under.transform(Xtrainval_under_mlp)\n",
    "scaler_mlp_test=StandardScaler()\n",
    "scaler_mlp_test.fit(Xtest_mlp)\n",
    "Xtest_mlp_scaled=scaler_mlp_test.transform(Xtest_mlp)\n",
    "\n",
    "pca_mlp_under=PCA(0.9)\n",
    "pca_mlp_under.fit(Xtrainval_under_mlp_scaled)\n",
    "mlp_gs.best_estimator_.fit(pca_mlp_under.transform(Xtrainval_under_mlp_scaled), ytrainval_under_mlp)\n",
    "\n",
    "y_pred_trainvalup = mlp_gs.best_estimator_.predict(pca_mlp_under.transform(Xtrainval_under_mlp_scaled))\n",
    "y_true_trainvalup = ytrainval_under_mlp\n",
    "y_pred_testup = mlp_gs.best_estimator_.predict(pca_mlp_under.transform(Xtest_mlp_scaled))\n",
    "y_true_testup = ytest_mlp\n",
    "\n",
    "acc_trainvalup = mlp_gs.best_estimator_.score(pca_mlp_under.transform(Xtrainval_under_mlp_scaled), y_true_trainvalup)\n",
    "prec_trainvalup = precision_score(y_true_trainvalup,y_pred_trainvalup, average='weighted')\n",
    "rec_trainvalup = recall_score(y_true_trainvalup,y_pred_trainvalup, average='weighted')\n",
    "f1_trainvalup = f1_score(y_true_trainvalup,y_pred_trainvalup, average='weighted')\n",
    "acc_testup = mlp_gs.best_estimator_.score(pca_mlp_under.transform(Xtest_mlp_scaled),y_true_testup)\n",
    "prec_testup = precision_score(y_true_testup,y_pred_testup, average='weighted')\n",
    "rec_testup = recall_score(y_true_testup,y_pred_testup, average='weighted')\n",
    "f1_testup = f1_score(y_true_testup,y_pred_testup, average='weighted')\n",
    "\n",
    "df_perf_mlpup = pd.DataFrame({'acc': [acc_trainvalup, acc_testup], \n",
    "                        'prec': [prec_trainvalup, prec_testup], \n",
    "                        'rec': [rec_trainvalup, rec_testup],\n",
    "                        'f1': [f1_trainvalup, f1_testup]\n",
    "                       },\n",
    "                      index=['train mlp under pca', 'test mlp under pca'])\n",
    "cmat_mlpup = confusion_matrix(y_true_testup,y_pred_testup)\n",
    "df_cmat_mlpup = pd.DataFrame(cmat_mlpup, columns=['no bancarotta','bancarotta'], \n",
    "                             index=['no bancarotta','bancarotta'])\n",
    "\n",
    "print('')\n",
    "print('Performance MLP senza PCA Adasyn+Tomek')\n",
    "print('')\n",
    "display(df_perf_under_mlp)\n",
    "print('')\n",
    "print('Confusion matrix MLP senza PCA Adasyn+Tomek')\n",
    "print('')\n",
    "display(df_cmat_under_mlp)\n",
    "print('')\n",
    "print('Performance MLP con PCA Adasyn+Tomek')\n",
    "print('')\n",
    "display(df_perf_mlpup)\n",
    "print('')\n",
    "print('Confusion matrix MLP con PCA Adasyn+Tomek')\n",
    "print('')\n",
    "display(df_cmat_mlpup)"
   ]
  },
  {
   "cell_type": "code",
   "execution_count": 104,
   "id": "otherwise-healthcare",
   "metadata": {},
   "outputs": [
    {
     "name": "stdout",
     "output_type": "stream",
     "text": [
      "\n",
      "Performance LDA senza PCA Adasyn\n",
      "\n"
     ]
    },
    {
     "data": {
      "text/html": [
       "<div>\n",
       "<style scoped>\n",
       "    .dataframe tbody tr th:only-of-type {\n",
       "        vertical-align: middle;\n",
       "    }\n",
       "\n",
       "    .dataframe tbody tr th {\n",
       "        vertical-align: top;\n",
       "    }\n",
       "\n",
       "    .dataframe thead th {\n",
       "        text-align: right;\n",
       "    }\n",
       "</style>\n",
       "<table border=\"1\" class=\"dataframe\">\n",
       "  <thead>\n",
       "    <tr style=\"text-align: right;\">\n",
       "      <th></th>\n",
       "      <th>acc</th>\n",
       "      <th>prec</th>\n",
       "      <th>rec</th>\n",
       "      <th>f1</th>\n",
       "    </tr>\n",
       "  </thead>\n",
       "  <tbody>\n",
       "    <tr>\n",
       "      <th>train lda no pca over</th>\n",
       "      <td>0.908345</td>\n",
       "      <td>0.908754</td>\n",
       "      <td>0.908345</td>\n",
       "      <td>0.908326</td>\n",
       "    </tr>\n",
       "    <tr>\n",
       "      <th>test lda no pca over</th>\n",
       "      <td>0.876540</td>\n",
       "      <td>0.963711</td>\n",
       "      <td>0.876540</td>\n",
       "      <td>0.911383</td>\n",
       "    </tr>\n",
       "  </tbody>\n",
       "</table>\n",
       "</div>"
      ],
      "text/plain": [
       "                            acc      prec       rec        f1\n",
       "train lda no pca over  0.908345  0.908754  0.908345  0.908326\n",
       "test lda no pca over   0.876540  0.963711  0.876540  0.911383"
      ]
     },
     "metadata": {},
     "output_type": "display_data"
    },
    {
     "name": "stdout",
     "output_type": "stream",
     "text": [
      "\n",
      "Confusion matrix LDA senza PCA Adasyn\n",
      "\n"
     ]
    },
    {
     "data": {
      "text/html": [
       "<div>\n",
       "<style scoped>\n",
       "    .dataframe tbody tr th:only-of-type {\n",
       "        vertical-align: middle;\n",
       "    }\n",
       "\n",
       "    .dataframe tbody tr th {\n",
       "        vertical-align: top;\n",
       "    }\n",
       "\n",
       "    .dataframe thead th {\n",
       "        text-align: right;\n",
       "    }\n",
       "</style>\n",
       "<table border=\"1\" class=\"dataframe\">\n",
       "  <thead>\n",
       "    <tr style=\"text-align: right;\">\n",
       "      <th></th>\n",
       "      <th>no bancarotta</th>\n",
       "      <th>bancarotta</th>\n",
       "    </tr>\n",
       "  </thead>\n",
       "  <tbody>\n",
       "    <tr>\n",
       "      <th>no bancarotta</th>\n",
       "      <td>2908</td>\n",
       "      <td>392</td>\n",
       "    </tr>\n",
       "    <tr>\n",
       "      <th>bancarottar</th>\n",
       "      <td>29</td>\n",
       "      <td>81</td>\n",
       "    </tr>\n",
       "  </tbody>\n",
       "</table>\n",
       "</div>"
      ],
      "text/plain": [
       "               no bancarotta  bancarotta\n",
       "no bancarotta           2908         392\n",
       "bancarottar               29          81"
      ]
     },
     "metadata": {},
     "output_type": "display_data"
    },
    {
     "name": "stdout",
     "output_type": "stream",
     "text": [
      "\n",
      "Performance LDA con PCA Adasyn\n",
      "\n"
     ]
    },
    {
     "data": {
      "text/html": [
       "<div>\n",
       "<style scoped>\n",
       "    .dataframe tbody tr th:only-of-type {\n",
       "        vertical-align: middle;\n",
       "    }\n",
       "\n",
       "    .dataframe tbody tr th {\n",
       "        vertical-align: top;\n",
       "    }\n",
       "\n",
       "    .dataframe thead th {\n",
       "        text-align: right;\n",
       "    }\n",
       "</style>\n",
       "<table border=\"1\" class=\"dataframe\">\n",
       "  <thead>\n",
       "    <tr style=\"text-align: right;\">\n",
       "      <th></th>\n",
       "      <th>acc</th>\n",
       "      <th>prec</th>\n",
       "      <th>rec</th>\n",
       "      <th>f1</th>\n",
       "    </tr>\n",
       "  </thead>\n",
       "  <tbody>\n",
       "    <tr>\n",
       "      <th>train lda pca over</th>\n",
       "      <td>0.891473</td>\n",
       "      <td>0.892488</td>\n",
       "      <td>0.891473</td>\n",
       "      <td>0.891412</td>\n",
       "    </tr>\n",
       "    <tr>\n",
       "      <th>test lda pca over</th>\n",
       "      <td>0.559824</td>\n",
       "      <td>0.967733</td>\n",
       "      <td>0.559824</td>\n",
       "      <td>0.687305</td>\n",
       "    </tr>\n",
       "  </tbody>\n",
       "</table>\n",
       "</div>"
      ],
      "text/plain": [
       "                         acc      prec       rec        f1\n",
       "train lda pca over  0.891473  0.892488  0.891473  0.891412\n",
       "test lda pca over   0.559824  0.967733  0.559824  0.687305"
      ]
     },
     "metadata": {},
     "output_type": "display_data"
    },
    {
     "name": "stdout",
     "output_type": "stream",
     "text": [
      "\n",
      "Confusion matrix LDA con PCA Adasyn\n",
      "\n"
     ]
    },
    {
     "data": {
      "text/html": [
       "<div>\n",
       "<style scoped>\n",
       "    .dataframe tbody tr th:only-of-type {\n",
       "        vertical-align: middle;\n",
       "    }\n",
       "\n",
       "    .dataframe tbody tr th {\n",
       "        vertical-align: top;\n",
       "    }\n",
       "\n",
       "    .dataframe thead th {\n",
       "        text-align: right;\n",
       "    }\n",
       "</style>\n",
       "<table border=\"1\" class=\"dataframe\">\n",
       "  <thead>\n",
       "    <tr style=\"text-align: right;\">\n",
       "      <th></th>\n",
       "      <th>no bancarotta</th>\n",
       "      <th>bancarotta</th>\n",
       "    </tr>\n",
       "  </thead>\n",
       "  <tbody>\n",
       "    <tr>\n",
       "      <th>no bancarotta</th>\n",
       "      <td>1803</td>\n",
       "      <td>1497</td>\n",
       "    </tr>\n",
       "    <tr>\n",
       "      <th>bancarotta</th>\n",
       "      <td>4</td>\n",
       "      <td>106</td>\n",
       "    </tr>\n",
       "  </tbody>\n",
       "</table>\n",
       "</div>"
      ],
      "text/plain": [
       "               no bancarotta  bancarotta\n",
       "no bancarotta           1803        1497\n",
       "bancarotta                 4         106"
      ]
     },
     "metadata": {},
     "output_type": "display_data"
    },
    {
     "name": "stdout",
     "output_type": "stream",
     "text": [
      "\n",
      "Performance LDA senza PCA Adasyn+Tomek\n",
      "\n"
     ]
    },
    {
     "data": {
      "text/html": [
       "<div>\n",
       "<style scoped>\n",
       "    .dataframe tbody tr th:only-of-type {\n",
       "        vertical-align: middle;\n",
       "    }\n",
       "\n",
       "    .dataframe tbody tr th {\n",
       "        vertical-align: top;\n",
       "    }\n",
       "\n",
       "    .dataframe thead th {\n",
       "        text-align: right;\n",
       "    }\n",
       "</style>\n",
       "<table border=\"1\" class=\"dataframe\">\n",
       "  <thead>\n",
       "    <tr style=\"text-align: right;\">\n",
       "      <th></th>\n",
       "      <th>acc</th>\n",
       "      <th>prec</th>\n",
       "      <th>rec</th>\n",
       "      <th>f1</th>\n",
       "    </tr>\n",
       "  </thead>\n",
       "  <tbody>\n",
       "    <tr>\n",
       "      <th>training lda no pca under</th>\n",
       "      <td>0.909691</td>\n",
       "      <td>0.910289</td>\n",
       "      <td>0.909691</td>\n",
       "      <td>0.909660</td>\n",
       "    </tr>\n",
       "    <tr>\n",
       "      <th>test lda no pca under</th>\n",
       "      <td>0.878592</td>\n",
       "      <td>0.964184</td>\n",
       "      <td>0.878592</td>\n",
       "      <td>0.912709</td>\n",
       "    </tr>\n",
       "  </tbody>\n",
       "</table>\n",
       "</div>"
      ],
      "text/plain": [
       "                                acc      prec       rec        f1\n",
       "training lda no pca under  0.909691  0.910289  0.909691  0.909660\n",
       "test lda no pca under      0.878592  0.964184  0.878592  0.912709"
      ]
     },
     "metadata": {},
     "output_type": "display_data"
    },
    {
     "name": "stdout",
     "output_type": "stream",
     "text": [
      "\n",
      "Confusion matrix LDA senza PCA Adasyn+Tomek\n",
      "\n"
     ]
    },
    {
     "data": {
      "text/html": [
       "<div>\n",
       "<style scoped>\n",
       "    .dataframe tbody tr th:only-of-type {\n",
       "        vertical-align: middle;\n",
       "    }\n",
       "\n",
       "    .dataframe tbody tr th {\n",
       "        vertical-align: top;\n",
       "    }\n",
       "\n",
       "    .dataframe thead th {\n",
       "        text-align: right;\n",
       "    }\n",
       "</style>\n",
       "<table border=\"1\" class=\"dataframe\">\n",
       "  <thead>\n",
       "    <tr style=\"text-align: right;\">\n",
       "      <th></th>\n",
       "      <th>no bancarotta</th>\n",
       "      <th>bancarotta</th>\n",
       "    </tr>\n",
       "  </thead>\n",
       "  <tbody>\n",
       "    <tr>\n",
       "      <th>no bancarotta</th>\n",
       "      <td>2914</td>\n",
       "      <td>386</td>\n",
       "    </tr>\n",
       "    <tr>\n",
       "      <th>bancarotta</th>\n",
       "      <td>28</td>\n",
       "      <td>82</td>\n",
       "    </tr>\n",
       "  </tbody>\n",
       "</table>\n",
       "</div>"
      ],
      "text/plain": [
       "               no bancarotta  bancarotta\n",
       "no bancarotta           2914         386\n",
       "bancarotta                28          82"
      ]
     },
     "metadata": {},
     "output_type": "display_data"
    },
    {
     "name": "stdout",
     "output_type": "stream",
     "text": [
      "\n",
      "Performance LDA con PCA Adasyn+Tomek\n",
      "\n"
     ]
    },
    {
     "data": {
      "text/html": [
       "<div>\n",
       "<style scoped>\n",
       "    .dataframe tbody tr th:only-of-type {\n",
       "        vertical-align: middle;\n",
       "    }\n",
       "\n",
       "    .dataframe tbody tr th {\n",
       "        vertical-align: top;\n",
       "    }\n",
       "\n",
       "    .dataframe thead th {\n",
       "        text-align: right;\n",
       "    }\n",
       "</style>\n",
       "<table border=\"1\" class=\"dataframe\">\n",
       "  <thead>\n",
       "    <tr style=\"text-align: right;\">\n",
       "      <th></th>\n",
       "      <th>acc</th>\n",
       "      <th>prec</th>\n",
       "      <th>rec</th>\n",
       "      <th>f1</th>\n",
       "    </tr>\n",
       "  </thead>\n",
       "  <tbody>\n",
       "    <tr>\n",
       "      <th>training lda pca under</th>\n",
       "      <td>0.894640</td>\n",
       "      <td>0.896080</td>\n",
       "      <td>0.894640</td>\n",
       "      <td>0.894547</td>\n",
       "    </tr>\n",
       "    <tr>\n",
       "      <th>test lda pca under</th>\n",
       "      <td>0.559824</td>\n",
       "      <td>0.967733</td>\n",
       "      <td>0.559824</td>\n",
       "      <td>0.687305</td>\n",
       "    </tr>\n",
       "  </tbody>\n",
       "</table>\n",
       "</div>"
      ],
      "text/plain": [
       "                             acc      prec       rec        f1\n",
       "training lda pca under  0.894640  0.896080  0.894640  0.894547\n",
       "test lda pca under      0.559824  0.967733  0.559824  0.687305"
      ]
     },
     "metadata": {},
     "output_type": "display_data"
    },
    {
     "name": "stdout",
     "output_type": "stream",
     "text": [
      "\n",
      "Confusion matrix LDA con PCA Adasyn+Tomek\n",
      "\n"
     ]
    },
    {
     "data": {
      "text/html": [
       "<div>\n",
       "<style scoped>\n",
       "    .dataframe tbody tr th:only-of-type {\n",
       "        vertical-align: middle;\n",
       "    }\n",
       "\n",
       "    .dataframe tbody tr th {\n",
       "        vertical-align: top;\n",
       "    }\n",
       "\n",
       "    .dataframe thead th {\n",
       "        text-align: right;\n",
       "    }\n",
       "</style>\n",
       "<table border=\"1\" class=\"dataframe\">\n",
       "  <thead>\n",
       "    <tr style=\"text-align: right;\">\n",
       "      <th></th>\n",
       "      <th>no bancarotta</th>\n",
       "      <th>bancarotta</th>\n",
       "    </tr>\n",
       "  </thead>\n",
       "  <tbody>\n",
       "    <tr>\n",
       "      <th>no bancarotta</th>\n",
       "      <td>1803</td>\n",
       "      <td>1497</td>\n",
       "    </tr>\n",
       "    <tr>\n",
       "      <th>bancarotta</th>\n",
       "      <td>4</td>\n",
       "      <td>106</td>\n",
       "    </tr>\n",
       "  </tbody>\n",
       "</table>\n",
       "</div>"
      ],
      "text/plain": [
       "               no bancarotta  bancarotta\n",
       "no bancarotta           1803        1497\n",
       "bancarotta                 4         106"
      ]
     },
     "metadata": {},
     "output_type": "display_data"
    },
    {
     "name": "stdout",
     "output_type": "stream",
     "text": [
      "\n",
      "Performance SVM senza PCA Adasyn\n",
      "\n"
     ]
    },
    {
     "data": {
      "text/html": [
       "<div>\n",
       "<style scoped>\n",
       "    .dataframe tbody tr th:only-of-type {\n",
       "        vertical-align: middle;\n",
       "    }\n",
       "\n",
       "    .dataframe tbody tr th {\n",
       "        vertical-align: top;\n",
       "    }\n",
       "\n",
       "    .dataframe thead th {\n",
       "        text-align: right;\n",
       "    }\n",
       "</style>\n",
       "<table border=\"1\" class=\"dataframe\">\n",
       "  <thead>\n",
       "    <tr style=\"text-align: right;\">\n",
       "      <th></th>\n",
       "      <th>acc</th>\n",
       "      <th>prec</th>\n",
       "      <th>rec</th>\n",
       "      <th>f1</th>\n",
       "    </tr>\n",
       "  </thead>\n",
       "  <tbody>\n",
       "    <tr>\n",
       "      <th>train svm no pca over</th>\n",
       "      <td>0.924547</td>\n",
       "      <td>0.927604</td>\n",
       "      <td>0.924547</td>\n",
       "      <td>0.924414</td>\n",
       "    </tr>\n",
       "    <tr>\n",
       "      <th>val svm no pca over</th>\n",
       "      <td>0.603824</td>\n",
       "      <td>0.645680</td>\n",
       "      <td>0.603824</td>\n",
       "      <td>0.571415</td>\n",
       "    </tr>\n",
       "    <tr>\n",
       "      <th>test svm no pca over</th>\n",
       "      <td>0.850733</td>\n",
       "      <td>0.943863</td>\n",
       "      <td>0.850733</td>\n",
       "      <td>0.891693</td>\n",
       "    </tr>\n",
       "  </tbody>\n",
       "</table>\n",
       "</div>"
      ],
      "text/plain": [
       "                            acc      prec       rec        f1\n",
       "train svm no pca over  0.924547  0.927604  0.924547  0.924414\n",
       "val svm no pca over    0.603824  0.645680  0.603824  0.571415\n",
       "test svm no pca over   0.850733  0.943863  0.850733  0.891693"
      ]
     },
     "metadata": {},
     "output_type": "display_data"
    },
    {
     "name": "stdout",
     "output_type": "stream",
     "text": [
      "\n",
      "Confusion matrix SVM senza PCA Adasyn\n",
      "\n"
     ]
    },
    {
     "data": {
      "text/html": [
       "<div>\n",
       "<style scoped>\n",
       "    .dataframe tbody tr th:only-of-type {\n",
       "        vertical-align: middle;\n",
       "    }\n",
       "\n",
       "    .dataframe tbody tr th {\n",
       "        vertical-align: top;\n",
       "    }\n",
       "\n",
       "    .dataframe thead th {\n",
       "        text-align: right;\n",
       "    }\n",
       "</style>\n",
       "<table border=\"1\" class=\"dataframe\">\n",
       "  <thead>\n",
       "    <tr style=\"text-align: right;\">\n",
       "      <th></th>\n",
       "      <th>no bancarotta</th>\n",
       "      <th>bancarotta</th>\n",
       "    </tr>\n",
       "  </thead>\n",
       "  <tbody>\n",
       "    <tr>\n",
       "      <th>no bancarotta</th>\n",
       "      <td>2861</td>\n",
       "      <td>433</td>\n",
       "    </tr>\n",
       "    <tr>\n",
       "      <th>bancarotta</th>\n",
       "      <td>76</td>\n",
       "      <td>40</td>\n",
       "    </tr>\n",
       "  </tbody>\n",
       "</table>\n",
       "</div>"
      ],
      "text/plain": [
       "               no bancarotta  bancarotta\n",
       "no bancarotta           2861         433\n",
       "bancarotta                76          40"
      ]
     },
     "metadata": {},
     "output_type": "display_data"
    },
    {
     "name": "stdout",
     "output_type": "stream",
     "text": [
      "\n",
      "Performance SVM con PCA Adasyn\n",
      "\n"
     ]
    },
    {
     "data": {
      "text/html": [
       "<div>\n",
       "<style scoped>\n",
       "    .dataframe tbody tr th:only-of-type {\n",
       "        vertical-align: middle;\n",
       "    }\n",
       "\n",
       "    .dataframe tbody tr th {\n",
       "        vertical-align: top;\n",
       "    }\n",
       "\n",
       "    .dataframe thead th {\n",
       "        text-align: right;\n",
       "    }\n",
       "</style>\n",
       "<table border=\"1\" class=\"dataframe\">\n",
       "  <thead>\n",
       "    <tr style=\"text-align: right;\">\n",
       "      <th></th>\n",
       "      <th>acc</th>\n",
       "      <th>prec</th>\n",
       "      <th>rec</th>\n",
       "      <th>f1</th>\n",
       "    </tr>\n",
       "  </thead>\n",
       "  <tbody>\n",
       "    <tr>\n",
       "      <th>train svm over pca</th>\n",
       "      <td>0.973089</td>\n",
       "      <td>0.974464</td>\n",
       "      <td>0.973089</td>\n",
       "      <td>0.973069</td>\n",
       "    </tr>\n",
       "    <tr>\n",
       "      <th>val svm over pca</th>\n",
       "      <td>0.799618</td>\n",
       "      <td>0.815542</td>\n",
       "      <td>0.799618</td>\n",
       "      <td>0.796863</td>\n",
       "    </tr>\n",
       "    <tr>\n",
       "      <th>test svm over pca</th>\n",
       "      <td>0.686804</td>\n",
       "      <td>0.957662</td>\n",
       "      <td>0.686804</td>\n",
       "      <td>0.785736</td>\n",
       "    </tr>\n",
       "  </tbody>\n",
       "</table>\n",
       "</div>"
      ],
      "text/plain": [
       "                         acc      prec       rec        f1\n",
       "train svm over pca  0.973089  0.974464  0.973089  0.973069\n",
       "val svm over pca    0.799618  0.815542  0.799618  0.796863\n",
       "test svm over pca   0.686804  0.957662  0.686804  0.785736"
      ]
     },
     "metadata": {},
     "output_type": "display_data"
    },
    {
     "name": "stdout",
     "output_type": "stream",
     "text": [
      "\n",
      "Confusion matrix SVM con PCA Adasyn\n",
      "\n"
     ]
    },
    {
     "data": {
      "text/html": [
       "<div>\n",
       "<style scoped>\n",
       "    .dataframe tbody tr th:only-of-type {\n",
       "        vertical-align: middle;\n",
       "    }\n",
       "\n",
       "    .dataframe tbody tr th {\n",
       "        vertical-align: top;\n",
       "    }\n",
       "\n",
       "    .dataframe thead th {\n",
       "        text-align: right;\n",
       "    }\n",
       "</style>\n",
       "<table border=\"1\" class=\"dataframe\">\n",
       "  <thead>\n",
       "    <tr style=\"text-align: right;\">\n",
       "      <th></th>\n",
       "      <th>no bancarotta</th>\n",
       "      <th>bancarotta</th>\n",
       "    </tr>\n",
       "  </thead>\n",
       "  <tbody>\n",
       "    <tr>\n",
       "      <th>no bancarotta</th>\n",
       "      <td>2252</td>\n",
       "      <td>1042</td>\n",
       "    </tr>\n",
       "    <tr>\n",
       "      <th>bancarotta</th>\n",
       "      <td>26</td>\n",
       "      <td>90</td>\n",
       "    </tr>\n",
       "  </tbody>\n",
       "</table>\n",
       "</div>"
      ],
      "text/plain": [
       "               no bancarotta  bancarotta\n",
       "no bancarotta           2252        1042\n",
       "bancarotta                26          90"
      ]
     },
     "metadata": {},
     "output_type": "display_data"
    },
    {
     "name": "stdout",
     "output_type": "stream",
     "text": [
      "\n",
      "Performance SVM senza PCA Adasyn+Tomek\n",
      "\n"
     ]
    },
    {
     "data": {
      "text/html": [
       "<div>\n",
       "<style scoped>\n",
       "    .dataframe tbody tr th:only-of-type {\n",
       "        vertical-align: middle;\n",
       "    }\n",
       "\n",
       "    .dataframe tbody tr th {\n",
       "        vertical-align: top;\n",
       "    }\n",
       "\n",
       "    .dataframe thead th {\n",
       "        text-align: right;\n",
       "    }\n",
       "</style>\n",
       "<table border=\"1\" class=\"dataframe\">\n",
       "  <thead>\n",
       "    <tr style=\"text-align: right;\">\n",
       "      <th></th>\n",
       "      <th>acc</th>\n",
       "      <th>prec</th>\n",
       "      <th>rec</th>\n",
       "      <th>f1</th>\n",
       "    </tr>\n",
       "  </thead>\n",
       "  <tbody>\n",
       "    <tr>\n",
       "      <th>train svm no pca under</th>\n",
       "      <td>0.928915</td>\n",
       "      <td>0.932044</td>\n",
       "      <td>0.928915</td>\n",
       "      <td>0.928768</td>\n",
       "    </tr>\n",
       "    <tr>\n",
       "      <th>val svm no pca under</th>\n",
       "      <td>0.606354</td>\n",
       "      <td>0.649526</td>\n",
       "      <td>0.606354</td>\n",
       "      <td>0.575227</td>\n",
       "    </tr>\n",
       "    <tr>\n",
       "      <th>test svm no pca under</th>\n",
       "      <td>0.843695</td>\n",
       "      <td>0.943518</td>\n",
       "      <td>0.843695</td>\n",
       "      <td>0.887472</td>\n",
       "    </tr>\n",
       "  </tbody>\n",
       "</table>\n",
       "</div>"
      ],
      "text/plain": [
       "                             acc      prec       rec        f1\n",
       "train svm no pca under  0.928915  0.932044  0.928915  0.928768\n",
       "val svm no pca under    0.606354  0.649526  0.606354  0.575227\n",
       "test svm no pca under   0.843695  0.943518  0.843695  0.887472"
      ]
     },
     "metadata": {},
     "output_type": "display_data"
    },
    {
     "name": "stdout",
     "output_type": "stream",
     "text": [
      "\n",
      "Confusion matrix SVM senza PCA Adasyn+Tomek\n",
      "\n"
     ]
    },
    {
     "data": {
      "text/html": [
       "<div>\n",
       "<style scoped>\n",
       "    .dataframe tbody tr th:only-of-type {\n",
       "        vertical-align: middle;\n",
       "    }\n",
       "\n",
       "    .dataframe tbody tr th {\n",
       "        vertical-align: top;\n",
       "    }\n",
       "\n",
       "    .dataframe thead th {\n",
       "        text-align: right;\n",
       "    }\n",
       "</style>\n",
       "<table border=\"1\" class=\"dataframe\">\n",
       "  <thead>\n",
       "    <tr style=\"text-align: right;\">\n",
       "      <th></th>\n",
       "      <th>no bancarotta</th>\n",
       "      <th>bancarotta</th>\n",
       "    </tr>\n",
       "  </thead>\n",
       "  <tbody>\n",
       "    <tr>\n",
       "      <th>no bancarotta</th>\n",
       "      <td>2837</td>\n",
       "      <td>457</td>\n",
       "    </tr>\n",
       "    <tr>\n",
       "      <th>bancarotta</th>\n",
       "      <td>76</td>\n",
       "      <td>40</td>\n",
       "    </tr>\n",
       "  </tbody>\n",
       "</table>\n",
       "</div>"
      ],
      "text/plain": [
       "               no bancarotta  bancarotta\n",
       "no bancarotta           2837         457\n",
       "bancarotta                76          40"
      ]
     },
     "metadata": {},
     "output_type": "display_data"
    },
    {
     "name": "stdout",
     "output_type": "stream",
     "text": [
      "\n",
      "Performance SVM con PCA Adasyn+Tomek\n",
      "\n"
     ]
    },
    {
     "data": {
      "text/html": [
       "<div>\n",
       "<style scoped>\n",
       "    .dataframe tbody tr th:only-of-type {\n",
       "        vertical-align: middle;\n",
       "    }\n",
       "\n",
       "    .dataframe tbody tr th {\n",
       "        vertical-align: top;\n",
       "    }\n",
       "\n",
       "    .dataframe thead th {\n",
       "        text-align: right;\n",
       "    }\n",
       "</style>\n",
       "<table border=\"1\" class=\"dataframe\">\n",
       "  <thead>\n",
       "    <tr style=\"text-align: right;\">\n",
       "      <th></th>\n",
       "      <th>acc</th>\n",
       "      <th>prec</th>\n",
       "      <th>rec</th>\n",
       "      <th>f1</th>\n",
       "    </tr>\n",
       "  </thead>\n",
       "  <tbody>\n",
       "    <tr>\n",
       "      <th>train svm under pca</th>\n",
       "      <td>0.972932</td>\n",
       "      <td>0.974315</td>\n",
       "      <td>0.972932</td>\n",
       "      <td>0.972908</td>\n",
       "    </tr>\n",
       "    <tr>\n",
       "      <th>val svm under pca</th>\n",
       "      <td>0.815188</td>\n",
       "      <td>0.831280</td>\n",
       "      <td>0.815188</td>\n",
       "      <td>0.812866</td>\n",
       "    </tr>\n",
       "    <tr>\n",
       "      <th>test svm under pca</th>\n",
       "      <td>0.693548</td>\n",
       "      <td>0.959139</td>\n",
       "      <td>0.693548</td>\n",
       "      <td>0.790508</td>\n",
       "    </tr>\n",
       "  </tbody>\n",
       "</table>\n",
       "</div>"
      ],
      "text/plain": [
       "                          acc      prec       rec        f1\n",
       "train svm under pca  0.972932  0.974315  0.972932  0.972908\n",
       "val svm under pca    0.815188  0.831280  0.815188  0.812866\n",
       "test svm under pca   0.693548  0.959139  0.693548  0.790508"
      ]
     },
     "metadata": {},
     "output_type": "display_data"
    },
    {
     "name": "stdout",
     "output_type": "stream",
     "text": [
      "\n",
      "Confusion matrix SVM con PCA Adasyn+Tomek\n",
      "\n"
     ]
    },
    {
     "data": {
      "text/html": [
       "<div>\n",
       "<style scoped>\n",
       "    .dataframe tbody tr th:only-of-type {\n",
       "        vertical-align: middle;\n",
       "    }\n",
       "\n",
       "    .dataframe tbody tr th {\n",
       "        vertical-align: top;\n",
       "    }\n",
       "\n",
       "    .dataframe thead th {\n",
       "        text-align: right;\n",
       "    }\n",
       "</style>\n",
       "<table border=\"1\" class=\"dataframe\">\n",
       "  <thead>\n",
       "    <tr style=\"text-align: right;\">\n",
       "      <th></th>\n",
       "      <th>no bancarotta</th>\n",
       "      <th>bancarotta</th>\n",
       "    </tr>\n",
       "  </thead>\n",
       "  <tbody>\n",
       "    <tr>\n",
       "      <th>no bancarotta</th>\n",
       "      <td>2272</td>\n",
       "      <td>1022</td>\n",
       "    </tr>\n",
       "    <tr>\n",
       "      <th>bancarotta</th>\n",
       "      <td>23</td>\n",
       "      <td>93</td>\n",
       "    </tr>\n",
       "  </tbody>\n",
       "</table>\n",
       "</div>"
      ],
      "text/plain": [
       "               no bancarotta  bancarotta\n",
       "no bancarotta           2272        1022\n",
       "bancarotta                23          93"
      ]
     },
     "metadata": {},
     "output_type": "display_data"
    },
    {
     "name": "stdout",
     "output_type": "stream",
     "text": [
      "\n",
      "Performance MLP senza PCA Adasyn\n",
      "\n"
     ]
    },
    {
     "data": {
      "text/html": [
       "<div>\n",
       "<style scoped>\n",
       "    .dataframe tbody tr th:only-of-type {\n",
       "        vertical-align: middle;\n",
       "    }\n",
       "\n",
       "    .dataframe tbody tr th {\n",
       "        vertical-align: top;\n",
       "    }\n",
       "\n",
       "    .dataframe thead th {\n",
       "        text-align: right;\n",
       "    }\n",
       "</style>\n",
       "<table border=\"1\" class=\"dataframe\">\n",
       "  <thead>\n",
       "    <tr style=\"text-align: right;\">\n",
       "      <th></th>\n",
       "      <th>acc</th>\n",
       "      <th>prec</th>\n",
       "      <th>rec</th>\n",
       "      <th>f1</th>\n",
       "    </tr>\n",
       "  </thead>\n",
       "  <tbody>\n",
       "    <tr>\n",
       "      <th>trainval mlp no pca over</th>\n",
       "      <td>0.864132</td>\n",
       "      <td>0.864198</td>\n",
       "      <td>0.864132</td>\n",
       "      <td>0.864125</td>\n",
       "    </tr>\n",
       "    <tr>\n",
       "      <th>test mlp no pca over</th>\n",
       "      <td>0.833431</td>\n",
       "      <td>0.943031</td>\n",
       "      <td>0.833431</td>\n",
       "      <td>0.881284</td>\n",
       "    </tr>\n",
       "  </tbody>\n",
       "</table>\n",
       "</div>"
      ],
      "text/plain": [
       "                               acc      prec       rec        f1\n",
       "trainval mlp no pca over  0.864132  0.864198  0.864132  0.864125\n",
       "test mlp no pca over      0.833431  0.943031  0.833431  0.881284"
      ]
     },
     "metadata": {},
     "output_type": "display_data"
    },
    {
     "name": "stdout",
     "output_type": "stream",
     "text": [
      "\n",
      "Confusion matrix MLP senza PCA Adasyn\n",
      "\n"
     ]
    },
    {
     "data": {
      "text/html": [
       "<div>\n",
       "<style scoped>\n",
       "    .dataframe tbody tr th:only-of-type {\n",
       "        vertical-align: middle;\n",
       "    }\n",
       "\n",
       "    .dataframe tbody tr th {\n",
       "        vertical-align: top;\n",
       "    }\n",
       "\n",
       "    .dataframe thead th {\n",
       "        text-align: right;\n",
       "    }\n",
       "</style>\n",
       "<table border=\"1\" class=\"dataframe\">\n",
       "  <thead>\n",
       "    <tr style=\"text-align: right;\">\n",
       "      <th></th>\n",
       "      <th>no bancarotta</th>\n",
       "      <th>bancarotta</th>\n",
       "    </tr>\n",
       "  </thead>\n",
       "  <tbody>\n",
       "    <tr>\n",
       "      <th>no bancarotta</th>\n",
       "      <td>2802</td>\n",
       "      <td>492</td>\n",
       "    </tr>\n",
       "    <tr>\n",
       "      <th>bancarotta</th>\n",
       "      <td>76</td>\n",
       "      <td>40</td>\n",
       "    </tr>\n",
       "  </tbody>\n",
       "</table>\n",
       "</div>"
      ],
      "text/plain": [
       "               no bancarotta  bancarotta\n",
       "no bancarotta           2802         492\n",
       "bancarotta                76          40"
      ]
     },
     "metadata": {},
     "output_type": "display_data"
    },
    {
     "name": "stdout",
     "output_type": "stream",
     "text": [
      "\n",
      "Performance MLP con PCA Adasyn\n",
      "\n"
     ]
    },
    {
     "data": {
      "text/html": [
       "<div>\n",
       "<style scoped>\n",
       "    .dataframe tbody tr th:only-of-type {\n",
       "        vertical-align: middle;\n",
       "    }\n",
       "\n",
       "    .dataframe tbody tr th {\n",
       "        vertical-align: top;\n",
       "    }\n",
       "\n",
       "    .dataframe thead th {\n",
       "        text-align: right;\n",
       "    }\n",
       "</style>\n",
       "<table border=\"1\" class=\"dataframe\">\n",
       "  <thead>\n",
       "    <tr style=\"text-align: right;\">\n",
       "      <th></th>\n",
       "      <th>acc</th>\n",
       "      <th>prec</th>\n",
       "      <th>rec</th>\n",
       "      <th>f1</th>\n",
       "    </tr>\n",
       "  </thead>\n",
       "  <tbody>\n",
       "    <tr>\n",
       "      <th>train mlp over pca</th>\n",
       "      <td>0.994093</td>\n",
       "      <td>0.994148</td>\n",
       "      <td>0.994093</td>\n",
       "      <td>0.994093</td>\n",
       "    </tr>\n",
       "    <tr>\n",
       "      <th>test mlp over pca</th>\n",
       "      <td>0.810850</td>\n",
       "      <td>0.956768</td>\n",
       "      <td>0.810850</td>\n",
       "      <td>0.869126</td>\n",
       "    </tr>\n",
       "  </tbody>\n",
       "</table>\n",
       "</div>"
      ],
      "text/plain": [
       "                         acc      prec       rec        f1\n",
       "train mlp over pca  0.994093  0.994148  0.994093  0.994093\n",
       "test mlp over pca   0.810850  0.956768  0.810850  0.869126"
      ]
     },
     "metadata": {},
     "output_type": "display_data"
    },
    {
     "name": "stdout",
     "output_type": "stream",
     "text": [
      "\n",
      "Confusion matrix MLP con PCA Adasyn\n",
      "\n"
     ]
    },
    {
     "data": {
      "text/html": [
       "<div>\n",
       "<style scoped>\n",
       "    .dataframe tbody tr th:only-of-type {\n",
       "        vertical-align: middle;\n",
       "    }\n",
       "\n",
       "    .dataframe tbody tr th {\n",
       "        vertical-align: top;\n",
       "    }\n",
       "\n",
       "    .dataframe thead th {\n",
       "        text-align: right;\n",
       "    }\n",
       "</style>\n",
       "<table border=\"1\" class=\"dataframe\">\n",
       "  <thead>\n",
       "    <tr style=\"text-align: right;\">\n",
       "      <th></th>\n",
       "      <th>no bancarotta</th>\n",
       "      <th>bancarotta</th>\n",
       "    </tr>\n",
       "  </thead>\n",
       "  <tbody>\n",
       "    <tr>\n",
       "      <th>no bancarotta</th>\n",
       "      <td>2686</td>\n",
       "      <td>608</td>\n",
       "    </tr>\n",
       "    <tr>\n",
       "      <th>bancarotta</th>\n",
       "      <td>37</td>\n",
       "      <td>79</td>\n",
       "    </tr>\n",
       "  </tbody>\n",
       "</table>\n",
       "</div>"
      ],
      "text/plain": [
       "               no bancarotta  bancarotta\n",
       "no bancarotta           2686         608\n",
       "bancarotta                37          79"
      ]
     },
     "metadata": {},
     "output_type": "display_data"
    },
    {
     "name": "stdout",
     "output_type": "stream",
     "text": [
      "\n",
      "Performance MLP senza PCA Adasyn+Tomek\n",
      "\n"
     ]
    },
    {
     "data": {
      "text/html": [
       "<div>\n",
       "<style scoped>\n",
       "    .dataframe tbody tr th:only-of-type {\n",
       "        vertical-align: middle;\n",
       "    }\n",
       "\n",
       "    .dataframe tbody tr th {\n",
       "        vertical-align: top;\n",
       "    }\n",
       "\n",
       "    .dataframe thead th {\n",
       "        text-align: right;\n",
       "    }\n",
       "</style>\n",
       "<table border=\"1\" class=\"dataframe\">\n",
       "  <thead>\n",
       "    <tr style=\"text-align: right;\">\n",
       "      <th></th>\n",
       "      <th>acc</th>\n",
       "      <th>prec</th>\n",
       "      <th>rec</th>\n",
       "      <th>f1</th>\n",
       "    </tr>\n",
       "  </thead>\n",
       "  <tbody>\n",
       "    <tr>\n",
       "      <th>trainval mlp no pca under</th>\n",
       "      <td>0.871826</td>\n",
       "      <td>0.876733</td>\n",
       "      <td>0.871826</td>\n",
       "      <td>0.871392</td>\n",
       "    </tr>\n",
       "    <tr>\n",
       "      <th>test mlp no pca under</th>\n",
       "      <td>0.777419</td>\n",
       "      <td>0.943216</td>\n",
       "      <td>0.777419</td>\n",
       "      <td>0.846859</td>\n",
       "    </tr>\n",
       "  </tbody>\n",
       "</table>\n",
       "</div>"
      ],
      "text/plain": [
       "                                acc      prec       rec        f1\n",
       "trainval mlp no pca under  0.871826  0.876733  0.871826  0.871392\n",
       "test mlp no pca under      0.777419  0.943216  0.777419  0.846859"
      ]
     },
     "metadata": {},
     "output_type": "display_data"
    },
    {
     "name": "stdout",
     "output_type": "stream",
     "text": [
      "\n",
      "Confusion matrix MLP senza PCA Adasyn+Tomek\n",
      "\n"
     ]
    },
    {
     "data": {
      "text/html": [
       "<div>\n",
       "<style scoped>\n",
       "    .dataframe tbody tr th:only-of-type {\n",
       "        vertical-align: middle;\n",
       "    }\n",
       "\n",
       "    .dataframe tbody tr th {\n",
       "        vertical-align: top;\n",
       "    }\n",
       "\n",
       "    .dataframe thead th {\n",
       "        text-align: right;\n",
       "    }\n",
       "</style>\n",
       "<table border=\"1\" class=\"dataframe\">\n",
       "  <thead>\n",
       "    <tr style=\"text-align: right;\">\n",
       "      <th></th>\n",
       "      <th>no bancarotta</th>\n",
       "      <th>bancarotta</th>\n",
       "    </tr>\n",
       "  </thead>\n",
       "  <tbody>\n",
       "    <tr>\n",
       "      <th>no bancarotta</th>\n",
       "      <td>2604</td>\n",
       "      <td>690</td>\n",
       "    </tr>\n",
       "    <tr>\n",
       "      <th>bancarotta</th>\n",
       "      <td>69</td>\n",
       "      <td>47</td>\n",
       "    </tr>\n",
       "  </tbody>\n",
       "</table>\n",
       "</div>"
      ],
      "text/plain": [
       "               no bancarotta  bancarotta\n",
       "no bancarotta           2604         690\n",
       "bancarotta                69          47"
      ]
     },
     "metadata": {},
     "output_type": "display_data"
    },
    {
     "name": "stdout",
     "output_type": "stream",
     "text": [
      "\n",
      "Performance MLP con PCA Adasyn+Tomek\n",
      "\n"
     ]
    },
    {
     "data": {
      "text/html": [
       "<div>\n",
       "<style scoped>\n",
       "    .dataframe tbody tr th:only-of-type {\n",
       "        vertical-align: middle;\n",
       "    }\n",
       "\n",
       "    .dataframe tbody tr th {\n",
       "        vertical-align: top;\n",
       "    }\n",
       "\n",
       "    .dataframe thead th {\n",
       "        text-align: right;\n",
       "    }\n",
       "</style>\n",
       "<table border=\"1\" class=\"dataframe\">\n",
       "  <thead>\n",
       "    <tr style=\"text-align: right;\">\n",
       "      <th></th>\n",
       "      <th>acc</th>\n",
       "      <th>prec</th>\n",
       "      <th>rec</th>\n",
       "      <th>f1</th>\n",
       "    </tr>\n",
       "  </thead>\n",
       "  <tbody>\n",
       "    <tr>\n",
       "      <th>train mlp under pca</th>\n",
       "      <td>0.996023</td>\n",
       "      <td>0.996050</td>\n",
       "      <td>0.996023</td>\n",
       "      <td>0.996023</td>\n",
       "    </tr>\n",
       "    <tr>\n",
       "      <th>test mlp under pca</th>\n",
       "      <td>0.773021</td>\n",
       "      <td>0.961072</td>\n",
       "      <td>0.773021</td>\n",
       "      <td>0.844985</td>\n",
       "    </tr>\n",
       "  </tbody>\n",
       "</table>\n",
       "</div>"
      ],
      "text/plain": [
       "                          acc      prec       rec        f1\n",
       "train mlp under pca  0.996023  0.996050  0.996023  0.996023\n",
       "test mlp under pca   0.773021  0.961072  0.773021  0.844985"
      ]
     },
     "metadata": {},
     "output_type": "display_data"
    },
    {
     "name": "stdout",
     "output_type": "stream",
     "text": [
      "\n",
      "Confusion matrix MLP con PCA Adasyn+Tomek\n",
      "\n"
     ]
    },
    {
     "data": {
      "text/html": [
       "<div>\n",
       "<style scoped>\n",
       "    .dataframe tbody tr th:only-of-type {\n",
       "        vertical-align: middle;\n",
       "    }\n",
       "\n",
       "    .dataframe tbody tr th {\n",
       "        vertical-align: top;\n",
       "    }\n",
       "\n",
       "    .dataframe thead th {\n",
       "        text-align: right;\n",
       "    }\n",
       "</style>\n",
       "<table border=\"1\" class=\"dataframe\">\n",
       "  <thead>\n",
       "    <tr style=\"text-align: right;\">\n",
       "      <th></th>\n",
       "      <th>no bancarotta</th>\n",
       "      <th>bancarotta</th>\n",
       "    </tr>\n",
       "  </thead>\n",
       "  <tbody>\n",
       "    <tr>\n",
       "      <th>no bancarotta</th>\n",
       "      <td>2543</td>\n",
       "      <td>751</td>\n",
       "    </tr>\n",
       "    <tr>\n",
       "      <th>bancarotta</th>\n",
       "      <td>23</td>\n",
       "      <td>93</td>\n",
       "    </tr>\n",
       "  </tbody>\n",
       "</table>\n",
       "</div>"
      ],
      "text/plain": [
       "               no bancarotta  bancarotta\n",
       "no bancarotta           2543         751\n",
       "bancarotta                23          93"
      ]
     },
     "metadata": {},
     "output_type": "display_data"
    }
   ],
   "source": [
    "#riassunto tabelle principali\n",
    "print('')\n",
    "print('Performance LDA senza PCA Adasyn')\n",
    "print('')\n",
    "display(df_perfo)\n",
    "print('')\n",
    "print('Confusion matrix LDA senza PCA Adasyn')\n",
    "print('')\n",
    "display(df_cmato)\n",
    "print('')\n",
    "print('Performance LDA con PCA Adasyn')\n",
    "print('')\n",
    "display(df_perfop)\n",
    "print('')\n",
    "print('Confusion matrix LDA con PCA Adasyn')\n",
    "print('')\n",
    "display(df_cmatop)\n",
    "print('')\n",
    "print('Performance LDA senza PCA Adasyn+Tomek')\n",
    "print('')\n",
    "display(df_perfu)\n",
    "print('')\n",
    "print('Confusion matrix LDA senza PCA Adasyn+Tomek')\n",
    "print('')\n",
    "display(df_cmatu)\n",
    "print('')\n",
    "print('Performance LDA con PCA Adasyn+Tomek')\n",
    "print('')\n",
    "display(df_perfup)\n",
    "print('')\n",
    "print('Confusion matrix LDA con PCA Adasyn+Tomek')\n",
    "print('')\n",
    "display(df_cmatup)\n",
    "print('')\n",
    "print('Performance SVM senza PCA Adasyn')\n",
    "print('')\n",
    "display(df_perf_svmo)\n",
    "print('')\n",
    "print('Confusion matrix SVM senza PCA Adasyn')\n",
    "print('')\n",
    "display(df_cmat_svmo)\n",
    "print('')\n",
    "print('Performance SVM con PCA Adasyn')\n",
    "print('')\n",
    "display(df_perf_svmop)\n",
    "print('')\n",
    "print('Confusion matrix SVM con PCA Adasyn')\n",
    "print('')\n",
    "display(df_cmat_svmop)\n",
    "print('')\n",
    "print('Performance SVM senza PCA Adasyn+Tomek')\n",
    "print('')\n",
    "display(df_perf_svmu)\n",
    "print('')\n",
    "print('Confusion matrix SVM senza PCA Adasyn+Tomek')\n",
    "print('')\n",
    "display(df_cmat_svmu)\n",
    "print('')\n",
    "print('Performance SVM con PCA Adasyn+Tomek')\n",
    "print('')\n",
    "display(df_perf_svmup)\n",
    "print('')\n",
    "print('Confusion matrix SVM con PCA Adasyn+Tomek')\n",
    "print('')\n",
    "display(df_cmat_svmup)\n",
    "print('')\n",
    "print('Performance MLP senza PCA Adasyn')\n",
    "print('')\n",
    "display(df_perf_over_mlp)\n",
    "print('')\n",
    "print('Confusion matrix MLP senza PCA Adasyn')\n",
    "print('')\n",
    "display(df_cmat_over_mlp)\n",
    "print('')\n",
    "print('Performance MLP con PCA Adasyn')\n",
    "print('')\n",
    "display(df_perf_mlpop)\n",
    "print('')\n",
    "print('Confusion matrix MLP con PCA Adasyn')\n",
    "print('')\n",
    "display(df_cmat_mlpop)\n",
    "print('')\n",
    "print('Performance MLP senza PCA Adasyn+Tomek')\n",
    "print('')\n",
    "display(df_perf_under_mlp)\n",
    "print('')\n",
    "print('Confusion matrix MLP senza PCA Adasyn+Tomek')\n",
    "print('')\n",
    "display(df_cmat_under_mlp)\n",
    "print('')\n",
    "print('Performance MLP con PCA Adasyn+Tomek')\n",
    "print('')\n",
    "display(df_perf_mlpup)\n",
    "print('')\n",
    "print('Confusion matrix MLP con PCA Adasyn+Tomek')\n",
    "print('')\n",
    "display(df_cmat_mlpup)"
   ]
  },
  {
   "cell_type": "markdown",
   "id": "automated-delaware",
   "metadata": {},
   "source": [
    "## Conclusioni del ricampionamento Smote, Adasyn, Tomek's Links e loro combinazioni"
   ]
  },
  {
   "cell_type": "markdown",
   "id": "israeli-crack",
   "metadata": {},
   "source": [
    "Riapplicando gli stessi algoritmi di apprendimento usati precedentemente ma con altre tecniche di ricampionamento otteniamo risultati che evidenziano alcuni lati positivi di Smote, Adasyn e Tomek's Links rispetto al semplice ricampionamento casuale. Osservando i principali score analizzati non possiamo affermare con certezza che l'utilizzo di Smote o la combinazione di esso assieme ai Tomek's Links permetta un incremento netto delle prestazioni rispetto al random oversampling. Il confronto invece rispetto al random undersampling evidenzia chiaramente come la combinazione di oversampling (Smote) e undersampling (Tomek's Links) restituisca migliori risultati rispetto al semplice undersampling (random undersampling). Questo era facilmente intuibile dato il basso numero di osservazioni per la classe minoritaria. Le tecniche di ricampionamento presentate risultano inoltre non essere soggette ad alterazioni nel caso di riduzione della dimensionalità. In effetti i ragionamenti fatti nel caso senza PCA valgono anche con l'applicazione della PCA ad eccezione delle SVM dove l'utilizzo della PCA insieme a Smote peggiora le prestazioni rispetto al caso del random oversampling. Tuttavia, questa eccezione va sempre contestualizzate a quanto si diceva già nel caso del ricampionamento casuale. Se viene preferito predirre i casi di bancarotta come tali si avrà un incremento degli score mentre peggioreranno se viene preferita la scelta di predirre i casi di non bancarotta come tali. Ancora una volta, come già detto, questo è dovuto alla conformazione del data set che presenta pochi casi di bancarotta ma che potrebbero essere di grande interesse per molti istituti finanziari ad esempio. Quanto detto fino ora vale anche nel caso di Adasyn, essendo esso stesso una variante di Smote. Infine, confrontando tra di loro quete tre tecniche e le loro combinazioni emerge come non sia possibile stabilire un metodo migliore di altri. Ad esempio, le SVM con PCA risultano essere migliori nel caso di Smote rispetto a Adasyn mentre nell'MLP con e senza PCA vale l'opposto. In generale, è possibile osservare che, rispetto a questo data set, Adasyn insieme ai Tomek's Links sia da preferire al solo Adasyn mentre Smote singolarmente è meglio rispetto a quando combinato con i Tomek's links."
   ]
  }
 ],
 "metadata": {
  "kernelspec": {
   "display_name": "Python 3",
   "language": "python",
   "name": "python3"
  },
  "language_info": {
   "codemirror_mode": {
    "name": "ipython",
    "version": 3
   },
   "file_extension": ".py",
   "mimetype": "text/x-python",
   "name": "python",
   "nbconvert_exporter": "python",
   "pygments_lexer": "ipython3",
   "version": "3.9.12"
  }
 },
 "nbformat": 4,
 "nbformat_minor": 5
}
